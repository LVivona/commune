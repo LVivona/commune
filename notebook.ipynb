{
 "cells": [
  {
   "cell_type": "code",
   "execution_count": 1,
   "metadata": {},
   "outputs": [],
   "source": [
    "import commune as c"
   ]
  },
  {
   "cell_type": "code",
   "execution_count": 7,
   "metadata": {},
   "outputs": [
    {
     "ename": "AttributeError",
     "evalue": "'function' object has no attribute 'startswith'",
     "output_type": "error",
     "traceback": [
      "\u001b[0;31m---------------------------------------------------------------------------\u001b[0m",
      "\u001b[0;31mAttributeError\u001b[0m                            Traceback (most recent call last)",
      "Cell \u001b[0;32mIn[7], line 1\u001b[0m\n\u001b[0;32m----> 1\u001b[0m c\u001b[39m.\u001b[39;49mmodule(\u001b[39m'\u001b[39;49m\u001b[39mkey\u001b[39;49m\u001b[39m'\u001b[39;49m)()\u001b[39m.\u001b[39;49mkey\n",
      "File \u001b[0;32m~/commune/commune/module/module.py:7001\u001b[0m, in \u001b[0;36mc.key\u001b[0;34m(self)\u001b[0m\n\u001b[1;32m   6998\u001b[0m \u001b[39m@property\u001b[39m\n\u001b[1;32m   6999\u001b[0m \u001b[39mdef\u001b[39;00m \u001b[39mkey\u001b[39m(\u001b[39mself\u001b[39m):\n\u001b[1;32m   7000\u001b[0m     \u001b[39mif\u001b[39;00m \u001b[39mnot\u001b[39;00m \u001b[39mhasattr\u001b[39m(\u001b[39mself\u001b[39m, \u001b[39m'\u001b[39m\u001b[39m_key\u001b[39m\u001b[39m'\u001b[39m):\n\u001b[0;32m-> 7001\u001b[0m         \u001b[39mself\u001b[39m\u001b[39m.\u001b[39m_key \u001b[39m=\u001b[39m c\u001b[39m.\u001b[39;49mget_key(\u001b[39mself\u001b[39;49m\u001b[39m.\u001b[39;49mname)\n\u001b[1;32m   7002\u001b[0m     \u001b[39mreturn\u001b[39;00m \u001b[39mself\u001b[39m\u001b[39m.\u001b[39m_key\n",
      "File \u001b[0;32m~/commune/commune/module/module.py:4740\u001b[0m, in \u001b[0;36mc.get_key\u001b[0;34m(cls, key, mode, **kwargs)\u001b[0m\n\u001b[1;32m   4738\u001b[0m module \u001b[39m=\u001b[39m c\u001b[39m.\u001b[39mmodule(mode2module[mode])\n\u001b[1;32m   4739\u001b[0m \u001b[39mif\u001b[39;00m \u001b[39mhasattr\u001b[39m(module, \u001b[39m'\u001b[39m\u001b[39mget_key\u001b[39m\u001b[39m'\u001b[39m):\n\u001b[0;32m-> 4740\u001b[0m     key \u001b[39m=\u001b[39m module\u001b[39m.\u001b[39;49mget_key(key, \u001b[39m*\u001b[39;49m\u001b[39m*\u001b[39;49mkwargs)\n\u001b[1;32m   4741\u001b[0m \u001b[39melse\u001b[39;00m:\n\u001b[1;32m   4742\u001b[0m     key \u001b[39m=\u001b[39m module(key, \u001b[39m*\u001b[39m\u001b[39m*\u001b[39mkwargs)\n",
      "File \u001b[0;32m~/commune/commune/modules/key/key.py:282\u001b[0m, in \u001b[0;36mKeypair.get_key\u001b[0;34m(cls, path, password, json, create_if_not_exists, **kwargs)\u001b[0m\n\u001b[1;32m    280\u001b[0m \u001b[39mif\u001b[39;00m \u001b[39mcls\u001b[39m\u001b[39m.\u001b[39mkey_exists(path) \u001b[39m==\u001b[39m \u001b[39mFalse\u001b[39;00m:\n\u001b[1;32m    281\u001b[0m     \u001b[39mif\u001b[39;00m create_if_not_exists \u001b[39m==\u001b[39m \u001b[39mTrue\u001b[39;00m:\n\u001b[0;32m--> 282\u001b[0m         key \u001b[39m=\u001b[39m \u001b[39mcls\u001b[39;49m\u001b[39m.\u001b[39;49madd_key(path, \u001b[39m*\u001b[39;49m\u001b[39m*\u001b[39;49mkwargs)\n\u001b[1;32m    283\u001b[0m         c\u001b[39m.\u001b[39mprint(\u001b[39mf\u001b[39m\u001b[39m'\u001b[39m\u001b[39mkey does not exist, generating new key -> \u001b[39m\u001b[39m{\u001b[39;00mkey\u001b[39m}\u001b[39;00m\u001b[39m'\u001b[39m)\n\u001b[1;32m    284\u001b[0m     \u001b[39melse\u001b[39;00m:\n",
      "File \u001b[0;32m~/commune/commune/modules/key/key.py:195\u001b[0m, in \u001b[0;36mKeypair.add_key\u001b[0;34m(cls, path, password, refresh, **kwargs)\u001b[0m\n\u001b[1;32m    192\u001b[0m key\u001b[39m.\u001b[39mpath\n\u001b[1;32m    193\u001b[0m key_json \u001b[39m=\u001b[39m key\u001b[39m.\u001b[39mto_json()\n\u001b[0;32m--> 195\u001b[0m \u001b[39mcls\u001b[39;49m\u001b[39m.\u001b[39;49mput(path, key_json)\n\u001b[1;32m    197\u001b[0m \u001b[39mreturn\u001b[39;00m {\u001b[39m'\u001b[39m\u001b[39msuccess\u001b[39m\u001b[39m'\u001b[39m: \u001b[39mTrue\u001b[39;00m, \u001b[39m'\u001b[39m\u001b[39mmessage\u001b[39m\u001b[39m'\u001b[39m: \u001b[39mf\u001b[39m\u001b[39m'\u001b[39m\u001b[39mkey added at \u001b[39m\u001b[39m{\u001b[39;00mpath\u001b[39m}\u001b[39;00m\u001b[39m'\u001b[39m, \u001b[39m'\u001b[39m\u001b[39mkey\u001b[39m\u001b[39m'\u001b[39m: key_json}\n",
      "File \u001b[0;32m~/commune/commune/module/module.py:426\u001b[0m, in \u001b[0;36mc.put\u001b[0;34m(cls, k, v, password, include_timestamp, mode, cache, **kwargs)\u001b[0m\n\u001b[1;32m    421\u001b[0m     data[\u001b[39m'\u001b[39m\u001b[39mtimestamp\u001b[39m\u001b[39m'\u001b[39m] \u001b[39m=\u001b[39m c\u001b[39m.\u001b[39mtimestamp()\n\u001b[1;32m    425\u001b[0m \u001b[39m# default json \u001b[39;00m\n\u001b[0;32m--> 426\u001b[0m \u001b[39mgetattr\u001b[39;49m(\u001b[39mcls\u001b[39;49m,\u001b[39mf\u001b[39;49m\u001b[39m'\u001b[39;49m\u001b[39mput_\u001b[39;49m\u001b[39m{\u001b[39;49;00mmode\u001b[39m}\u001b[39;49;00m\u001b[39m'\u001b[39;49m)(k, data, \u001b[39m*\u001b[39;49m\u001b[39m*\u001b[39;49mkwargs)\n\u001b[1;32m    428\u001b[0m \u001b[39mif\u001b[39;00m cache:\n\u001b[1;32m    429\u001b[0m     \u001b[39mcls\u001b[39m\u001b[39m.\u001b[39mcache[k] \u001b[39m=\u001b[39m v\n",
      "File \u001b[0;32m~/commune/commune/module/module.py:1723\u001b[0m, in \u001b[0;36mc.put_json\u001b[0;34m(cls, *args, **kwargs)\u001b[0m\n\u001b[1;32m   1720\u001b[0m \u001b[39m@classmethod\u001b[39m\n\u001b[1;32m   1721\u001b[0m \u001b[39mdef\u001b[39;00m \u001b[39mput_json\u001b[39m(\u001b[39mcls\u001b[39m,\u001b[39m*\u001b[39margs,\u001b[39m*\u001b[39m\u001b[39m*\u001b[39mkwargs) \u001b[39m-\u001b[39m\u001b[39m>\u001b[39m \u001b[39mstr\u001b[39m:\n\u001b[1;32m   1722\u001b[0m     loop \u001b[39m=\u001b[39m \u001b[39mcls\u001b[39m\u001b[39m.\u001b[39mget_event_loop()\n\u001b[0;32m-> 1723\u001b[0m     \u001b[39mreturn\u001b[39;00m loop\u001b[39m.\u001b[39;49mrun_until_complete(\u001b[39mcls\u001b[39;49m\u001b[39m.\u001b[39;49masync_put_json(\u001b[39m*\u001b[39;49margs, \u001b[39m*\u001b[39;49m\u001b[39m*\u001b[39;49mkwargs))\n",
      "File \u001b[0;32m~/.local/lib/python3.10/site-packages/nest_asyncio.py:90\u001b[0m, in \u001b[0;36m_patch_loop.<locals>.run_until_complete\u001b[0;34m(self, future)\u001b[0m\n\u001b[1;32m     87\u001b[0m \u001b[39mif\u001b[39;00m \u001b[39mnot\u001b[39;00m f\u001b[39m.\u001b[39mdone():\n\u001b[1;32m     88\u001b[0m     \u001b[39mraise\u001b[39;00m \u001b[39mRuntimeError\u001b[39;00m(\n\u001b[1;32m     89\u001b[0m         \u001b[39m'\u001b[39m\u001b[39mEvent loop stopped before Future completed.\u001b[39m\u001b[39m'\u001b[39m)\n\u001b[0;32m---> 90\u001b[0m \u001b[39mreturn\u001b[39;00m f\u001b[39m.\u001b[39;49mresult()\n",
      "File \u001b[0;32m/usr/lib/python3.10/asyncio/futures.py:201\u001b[0m, in \u001b[0;36mFuture.result\u001b[0;34m(self)\u001b[0m\n\u001b[1;32m    199\u001b[0m \u001b[39mself\u001b[39m\u001b[39m.\u001b[39m__log_traceback \u001b[39m=\u001b[39m \u001b[39mFalse\u001b[39;00m\n\u001b[1;32m    200\u001b[0m \u001b[39mif\u001b[39;00m \u001b[39mself\u001b[39m\u001b[39m.\u001b[39m_exception \u001b[39mis\u001b[39;00m \u001b[39mnot\u001b[39;00m \u001b[39mNone\u001b[39;00m:\n\u001b[0;32m--> 201\u001b[0m     \u001b[39mraise\u001b[39;00m \u001b[39mself\u001b[39m\u001b[39m.\u001b[39m_exception\u001b[39m.\u001b[39mwith_traceback(\u001b[39mself\u001b[39m\u001b[39m.\u001b[39m_exception_tb)\n\u001b[1;32m    202\u001b[0m \u001b[39mreturn\u001b[39;00m \u001b[39mself\u001b[39m\u001b[39m.\u001b[39m_result\n",
      "File \u001b[0;32m/usr/lib/python3.10/asyncio/tasks.py:232\u001b[0m, in \u001b[0;36mTask.__step\u001b[0;34m(***failed resolving arguments***)\u001b[0m\n\u001b[1;32m    228\u001b[0m \u001b[39mtry\u001b[39;00m:\n\u001b[1;32m    229\u001b[0m     \u001b[39mif\u001b[39;00m exc \u001b[39mis\u001b[39;00m \u001b[39mNone\u001b[39;00m:\n\u001b[1;32m    230\u001b[0m         \u001b[39m# We use the `send` method directly, because coroutines\u001b[39;00m\n\u001b[1;32m    231\u001b[0m         \u001b[39m# don't have `__iter__` and `__next__` methods.\u001b[39;00m\n\u001b[0;32m--> 232\u001b[0m         result \u001b[39m=\u001b[39m coro\u001b[39m.\u001b[39;49msend(\u001b[39mNone\u001b[39;49;00m)\n\u001b[1;32m    233\u001b[0m     \u001b[39melse\u001b[39;00m:\n\u001b[1;32m    234\u001b[0m         result \u001b[39m=\u001b[39m coro\u001b[39m.\u001b[39mthrow(exc)\n",
      "File \u001b[0;32m~/commune/commune/module/module.py:1736\u001b[0m, in \u001b[0;36mc.async_put_json\u001b[0;34m(cls, path, data, meta, root, **kwargs)\u001b[0m\n\u001b[1;32m   1734\u001b[0m \u001b[39mif\u001b[39;00m meta \u001b[39m!=\u001b[39m \u001b[39mNone\u001b[39;00m:\n\u001b[1;32m   1735\u001b[0m     data \u001b[39m=\u001b[39m {\u001b[39m'\u001b[39m\u001b[39mdata\u001b[39m\u001b[39m'\u001b[39m:data, \u001b[39m'\u001b[39m\u001b[39mmeta\u001b[39m\u001b[39m'\u001b[39m:meta}\n\u001b[0;32m-> 1736\u001b[0m path \u001b[39m=\u001b[39m \u001b[39mcls\u001b[39;49m\u001b[39m.\u001b[39;49mresolve_path(path\u001b[39m=\u001b[39;49mpath, extension\u001b[39m=\u001b[39;49m\u001b[39m'\u001b[39;49m\u001b[39mjson\u001b[39;49m\u001b[39m'\u001b[39;49m, root\u001b[39m=\u001b[39;49mroot)\n\u001b[1;32m   1737\u001b[0m \u001b[39m# cls.lock_file(path)\u001b[39;00m\n\u001b[1;32m   1738\u001b[0m \u001b[39mawait\u001b[39;00m async_put_json(path\u001b[39m=\u001b[39mpath, data\u001b[39m=\u001b[39mdata, \u001b[39m*\u001b[39m\u001b[39m*\u001b[39mkwargs)\n",
      "File \u001b[0;32m~/commune/commune/module/module.py:1036\u001b[0m, in \u001b[0;36mc.resolve_path\u001b[0;34m(cls, path, extension, root)\u001b[0m\n\u001b[1;32m   1026\u001b[0m \u001b[39m@classmethod\u001b[39m\n\u001b[1;32m   1027\u001b[0m \u001b[39mdef\u001b[39;00m \u001b[39mresolve_path\u001b[39m(\u001b[39mcls\u001b[39m, path:\u001b[39mstr\u001b[39m, extension:Optional[\u001b[39mstr\u001b[39m]\u001b[39m=\u001b[39m \u001b[39mNone\u001b[39;00m, root:\u001b[39mbool\u001b[39m \u001b[39m=\u001b[39m \u001b[39mFalse\u001b[39;00m):\n\u001b[1;32m   1028\u001b[0m \u001b[39m    \u001b[39m\u001b[39m'''\u001b[39;00m\n\u001b[1;32m   1029\u001b[0m \u001b[39m    Resolves path for saving items that relate to the module\u001b[39;00m\n\u001b[1;32m   1030\u001b[0m \u001b[39m    \u001b[39;00m\n\u001b[1;32m   1031\u001b[0m \u001b[39m    The path is determined by the module path \u001b[39;00m\n\u001b[1;32m   1032\u001b[0m \u001b[39m    \u001b[39;00m\n\u001b[1;32m   1033\u001b[0m \u001b[39m    '''\u001b[39;00m\n\u001b[0;32m-> 1036\u001b[0m     \u001b[39mif\u001b[39;00m path\u001b[39m.\u001b[39;49mstartswith(\u001b[39m'\u001b[39m\u001b[39m/\u001b[39m\u001b[39m'\u001b[39m):\n\u001b[1;32m   1037\u001b[0m         \u001b[39mreturn\u001b[39;00m path\n\u001b[1;32m   1038\u001b[0m     \u001b[39melif\u001b[39;00m path\u001b[39m.\u001b[39mstartswith(\u001b[39m'\u001b[39m\u001b[39m~/\u001b[39m\u001b[39m'\u001b[39m):\n",
      "\u001b[0;31mAttributeError\u001b[0m: 'function' object has no attribute 'startswith'"
     ]
    }
   ],
   "source": [
    "c.module('key')().key"
   ]
  },
  {
   "cell_type": "code",
   "execution_count": null,
   "metadata": {},
   "outputs": [],
   "source": []
  }
 ],
 "metadata": {
  "kernelspec": {
   "display_name": "Python 3",
   "language": "python",
   "name": "python3"
  },
  "language_info": {
   "codemirror_mode": {
    "name": "ipython",
    "version": 3
   },
   "file_extension": ".py",
   "mimetype": "text/x-python",
   "name": "python",
   "nbconvert_exporter": "python",
   "pygments_lexer": "ipython3",
   "version": "3.10.12"
  },
  "orig_nbformat": 4
 },
 "nbformat": 4,
 "nbformat_minor": 2
}

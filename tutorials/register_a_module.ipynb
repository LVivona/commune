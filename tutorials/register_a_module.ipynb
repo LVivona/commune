{
 "cells": [
  {
   "cell_type": "code",
   "execution_count": 2,
   "metadata": {},
   "outputs": [
    {
     "data": {
      "text/plain": [
       "commune.modules.subspace.subspace.Subspace"
      ]
     },
     "execution_count": 2,
     "metadata": {},
     "output_type": "execute_result"
    }
   ],
   "source": [
    "import commune as c\n",
    "c.enable_jupyter()\n",
    "\n",
    "s = c.module('subspace')\n",
    "s"
   ]
  },
  {
   "cell_type": "markdown",
   "metadata": {},
   "source": [
    "## Setting a network\n",
    "\n",
    "- local: your local namespace \n",
    "- subspace : the subspace namespace"
   ]
  },
  {
   "cell_type": "code",
   "execution_count": 12,
   "metadata": {},
   "outputs": [
    {
     "data": {
      "text/html": [
       "<pre style=\"white-space:pre;overflow-x:auto;line-height:normal;font-family:Menlo,'DejaVu Sans Mono',consolas,'Courier New',monospace\"><span style=\"font-weight: bold\">{</span>\n",
       "    <span style=\"color: #008000; text-decoration-color: #008000\">'get_balances'</span>: <span style=\"font-weight: bold\">{</span><span style=\"color: #008000; text-decoration-color: #008000\">'input'</span>: <span style=\"font-weight: bold\">{</span><span style=\"color: #008000; text-decoration-color: #008000\">'fmt'</span>: <span style=\"color: #008000; text-decoration-color: #008000\">'str'</span>, <span style=\"color: #008000; text-decoration-color: #008000\">'block'</span>: <span style=\"color: #008000; text-decoration-color: #008000\">'int'</span>, <span style=\"color: #008000; text-decoration-color: #008000\">'network'</span>: <span style=\"color: #008000; text-decoration-color: #008000\">'NA'</span><span style=\"font-weight: bold\">}</span>, <span style=\"color: #008000; text-decoration-color: #008000\">'output'</span>: <span style=\"font-weight: bold\">{}</span>, <span style=\"color: #008000; text-decoration-color: #008000\">'type'</span>: <span style=\"color: #008000; text-decoration-color: #008000\">'self'</span><span style=\"font-weight: bold\">}</span>,\n",
       "    <span style=\"color: #008000; text-decoration-color: #008000\">'get_boot_nodes'</span>: <span style=\"font-weight: bold\">{</span><span style=\"color: #008000; text-decoration-color: #008000\">'input'</span>: <span style=\"font-weight: bold\">{</span><span style=\"color: #008000; text-decoration-color: #008000\">'chain'</span>: <span style=\"color: #008000; text-decoration-color: #008000\">'NA'</span><span style=\"font-weight: bold\">}</span>, <span style=\"color: #008000; text-decoration-color: #008000\">'output'</span>: <span style=\"font-weight: bold\">{}</span>, <span style=\"color: #008000; text-decoration-color: #008000\">'type'</span>: <span style=\"color: #008000; text-decoration-color: #008000\">'cls'</span><span style=\"font-weight: bold\">}</span>,\n",
       "    <span style=\"color: #008000; text-decoration-color: #008000\">'get_current_block'</span>: <span style=\"font-weight: bold\">{</span><span style=\"color: #008000; text-decoration-color: #008000\">'input'</span>: <span style=\"font-weight: bold\">{</span><span style=\"color: #008000; text-decoration-color: #008000\">'network'</span>: <span style=\"color: #008000; text-decoration-color: #008000\">'NA'</span><span style=\"font-weight: bold\">}</span>, <span style=\"color: #008000; text-decoration-color: #008000\">'output'</span>: <span style=\"font-weight: bold\">{}</span>, <span style=\"color: #008000; text-decoration-color: #008000\">'type'</span>: <span style=\"color: #008000; text-decoration-color: #008000\">'self'</span><span style=\"font-weight: bold\">}</span>,\n",
       "    <span style=\"color: #008000; text-decoration-color: #008000\">'get_docker_compose'</span>: <span style=\"font-weight: bold\">{</span><span style=\"color: #008000; text-decoration-color: #008000\">'input'</span>: <span style=\"font-weight: bold\">{}</span>, <span style=\"color: #008000; text-decoration-color: #008000\">'output'</span>: <span style=\"font-weight: bold\">{}</span>, <span style=\"color: #008000; text-decoration-color: #008000\">'type'</span>: <span style=\"color: #008000; text-decoration-color: #008000\">'cls'</span><span style=\"font-weight: bold\">}</span>,\n",
       "    <span style=\"color: #008000; text-decoration-color: #008000\">'get_emission_value_by_subnet'</span>: <span style=\"font-weight: bold\">{</span>\n",
       "        <span style=\"color: #008000; text-decoration-color: #008000\">'input'</span>: <span style=\"font-weight: bold\">{</span><span style=\"color: #008000; text-decoration-color: #008000\">'netuid'</span>: <span style=\"color: #008000; text-decoration-color: #008000\">'int'</span>, <span style=\"color: #008000; text-decoration-color: #008000\">'block'</span>: <span style=\"color: #008000; text-decoration-color: #008000\">'optional[int]'</span><span style=\"font-weight: bold\">}</span>,\n",
       "        <span style=\"color: #008000; text-decoration-color: #008000\">'output'</span>: <span style=\"font-weight: bold\">{}</span>,\n",
       "        <span style=\"color: #008000; text-decoration-color: #008000\">'type'</span>: <span style=\"color: #008000; text-decoration-color: #008000\">'self'</span>\n",
       "    <span style=\"font-weight: bold\">}</span>,\n",
       "    <span style=\"color: #008000; text-decoration-color: #008000\">'get_existential_deposit'</span>: <span style=\"font-weight: bold\">{</span><span style=\"color: #008000; text-decoration-color: #008000\">'input'</span>: <span style=\"font-weight: bold\">{</span><span style=\"color: #008000; text-decoration-color: #008000\">'block'</span>: <span style=\"color: #008000; text-decoration-color: #008000\">'optional[int]'</span>, <span style=\"color: #008000; text-decoration-color: #008000\">'fmt'</span>: <span style=\"color: #008000; text-decoration-color: #008000\">'NA'</span><span style=\"font-weight: bold\">}</span>, <span style=\"color: #008000; text-decoration-color: #008000\">'output'</span>: <span style=\"font-weight: bold\">{}</span>, <span style=\"color: #008000; text-decoration-color: #008000\">'type'</span>: <span style=\"color: #008000; text-decoration-color: #008000\">'self'</span><span style=\"font-weight: bold\">}</span>,\n",
       "    <span style=\"color: #008000; text-decoration-color: #008000\">'get_key_info'</span>: <span style=\"font-weight: bold\">{</span><span style=\"color: #008000; text-decoration-color: #008000\">'input'</span>: <span style=\"font-weight: bold\">{</span><span style=\"color: #008000; text-decoration-color: #008000\">'key'</span>: <span style=\"color: #008000; text-decoration-color: #008000\">'NA'</span>, <span style=\"color: #008000; text-decoration-color: #008000\">'netuid'</span>: <span style=\"color: #008000; text-decoration-color: #008000\">'NA'</span>, <span style=\"color: #008000; text-decoration-color: #008000\">'network'</span>: <span style=\"color: #008000; text-decoration-color: #008000\">'NA'</span><span style=\"font-weight: bold\">}</span>, <span style=\"color: #008000; text-decoration-color: #008000\">'output'</span>: <span style=\"font-weight: bold\">{}</span>, <span style=\"color: #008000; text-decoration-color: #008000\">'type'</span>: <span style=\"color: #008000; text-decoration-color: #008000\">'cls'</span><span style=\"font-weight: bold\">}</span>,\n",
       "    <span style=\"color: #008000; text-decoration-color: #008000\">'get_netuid_for_subnet'</span>: <span style=\"font-weight: bold\">{</span><span style=\"color: #008000; text-decoration-color: #008000\">'input'</span>: <span style=\"font-weight: bold\">{</span><span style=\"color: #008000; text-decoration-color: #008000\">'network'</span>: <span style=\"color: #008000; text-decoration-color: #008000\">'str'</span><span style=\"font-weight: bold\">}</span>, <span style=\"color: #008000; text-decoration-color: #008000\">'output'</span>: <span style=\"font-weight: bold\">{}</span>, <span style=\"color: #008000; text-decoration-color: #008000\">'type'</span>: <span style=\"color: #008000; text-decoration-color: #008000\">'self'</span><span style=\"font-weight: bold\">}</span>,\n",
       "    <span style=\"color: #008000; text-decoration-color: #008000\">'get_network_url'</span>: <span style=\"font-weight: bold\">{</span><span style=\"color: #008000; text-decoration-color: #008000\">'input'</span>: <span style=\"font-weight: bold\">{</span><span style=\"color: #008000; text-decoration-color: #008000\">'network'</span>: <span style=\"color: #008000; text-decoration-color: #008000\">'str'</span><span style=\"font-weight: bold\">}</span>, <span style=\"color: #008000; text-decoration-color: #008000\">'output'</span>: <span style=\"font-weight: bold\">{}</span>, <span style=\"color: #008000; text-decoration-color: #008000\">'type'</span>: <span style=\"color: #008000; text-decoration-color: #008000\">'cls'</span><span style=\"font-weight: bold\">}</span>,\n",
       "    <span style=\"color: #008000; text-decoration-color: #008000\">'get_node_id'</span>: <span style=\"font-weight: bold\">{</span>\n",
       "        <span style=\"color: #008000; text-decoration-color: #008000\">'input'</span>: <span style=\"font-weight: bold\">{</span>\n",
       "            <span style=\"color: #008000; text-decoration-color: #008000\">'node'</span>: <span style=\"color: #008000; text-decoration-color: #008000\">'NA'</span>,\n",
       "            <span style=\"color: #008000; text-decoration-color: #008000\">'chain'</span>: <span style=\"color: #008000; text-decoration-color: #008000\">'NA'</span>,\n",
       "            <span style=\"color: #008000; text-decoration-color: #008000\">'max_trials'</span>: <span style=\"color: #008000; text-decoration-color: #008000\">'NA'</span>,\n",
       "            <span style=\"color: #008000; text-decoration-color: #008000\">'sleep_interval'</span>: <span style=\"color: #008000; text-decoration-color: #008000\">'NA'</span>,\n",
       "            <span style=\"color: #008000; text-decoration-color: #008000\">'mode'</span>: <span style=\"color: #008000; text-decoration-color: #008000\">'NA'</span>,\n",
       "            <span style=\"color: #008000; text-decoration-color: #008000\">'verbose'</span>: <span style=\"color: #008000; text-decoration-color: #008000\">'NA'</span>\n",
       "        <span style=\"font-weight: bold\">}</span>,\n",
       "        <span style=\"color: #008000; text-decoration-color: #008000\">'output'</span>: <span style=\"font-weight: bold\">{}</span>,\n",
       "        <span style=\"color: #008000; text-decoration-color: #008000\">'type'</span>: <span style=\"color: #008000; text-decoration-color: #008000\">'cls'</span>\n",
       "    <span style=\"font-weight: bold\">}</span>,\n",
       "    <span style=\"color: #008000; text-decoration-color: #008000\">'get_node_key'</span>: <span style=\"font-weight: bold\">{</span><span style=\"color: #008000; text-decoration-color: #008000\">'input'</span>: <span style=\"font-weight: bold\">{</span><span style=\"color: #008000; text-decoration-color: #008000\">'node'</span>: <span style=\"color: #008000; text-decoration-color: #008000\">'NA'</span>, <span style=\"color: #008000; text-decoration-color: #008000\">'chain'</span>: <span style=\"color: #008000; text-decoration-color: #008000\">'NA'</span><span style=\"font-weight: bold\">}</span>, <span style=\"color: #008000; text-decoration-color: #008000\">'output'</span>: <span style=\"font-weight: bold\">{}</span>, <span style=\"color: #008000; text-decoration-color: #008000\">'type'</span>: <span style=\"color: #008000; text-decoration-color: #008000\">'cls'</span><span style=\"font-weight: bold\">}</span>,\n",
       "    <span style=\"color: #008000; text-decoration-color: #008000\">'get_node_key_paths'</span>: <span style=\"font-weight: bold\">{</span><span style=\"color: #008000; text-decoration-color: #008000\">'input'</span>: <span style=\"font-weight: bold\">{</span><span style=\"color: #008000; text-decoration-color: #008000\">'node'</span>: <span style=\"color: #008000; text-decoration-color: #008000\">'NA'</span>, <span style=\"color: #008000; text-decoration-color: #008000\">'chain'</span>: <span style=\"color: #008000; text-decoration-color: #008000\">'NA'</span><span style=\"font-weight: bold\">}</span>, <span style=\"color: #008000; text-decoration-color: #008000\">'output'</span>: <span style=\"font-weight: bold\">{}</span>, <span style=\"color: #008000; text-decoration-color: #008000\">'type'</span>: <span style=\"color: #008000; text-decoration-color: #008000\">'cls'</span><span style=\"font-weight: bold\">}</span>,\n",
       "    <span style=\"color: #008000; text-decoration-color: #008000\">'get_node_keys'</span>: <span style=\"font-weight: bold\">{</span><span style=\"color: #008000; text-decoration-color: #008000\">'input'</span>: <span style=\"font-weight: bold\">{</span><span style=\"color: #008000; text-decoration-color: #008000\">'chain'</span>: <span style=\"color: #008000; text-decoration-color: #008000\">'NA'</span><span style=\"font-weight: bold\">}</span>, <span style=\"color: #008000; text-decoration-color: #008000\">'output'</span>: <span style=\"font-weight: bold\">{}</span>, <span style=\"color: #008000; text-decoration-color: #008000\">'type'</span>: <span style=\"color: #008000; text-decoration-color: #008000\">'cls'</span><span style=\"font-weight: bold\">}</span>,\n",
       "    <span style=\"color: #008000; text-decoration-color: #008000\">'get_snapshot'</span>: <span style=\"font-weight: bold\">{</span><span style=\"color: #008000; text-decoration-color: #008000\">'input'</span>: <span style=\"font-weight: bold\">{</span><span style=\"color: #008000; text-decoration-color: #008000\">'chain'</span>: <span style=\"color: #008000; text-decoration-color: #008000\">'NA'</span><span style=\"font-weight: bold\">}</span>, <span style=\"color: #008000; text-decoration-color: #008000\">'output'</span>: <span style=\"font-weight: bold\">{}</span>, <span style=\"color: #008000; text-decoration-color: #008000\">'type'</span>: <span style=\"color: #008000; text-decoration-color: #008000\">'cls'</span><span style=\"font-weight: bold\">}</span>,\n",
       "    <span style=\"color: #008000; text-decoration-color: #008000\">'get_spec'</span>: <span style=\"font-weight: bold\">{</span><span style=\"color: #008000; text-decoration-color: #008000\">'input'</span>: <span style=\"font-weight: bold\">{</span><span style=\"color: #008000; text-decoration-color: #008000\">'chain'</span>: <span style=\"color: #008000; text-decoration-color: #008000\">'str'</span><span style=\"font-weight: bold\">}</span>, <span style=\"color: #008000; text-decoration-color: #008000\">'output'</span>: <span style=\"font-weight: bold\">{}</span>, <span style=\"color: #008000; text-decoration-color: #008000\">'type'</span>: <span style=\"color: #008000; text-decoration-color: #008000\">'cls'</span><span style=\"font-weight: bold\">}</span>,\n",
       "    <span style=\"color: #008000; text-decoration-color: #008000\">'get_stake'</span>: <span style=\"font-weight: bold\">{</span>\n",
       "        <span style=\"color: #008000; text-decoration-color: #008000\">'input'</span>: <span style=\"font-weight: bold\">{</span><span style=\"color: #008000; text-decoration-color: #008000\">'key_ss58'</span>: <span style=\"color: #008000; text-decoration-color: #008000\">'str'</span>, <span style=\"color: #008000; text-decoration-color: #008000\">'block'</span>: <span style=\"color: #008000; text-decoration-color: #008000\">'optional[int]'</span>, <span style=\"color: #008000; text-decoration-color: #008000\">'netuid'</span>: <span style=\"color: #008000; text-decoration-color: #008000\">'int'</span>, <span style=\"color: #008000; text-decoration-color: #008000\">'fmt'</span>: <span style=\"color: #008000; text-decoration-color: #008000\">'NA'</span><span style=\"font-weight: bold\">}</span>,\n",
       "        <span style=\"color: #008000; text-decoration-color: #008000\">'output'</span>: <span style=\"font-weight: bold\">{}</span>,\n",
       "        <span style=\"color: #008000; text-decoration-color: #008000\">'type'</span>: <span style=\"color: #008000; text-decoration-color: #008000\">'self'</span>\n",
       "    <span style=\"font-weight: bold\">}</span>,\n",
       "    <span style=\"color: #008000; text-decoration-color: #008000\">'get_stats'</span>: <span style=\"font-weight: bold\">{</span><span style=\"color: #008000; text-decoration-color: #008000\">'input'</span>: <span style=\"font-weight: bold\">{</span><span style=\"color: #008000; text-decoration-color: #008000\">'modules'</span>: <span style=\"color: #008000; text-decoration-color: #008000\">'NA'</span><span style=\"font-weight: bold\">}</span>, <span style=\"color: #008000; text-decoration-color: #008000\">'output'</span>: <span style=\"font-weight: bold\">{}</span>, <span style=\"color: #008000; text-decoration-color: #008000\">'type'</span>: <span style=\"color: #008000; text-decoration-color: #008000\">'self'</span><span style=\"font-weight: bold\">}</span>,\n",
       "    <span style=\"color: #008000; text-decoration-color: #008000\">'get_total_subnets'</span>: <span style=\"font-weight: bold\">{</span><span style=\"color: #008000; text-decoration-color: #008000\">'input'</span>: <span style=\"font-weight: bold\">{</span><span style=\"color: #008000; text-decoration-color: #008000\">'block'</span>: <span style=\"color: #008000; text-decoration-color: #008000\">'optional[int]'</span><span style=\"font-weight: bold\">}</span>, <span style=\"color: #008000; text-decoration-color: #008000\">'output'</span>: <span style=\"font-weight: bold\">{}</span>, <span style=\"color: #008000; text-decoration-color: #008000\">'type'</span>: <span style=\"color: #008000; text-decoration-color: #008000\">'self'</span><span style=\"font-weight: bold\">}</span>,\n",
       "    <span style=\"color: #008000; text-decoration-color: #008000\">'get_uid_for_key_on_subnet'</span>: <span style=\"font-weight: bold\">{</span>\n",
       "        <span style=\"color: #008000; text-decoration-color: #008000\">'input'</span>: <span style=\"font-weight: bold\">{</span><span style=\"color: #008000; text-decoration-color: #008000\">'key_ss58'</span>: <span style=\"color: #008000; text-decoration-color: #008000\">'str'</span>, <span style=\"color: #008000; text-decoration-color: #008000\">'netuid'</span>: <span style=\"color: #008000; text-decoration-color: #008000\">'int'</span>, <span style=\"color: #008000; text-decoration-color: #008000\">'block'</span>: <span style=\"color: #008000; text-decoration-color: #008000\">'optional[int]'</span><span style=\"font-weight: bold\">}</span>,\n",
       "        <span style=\"color: #008000; text-decoration-color: #008000\">'output'</span>: <span style=\"font-weight: bold\">{}</span>,\n",
       "        <span style=\"color: #008000; text-decoration-color: #008000\">'type'</span>: <span style=\"color: #008000; text-decoration-color: #008000\">'self'</span>\n",
       "    <span style=\"font-weight: bold\">}</span>\n",
       "<span style=\"font-weight: bold\">}</span>\n",
       "</pre>\n"
      ],
      "text/plain": [
       "\u001b[1m{\u001b[0m\n",
       "    \u001b[32m'get_balances'\u001b[0m: \u001b[1m{\u001b[0m\u001b[32m'input'\u001b[0m: \u001b[1m{\u001b[0m\u001b[32m'fmt'\u001b[0m: \u001b[32m'str'\u001b[0m, \u001b[32m'block'\u001b[0m: \u001b[32m'int'\u001b[0m, \u001b[32m'network'\u001b[0m: \u001b[32m'NA'\u001b[0m\u001b[1m}\u001b[0m, \u001b[32m'output'\u001b[0m: \u001b[1m{\u001b[0m\u001b[1m}\u001b[0m, \u001b[32m'type'\u001b[0m: \u001b[32m'self'\u001b[0m\u001b[1m}\u001b[0m,\n",
       "    \u001b[32m'get_boot_nodes'\u001b[0m: \u001b[1m{\u001b[0m\u001b[32m'input'\u001b[0m: \u001b[1m{\u001b[0m\u001b[32m'chain'\u001b[0m: \u001b[32m'NA'\u001b[0m\u001b[1m}\u001b[0m, \u001b[32m'output'\u001b[0m: \u001b[1m{\u001b[0m\u001b[1m}\u001b[0m, \u001b[32m'type'\u001b[0m: \u001b[32m'cls'\u001b[0m\u001b[1m}\u001b[0m,\n",
       "    \u001b[32m'get_current_block'\u001b[0m: \u001b[1m{\u001b[0m\u001b[32m'input'\u001b[0m: \u001b[1m{\u001b[0m\u001b[32m'network'\u001b[0m: \u001b[32m'NA'\u001b[0m\u001b[1m}\u001b[0m, \u001b[32m'output'\u001b[0m: \u001b[1m{\u001b[0m\u001b[1m}\u001b[0m, \u001b[32m'type'\u001b[0m: \u001b[32m'self'\u001b[0m\u001b[1m}\u001b[0m,\n",
       "    \u001b[32m'get_docker_compose'\u001b[0m: \u001b[1m{\u001b[0m\u001b[32m'input'\u001b[0m: \u001b[1m{\u001b[0m\u001b[1m}\u001b[0m, \u001b[32m'output'\u001b[0m: \u001b[1m{\u001b[0m\u001b[1m}\u001b[0m, \u001b[32m'type'\u001b[0m: \u001b[32m'cls'\u001b[0m\u001b[1m}\u001b[0m,\n",
       "    \u001b[32m'get_emission_value_by_subnet'\u001b[0m: \u001b[1m{\u001b[0m\n",
       "        \u001b[32m'input'\u001b[0m: \u001b[1m{\u001b[0m\u001b[32m'netuid'\u001b[0m: \u001b[32m'int'\u001b[0m, \u001b[32m'block'\u001b[0m: \u001b[32m'optional\u001b[0m\u001b[32m[\u001b[0m\u001b[32mint\u001b[0m\u001b[32m]\u001b[0m\u001b[32m'\u001b[0m\u001b[1m}\u001b[0m,\n",
       "        \u001b[32m'output'\u001b[0m: \u001b[1m{\u001b[0m\u001b[1m}\u001b[0m,\n",
       "        \u001b[32m'type'\u001b[0m: \u001b[32m'self'\u001b[0m\n",
       "    \u001b[1m}\u001b[0m,\n",
       "    \u001b[32m'get_existential_deposit'\u001b[0m: \u001b[1m{\u001b[0m\u001b[32m'input'\u001b[0m: \u001b[1m{\u001b[0m\u001b[32m'block'\u001b[0m: \u001b[32m'optional\u001b[0m\u001b[32m[\u001b[0m\u001b[32mint\u001b[0m\u001b[32m]\u001b[0m\u001b[32m'\u001b[0m, \u001b[32m'fmt'\u001b[0m: \u001b[32m'NA'\u001b[0m\u001b[1m}\u001b[0m, \u001b[32m'output'\u001b[0m: \u001b[1m{\u001b[0m\u001b[1m}\u001b[0m, \u001b[32m'type'\u001b[0m: \u001b[32m'self'\u001b[0m\u001b[1m}\u001b[0m,\n",
       "    \u001b[32m'get_key_info'\u001b[0m: \u001b[1m{\u001b[0m\u001b[32m'input'\u001b[0m: \u001b[1m{\u001b[0m\u001b[32m'key'\u001b[0m: \u001b[32m'NA'\u001b[0m, \u001b[32m'netuid'\u001b[0m: \u001b[32m'NA'\u001b[0m, \u001b[32m'network'\u001b[0m: \u001b[32m'NA'\u001b[0m\u001b[1m}\u001b[0m, \u001b[32m'output'\u001b[0m: \u001b[1m{\u001b[0m\u001b[1m}\u001b[0m, \u001b[32m'type'\u001b[0m: \u001b[32m'cls'\u001b[0m\u001b[1m}\u001b[0m,\n",
       "    \u001b[32m'get_netuid_for_subnet'\u001b[0m: \u001b[1m{\u001b[0m\u001b[32m'input'\u001b[0m: \u001b[1m{\u001b[0m\u001b[32m'network'\u001b[0m: \u001b[32m'str'\u001b[0m\u001b[1m}\u001b[0m, \u001b[32m'output'\u001b[0m: \u001b[1m{\u001b[0m\u001b[1m}\u001b[0m, \u001b[32m'type'\u001b[0m: \u001b[32m'self'\u001b[0m\u001b[1m}\u001b[0m,\n",
       "    \u001b[32m'get_network_url'\u001b[0m: \u001b[1m{\u001b[0m\u001b[32m'input'\u001b[0m: \u001b[1m{\u001b[0m\u001b[32m'network'\u001b[0m: \u001b[32m'str'\u001b[0m\u001b[1m}\u001b[0m, \u001b[32m'output'\u001b[0m: \u001b[1m{\u001b[0m\u001b[1m}\u001b[0m, \u001b[32m'type'\u001b[0m: \u001b[32m'cls'\u001b[0m\u001b[1m}\u001b[0m,\n",
       "    \u001b[32m'get_node_id'\u001b[0m: \u001b[1m{\u001b[0m\n",
       "        \u001b[32m'input'\u001b[0m: \u001b[1m{\u001b[0m\n",
       "            \u001b[32m'node'\u001b[0m: \u001b[32m'NA'\u001b[0m,\n",
       "            \u001b[32m'chain'\u001b[0m: \u001b[32m'NA'\u001b[0m,\n",
       "            \u001b[32m'max_trials'\u001b[0m: \u001b[32m'NA'\u001b[0m,\n",
       "            \u001b[32m'sleep_interval'\u001b[0m: \u001b[32m'NA'\u001b[0m,\n",
       "            \u001b[32m'mode'\u001b[0m: \u001b[32m'NA'\u001b[0m,\n",
       "            \u001b[32m'verbose'\u001b[0m: \u001b[32m'NA'\u001b[0m\n",
       "        \u001b[1m}\u001b[0m,\n",
       "        \u001b[32m'output'\u001b[0m: \u001b[1m{\u001b[0m\u001b[1m}\u001b[0m,\n",
       "        \u001b[32m'type'\u001b[0m: \u001b[32m'cls'\u001b[0m\n",
       "    \u001b[1m}\u001b[0m,\n",
       "    \u001b[32m'get_node_key'\u001b[0m: \u001b[1m{\u001b[0m\u001b[32m'input'\u001b[0m: \u001b[1m{\u001b[0m\u001b[32m'node'\u001b[0m: \u001b[32m'NA'\u001b[0m, \u001b[32m'chain'\u001b[0m: \u001b[32m'NA'\u001b[0m\u001b[1m}\u001b[0m, \u001b[32m'output'\u001b[0m: \u001b[1m{\u001b[0m\u001b[1m}\u001b[0m, \u001b[32m'type'\u001b[0m: \u001b[32m'cls'\u001b[0m\u001b[1m}\u001b[0m,\n",
       "    \u001b[32m'get_node_key_paths'\u001b[0m: \u001b[1m{\u001b[0m\u001b[32m'input'\u001b[0m: \u001b[1m{\u001b[0m\u001b[32m'node'\u001b[0m: \u001b[32m'NA'\u001b[0m, \u001b[32m'chain'\u001b[0m: \u001b[32m'NA'\u001b[0m\u001b[1m}\u001b[0m, \u001b[32m'output'\u001b[0m: \u001b[1m{\u001b[0m\u001b[1m}\u001b[0m, \u001b[32m'type'\u001b[0m: \u001b[32m'cls'\u001b[0m\u001b[1m}\u001b[0m,\n",
       "    \u001b[32m'get_node_keys'\u001b[0m: \u001b[1m{\u001b[0m\u001b[32m'input'\u001b[0m: \u001b[1m{\u001b[0m\u001b[32m'chain'\u001b[0m: \u001b[32m'NA'\u001b[0m\u001b[1m}\u001b[0m, \u001b[32m'output'\u001b[0m: \u001b[1m{\u001b[0m\u001b[1m}\u001b[0m, \u001b[32m'type'\u001b[0m: \u001b[32m'cls'\u001b[0m\u001b[1m}\u001b[0m,\n",
       "    \u001b[32m'get_snapshot'\u001b[0m: \u001b[1m{\u001b[0m\u001b[32m'input'\u001b[0m: \u001b[1m{\u001b[0m\u001b[32m'chain'\u001b[0m: \u001b[32m'NA'\u001b[0m\u001b[1m}\u001b[0m, \u001b[32m'output'\u001b[0m: \u001b[1m{\u001b[0m\u001b[1m}\u001b[0m, \u001b[32m'type'\u001b[0m: \u001b[32m'cls'\u001b[0m\u001b[1m}\u001b[0m,\n",
       "    \u001b[32m'get_spec'\u001b[0m: \u001b[1m{\u001b[0m\u001b[32m'input'\u001b[0m: \u001b[1m{\u001b[0m\u001b[32m'chain'\u001b[0m: \u001b[32m'str'\u001b[0m\u001b[1m}\u001b[0m, \u001b[32m'output'\u001b[0m: \u001b[1m{\u001b[0m\u001b[1m}\u001b[0m, \u001b[32m'type'\u001b[0m: \u001b[32m'cls'\u001b[0m\u001b[1m}\u001b[0m,\n",
       "    \u001b[32m'get_stake'\u001b[0m: \u001b[1m{\u001b[0m\n",
       "        \u001b[32m'input'\u001b[0m: \u001b[1m{\u001b[0m\u001b[32m'key_ss58'\u001b[0m: \u001b[32m'str'\u001b[0m, \u001b[32m'block'\u001b[0m: \u001b[32m'optional\u001b[0m\u001b[32m[\u001b[0m\u001b[32mint\u001b[0m\u001b[32m]\u001b[0m\u001b[32m'\u001b[0m, \u001b[32m'netuid'\u001b[0m: \u001b[32m'int'\u001b[0m, \u001b[32m'fmt'\u001b[0m: \u001b[32m'NA'\u001b[0m\u001b[1m}\u001b[0m,\n",
       "        \u001b[32m'output'\u001b[0m: \u001b[1m{\u001b[0m\u001b[1m}\u001b[0m,\n",
       "        \u001b[32m'type'\u001b[0m: \u001b[32m'self'\u001b[0m\n",
       "    \u001b[1m}\u001b[0m,\n",
       "    \u001b[32m'get_stats'\u001b[0m: \u001b[1m{\u001b[0m\u001b[32m'input'\u001b[0m: \u001b[1m{\u001b[0m\u001b[32m'modules'\u001b[0m: \u001b[32m'NA'\u001b[0m\u001b[1m}\u001b[0m, \u001b[32m'output'\u001b[0m: \u001b[1m{\u001b[0m\u001b[1m}\u001b[0m, \u001b[32m'type'\u001b[0m: \u001b[32m'self'\u001b[0m\u001b[1m}\u001b[0m,\n",
       "    \u001b[32m'get_total_subnets'\u001b[0m: \u001b[1m{\u001b[0m\u001b[32m'input'\u001b[0m: \u001b[1m{\u001b[0m\u001b[32m'block'\u001b[0m: \u001b[32m'optional\u001b[0m\u001b[32m[\u001b[0m\u001b[32mint\u001b[0m\u001b[32m]\u001b[0m\u001b[32m'\u001b[0m\u001b[1m}\u001b[0m, \u001b[32m'output'\u001b[0m: \u001b[1m{\u001b[0m\u001b[1m}\u001b[0m, \u001b[32m'type'\u001b[0m: \u001b[32m'self'\u001b[0m\u001b[1m}\u001b[0m,\n",
       "    \u001b[32m'get_uid_for_key_on_subnet'\u001b[0m: \u001b[1m{\u001b[0m\n",
       "        \u001b[32m'input'\u001b[0m: \u001b[1m{\u001b[0m\u001b[32m'key_ss58'\u001b[0m: \u001b[32m'str'\u001b[0m, \u001b[32m'netuid'\u001b[0m: \u001b[32m'int'\u001b[0m, \u001b[32m'block'\u001b[0m: \u001b[32m'optional\u001b[0m\u001b[32m[\u001b[0m\u001b[32mint\u001b[0m\u001b[32m]\u001b[0m\u001b[32m'\u001b[0m\u001b[1m}\u001b[0m,\n",
       "        \u001b[32m'output'\u001b[0m: \u001b[1m{\u001b[0m\u001b[1m}\u001b[0m,\n",
       "        \u001b[32m'type'\u001b[0m: \u001b[32m'self'\u001b[0m\n",
       "    \u001b[1m}\u001b[0m\n",
       "\u001b[1m}\u001b[0m\n"
      ]
     },
     "metadata": {},
     "output_type": "display_data"
    }
   ],
   "source": [
    "c.print(s.schema('get'))\n"
   ]
  },
  {
   "cell_type": "markdown",
   "metadata": {},
   "source": [
    "## Namespace\n",
    "\n",
    "A namespace is a map of the name of the module with the address (str->str)"
   ]
  },
  {
   "cell_type": "code",
   "execution_count": 29,
   "metadata": {},
   "outputs": [
    {
     "data": {
      "text/html": [
       "<pre style=\"white-space:pre;overflow-x:auto;line-height:normal;font-family:Menlo,'DejaVu Sans Mono',consolas,'Courier New',monospace\"><span style=\"font-weight: bold\">{</span><span style=\"color: #008000; text-decoration-color: #008000\">'module'</span>: <span style=\"color: #008000; text-decoration-color: #008000\">'0.0.0.0:2203'</span>, <span style=\"color: #008000; text-decoration-color: #008000\">'model.openai'</span>: <span style=\"color: #008000; text-decoration-color: #008000\">'162.157.113.207:2206'</span><span style=\"font-weight: bold\">}</span>\n",
       "</pre>\n"
      ],
      "text/plain": [
       "\u001b[1m{\u001b[0m\u001b[32m'module'\u001b[0m: \u001b[32m'0.0.0.0:2203'\u001b[0m, \u001b[32m'model.openai'\u001b[0m: \u001b[32m'162.157.113.207:2206'\u001b[0m\u001b[1m}\u001b[0m\n"
      ]
     },
     "metadata": {},
     "output_type": "display_data"
    }
   ],
   "source": [
    "\n",
    "namespace = c.namespace(network='local')\n",
    "c.print(namespace)"
   ]
  },
  {
   "cell_type": "markdown",
   "metadata": {},
   "source": [
    "If you dont set the network, it will default to c.network() which is stored in the module.yaml config"
   ]
  },
  {
   "cell_type": "code",
   "execution_count": 44,
   "metadata": {},
   "outputs": [
    {
     "data": {
      "text/plain": [
       "['module', 'model.openai']"
      ]
     },
     "execution_count": 44,
     "metadata": {},
     "output_type": "execute_result"
    }
   ],
   "source": [
    "c.setnet('local')\n",
    "c.servers()"
   ]
  },
  {
   "cell_type": "code",
   "execution_count": 35,
   "metadata": {},
   "outputs": [
    {
     "data": {
      "text/html": [
       "<pre style=\"white-space:pre;overflow-x:auto;line-height:normal;font-family:Menlo,'DejaVu Sans Mono',consolas,'Courier New',monospace\">Modules found in local <span style=\"color: #008080; text-decoration-color: #008080; font-weight: bold\">2</span>\n",
       "</pre>\n"
      ],
      "text/plain": [
       "Modules found in local \u001b[1;36m2\u001b[0m\n"
      ]
     },
     "metadata": {},
     "output_type": "display_data"
    },
    {
     "data": {
      "text/html": [
       "<pre style=\"white-space:pre;overflow-x:auto;line-height:normal;font-family:Menlo,'DejaVu Sans Mono',consolas,'Courier New',monospace\">Modules found in subspace <span style=\"color: #008080; text-decoration-color: #008080; font-weight: bold\">1024</span>\n",
       "</pre>\n"
      ],
      "text/plain": [
       "Modules found in subspace \u001b[1;36m1024\u001b[0m\n"
      ]
     },
     "metadata": {},
     "output_type": "display_data"
    }
   ],
   "source": [
    "\n",
    "for network in ['local', 'subspace']:\n",
    "    namespace = c.namespace( network=network)\n",
    "    c.print(f'Modules found in {network}', len(namespace))"
   ]
  },
  {
   "cell_type": "markdown",
   "metadata": {},
   "source": [
    "## Servers (Keys of the Namespace Dictionary)"
   ]
  },
  {
   "cell_type": "code",
   "execution_count": 41,
   "metadata": {},
   "outputs": [
    {
     "data": {
      "text/html": [
       "<pre style=\"white-space:pre;overflow-x:auto;line-height:normal;font-family:Menlo,'DejaVu Sans Mono',consolas,'Courier New',monospace\"><span style=\"color: #c0c0c0; text-decoration-color: #c0c0c0\">Found </span><span style=\"color: #008080; text-decoration-color: #008080; font-weight: bold\">80</span><span style=\"color: #c0c0c0; text-decoration-color: #c0c0c0\"> servers that starts with model</span>\n",
       "</pre>\n"
      ],
      "text/plain": [
       "\u001b[37mFound \u001b[0m\u001b[1;36m80\u001b[0m\u001b[37m servers that starts with model\u001b[0m\n"
      ]
     },
     "metadata": {},
     "output_type": "display_data"
    },
    {
     "data": {
      "text/html": [
       "<pre style=\"white-space:pre;overflow-x:auto;line-height:normal;font-family:Menlo,'DejaVu Sans Mono',consolas,'Courier New',monospace\"><span style=\"color: #af00ff; text-decoration-color: #af00ff\">Servers: </span>\n",
       "<span style=\"color: #af00ff; text-decoration-color: #af00ff; font-weight: bold\">[</span>\n",
       "<span style=\"color: #af00ff; text-decoration-color: #af00ff\">    </span><span style=\"color: #008000; text-decoration-color: #008000\">'model.openai::mao23'</span><span style=\"color: #af00ff; text-decoration-color: #af00ff\">,</span>\n",
       "<span style=\"color: #af00ff; text-decoration-color: #af00ff\">    </span><span style=\"color: #008000; text-decoration-color: #008000\">'model.openai::sup16'</span><span style=\"color: #af00ff; text-decoration-color: #af00ff\">,</span>\n",
       "<span style=\"color: #af00ff; text-decoration-color: #af00ff\">    </span><span style=\"color: #008000; text-decoration-color: #008000\">'model.openai::mao16'</span><span style=\"color: #af00ff; text-decoration-color: #af00ff\">,</span>\n",
       "<span style=\"color: #af00ff; text-decoration-color: #af00ff\">    </span><span style=\"color: #008000; text-decoration-color: #008000\">'model.openai::snoopdawg4'</span><span style=\"color: #af00ff; text-decoration-color: #af00ff\">,</span>\n",
       "<span style=\"color: #af00ff; text-decoration-color: #af00ff\">    </span><span style=\"color: #008000; text-decoration-color: #008000\">'model.openai::SOTAsmall5'</span><span style=\"color: #af00ff; text-decoration-color: #af00ff\">,</span>\n",
       "<span style=\"color: #af00ff; text-decoration-color: #af00ff\">    </span><span style=\"color: #008000; text-decoration-color: #008000\">'model.openai::sup25'</span><span style=\"color: #af00ff; text-decoration-color: #af00ff\">,</span>\n",
       "<span style=\"color: #af00ff; text-decoration-color: #af00ff\">    </span><span style=\"color: #008000; text-decoration-color: #008000\">'model.openai::fam5'</span><span style=\"color: #af00ff; text-decoration-color: #af00ff\">,</span>\n",
       "<span style=\"color: #af00ff; text-decoration-color: #af00ff\">    </span><span style=\"color: #008000; text-decoration-color: #008000\">'model.openai::sup26'</span><span style=\"color: #af00ff; text-decoration-color: #af00ff\">,</span>\n",
       "<span style=\"color: #af00ff; text-decoration-color: #af00ff\">    </span><span style=\"color: #008000; text-decoration-color: #008000\">'model.openai::snoopdawg30'</span><span style=\"color: #af00ff; text-decoration-color: #af00ff\">,</span>\n",
       "<span style=\"color: #af00ff; text-decoration-color: #af00ff\">    </span><span style=\"color: #008000; text-decoration-color: #008000\">'model.openai'</span>\n",
       "<span style=\"color: #af00ff; text-decoration-color: #af00ff; font-weight: bold\">]</span>\n",
       "<span style=\"color: #808000; text-decoration-color: #808000\">...</span>\n",
       "</pre>\n"
      ],
      "text/plain": [
       "\u001b[38;5;129mServers: \u001b[0m\n",
       "\u001b[1;38;5;129m[\u001b[0m\n",
       "\u001b[38;5;129m    \u001b[0m\u001b[32m'model.openai::mao23'\u001b[0m\u001b[38;5;129m,\u001b[0m\n",
       "\u001b[38;5;129m    \u001b[0m\u001b[32m'model.openai::sup16'\u001b[0m\u001b[38;5;129m,\u001b[0m\n",
       "\u001b[38;5;129m    \u001b[0m\u001b[32m'model.openai::mao16'\u001b[0m\u001b[38;5;129m,\u001b[0m\n",
       "\u001b[38;5;129m    \u001b[0m\u001b[32m'model.openai::snoopdawg4'\u001b[0m\u001b[38;5;129m,\u001b[0m\n",
       "\u001b[38;5;129m    \u001b[0m\u001b[32m'model.openai::SOTAsmall5'\u001b[0m\u001b[38;5;129m,\u001b[0m\n",
       "\u001b[38;5;129m    \u001b[0m\u001b[32m'model.openai::sup25'\u001b[0m\u001b[38;5;129m,\u001b[0m\n",
       "\u001b[38;5;129m    \u001b[0m\u001b[32m'model.openai::fam5'\u001b[0m\u001b[38;5;129m,\u001b[0m\n",
       "\u001b[38;5;129m    \u001b[0m\u001b[32m'model.openai::sup26'\u001b[0m\u001b[38;5;129m,\u001b[0m\n",
       "\u001b[38;5;129m    \u001b[0m\u001b[32m'model.openai::snoopdawg30'\u001b[0m\u001b[38;5;129m,\u001b[0m\n",
       "\u001b[38;5;129m    \u001b[0m\u001b[32m'model.openai'\u001b[0m\n",
       "\u001b[1;38;5;129m]\u001b[0m\n",
       "\u001b[33m...\u001b[0m\n"
      ]
     },
     "metadata": {},
     "output_type": "display_data"
    },
    {
     "data": {
      "text/html": [
       "<pre style=\"white-space:pre;overflow-x:auto;line-height:normal;font-family:Menlo,'DejaVu Sans Mono',consolas,'Courier New',monospace\"><span style=\"color: #c0c0c0; text-decoration-color: #c0c0c0\">Found </span><span style=\"color: #008080; text-decoration-color: #008080; font-weight: bold\">629</span><span style=\"color: #c0c0c0; text-decoration-color: #c0c0c0\"> servers that starts with dataset</span>\n",
       "</pre>\n"
      ],
      "text/plain": [
       "\u001b[37mFound \u001b[0m\u001b[1;36m629\u001b[0m\u001b[37m servers that starts with dataset\u001b[0m\n"
      ]
     },
     "metadata": {},
     "output_type": "display_data"
    },
    {
     "data": {
      "text/html": [
       "<pre style=\"white-space:pre;overflow-x:auto;line-height:normal;font-family:Menlo,'DejaVu Sans Mono',consolas,'Courier New',monospace\"><span style=\"color: #af00ff; text-decoration-color: #af00ff\">Servers: </span>\n",
       "<span style=\"color: #af00ff; text-decoration-color: #af00ff; font-weight: bold\">[</span>\n",
       "<span style=\"color: #af00ff; text-decoration-color: #af00ff\">    </span><span style=\"color: #008000; text-decoration-color: #008000\">'dataset.hf::yami59'</span><span style=\"color: #af00ff; text-decoration-color: #af00ff\">,</span>\n",
       "<span style=\"color: #af00ff; text-decoration-color: #af00ff\">    </span><span style=\"color: #008000; text-decoration-color: #008000\">'dataset.hf::tokenclassification48'</span><span style=\"color: #af00ff; text-decoration-color: #af00ff\">,</span>\n",
       "<span style=\"color: #af00ff; text-decoration-color: #af00ff\">    </span><span style=\"color: #008000; text-decoration-color: #008000\">'dataset::kaggledatasets17'</span><span style=\"color: #af00ff; text-decoration-color: #af00ff\">,</span>\n",
       "<span style=\"color: #af00ff; text-decoration-color: #af00ff\">    </span><span style=\"color: #008000; text-decoration-color: #008000\">'dataset.hf::classification14'</span><span style=\"color: #af00ff; text-decoration-color: #af00ff\">,</span>\n",
       "<span style=\"color: #af00ff; text-decoration-color: #af00ff\">    </span><span style=\"color: #008000; text-decoration-color: #008000\">'dataset.hf::textclassificaiton47'</span><span style=\"color: #af00ff; text-decoration-color: #af00ff\">,</span>\n",
       "<span style=\"color: #af00ff; text-decoration-color: #af00ff\">    </span><span style=\"color: #008000; text-decoration-color: #008000\">'dataset::googledatasets11'</span><span style=\"color: #af00ff; text-decoration-color: #af00ff\">,</span>\n",
       "<span style=\"color: #af00ff; text-decoration-color: #af00ff\">    </span><span style=\"color: #008000; text-decoration-color: #008000\">'dataset.hf::trending21'</span><span style=\"color: #af00ff; text-decoration-color: #af00ff\">,</span>\n",
       "<span style=\"color: #af00ff; text-decoration-color: #af00ff\">    </span><span style=\"color: #008000; text-decoration-color: #008000\">'dataset.hf::mumbai6'</span><span style=\"color: #af00ff; text-decoration-color: #af00ff\">,</span>\n",
       "<span style=\"color: #af00ff; text-decoration-color: #af00ff\">    </span><span style=\"color: #008000; text-decoration-color: #008000\">'dataset.hf::yami72'</span><span style=\"color: #af00ff; text-decoration-color: #af00ff\">,</span>\n",
       "<span style=\"color: #af00ff; text-decoration-color: #af00ff\">    </span><span style=\"color: #008000; text-decoration-color: #008000\">'dataset::googledatasets26'</span>\n",
       "<span style=\"color: #af00ff; text-decoration-color: #af00ff; font-weight: bold\">]</span>\n",
       "<span style=\"color: #808000; text-decoration-color: #808000\">...</span>\n",
       "</pre>\n"
      ],
      "text/plain": [
       "\u001b[38;5;129mServers: \u001b[0m\n",
       "\u001b[1;38;5;129m[\u001b[0m\n",
       "\u001b[38;5;129m    \u001b[0m\u001b[32m'dataset.hf::yami59'\u001b[0m\u001b[38;5;129m,\u001b[0m\n",
       "\u001b[38;5;129m    \u001b[0m\u001b[32m'dataset.hf::tokenclassification48'\u001b[0m\u001b[38;5;129m,\u001b[0m\n",
       "\u001b[38;5;129m    \u001b[0m\u001b[32m'dataset::kaggledatasets17'\u001b[0m\u001b[38;5;129m,\u001b[0m\n",
       "\u001b[38;5;129m    \u001b[0m\u001b[32m'dataset.hf::classification14'\u001b[0m\u001b[38;5;129m,\u001b[0m\n",
       "\u001b[38;5;129m    \u001b[0m\u001b[32m'dataset.hf::textclassificaiton47'\u001b[0m\u001b[38;5;129m,\u001b[0m\n",
       "\u001b[38;5;129m    \u001b[0m\u001b[32m'dataset::googledatasets11'\u001b[0m\u001b[38;5;129m,\u001b[0m\n",
       "\u001b[38;5;129m    \u001b[0m\u001b[32m'dataset.hf::trending21'\u001b[0m\u001b[38;5;129m,\u001b[0m\n",
       "\u001b[38;5;129m    \u001b[0m\u001b[32m'dataset.hf::mumbai6'\u001b[0m\u001b[38;5;129m,\u001b[0m\n",
       "\u001b[38;5;129m    \u001b[0m\u001b[32m'dataset.hf::yami72'\u001b[0m\u001b[38;5;129m,\u001b[0m\n",
       "\u001b[38;5;129m    \u001b[0m\u001b[32m'dataset::googledatasets26'\u001b[0m\n",
       "\u001b[1;38;5;129m]\u001b[0m\n",
       "\u001b[33m...\u001b[0m\n"
      ]
     },
     "metadata": {},
     "output_type": "display_data"
    }
   ],
   "source": [
    "servers = {}\n",
    "for prefix in ['model', 'dataset']:\n",
    "    servers = c.servers(prefix, network='subspace')\n",
    "    c.print(f'Found {len(servers)} servers that starts with {prefix}', color='white')\n",
    "\n",
    "    c.print('Servers: ', servers[:10], '...', color='purple')\n",
    "\n"
   ]
  },
  {
   "cell_type": "code",
   "execution_count": null,
   "metadata": {},
   "outputs": [],
   "source": []
  }
 ],
 "metadata": {
  "kernelspec": {
   "display_name": "Python 3",
   "language": "python",
   "name": "python3"
  },
  "language_info": {
   "codemirror_mode": {
    "name": "ipython",
    "version": 3
   },
   "file_extension": ".py",
   "mimetype": "text/x-python",
   "name": "python",
   "nbconvert_exporter": "python",
   "pygments_lexer": "ipython3",
   "version": "3.10.12"
  },
  "orig_nbformat": 4
 },
 "nbformat": 4,
 "nbformat_minor": 2
}

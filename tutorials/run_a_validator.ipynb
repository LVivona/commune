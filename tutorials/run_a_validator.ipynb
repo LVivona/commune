{
 "cells": [
  {
   "cell_type": "code",
   "execution_count": 2,
   "metadata": {},
   "outputs": [],
   "source": [
    "import commune as c"
   ]
  },
  {
   "cell_type": "code",
   "execution_count": 3,
   "metadata": {},
   "outputs": [
    {
     "data": {
      "text/html": [
       "<pre style=\"white-space:pre;overflow-x:auto;line-height:normal;font-family:Menlo,'DejaVu Sans Mono',consolas,'Courier New',monospace\"><span style=\"font-weight: bold\">{</span>\n",
       "    <span style=\"color: #008000; text-decoration-color: #008000\">'key'</span>: <span style=\"color: #800080; text-decoration-color: #800080; font-style: italic\">None</span>,\n",
       "    <span style=\"color: #008000; text-decoration-color: #008000\">'network'</span>: <span style=\"color: #008000; text-decoration-color: #008000\">'subspace'</span>,\n",
       "    <span style=\"color: #008000; text-decoration-color: #008000\">'sleep'</span>: <span style=\"color: #008080; text-decoration-color: #008080; font-weight: bold\">0.1</span>,\n",
       "    <span style=\"color: #008000; text-decoration-color: #008000\">'load'</span>: <span style=\"color: #ff0000; text-decoration-color: #ff0000; font-style: italic\">False</span>,\n",
       "    <span style=\"color: #008000; text-decoration-color: #008000\">'stats'</span>: <span style=\"font-weight: bold\">{}</span>,\n",
       "    <span style=\"color: #008000; text-decoration-color: #008000\">'max_stats_history'</span>: <span style=\"color: #008080; text-decoration-color: #008080; font-weight: bold\">100</span>,\n",
       "    <span style=\"color: #008000; text-decoration-color: #008000\">'save_interval'</span>: <span style=\"color: #008080; text-decoration-color: #008080; font-weight: bold\">1000</span>,\n",
       "    <span style=\"color: #008000; text-decoration-color: #008000\">'vote_interval'</span>: <span style=\"color: #008080; text-decoration-color: #008080; font-weight: bold\">1000</span>,\n",
       "    <span style=\"color: #008000; text-decoration-color: #008000\">'alpha'</span>: <span style=\"color: #008080; text-decoration-color: #008080; font-weight: bold\">0.9</span>,\n",
       "    <span style=\"color: #008000; text-decoration-color: #008000\">'timeout'</span>: <span style=\"color: #008080; text-decoration-color: #008080; font-weight: bold\">1</span>,\n",
       "    <span style=\"color: #008000; text-decoration-color: #008000\">'tag'</span>: <span style=\"color: #008000; text-decoration-color: #008000\">'base'</span>,\n",
       "    <span style=\"color: #008000; text-decoration-color: #008000\">'run'</span>: <span style=\"color: #00ff00; text-decoration-color: #00ff00; font-style: italic\">True</span>,\n",
       "    <span style=\"color: #008000; text-decoration-color: #008000\">'num_threads'</span>: <span style=\"color: #008080; text-decoration-color: #008080; font-weight: bold\">0</span>,\n",
       "    <span style=\"color: #008000; text-decoration-color: #008000\">'module_prefix'</span>: <span style=\"color: #008000; text-decoration-color: #008000\">'model.openai'</span>,\n",
       "    <span style=\"color: #008000; text-decoration-color: #008000\">'parallel_jobs'</span>: <span style=\"color: #008080; text-decoration-color: #008080; font-weight: bold\">10</span>,\n",
       "    <span style=\"color: #008000; text-decoration-color: #008000\">'start'</span>: <span style=\"color: #ff0000; text-decoration-color: #ff0000; font-style: italic\">False</span>\n",
       "<span style=\"font-weight: bold\">}</span>\n",
       "</pre>\n"
      ],
      "text/plain": [
       "\u001b[1m{\u001b[0m\n",
       "    \u001b[32m'key'\u001b[0m: \u001b[3;35mNone\u001b[0m,\n",
       "    \u001b[32m'network'\u001b[0m: \u001b[32m'subspace'\u001b[0m,\n",
       "    \u001b[32m'sleep'\u001b[0m: \u001b[1;36m0.1\u001b[0m,\n",
       "    \u001b[32m'load'\u001b[0m: \u001b[3;91mFalse\u001b[0m,\n",
       "    \u001b[32m'stats'\u001b[0m: \u001b[1m{\u001b[0m\u001b[1m}\u001b[0m,\n",
       "    \u001b[32m'max_stats_history'\u001b[0m: \u001b[1;36m100\u001b[0m,\n",
       "    \u001b[32m'save_interval'\u001b[0m: \u001b[1;36m1000\u001b[0m,\n",
       "    \u001b[32m'vote_interval'\u001b[0m: \u001b[1;36m1000\u001b[0m,\n",
       "    \u001b[32m'alpha'\u001b[0m: \u001b[1;36m0.9\u001b[0m,\n",
       "    \u001b[32m'timeout'\u001b[0m: \u001b[1;36m1\u001b[0m,\n",
       "    \u001b[32m'tag'\u001b[0m: \u001b[32m'base'\u001b[0m,\n",
       "    \u001b[32m'run'\u001b[0m: \u001b[3;92mTrue\u001b[0m,\n",
       "    \u001b[32m'num_threads'\u001b[0m: \u001b[1;36m0\u001b[0m,\n",
       "    \u001b[32m'module_prefix'\u001b[0m: \u001b[32m'model.openai'\u001b[0m,\n",
       "    \u001b[32m'parallel_jobs'\u001b[0m: \u001b[1;36m10\u001b[0m,\n",
       "    \u001b[32m'start'\u001b[0m: \u001b[3;91mFalse\u001b[0m\n",
       "\u001b[1m}\u001b[0m\n"
      ]
     },
     "metadata": {},
     "output_type": "display_data"
    }
   ],
   "source": [
    "vali = c.module('vali')\n",
    "\n",
    "c.print(vali.config(to_munch=False))"
   ]
  },
  {
   "cell_type": "code",
   "execution_count": 4,
   "metadata": {},
   "outputs": [],
   "source": [
    "v = vali()"
   ]
  },
  {
   "cell_type": "markdown",
   "metadata": {},
   "source": [
    "### Evaluate Module"
   ]
  },
  {
   "cell_type": "code",
   "execution_count": 5,
   "metadata": {},
   "outputs": [
    {
     "data": {
      "text/html": [
       "<pre style=\"white-space:pre;overflow-x:auto;line-height:normal;font-family:Menlo,'DejaVu Sans Mono',consolas,'Courier New',monospace\"><span style=\"color: #800000; text-decoration-color: #800000\">modul</span><span style=\"color: #00ff00; text-decoration-color: #00ff00; font-weight: bold\">e::e</span><span style=\"color: #800000; text-decoration-color: #800000\">inh6::info ERROR 💥 </span><span style=\"color: #800000; text-decoration-color: #800000; font-weight: bold\">{</span><span style=\"color: #008000; text-decoration-color: #008000\">'error'</span><span style=\"color: #800000; text-decoration-color: #800000\">: </span><span style=\"color: #008000; text-decoration-color: #008000\">'Cannot connect to host none:50084 ssl:default [Name or service not known]'</span><span style=\"color: #800000; text-decoration-color: #800000; font-weight: bold\">}</span>\n",
       "<span style=\"color: #800000; text-decoration-color: #800000\">💥 -&gt; W : </span><span style=\"color: #008080; text-decoration-color: #008080; font-weight: bold\">0</span>\n",
       "</pre>\n"
      ],
      "text/plain": [
       "\u001b[31mmodul\u001b[0m\u001b[1;92me::e\u001b[0m\u001b[31minh6::info ERROR 💥 \u001b[0m\u001b[1;31m{\u001b[0m\u001b[32m'error'\u001b[0m\u001b[31m: \u001b[0m\u001b[32m'Cannot connect to host none:50084 ssl:default \u001b[0m\u001b[32m[\u001b[0m\u001b[32mName or service not known\u001b[0m\u001b[32m]\u001b[0m\u001b[32m'\u001b[0m\u001b[1;31m}\u001b[0m\n",
       "\u001b[31m💥 -> W : \u001b[0m\u001b[1;36m0\u001b[0m\n"
      ]
     },
     "metadata": {},
     "output_type": "display_data"
    },
    {
     "data": {
      "text/html": [
       "<pre style=\"white-space:pre;overflow-x:auto;line-height:normal;font-family:Menlo,'DejaVu Sans Mono',consolas,'Courier New',monospace\"><span style=\"color: #c0c0c0; text-decoration-color: #c0c0c0\">Saving stats to base</span>\n",
       "</pre>\n"
      ],
      "text/plain": [
       "\u001b[37mSaving stats to base\u001b[0m\n"
      ]
     },
     "metadata": {},
     "output_type": "display_data"
    },
    {
     "data": {
      "text/html": [
       "<pre style=\"white-space:pre;overflow-x:auto;line-height:normal;font-family:Menlo,'DejaVu Sans Mono',consolas,'Courier New',monospace\"><span style=\"color: #800000; text-decoration-color: #800000\">dataset.hf::mumbai32::info ERROR 💥 </span><span style=\"color: #800000; text-decoration-color: #800000; font-weight: bold\">{</span><span style=\"color: #008000; text-decoration-color: #008000\">'error'</span><span style=\"color: #800000; text-decoration-color: #800000\">: </span><span style=\"color: #008000; text-decoration-color: #008000\">'Cannot connect to host none:50104 ssl:default [Name or service not </span>\n",
       "<span style=\"color: #008000; text-decoration-color: #008000\">known]'</span><span style=\"color: #800000; text-decoration-color: #800000; font-weight: bold\">}</span><span style=\"color: #800000; text-decoration-color: #800000\"> 💥 -&gt; W : </span><span style=\"color: #008080; text-decoration-color: #008080; font-weight: bold\">0</span>\n",
       "</pre>\n"
      ],
      "text/plain": [
       "\u001b[31mdataset.hf::mumbai32::info ERROR 💥 \u001b[0m\u001b[1;31m{\u001b[0m\u001b[32m'error'\u001b[0m\u001b[31m: \u001b[0m\u001b[32m'Cannot connect to host none:50104 ssl:default \u001b[0m\u001b[32m[\u001b[0m\u001b[32mName or service not \u001b[0m\n",
       "\u001b[32mknown\u001b[0m\u001b[32m]\u001b[0m\u001b[32m'\u001b[0m\u001b[1;31m}\u001b[0m\u001b[31m 💥 -> W : \u001b[0m\u001b[1;36m0\u001b[0m\n"
      ]
     },
     "metadata": {},
     "output_type": "display_data"
    },
    {
     "data": {
      "text/html": [
       "<pre style=\"white-space:pre;overflow-x:auto;line-height:normal;font-family:Menlo,'DejaVu Sans Mono',consolas,'Courier New',monospace\"><span style=\"color: #c0c0c0; text-decoration-color: #c0c0c0\">Saving stats to base</span>\n",
       "</pre>\n"
      ],
      "text/plain": [
       "\u001b[37mSaving stats to base\u001b[0m\n"
      ]
     },
     "metadata": {},
     "output_type": "display_data"
    },
    {
     "data": {
      "text/html": [
       "<pre style=\"white-space:pre;overflow-x:auto;line-height:normal;font-family:Menlo,'DejaVu Sans Mono',consolas,'Courier New',monospace\"><span style=\"color: #800000; text-decoration-color: #800000\">dataset.hf::textgeneration15::info ERROR 💥 </span><span style=\"color: #800000; text-decoration-color: #800000; font-weight: bold\">{</span><span style=\"color: #008000; text-decoration-color: #008000\">'error'</span><span style=\"color: #800000; text-decoration-color: #800000\">: </span><span style=\"color: #008000; text-decoration-color: #008000\">'Cannot connect to host none:50065 ssl:default [Name or </span>\n",
       "<span style=\"color: #008000; text-decoration-color: #008000\">service not known]'</span><span style=\"color: #800000; text-decoration-color: #800000; font-weight: bold\">}</span><span style=\"color: #800000; text-decoration-color: #800000\"> 💥 -&gt; W : </span><span style=\"color: #008080; text-decoration-color: #008080; font-weight: bold\">0</span>\n",
       "</pre>\n"
      ],
      "text/plain": [
       "\u001b[31mdataset.hf::textgeneration15::info ERROR 💥 \u001b[0m\u001b[1;31m{\u001b[0m\u001b[32m'error'\u001b[0m\u001b[31m: \u001b[0m\u001b[32m'Cannot connect to host none:50065 ssl:default \u001b[0m\u001b[32m[\u001b[0m\u001b[32mName or \u001b[0m\n",
       "\u001b[32mservice not known\u001b[0m\u001b[32m]\u001b[0m\u001b[32m'\u001b[0m\u001b[1;31m}\u001b[0m\u001b[31m 💥 -> W : \u001b[0m\u001b[1;36m0\u001b[0m\n"
      ]
     },
     "metadata": {},
     "output_type": "display_data"
    },
    {
     "data": {
      "text/html": [
       "<pre style=\"white-space:pre;overflow-x:auto;line-height:normal;font-family:Menlo,'DejaVu Sans Mono',consolas,'Courier New',monospace\"><span style=\"color: #800000; text-decoration-color: #800000\">dataset::datahub28::info ERROR 💥 </span><span style=\"color: #800000; text-decoration-color: #800000; font-weight: bold\">{</span><span style=\"color: #008000; text-decoration-color: #008000\">'error'</span><span style=\"color: #800000; text-decoration-color: #800000\">: </span><span style=\"color: #008000; text-decoration-color: #008000\">'Cannot connect to host none:50127 ssl:default [Name or service not </span>\n",
       "<span style=\"color: #008000; text-decoration-color: #008000\">known]'</span><span style=\"color: #800000; text-decoration-color: #800000; font-weight: bold\">}</span><span style=\"color: #800000; text-decoration-color: #800000\"> 💥 -&gt; W : </span><span style=\"color: #008080; text-decoration-color: #008080; font-weight: bold\">0</span>\n",
       "</pre>\n"
      ],
      "text/plain": [
       "\u001b[31mdataset::datahub28::info ERROR 💥 \u001b[0m\u001b[1;31m{\u001b[0m\u001b[32m'error'\u001b[0m\u001b[31m: \u001b[0m\u001b[32m'Cannot connect to host none:50127 ssl:default \u001b[0m\u001b[32m[\u001b[0m\u001b[32mName or service not \u001b[0m\n",
       "\u001b[32mknown\u001b[0m\u001b[32m]\u001b[0m\u001b[32m'\u001b[0m\u001b[1;31m}\u001b[0m\u001b[31m 💥 -> W : \u001b[0m\u001b[1;36m0\u001b[0m\n"
      ]
     },
     "metadata": {},
     "output_type": "display_data"
    },
    {
     "data": {
      "text/html": [
       "<pre style=\"white-space:pre;overflow-x:auto;line-height:normal;font-family:Menlo,'DejaVu Sans Mono',consolas,'Courier New',monospace\"><span style=\"color: #c0c0c0; text-decoration-color: #c0c0c0\">Saving stats to base</span>\n",
       "</pre>\n"
      ],
      "text/plain": [
       "\u001b[37mSaving stats to base\u001b[0m\n"
      ]
     },
     "metadata": {},
     "output_type": "display_data"
    },
    {
     "data": {
      "text/html": [
       "<pre style=\"white-space:pre;overflow-x:auto;line-height:normal;font-family:Menlo,'DejaVu Sans Mono',consolas,'Courier New',monospace\"><span style=\"color: #800000; text-decoration-color: #800000\">dataset::ucirepository20::info ERROR 💥 </span><span style=\"color: #800000; text-decoration-color: #800000; font-weight: bold\">{</span><span style=\"color: #008000; text-decoration-color: #008000\">'error'</span><span style=\"color: #800000; text-decoration-color: #800000\">: </span><span style=\"color: #008000; text-decoration-color: #008000\">'Cannot connect to host none:50120 ssl:default [Name or service </span>\n",
       "<span style=\"color: #008000; text-decoration-color: #008000\">not known]'</span><span style=\"color: #800000; text-decoration-color: #800000; font-weight: bold\">}</span><span style=\"color: #800000; text-decoration-color: #800000\"> 💥 -&gt; W : </span><span style=\"color: #008080; text-decoration-color: #008080; font-weight: bold\">0</span>\n",
       "</pre>\n"
      ],
      "text/plain": [
       "\u001b[31mdataset::ucirepository20::info ERROR 💥 \u001b[0m\u001b[1;31m{\u001b[0m\u001b[32m'error'\u001b[0m\u001b[31m: \u001b[0m\u001b[32m'Cannot connect to host none:50120 ssl:default \u001b[0m\u001b[32m[\u001b[0m\u001b[32mName or service \u001b[0m\n",
       "\u001b[32mnot known\u001b[0m\u001b[32m]\u001b[0m\u001b[32m'\u001b[0m\u001b[1;31m}\u001b[0m\u001b[31m 💥 -> W : \u001b[0m\u001b[1;36m0\u001b[0m\n"
      ]
     },
     "metadata": {},
     "output_type": "display_data"
    },
    {
     "data": {
      "text/html": [
       "<pre style=\"white-space:pre;overflow-x:auto;line-height:normal;font-family:Menlo,'DejaVu Sans Mono',consolas,'Courier New',monospace\"><span style=\"color: #c0c0c0; text-decoration-color: #c0c0c0\">Saving stats to base</span>\n",
       "</pre>\n"
      ],
      "text/plain": [
       "\u001b[37mSaving stats to base\u001b[0m\n"
      ]
     },
     "metadata": {},
     "output_type": "display_data"
    },
    {
     "data": {
      "text/html": [
       "<pre style=\"white-space:pre;overflow-x:auto;line-height:normal;font-family:Menlo,'DejaVu Sans Mono',consolas,'Courier New',monospace\"><span style=\"color: #800000; text-decoration-color: #800000\">dataset::mostdownloaded19::info ERROR 💥 </span><span style=\"color: #800000; text-decoration-color: #800000; font-weight: bold\">{</span><span style=\"color: #008000; text-decoration-color: #008000\">'error'</span><span style=\"color: #800000; text-decoration-color: #800000\">: </span><span style=\"color: #008000; text-decoration-color: #008000\">\"Cannot connect to host 0.0.0.0:50080 ssl:default [Connect call </span>\n",
       "<span style=\"color: #008000; text-decoration-color: #008000\">failed ('0.0.0.0', 50080)]\"</span><span style=\"color: #800000; text-decoration-color: #800000; font-weight: bold\">}</span><span style=\"color: #800000; text-decoration-color: #800000\"> 💥 -&gt; W : </span><span style=\"color: #008080; text-decoration-color: #008080; font-weight: bold\">0</span>\n",
       "</pre>\n"
      ],
      "text/plain": [
       "\u001b[31mdataset::mostdownloaded19::info ERROR 💥 \u001b[0m\u001b[1;31m{\u001b[0m\u001b[32m'error'\u001b[0m\u001b[31m: \u001b[0m\u001b[32m\"Cannot connect to host 0.0.0.0:50080 ssl:default \u001b[0m\u001b[32m[\u001b[0m\u001b[32mConnect call \u001b[0m\n",
       "\u001b[32mfailed \u001b[0m\u001b[32m(\u001b[0m\u001b[32m'0.0.0.0', 50080\u001b[0m\u001b[32m)\u001b[0m\u001b[32m]\u001b[0m\u001b[32m\"\u001b[0m\u001b[1;31m}\u001b[0m\u001b[31m 💥 -> W : \u001b[0m\u001b[1;36m0\u001b[0m\n"
      ]
     },
     "metadata": {},
     "output_type": "display_data"
    },
    {
     "data": {
      "text/html": [
       "<pre style=\"white-space:pre;overflow-x:auto;line-height:normal;font-family:Menlo,'DejaVu Sans Mono',consolas,'Courier New',monospace\"><span style=\"color: #800000; text-decoration-color: #800000\">module::hook37::info ERROR 💥 </span><span style=\"color: #800000; text-decoration-color: #800000; font-weight: bold\">{</span><span style=\"color: #008000; text-decoration-color: #008000\">'error'</span><span style=\"color: #800000; text-decoration-color: #800000\">: </span><span style=\"color: #008000; text-decoration-color: #008000\">'Cannot connect to host none:50133 ssl:default [Name or service not </span>\n",
       "<span style=\"color: #008000; text-decoration-color: #008000\">known]'</span><span style=\"color: #800000; text-decoration-color: #800000; font-weight: bold\">}</span><span style=\"color: #800000; text-decoration-color: #800000\"> 💥 -&gt; W : </span><span style=\"color: #008080; text-decoration-color: #008080; font-weight: bold\">0</span>\n",
       "</pre>\n"
      ],
      "text/plain": [
       "\u001b[31mmodule::hook37::info ERROR 💥 \u001b[0m\u001b[1;31m{\u001b[0m\u001b[32m'error'\u001b[0m\u001b[31m: \u001b[0m\u001b[32m'Cannot connect to host none:50133 ssl:default \u001b[0m\u001b[32m[\u001b[0m\u001b[32mName or service not \u001b[0m\n",
       "\u001b[32mknown\u001b[0m\u001b[32m]\u001b[0m\u001b[32m'\u001b[0m\u001b[1;31m}\u001b[0m\u001b[31m 💥 -> W : \u001b[0m\u001b[1;36m0\u001b[0m\n"
      ]
     },
     "metadata": {},
     "output_type": "display_data"
    },
    {
     "data": {
      "text/html": [
       "<pre style=\"white-space:pre;overflow-x:auto;line-height:normal;font-family:Menlo,'DejaVu Sans Mono',consolas,'Courier New',monospace\"><span style=\"color: #800000; text-decoration-color: #800000\">dataset.hf::trending24::info ERROR 💥 </span><span style=\"color: #800000; text-decoration-color: #800000; font-weight: bold\">{</span><span style=\"color: #008000; text-decoration-color: #008000\">'error'</span><span style=\"color: #800000; text-decoration-color: #800000\">: </span><span style=\"color: #008000; text-decoration-color: #008000\">'Cannot connect to host none:50117 ssl:default [Name or service not</span>\n",
       "<span style=\"color: #008000; text-decoration-color: #008000\">known]'</span><span style=\"color: #800000; text-decoration-color: #800000; font-weight: bold\">}</span><span style=\"color: #800000; text-decoration-color: #800000\"> 💥 -&gt; W : </span><span style=\"color: #008080; text-decoration-color: #008080; font-weight: bold\">0</span>\n",
       "</pre>\n"
      ],
      "text/plain": [
       "\u001b[31mdataset.hf::trending24::info ERROR 💥 \u001b[0m\u001b[1;31m{\u001b[0m\u001b[32m'error'\u001b[0m\u001b[31m: \u001b[0m\u001b[32m'Cannot connect to host none:50117 ssl:default \u001b[0m\u001b[32m[\u001b[0m\u001b[32mName or service not\u001b[0m\n",
       "\u001b[32mknown\u001b[0m\u001b[32m]\u001b[0m\u001b[32m'\u001b[0m\u001b[1;31m}\u001b[0m\u001b[31m 💥 -> W : \u001b[0m\u001b[1;36m0\u001b[0m\n"
      ]
     },
     "metadata": {},
     "output_type": "display_data"
    },
    {
     "data": {
      "text/html": [
       "<pre style=\"white-space:pre;overflow-x:auto;line-height:normal;font-family:Menlo,'DejaVu Sans Mono',consolas,'Courier New',monospace\"><span style=\"color: #c0c0c0; text-decoration-color: #c0c0c0\">Saving stats to base</span>\n",
       "</pre>\n"
      ],
      "text/plain": [
       "\u001b[37mSaving stats to base\u001b[0m\n"
      ]
     },
     "metadata": {},
     "output_type": "display_data"
    },
    {
     "data": {
      "text/html": [
       "<pre style=\"white-space:pre;overflow-x:auto;line-height:normal;font-family:Menlo,'DejaVu Sans Mono',consolas,'Courier New',monospace\"><span style=\"color: #800000; text-decoration-color: #800000\">dataset.hf::textclassificaiton46::info ERROR 💥 </span><span style=\"color: #800000; text-decoration-color: #800000; font-weight: bold\">{</span><span style=\"color: #008000; text-decoration-color: #008000\">'error'</span><span style=\"color: #800000; text-decoration-color: #800000\">: </span><span style=\"color: #008000; text-decoration-color: #008000\">'Cannot connect to host none:50108 ssl:default [Name or </span>\n",
       "<span style=\"color: #008000; text-decoration-color: #008000\">service not known]'</span><span style=\"color: #800000; text-decoration-color: #800000; font-weight: bold\">}</span><span style=\"color: #800000; text-decoration-color: #800000\"> 💥 -&gt; W : </span><span style=\"color: #008080; text-decoration-color: #008080; font-weight: bold\">0</span>\n",
       "</pre>\n"
      ],
      "text/plain": [
       "\u001b[31mdataset.hf::textclassificaiton46::info ERROR 💥 \u001b[0m\u001b[1;31m{\u001b[0m\u001b[32m'error'\u001b[0m\u001b[31m: \u001b[0m\u001b[32m'Cannot connect to host none:50108 ssl:default \u001b[0m\u001b[32m[\u001b[0m\u001b[32mName or \u001b[0m\n",
       "\u001b[32mservice not known\u001b[0m\u001b[32m]\u001b[0m\u001b[32m'\u001b[0m\u001b[1;31m}\u001b[0m\u001b[31m 💥 -> W : \u001b[0m\u001b[1;36m0\u001b[0m\n"
      ]
     },
     "metadata": {},
     "output_type": "display_data"
    },
    {
     "data": {
      "text/html": [
       "<pre style=\"white-space:pre;overflow-x:auto;line-height:normal;font-family:Menlo,'DejaVu Sans Mono',consolas,'Courier New',monospace\"><span style=\"color: #800000; text-decoration-color: #800000\">dataset.h</span><span style=\"color: #00ff00; text-decoration-color: #00ff00; font-weight: bold\">f::f</span><span style=\"color: #800000; text-decoration-color: #800000\">illmask10::info ERROR 💥 </span><span style=\"color: #800000; text-decoration-color: #800000; font-weight: bold\">{</span><span style=\"color: #008000; text-decoration-color: #008000\">'error'</span><span style=\"color: #800000; text-decoration-color: #800000\">: </span><span style=\"color: #008000; text-decoration-color: #008000\">'Cannot connect to host none:50081 ssl:default [Name or service not</span>\n",
       "<span style=\"color: #008000; text-decoration-color: #008000\">known]'</span><span style=\"color: #800000; text-decoration-color: #800000; font-weight: bold\">}</span><span style=\"color: #800000; text-decoration-color: #800000\"> 💥 -&gt; W : </span><span style=\"color: #008080; text-decoration-color: #008080; font-weight: bold\">0</span>\n",
       "</pre>\n"
      ],
      "text/plain": [
       "\u001b[31mdataset.h\u001b[0m\u001b[1;92mf::f\u001b[0m\u001b[31millmask10::info ERROR 💥 \u001b[0m\u001b[1;31m{\u001b[0m\u001b[32m'error'\u001b[0m\u001b[31m: \u001b[0m\u001b[32m'Cannot connect to host none:50081 ssl:default \u001b[0m\u001b[32m[\u001b[0m\u001b[32mName or service not\u001b[0m\n",
       "\u001b[32mknown\u001b[0m\u001b[32m]\u001b[0m\u001b[32m'\u001b[0m\u001b[1;31m}\u001b[0m\u001b[31m 💥 -> W : \u001b[0m\u001b[1;36m0\u001b[0m\n"
      ]
     },
     "metadata": {},
     "output_type": "display_data"
    },
    {
     "data": {
      "text/html": [
       "<pre style=\"white-space:pre;overflow-x:auto;line-height:normal;font-family:Menlo,'DejaVu Sans Mono',consolas,'Courier New',monospace\"><span style=\"color: #c0c0c0; text-decoration-color: #c0c0c0\">Saving stats to base</span>\n",
       "</pre>\n"
      ],
      "text/plain": [
       "\u001b[37mSaving stats to base\u001b[0m\n"
      ]
     },
     "metadata": {},
     "output_type": "display_data"
    }
   ],
   "source": [
    "# this selects a random module to evaluate\n",
    "\n",
    "with c.timer():\n",
    "    for i in range(10):\n",
    "        v.eval_module()\n",
    "\n"
   ]
  },
  {
   "cell_type": "markdown",
   "metadata": {},
   "source": []
  },
  {
   "cell_type": "code",
   "execution_count": 6,
   "metadata": {},
   "outputs": [
    {
     "data": {
      "text/html": [
       "<pre style=\"white-space:pre;overflow-x:auto;line-height:normal;font-family:Menlo,'DejaVu Sans Mono',consolas,'Courier New',monospace\">    def <span style=\"color: #800080; text-decoration-color: #800080; font-weight: bold\">eval_module</span><span style=\"font-weight: bold\">(</span>self, module = <span style=\"color: #800080; text-decoration-color: #800080; font-style: italic\">None</span>, <span style=\"color: #808000; text-decoration-color: #808000\">fn</span>=<span style=\"color: #008000; text-decoration-color: #008000\">'info'</span>, args = <span style=\"color: #800080; text-decoration-color: #800080; font-style: italic\">None</span>, <span style=\"color: #808000; text-decoration-color: #808000\">kwargs</span>=<span style=\"color: #800080; text-decoration-color: #800080; font-style: italic\">None</span>, <span style=\"font-weight: bold\">)</span>:\n",
       "        return <span style=\"color: #800080; text-decoration-color: #800080; font-weight: bold\">c.gather</span><span style=\"font-weight: bold\">(</span><span style=\"color: #800080; text-decoration-color: #800080; font-weight: bold\">self.async_eval_module</span><span style=\"font-weight: bold\">(</span><span style=\"color: #808000; text-decoration-color: #808000\">module</span>=<span style=\"color: #800080; text-decoration-color: #800080\">module</span>, <span style=\"color: #808000; text-decoration-color: #808000\">fn</span>=<span style=\"color: #800080; text-decoration-color: #800080\">fn</span>, <span style=\"color: #808000; text-decoration-color: #808000\">args</span>=<span style=\"color: #800080; text-decoration-color: #800080\">args</span>, <span style=\"color: #808000; text-decoration-color: #808000\">kwargs</span>=<span style=\"color: #800080; text-decoration-color: #800080\">kwargs</span><span style=\"font-weight: bold\">))</span>\n",
       "\n",
       "</pre>\n"
      ],
      "text/plain": [
       "    def \u001b[1;35meval_module\u001b[0m\u001b[1m(\u001b[0mself, module = \u001b[3;35mNone\u001b[0m, \u001b[33mfn\u001b[0m=\u001b[32m'info'\u001b[0m, args = \u001b[3;35mNone\u001b[0m, \u001b[33mkwargs\u001b[0m=\u001b[3;35mNone\u001b[0m, \u001b[1m)\u001b[0m:\n",
       "        return \u001b[1;35mc.gather\u001b[0m\u001b[1m(\u001b[0m\u001b[1;35mself.async_eval_module\u001b[0m\u001b[1m(\u001b[0m\u001b[33mmodule\u001b[0m=\u001b[35mmodule\u001b[0m, \u001b[33mfn\u001b[0m=\u001b[35mfn\u001b[0m, \u001b[33margs\u001b[0m=\u001b[35margs\u001b[0m, \u001b[33mkwargs\u001b[0m=\u001b[35mkwargs\u001b[0m\u001b[1m)\u001b[0m\u001b[1m)\u001b[0m\n",
       "\n"
      ]
     },
     "metadata": {},
     "output_type": "display_data"
    },
    {
     "data": {
      "text/html": [
       "<pre style=\"white-space:pre;overflow-x:auto;line-height:normal;font-family:Menlo,'DejaVu Sans Mono',consolas,'Courier New',monospace\">    async def <span style=\"color: #800080; text-decoration-color: #800080; font-weight: bold\">async_eval_module</span><span style=\"font-weight: bold\">(</span>self, module = <span style=\"color: #800080; text-decoration-color: #800080; font-style: italic\">None</span>, <span style=\"color: #808000; text-decoration-color: #808000\">fn</span>=<span style=\"color: #008000; text-decoration-color: #008000\">'info'</span>, args = <span style=\"color: #800080; text-decoration-color: #800080; font-style: italic\">None</span>, <span style=\"color: #808000; text-decoration-color: #808000\">kwargs</span>=<span style=\"color: #800080; text-decoration-color: #800080; font-style: italic\">None</span>, <span style=\"font-weight: bold\">)</span>:\n",
       "\n",
       "        if args == <span style=\"color: #800080; text-decoration-color: #800080; font-style: italic\">None</span>:\n",
       "            args = <span style=\"font-weight: bold\">[]</span>\n",
       "        if kwargs == <span style=\"color: #800080; text-decoration-color: #800080; font-style: italic\">None</span>:\n",
       "            kwargs = <span style=\"font-weight: bold\">{</span><span style=\"color: #008000; text-decoration-color: #008000\">'timeout'</span>: self.config.timeout<span style=\"font-weight: bold\">}</span>\n",
       "\n",
       "        if  kwargs == <span style=\"color: #800080; text-decoration-color: #800080; font-style: italic\">None</span>:\n",
       "            kwargs = <span style=\"font-weight: bold\">{}</span>\n",
       "        if args == <span style=\"color: #800080; text-decoration-color: #800080; font-style: italic\">None</span>:\n",
       "            args = <span style=\"font-weight: bold\">[]</span>\n",
       "\n",
       "        if module == <span style=\"color: #800080; text-decoration-color: #800080; font-style: italic\">None</span>:\n",
       "            module = <span style=\"color: #800080; text-decoration-color: #800080; font-weight: bold\">c.choice</span><span style=\"font-weight: bold\">(</span>self.module_names<span style=\"font-weight: bold\">)</span>\n",
       "        module_state = self.name2module\n",
       "        w = <span style=\"color: #008080; text-decoration-color: #008080; font-weight: bold\">1</span>\n",
       "        emojis = c.emojis\n",
       "        try:\n",
       "            # get connection\n",
       "            \n",
       "            module_client = await <span style=\"color: #800080; text-decoration-color: #800080; font-weight: bold\">c.async_connect</span><span style=\"font-weight: bold\">(</span>module_state<span style=\"font-weight: bold\">[</span><span style=\"color: #008000; text-decoration-color: #008000\">'address'</span><span style=\"font-weight: bold\">]</span>, <span style=\"color: #808000; text-decoration-color: #808000\">network</span>=<span style=\"color: #800080; text-decoration-color: #800080\">self</span>.config.network, namespace =\n",
       "self.namespace,<span style=\"color: #808000; text-decoration-color: #808000\">timeout</span>=<span style=\"color: #008080; text-decoration-color: #008080; font-weight: bold\">1</span><span style=\"font-weight: bold\">)</span>\n",
       "            response = await <span style=\"color: #800080; text-decoration-color: #800080; font-weight: bold\">getattr</span><span style=\"font-weight: bold\">(</span>module_client,fn<span style=\"font-weight: bold\">)(</span>*args, **kwargs, <span style=\"color: #808000; text-decoration-color: #808000\">return_future</span>=<span style=\"color: #00ff00; text-decoration-color: #00ff00; font-style: italic\">True</span><span style=\"font-weight: bold\">)</span>\n",
       "            w = <span style=\"color: #800080; text-decoration-color: #800080; font-weight: bold\">self.score_response</span><span style=\"font-weight: bold\">(</span>response<span style=\"font-weight: bold\">)</span>\n",
       "\n",
       "            <span style=\"color: #800080; text-decoration-color: #800080; font-weight: bold\">c.print</span><span style=\"font-weight: bold\">(</span>f'<span style=\"font-weight: bold\">{</span>emojis<span style=\"font-weight: bold\">[</span><span style=\"color: #008000; text-decoration-color: #008000\">\"output\"</span><span style=\"font-weight: bold\">]}</span> ITS LIT <span style=\"font-weight: bold\">{</span>response<span style=\"font-weight: bold\">}</span> <span style=\"font-weight: bold\">{</span>emojis<span style=\"font-weight: bold\">[</span><span style=\"color: #008000; text-decoration-color: #008000\">\"output\"</span><span style=\"font-weight: bold\">]}</span> <span style=\"font-weight: bold\">{</span>emojis<span style=\"font-weight: bold\">[</span><span style=\"color: #008000; text-decoration-color: #008000\">\"dank\"</span><span style=\"font-weight: bold\">]}</span> -&gt; W : <span style=\"font-weight: bold\">{</span>w<span style=\"font-weight: bold\">}</span><span style=\"color: #008000; text-decoration-color: #008000\">', </span>\n",
       "<span style=\"color: #008000; text-decoration-color: #008000\">color='</span>green'<span style=\"font-weight: bold\">)</span>\n",
       "        except Exception as e:\n",
       "            response = <span style=\"font-weight: bold\">{</span><span style=\"color: #008000; text-decoration-color: #008000\">'error'</span>: <span style=\"color: #800080; text-decoration-color: #800080; font-weight: bold\">str</span><span style=\"font-weight: bold\">(</span>e<span style=\"font-weight: bold\">)}</span>\n",
       "            w = <span style=\"color: #008080; text-decoration-color: #008080; font-weight: bold\">0</span>\n",
       "            <span style=\"color: #800080; text-decoration-color: #800080; font-weight: bold\">c.print</span><span style=\"font-weight: bold\">(</span>f'<span style=\"font-weight: bold\">{</span>module<span style=\"font-weight: bold\">}</span>::<span style=\"font-weight: bold\">{</span>fn<span style=\"font-weight: bold\">}</span> ERROR <span style=\"font-weight: bold\">{</span>emojis<span style=\"font-weight: bold\">[</span><span style=\"color: #008000; text-decoration-color: #008000\">\"error\"</span><span style=\"font-weight: bold\">]}</span> <span style=\"font-weight: bold\">{</span>response<span style=\"font-weight: bold\">}</span> <span style=\"font-weight: bold\">{</span>emojis<span style=\"font-weight: bold\">[</span><span style=\"color: #008000; text-decoration-color: #008000\">\"error\"</span><span style=\"font-weight: bold\">]}</span> -&gt; W : <span style=\"font-weight: bold\">{</span>w<span style=\"font-weight: bold\">}</span><span style=\"color: #008000; text-decoration-color: #008000\">', color='</span>red'<span style=\"font-weight: bold\">)</span>\n",
       "            \n",
       "\n",
       "\n",
       "        self.count += <span style=\"color: #008080; text-decoration-color: #008080; font-weight: bold\">1</span>\n",
       "        module_stats = <span style=\"color: #800080; text-decoration-color: #800080; font-weight: bold\">self.stats.get</span><span style=\"font-weight: bold\">(</span>module, module_state<span style=\"font-weight: bold\">)</span>\n",
       "        module_stats<span style=\"font-weight: bold\">[</span><span style=\"color: #008000; text-decoration-color: #008000\">'count'</span><span style=\"font-weight: bold\">]</span> = <span style=\"color: #800080; text-decoration-color: #800080; font-weight: bold\">module_stats.get</span><span style=\"font-weight: bold\">(</span><span style=\"color: #008000; text-decoration-color: #008000\">'count'</span>, <span style=\"color: #008080; text-decoration-color: #008080; font-weight: bold\">0</span><span style=\"font-weight: bold\">)</span> + <span style=\"color: #008080; text-decoration-color: #008080; font-weight: bold\">1</span> # update the count of times this module was hit\n",
       "        module_stats<span style=\"font-weight: bold\">[</span><span style=\"color: #008000; text-decoration-color: #008000\">'w'</span><span style=\"font-weight: bold\">]</span> = <span style=\"color: #800080; text-decoration-color: #800080; font-weight: bold\">module_stats.get</span><span style=\"font-weight: bold\">(</span><span style=\"color: #008000; text-decoration-color: #008000\">'w'</span>, w<span style=\"font-weight: bold\">)</span>*self.config.alpha + w*<span style=\"font-weight: bold\">(</span><span style=\"color: #008080; text-decoration-color: #008080; font-weight: bold\">1</span>-self.config.alpha<span style=\"font-weight: bold\">)</span>\n",
       "\n",
       "        module_stats<span style=\"font-weight: bold\">[</span><span style=\"color: #008000; text-decoration-color: #008000\">'alpha'</span><span style=\"font-weight: bold\">]</span> = self.config.alpha\n",
       "        module_stats<span style=\"font-weight: bold\">[</span><span style=\"color: #008000; text-decoration-color: #008000\">'history'</span><span style=\"font-weight: bold\">]</span> = <span style=\"color: #800080; text-decoration-color: #800080; font-weight: bold\">module_stats.get</span><span style=\"font-weight: bold\">(</span><span style=\"color: #008000; text-decoration-color: #008000\">'history'</span>, <span style=\"font-weight: bold\">[])</span> + <span style=\"font-weight: bold\">[{</span><span style=\"color: #008000; text-decoration-color: #008000\">'input'</span>: <span style=\"color: #800080; text-decoration-color: #800080; font-weight: bold\">dict</span><span style=\"font-weight: bold\">(</span><span style=\"color: #808000; text-decoration-color: #808000\">args</span>=<span style=\"color: #800080; text-decoration-color: #800080\">args</span>, <span style=\"color: #808000; text-decoration-color: #808000\">kwargs</span>=<span style=\"color: #800080; text-decoration-color: #800080\">kwargs</span><span style=\"font-weight: bold\">)</span> \n",
       ",<span style=\"color: #008000; text-decoration-color: #008000\">'output'</span>: response, <span style=\"color: #008000; text-decoration-color: #008000\">'w'</span>: w, <span style=\"color: #008000; text-decoration-color: #008000\">'time'</span>: <span style=\"color: #800080; text-decoration-color: #800080; font-weight: bold\">c.time</span><span style=\"font-weight: bold\">()}]</span>\n",
       "        self.stats = module_stats\n",
       "\n",
       "        if self.config.save_interval % self.count == <span style=\"color: #008080; text-decoration-color: #008080; font-weight: bold\">0</span>:\n",
       "            <span style=\"color: #800080; text-decoration-color: #800080; font-weight: bold\">self.save</span><span style=\"font-weight: bold\">()</span>\n",
       "        return module\n",
       "\n",
       "</pre>\n"
      ],
      "text/plain": [
       "    async def \u001b[1;35masync_eval_module\u001b[0m\u001b[1m(\u001b[0mself, module = \u001b[3;35mNone\u001b[0m, \u001b[33mfn\u001b[0m=\u001b[32m'info'\u001b[0m, args = \u001b[3;35mNone\u001b[0m, \u001b[33mkwargs\u001b[0m=\u001b[3;35mNone\u001b[0m, \u001b[1m)\u001b[0m:\n",
       "\n",
       "        if args == \u001b[3;35mNone\u001b[0m:\n",
       "            args = \u001b[1m[\u001b[0m\u001b[1m]\u001b[0m\n",
       "        if kwargs == \u001b[3;35mNone\u001b[0m:\n",
       "            kwargs = \u001b[1m{\u001b[0m\u001b[32m'timeout'\u001b[0m: self.config.timeout\u001b[1m}\u001b[0m\n",
       "\n",
       "        if  kwargs == \u001b[3;35mNone\u001b[0m:\n",
       "            kwargs = \u001b[1m{\u001b[0m\u001b[1m}\u001b[0m\n",
       "        if args == \u001b[3;35mNone\u001b[0m:\n",
       "            args = \u001b[1m[\u001b[0m\u001b[1m]\u001b[0m\n",
       "\n",
       "        if module == \u001b[3;35mNone\u001b[0m:\n",
       "            module = \u001b[1;35mc.choice\u001b[0m\u001b[1m(\u001b[0mself.module_names\u001b[1m)\u001b[0m\n",
       "        module_state = self.name2module\n",
       "        w = \u001b[1;36m1\u001b[0m\n",
       "        emojis = c.emojis\n",
       "        try:\n",
       "            # get connection\n",
       "            \n",
       "            module_client = await \u001b[1;35mc.async_connect\u001b[0m\u001b[1m(\u001b[0mmodule_state\u001b[1m[\u001b[0m\u001b[32m'address'\u001b[0m\u001b[1m]\u001b[0m, \u001b[33mnetwork\u001b[0m=\u001b[35mself\u001b[0m.config.network, namespace =\n",
       "self.namespace,\u001b[33mtimeout\u001b[0m=\u001b[1;36m1\u001b[0m\u001b[1m)\u001b[0m\n",
       "            response = await \u001b[1;35mgetattr\u001b[0m\u001b[1m(\u001b[0mmodule_client,fn\u001b[1m)\u001b[0m\u001b[1m(\u001b[0m*args, **kwargs, \u001b[33mreturn_future\u001b[0m=\u001b[3;92mTrue\u001b[0m\u001b[1m)\u001b[0m\n",
       "            w = \u001b[1;35mself.score_response\u001b[0m\u001b[1m(\u001b[0mresponse\u001b[1m)\u001b[0m\n",
       "\n",
       "            \u001b[1;35mc.print\u001b[0m\u001b[1m(\u001b[0mf'\u001b[1m{\u001b[0memojis\u001b[1m[\u001b[0m\u001b[32m\"output\"\u001b[0m\u001b[1m]\u001b[0m\u001b[1m}\u001b[0m ITS LIT \u001b[1m{\u001b[0mresponse\u001b[1m}\u001b[0m \u001b[1m{\u001b[0memojis\u001b[1m[\u001b[0m\u001b[32m\"output\"\u001b[0m\u001b[1m]\u001b[0m\u001b[1m}\u001b[0m \u001b[1m{\u001b[0memojis\u001b[1m[\u001b[0m\u001b[32m\"dank\"\u001b[0m\u001b[1m]\u001b[0m\u001b[1m}\u001b[0m -> W : \u001b[1m{\u001b[0mw\u001b[1m}\u001b[0m\u001b[32m', \u001b[0m\n",
       "\u001b[32mcolor\u001b[0m\u001b[32m='\u001b[0mgreen'\u001b[1m)\u001b[0m\n",
       "        except Exception as e:\n",
       "            response = \u001b[1m{\u001b[0m\u001b[32m'error'\u001b[0m: \u001b[1;35mstr\u001b[0m\u001b[1m(\u001b[0me\u001b[1m)\u001b[0m\u001b[1m}\u001b[0m\n",
       "            w = \u001b[1;36m0\u001b[0m\n",
       "            \u001b[1;35mc.print\u001b[0m\u001b[1m(\u001b[0mf'\u001b[1m{\u001b[0mmodule\u001b[1m}\u001b[0m::\u001b[1m{\u001b[0mfn\u001b[1m}\u001b[0m ERROR \u001b[1m{\u001b[0memojis\u001b[1m[\u001b[0m\u001b[32m\"error\"\u001b[0m\u001b[1m]\u001b[0m\u001b[1m}\u001b[0m \u001b[1m{\u001b[0mresponse\u001b[1m}\u001b[0m \u001b[1m{\u001b[0memojis\u001b[1m[\u001b[0m\u001b[32m\"error\"\u001b[0m\u001b[1m]\u001b[0m\u001b[1m}\u001b[0m -> W : \u001b[1m{\u001b[0mw\u001b[1m}\u001b[0m\u001b[32m', \u001b[0m\u001b[32mcolor\u001b[0m\u001b[32m='\u001b[0mred'\u001b[1m)\u001b[0m\n",
       "            \n",
       "\n",
       "\n",
       "        self.count += \u001b[1;36m1\u001b[0m\n",
       "        module_stats = \u001b[1;35mself.stats.get\u001b[0m\u001b[1m(\u001b[0mmodule, module_state\u001b[1m)\u001b[0m\n",
       "        module_stats\u001b[1m[\u001b[0m\u001b[32m'count'\u001b[0m\u001b[1m]\u001b[0m = \u001b[1;35mmodule_stats.get\u001b[0m\u001b[1m(\u001b[0m\u001b[32m'count'\u001b[0m, \u001b[1;36m0\u001b[0m\u001b[1m)\u001b[0m + \u001b[1;36m1\u001b[0m # update the count of times this module was hit\n",
       "        module_stats\u001b[1m[\u001b[0m\u001b[32m'w'\u001b[0m\u001b[1m]\u001b[0m = \u001b[1;35mmodule_stats.get\u001b[0m\u001b[1m(\u001b[0m\u001b[32m'w'\u001b[0m, w\u001b[1m)\u001b[0m*self.config.alpha + w*\u001b[1m(\u001b[0m\u001b[1;36m1\u001b[0m-self.config.alpha\u001b[1m)\u001b[0m\n",
       "\n",
       "        module_stats\u001b[1m[\u001b[0m\u001b[32m'alpha'\u001b[0m\u001b[1m]\u001b[0m = self.config.alpha\n",
       "        module_stats\u001b[1m[\u001b[0m\u001b[32m'history'\u001b[0m\u001b[1m]\u001b[0m = \u001b[1;35mmodule_stats.get\u001b[0m\u001b[1m(\u001b[0m\u001b[32m'history'\u001b[0m, \u001b[1m[\u001b[0m\u001b[1m]\u001b[0m\u001b[1m)\u001b[0m + \u001b[1m[\u001b[0m\u001b[1m{\u001b[0m\u001b[32m'input'\u001b[0m: \u001b[1;35mdict\u001b[0m\u001b[1m(\u001b[0m\u001b[33margs\u001b[0m=\u001b[35margs\u001b[0m, \u001b[33mkwargs\u001b[0m=\u001b[35mkwargs\u001b[0m\u001b[1m)\u001b[0m \n",
       ",\u001b[32m'output'\u001b[0m: response, \u001b[32m'w'\u001b[0m: w, \u001b[32m'time'\u001b[0m: \u001b[1;35mc.time\u001b[0m\u001b[1m(\u001b[0m\u001b[1m)\u001b[0m\u001b[1m}\u001b[0m\u001b[1m]\u001b[0m\n",
       "        self.stats = module_stats\n",
       "\n",
       "        if self.config.save_interval % self.count == \u001b[1;36m0\u001b[0m:\n",
       "            \u001b[1;35mself.save\u001b[0m\u001b[1m(\u001b[0m\u001b[1m)\u001b[0m\n",
       "        return module\n",
       "\n"
      ]
     },
     "metadata": {},
     "output_type": "display_data"
    }
   ],
   "source": [
    "c.print(v.fn_code('eval_module'))\n",
    "\n",
    "c.print(v.fn_code('async_eval_module'))"
   ]
  },
  {
   "cell_type": "code",
   "execution_count": 12,
   "metadata": {},
   "outputs": [
    {
     "data": {
      "text/html": [
       "<pre style=\"white-space:pre;overflow-x:auto;line-height:normal;font-family:Menlo,'DejaVu Sans Mono',consolas,'Courier New',monospace\"><span style=\"font-weight: bold\">{</span>\n",
       "    <span style=\"color: #008000; text-decoration-color: #008000\">'module::einh6'</span>: <span style=\"font-weight: bold\">{</span>\n",
       "        <span style=\"color: #008000; text-decoration-color: #008000\">'uid'</span>: <span style=\"color: #008080; text-decoration-color: #008080; font-weight: bold\">73</span>,\n",
       "        <span style=\"color: #008000; text-decoration-color: #008000\">'name'</span>: <span style=\"color: #008000; text-decoration-color: #008000\">'module::einh6'</span>,\n",
       "        <span style=\"color: #008000; text-decoration-color: #008000\">'key'</span>: <span style=\"color: #008000; text-decoration-color: #008000\">'5DaQxpWdeD2kwVQgQLUceDtuofNtt8i5kesgueeTXAfVvZXH'</span>,\n",
       "        <span style=\"color: #008000; text-decoration-color: #008000\">'balance'</span>: <span style=\"color: #008080; text-decoration-color: #008080; font-weight: bold\">0</span>,\n",
       "        <span style=\"color: #008000; text-decoration-color: #008000\">'address'</span>: <span style=\"color: #008000; text-decoration-color: #008000\">'None:50084'</span>,\n",
       "        <span style=\"color: #008000; text-decoration-color: #008000\">'incentive'</span>: <span style=\"color: #008080; text-decoration-color: #008080; font-weight: bold\">0.0009613037109375</span>,\n",
       "        <span style=\"color: #008000; text-decoration-color: #008000\">'dividends'</span>: <span style=\"color: #008080; text-decoration-color: #008080; font-weight: bold\">0.0009613037109375</span>,\n",
       "        <span style=\"color: #008000; text-decoration-color: #008000\">'stake'</span>: <span style=\"color: #008080; text-decoration-color: #008080; font-weight: bold\">15632101461</span>,\n",
       "        <span style=\"color: #008000; text-decoration-color: #008000\">'emission'</span>: <span style=\"color: #008080; text-decoration-color: #008080; font-weight: bold\">3906250</span>,\n",
       "        <span style=\"color: #008000; text-decoration-color: #008000\">'count'</span>: <span style=\"color: #008080; text-decoration-color: #008080; font-weight: bold\">1</span>,\n",
       "        <span style=\"color: #008000; text-decoration-color: #008000\">'w'</span>: <span style=\"color: #008080; text-decoration-color: #008080; font-weight: bold\">0.0</span>,\n",
       "        <span style=\"color: #008000; text-decoration-color: #008000\">'alpha'</span>: <span style=\"color: #008080; text-decoration-color: #008080; font-weight: bold\">0.9</span>,\n",
       "        <span style=\"color: #008000; text-decoration-color: #008000\">'history'</span>: <span style=\"font-weight: bold\">[</span>\n",
       "            <span style=\"font-weight: bold\">{</span>\n",
       "                <span style=\"color: #008000; text-decoration-color: #008000\">'input'</span>: <span style=\"font-weight: bold\">{</span><span style=\"color: #008000; text-decoration-color: #008000\">'args'</span>: <span style=\"font-weight: bold\">[]</span>, <span style=\"color: #008000; text-decoration-color: #008000\">'kwargs'</span>: <span style=\"font-weight: bold\">{</span><span style=\"color: #008000; text-decoration-color: #008000\">'timeout'</span>: <span style=\"color: #008080; text-decoration-color: #008080; font-weight: bold\">1</span><span style=\"font-weight: bold\">}}</span>,\n",
       "                <span style=\"color: #008000; text-decoration-color: #008000\">'output'</span>: <span style=\"font-weight: bold\">{</span><span style=\"color: #008000; text-decoration-color: #008000\">'error'</span>: <span style=\"color: #008000; text-decoration-color: #008000\">'Cannot connect to host none:50084 ssl:default [Name or service not known]'</span><span style=\"font-weight: bold\">}</span>,\n",
       "                <span style=\"color: #008000; text-decoration-color: #008000\">'w'</span>: <span style=\"color: #008080; text-decoration-color: #008080; font-weight: bold\">0</span>,\n",
       "                <span style=\"color: #008000; text-decoration-color: #008000\">'time'</span>: <span style=\"color: #008080; text-decoration-color: #008080; font-weight: bold\">1691037495.0872767</span>\n",
       "            <span style=\"font-weight: bold\">}</span>\n",
       "        <span style=\"font-weight: bold\">]</span>\n",
       "    <span style=\"font-weight: bold\">}</span>,\n",
       "    <span style=\"color: #008000; text-decoration-color: #008000\">'dataset.hf::mumbai32'</span>: <span style=\"font-weight: bold\">{</span>\n",
       "        <span style=\"color: #008000; text-decoration-color: #008000\">'uid'</span>: <span style=\"color: #008080; text-decoration-color: #008080; font-weight: bold\">615</span>,\n",
       "        <span style=\"color: #008000; text-decoration-color: #008000\">'name'</span>: <span style=\"color: #008000; text-decoration-color: #008000\">'dataset.hf::mumbai32'</span>,\n",
       "        <span style=\"color: #008000; text-decoration-color: #008000\">'key'</span>: <span style=\"color: #008000; text-decoration-color: #008000\">'5EJ4E7Gky7vjUi44QHNj6mxPrwfVYrn7LbapqQFrAjenGndJ'</span>,\n",
       "        <span style=\"color: #008000; text-decoration-color: #008000\">'balance'</span>: <span style=\"color: #008080; text-decoration-color: #008080; font-weight: bold\">0</span>,\n",
       "        <span style=\"color: #008000; text-decoration-color: #008000\">'address'</span>: <span style=\"color: #008000; text-decoration-color: #008000\">'None:50104'</span>,\n",
       "        <span style=\"color: #008000; text-decoration-color: #008000\">'incentive'</span>: <span style=\"color: #008080; text-decoration-color: #008080; font-weight: bold\">0.0009613037109375</span>,\n",
       "        <span style=\"color: #008000; text-decoration-color: #008000\">'dividends'</span>: <span style=\"color: #008080; text-decoration-color: #008080; font-weight: bold\">0.0009613037109375</span>,\n",
       "        <span style=\"color: #008000; text-decoration-color: #008000\">'stake'</span>: <span style=\"color: #008080; text-decoration-color: #008080; font-weight: bold\">16390992515</span>,\n",
       "        <span style=\"color: #008000; text-decoration-color: #008000\">'emission'</span>: <span style=\"color: #008080; text-decoration-color: #008080; font-weight: bold\">3906250</span>,\n",
       "        <span style=\"color: #008000; text-decoration-color: #008000\">'count'</span>: <span style=\"color: #008080; text-decoration-color: #008080; font-weight: bold\">1</span>,\n",
       "        <span style=\"color: #008000; text-decoration-color: #008000\">'w'</span>: <span style=\"color: #008080; text-decoration-color: #008080; font-weight: bold\">0.0</span>,\n",
       "        <span style=\"color: #008000; text-decoration-color: #008000\">'alpha'</span>: <span style=\"color: #008080; text-decoration-color: #008080; font-weight: bold\">0.9</span>,\n",
       "        <span style=\"color: #008000; text-decoration-color: #008000\">'history'</span>: <span style=\"font-weight: bold\">[</span>\n",
       "            <span style=\"font-weight: bold\">{</span>\n",
       "                <span style=\"color: #008000; text-decoration-color: #008000\">'input'</span>: <span style=\"font-weight: bold\">{</span><span style=\"color: #008000; text-decoration-color: #008000\">'args'</span>: <span style=\"font-weight: bold\">[]</span>, <span style=\"color: #008000; text-decoration-color: #008000\">'kwargs'</span>: <span style=\"font-weight: bold\">{</span><span style=\"color: #008000; text-decoration-color: #008000\">'timeout'</span>: <span style=\"color: #008080; text-decoration-color: #008080; font-weight: bold\">1</span><span style=\"font-weight: bold\">}}</span>,\n",
       "                <span style=\"color: #008000; text-decoration-color: #008000\">'output'</span>: <span style=\"font-weight: bold\">{</span><span style=\"color: #008000; text-decoration-color: #008000\">'error'</span>: <span style=\"color: #008000; text-decoration-color: #008000\">'Cannot connect to host none:50104 ssl:default [Name or service not known]'</span><span style=\"font-weight: bold\">}</span>,\n",
       "                <span style=\"color: #008000; text-decoration-color: #008000\">'w'</span>: <span style=\"color: #008080; text-decoration-color: #008080; font-weight: bold\">0</span>,\n",
       "                <span style=\"color: #008000; text-decoration-color: #008000\">'time'</span>: <span style=\"color: #008080; text-decoration-color: #008080; font-weight: bold\">1691037495.140174</span>\n",
       "            <span style=\"font-weight: bold\">}</span>\n",
       "        <span style=\"font-weight: bold\">]</span>\n",
       "    <span style=\"font-weight: bold\">}</span>,\n",
       "    <span style=\"color: #008000; text-decoration-color: #008000\">'dataset.hf::textgeneration15'</span>: <span style=\"font-weight: bold\">{</span>\n",
       "        <span style=\"color: #008000; text-decoration-color: #008000\">'uid'</span>: <span style=\"color: #008080; text-decoration-color: #008080; font-weight: bold\">49</span>,\n",
       "        <span style=\"color: #008000; text-decoration-color: #008000\">'name'</span>: <span style=\"color: #008000; text-decoration-color: #008000\">'dataset.hf::textgeneration15'</span>,\n",
       "        <span style=\"color: #008000; text-decoration-color: #008000\">'key'</span>: <span style=\"color: #008000; text-decoration-color: #008000\">'5CcfLKd4grpHGkJTrPbvsuQjCZBhKw6t5hFSy3SB1Gaok411'</span>,\n",
       "        <span style=\"color: #008000; text-decoration-color: #008000\">'balance'</span>: <span style=\"color: #008080; text-decoration-color: #008080; font-weight: bold\">0</span>,\n",
       "        <span style=\"color: #008000; text-decoration-color: #008000\">'address'</span>: <span style=\"color: #008000; text-decoration-color: #008000\">'None:50065'</span>,\n",
       "        <span style=\"color: #008000; text-decoration-color: #008000\">'incentive'</span>: <span style=\"color: #008080; text-decoration-color: #008080; font-weight: bold\">0.0009613037109375</span>,\n",
       "        <span style=\"color: #008000; text-decoration-color: #008000\">'dividends'</span>: <span style=\"color: #008080; text-decoration-color: #008080; font-weight: bold\">0.0009613037109375</span>,\n",
       "        <span style=\"color: #008000; text-decoration-color: #008000\">'stake'</span>: <span style=\"color: #008080; text-decoration-color: #008080; font-weight: bold\">16444749242</span>,\n",
       "        <span style=\"color: #008000; text-decoration-color: #008000\">'emission'</span>: <span style=\"color: #008080; text-decoration-color: #008080; font-weight: bold\">3906250</span>,\n",
       "        <span style=\"color: #008000; text-decoration-color: #008000\">'count'</span>: <span style=\"color: #008080; text-decoration-color: #008080; font-weight: bold\">1</span>,\n",
       "        <span style=\"color: #008000; text-decoration-color: #008000\">'w'</span>: <span style=\"color: #008080; text-decoration-color: #008080; font-weight: bold\">0.0</span>,\n",
       "        <span style=\"color: #008000; text-decoration-color: #008000\">'alpha'</span>: <span style=\"color: #008080; text-decoration-color: #008080; font-weight: bold\">0.9</span>,\n",
       "        <span style=\"color: #008000; text-decoration-color: #008000\">'history'</span>: <span style=\"font-weight: bold\">[</span>\n",
       "            <span style=\"font-weight: bold\">{</span>\n",
       "                <span style=\"color: #008000; text-decoration-color: #008000\">'input'</span>: <span style=\"font-weight: bold\">{</span><span style=\"color: #008000; text-decoration-color: #008000\">'args'</span>: <span style=\"font-weight: bold\">[]</span>, <span style=\"color: #008000; text-decoration-color: #008000\">'kwargs'</span>: <span style=\"font-weight: bold\">{</span><span style=\"color: #008000; text-decoration-color: #008000\">'timeout'</span>: <span style=\"color: #008080; text-decoration-color: #008080; font-weight: bold\">1</span><span style=\"font-weight: bold\">}}</span>,\n",
       "                <span style=\"color: #008000; text-decoration-color: #008000\">'output'</span>: <span style=\"font-weight: bold\">{</span><span style=\"color: #008000; text-decoration-color: #008000\">'error'</span>: <span style=\"color: #008000; text-decoration-color: #008000\">'Cannot connect to host none:50065 ssl:default [Name or service not known]'</span><span style=\"font-weight: bold\">}</span>,\n",
       "                <span style=\"color: #008000; text-decoration-color: #008000\">'w'</span>: <span style=\"color: #008080; text-decoration-color: #008080; font-weight: bold\">0</span>,\n",
       "                <span style=\"color: #008000; text-decoration-color: #008000\">'time'</span>: <span style=\"color: #008080; text-decoration-color: #008080; font-weight: bold\">1691037495.1744723</span>\n",
       "            <span style=\"font-weight: bold\">}</span>\n",
       "        <span style=\"font-weight: bold\">]</span>\n",
       "    <span style=\"font-weight: bold\">}</span>,\n",
       "    <span style=\"color: #008000; text-decoration-color: #008000\">'dataset::datahub28'</span>: <span style=\"font-weight: bold\">{</span>\n",
       "        <span style=\"color: #008000; text-decoration-color: #008000\">'uid'</span>: <span style=\"color: #008080; text-decoration-color: #008080; font-weight: bold\">304</span>,\n",
       "        <span style=\"color: #008000; text-decoration-color: #008000\">'name'</span>: <span style=\"color: #008000; text-decoration-color: #008000\">'dataset::datahub28'</span>,\n",
       "        <span style=\"color: #008000; text-decoration-color: #008000\">'key'</span>: <span style=\"color: #008000; text-decoration-color: #008000\">'5G6o75PmxTf6czpJyzABtZt4WVuwVB2e17xVmoAoP9XWbrK5'</span>,\n",
       "        <span style=\"color: #008000; text-decoration-color: #008000\">'balance'</span>: <span style=\"color: #008080; text-decoration-color: #008080; font-weight: bold\">0</span>,\n",
       "        <span style=\"color: #008000; text-decoration-color: #008000\">'address'</span>: <span style=\"color: #008000; text-decoration-color: #008000\">'None:50127'</span>,\n",
       "        <span style=\"color: #008000; text-decoration-color: #008000\">'incentive'</span>: <span style=\"color: #008080; text-decoration-color: #008080; font-weight: bold\">0.0009613037109375</span>,\n",
       "        <span style=\"color: #008000; text-decoration-color: #008000\">'dividends'</span>: <span style=\"color: #008080; text-decoration-color: #008080; font-weight: bold\">0.0009613037109375</span>,\n",
       "        <span style=\"color: #008000; text-decoration-color: #008000\">'stake'</span>: <span style=\"color: #008080; text-decoration-color: #008080; font-weight: bold\">14779663260</span>,\n",
       "        <span style=\"color: #008000; text-decoration-color: #008000\">'emission'</span>: <span style=\"color: #008080; text-decoration-color: #008080; font-weight: bold\">3906250</span>,\n",
       "        <span style=\"color: #008000; text-decoration-color: #008000\">'count'</span>: <span style=\"color: #008080; text-decoration-color: #008080; font-weight: bold\">1</span>,\n",
       "        <span style=\"color: #008000; text-decoration-color: #008000\">'w'</span>: <span style=\"color: #008080; text-decoration-color: #008080; font-weight: bold\">0.0</span>,\n",
       "        <span style=\"color: #008000; text-decoration-color: #008000\">'alpha'</span>: <span style=\"color: #008080; text-decoration-color: #008080; font-weight: bold\">0.9</span>,\n",
       "        <span style=\"color: #008000; text-decoration-color: #008000\">'history'</span>: <span style=\"font-weight: bold\">[</span>\n",
       "            <span style=\"font-weight: bold\">{</span>\n",
       "                <span style=\"color: #008000; text-decoration-color: #008000\">'input'</span>: <span style=\"font-weight: bold\">{</span><span style=\"color: #008000; text-decoration-color: #008000\">'args'</span>: <span style=\"font-weight: bold\">[]</span>, <span style=\"color: #008000; text-decoration-color: #008000\">'kwargs'</span>: <span style=\"font-weight: bold\">{</span><span style=\"color: #008000; text-decoration-color: #008000\">'timeout'</span>: <span style=\"color: #008080; text-decoration-color: #008080; font-weight: bold\">1</span><span style=\"font-weight: bold\">}}</span>,\n",
       "                <span style=\"color: #008000; text-decoration-color: #008000\">'output'</span>: <span style=\"font-weight: bold\">{</span><span style=\"color: #008000; text-decoration-color: #008000\">'error'</span>: <span style=\"color: #008000; text-decoration-color: #008000\">'Cannot connect to host none:50127 ssl:default [Name or service not known]'</span><span style=\"font-weight: bold\">}</span>,\n",
       "                <span style=\"color: #008000; text-decoration-color: #008000\">'w'</span>: <span style=\"color: #008080; text-decoration-color: #008080; font-weight: bold\">0</span>,\n",
       "                <span style=\"color: #008000; text-decoration-color: #008000\">'time'</span>: <span style=\"color: #008080; text-decoration-color: #008080; font-weight: bold\">1691037495.2031538</span>\n",
       "            <span style=\"font-weight: bold\">}</span>\n",
       "        <span style=\"font-weight: bold\">]</span>\n",
       "    <span style=\"font-weight: bold\">}</span>,\n",
       "    <span style=\"color: #008000; text-decoration-color: #008000\">'dataset::ucirepository20'</span>: <span style=\"font-weight: bold\">{</span>\n",
       "        <span style=\"color: #008000; text-decoration-color: #008000\">'uid'</span>: <span style=\"color: #008080; text-decoration-color: #008080; font-weight: bold\">715</span>,\n",
       "        <span style=\"color: #008000; text-decoration-color: #008000\">'name'</span>: <span style=\"color: #008000; text-decoration-color: #008000\">'dataset::ucirepository20'</span>,\n",
       "        <span style=\"color: #008000; text-decoration-color: #008000\">'key'</span>: <span style=\"color: #008000; text-decoration-color: #008000\">'5GRQeP2Q4mvVm477BmZiXuQiokXbvPD8ngbRQAVdoee5PZs8'</span>,\n",
       "        <span style=\"color: #008000; text-decoration-color: #008000\">'balance'</span>: <span style=\"color: #008080; text-decoration-color: #008080; font-weight: bold\">0</span>,\n",
       "        <span style=\"color: #008000; text-decoration-color: #008000\">'address'</span>: <span style=\"color: #008000; text-decoration-color: #008000\">'None:50120'</span>,\n",
       "        <span style=\"color: #008000; text-decoration-color: #008000\">'incentive'</span>: <span style=\"color: #008080; text-decoration-color: #008080; font-weight: bold\">0.0009613037109375</span>,\n",
       "        <span style=\"color: #008000; text-decoration-color: #008000\">'dividends'</span>: <span style=\"color: #008080; text-decoration-color: #008080; font-weight: bold\">0.0009613037109375</span>,\n",
       "        <span style=\"color: #008000; text-decoration-color: #008000\">'stake'</span>: <span style=\"color: #008080; text-decoration-color: #008080; font-weight: bold\">47148364345</span>,\n",
       "        <span style=\"color: #008000; text-decoration-color: #008000\">'emission'</span>: <span style=\"color: #008080; text-decoration-color: #008080; font-weight: bold\">3906250</span>,\n",
       "        <span style=\"color: #008000; text-decoration-color: #008000\">'count'</span>: <span style=\"color: #008080; text-decoration-color: #008080; font-weight: bold\">1</span>,\n",
       "        <span style=\"color: #008000; text-decoration-color: #008000\">'w'</span>: <span style=\"color: #008080; text-decoration-color: #008080; font-weight: bold\">0.0</span>,\n",
       "        <span style=\"color: #008000; text-decoration-color: #008000\">'alpha'</span>: <span style=\"color: #008080; text-decoration-color: #008080; font-weight: bold\">0.9</span>,\n",
       "        <span style=\"color: #008000; text-decoration-color: #008000\">'history'</span>: <span style=\"font-weight: bold\">[</span>\n",
       "            <span style=\"font-weight: bold\">{</span>\n",
       "                <span style=\"color: #008000; text-decoration-color: #008000\">'input'</span>: <span style=\"font-weight: bold\">{</span><span style=\"color: #008000; text-decoration-color: #008000\">'args'</span>: <span style=\"font-weight: bold\">[]</span>, <span style=\"color: #008000; text-decoration-color: #008000\">'kwargs'</span>: <span style=\"font-weight: bold\">{</span><span style=\"color: #008000; text-decoration-color: #008000\">'timeout'</span>: <span style=\"color: #008080; text-decoration-color: #008080; font-weight: bold\">1</span><span style=\"font-weight: bold\">}}</span>,\n",
       "                <span style=\"color: #008000; text-decoration-color: #008000\">'output'</span>: <span style=\"font-weight: bold\">{</span><span style=\"color: #008000; text-decoration-color: #008000\">'error'</span>: <span style=\"color: #008000; text-decoration-color: #008000\">'Cannot connect to host none:50120 ssl:default [Name or service not known]'</span><span style=\"font-weight: bold\">}</span>,\n",
       "                <span style=\"color: #008000; text-decoration-color: #008000\">'w'</span>: <span style=\"color: #008080; text-decoration-color: #008080; font-weight: bold\">0</span>,\n",
       "                <span style=\"color: #008000; text-decoration-color: #008000\">'time'</span>: <span style=\"color: #008080; text-decoration-color: #008080; font-weight: bold\">1691037495.234806</span>\n",
       "            <span style=\"font-weight: bold\">}</span>\n",
       "        <span style=\"font-weight: bold\">]</span>\n",
       "    <span style=\"font-weight: bold\">}</span>,\n",
       "    <span style=\"color: #008000; text-decoration-color: #008000\">'dataset::mostdownloaded19'</span>: <span style=\"font-weight: bold\">{</span>\n",
       "        <span style=\"color: #008000; text-decoration-color: #008000\">'uid'</span>: <span style=\"color: #008080; text-decoration-color: #008080; font-weight: bold\">678</span>,\n",
       "        <span style=\"color: #008000; text-decoration-color: #008000\">'name'</span>: <span style=\"color: #008000; text-decoration-color: #008000\">'dataset::mostdownloaded19'</span>,\n",
       "        <span style=\"color: #008000; text-decoration-color: #008000\">'key'</span>: <span style=\"color: #008000; text-decoration-color: #008000\">'5F6Zym7dmVKXSs8FXdBMbE3PgqH49mtK64KCCARbfZ4tj5Sq'</span>,\n",
       "        <span style=\"color: #008000; text-decoration-color: #008000\">'balance'</span>: <span style=\"color: #008080; text-decoration-color: #008080; font-weight: bold\">911034</span>,\n",
       "        <span style=\"color: #008000; text-decoration-color: #008000\">'address'</span>: <span style=\"color: #008000; text-decoration-color: #008000\">'0.0.0.0:50080'</span>,\n",
       "        <span style=\"color: #008000; text-decoration-color: #008000\">'incentive'</span>: <span style=\"color: #008080; text-decoration-color: #008080; font-weight: bold\">0.0009613037109375</span>,\n",
       "        <span style=\"color: #008000; text-decoration-color: #008000\">'dividends'</span>: <span style=\"color: #008080; text-decoration-color: #008080; font-weight: bold\">0.0009613037109375</span>,\n",
       "        <span style=\"color: #008000; text-decoration-color: #008000\">'stake'</span>: <span style=\"color: #008080; text-decoration-color: #008080; font-weight: bold\">125687872722</span>,\n",
       "        <span style=\"color: #008000; text-decoration-color: #008000\">'emission'</span>: <span style=\"color: #008080; text-decoration-color: #008080; font-weight: bold\">3906250</span>,\n",
       "        <span style=\"color: #008000; text-decoration-color: #008000\">'count'</span>: <span style=\"color: #008080; text-decoration-color: #008080; font-weight: bold\">1</span>,\n",
       "        <span style=\"color: #008000; text-decoration-color: #008000\">'w'</span>: <span style=\"color: #008080; text-decoration-color: #008080; font-weight: bold\">0.0</span>,\n",
       "        <span style=\"color: #008000; text-decoration-color: #008000\">'alpha'</span>: <span style=\"color: #008080; text-decoration-color: #008080; font-weight: bold\">0.9</span>,\n",
       "        <span style=\"color: #008000; text-decoration-color: #008000\">'history'</span>: <span style=\"font-weight: bold\">[</span>\n",
       "            <span style=\"font-weight: bold\">{</span>\n",
       "                <span style=\"color: #008000; text-decoration-color: #008000\">'input'</span>: <span style=\"font-weight: bold\">{</span><span style=\"color: #008000; text-decoration-color: #008000\">'args'</span>: <span style=\"font-weight: bold\">[]</span>, <span style=\"color: #008000; text-decoration-color: #008000\">'kwargs'</span>: <span style=\"font-weight: bold\">{</span><span style=\"color: #008000; text-decoration-color: #008000\">'timeout'</span>: <span style=\"color: #008080; text-decoration-color: #008080; font-weight: bold\">1</span><span style=\"font-weight: bold\">}}</span>,\n",
       "                <span style=\"color: #008000; text-decoration-color: #008000\">'output'</span>: <span style=\"font-weight: bold\">{</span>\n",
       "                    <span style=\"color: #008000; text-decoration-color: #008000\">'error'</span>: <span style=\"color: #008000; text-decoration-color: #008000\">\"Cannot connect to host 0.0.0.0:50080 ssl:default [Connect call failed ('0.0.0.0', </span>\n",
       "<span style=\"color: #008000; text-decoration-color: #008000\">50080)]\"</span>\n",
       "                <span style=\"font-weight: bold\">}</span>,\n",
       "                <span style=\"color: #008000; text-decoration-color: #008000\">'w'</span>: <span style=\"color: #008080; text-decoration-color: #008080; font-weight: bold\">0</span>,\n",
       "                <span style=\"color: #008000; text-decoration-color: #008000\">'time'</span>: <span style=\"color: #008080; text-decoration-color: #008080; font-weight: bold\">1691037495.2668543</span>\n",
       "            <span style=\"font-weight: bold\">}</span>\n",
       "        <span style=\"font-weight: bold\">]</span>\n",
       "    <span style=\"font-weight: bold\">}</span>,\n",
       "    <span style=\"color: #008000; text-decoration-color: #008000\">'module::hook37'</span>: <span style=\"font-weight: bold\">{</span>\n",
       "        <span style=\"color: #008000; text-decoration-color: #008000\">'uid'</span>: <span style=\"color: #008080; text-decoration-color: #008080; font-weight: bold\">196</span>,\n",
       "        <span style=\"color: #008000; text-decoration-color: #008000\">'name'</span>: <span style=\"color: #008000; text-decoration-color: #008000\">'module::hook37'</span>,\n",
       "        <span style=\"color: #008000; text-decoration-color: #008000\">'key'</span>: <span style=\"color: #008000; text-decoration-color: #008000\">'5DkTX6FDp6L3U8nf1LDvtNrHeukAe8YPcyHoQwMZ98pS3Q3N'</span>,\n",
       "        <span style=\"color: #008000; text-decoration-color: #008000\">'balance'</span>: <span style=\"color: #008080; text-decoration-color: #008080; font-weight: bold\">0</span>,\n",
       "        <span style=\"color: #008000; text-decoration-color: #008000\">'address'</span>: <span style=\"color: #008000; text-decoration-color: #008000\">'None:50133'</span>,\n",
       "        <span style=\"color: #008000; text-decoration-color: #008000\">'incentive'</span>: <span style=\"color: #008080; text-decoration-color: #008080; font-weight: bold\">0.0009613037109375</span>,\n",
       "        <span style=\"color: #008000; text-decoration-color: #008000\">'dividends'</span>: <span style=\"color: #008080; text-decoration-color: #008080; font-weight: bold\">0.0009613037109375</span>,\n",
       "        <span style=\"color: #008000; text-decoration-color: #008000\">'stake'</span>: <span style=\"color: #008080; text-decoration-color: #008080; font-weight: bold\">15422975316</span>,\n",
       "        <span style=\"color: #008000; text-decoration-color: #008000\">'emission'</span>: <span style=\"color: #008080; text-decoration-color: #008080; font-weight: bold\">3906250</span>,\n",
       "        <span style=\"color: #008000; text-decoration-color: #008000\">'count'</span>: <span style=\"color: #008080; text-decoration-color: #008080; font-weight: bold\">1</span>,\n",
       "        <span style=\"color: #008000; text-decoration-color: #008000\">'w'</span>: <span style=\"color: #008080; text-decoration-color: #008080; font-weight: bold\">0.0</span>,\n",
       "        <span style=\"color: #008000; text-decoration-color: #008000\">'alpha'</span>: <span style=\"color: #008080; text-decoration-color: #008080; font-weight: bold\">0.9</span>,\n",
       "        <span style=\"color: #008000; text-decoration-color: #008000\">'history'</span>: <span style=\"font-weight: bold\">[</span>\n",
       "            <span style=\"font-weight: bold\">{</span>\n",
       "                <span style=\"color: #008000; text-decoration-color: #008000\">'input'</span>: <span style=\"font-weight: bold\">{</span><span style=\"color: #008000; text-decoration-color: #008000\">'args'</span>: <span style=\"font-weight: bold\">[]</span>, <span style=\"color: #008000; text-decoration-color: #008000\">'kwargs'</span>: <span style=\"font-weight: bold\">{</span><span style=\"color: #008000; text-decoration-color: #008000\">'timeout'</span>: <span style=\"color: #008080; text-decoration-color: #008080; font-weight: bold\">1</span><span style=\"font-weight: bold\">}}</span>,\n",
       "                <span style=\"color: #008000; text-decoration-color: #008000\">'output'</span>: <span style=\"font-weight: bold\">{</span><span style=\"color: #008000; text-decoration-color: #008000\">'error'</span>: <span style=\"color: #008000; text-decoration-color: #008000\">'Cannot connect to host none:50133 ssl:default [Name or service not known]'</span><span style=\"font-weight: bold\">}</span>,\n",
       "                <span style=\"color: #008000; text-decoration-color: #008000\">'w'</span>: <span style=\"color: #008080; text-decoration-color: #008080; font-weight: bold\">0</span>,\n",
       "                <span style=\"color: #008000; text-decoration-color: #008000\">'time'</span>: <span style=\"color: #008080; text-decoration-color: #008080; font-weight: bold\">1691037495.2967048</span>\n",
       "            <span style=\"font-weight: bold\">}</span>\n",
       "        <span style=\"font-weight: bold\">]</span>\n",
       "    <span style=\"font-weight: bold\">}</span>,\n",
       "    <span style=\"color: #008000; text-decoration-color: #008000\">'dataset.hf::trending24'</span>: <span style=\"font-weight: bold\">{</span>\n",
       "        <span style=\"color: #008000; text-decoration-color: #008000\">'uid'</span>: <span style=\"color: #008080; text-decoration-color: #008080; font-weight: bold\">88</span>,\n",
       "        <span style=\"color: #008000; text-decoration-color: #008000\">'name'</span>: <span style=\"color: #008000; text-decoration-color: #008000\">'dataset.hf::trending24'</span>,\n",
       "        <span style=\"color: #008000; text-decoration-color: #008000\">'key'</span>: <span style=\"color: #008000; text-decoration-color: #008000\">'5F94jN8vgT9VG2JvqFnJo3DoANSH4SwByHVPz2ht9guE2wGj'</span>,\n",
       "        <span style=\"color: #008000; text-decoration-color: #008000\">'balance'</span>: <span style=\"color: #008080; text-decoration-color: #008080; font-weight: bold\">0</span>,\n",
       "        <span style=\"color: #008000; text-decoration-color: #008000\">'address'</span>: <span style=\"color: #008000; text-decoration-color: #008000\">'None:50117'</span>,\n",
       "        <span style=\"color: #008000; text-decoration-color: #008000\">'incentive'</span>: <span style=\"color: #008080; text-decoration-color: #008080; font-weight: bold\">0.0009613037109375</span>,\n",
       "        <span style=\"color: #008000; text-decoration-color: #008000\">'dividends'</span>: <span style=\"color: #008080; text-decoration-color: #008080; font-weight: bold\">0.0009613037109375</span>,\n",
       "        <span style=\"color: #008000; text-decoration-color: #008000\">'stake'</span>: <span style=\"color: #008080; text-decoration-color: #008080; font-weight: bold\">14815708984</span>,\n",
       "        <span style=\"color: #008000; text-decoration-color: #008000\">'emission'</span>: <span style=\"color: #008080; text-decoration-color: #008080; font-weight: bold\">3906250</span>,\n",
       "        <span style=\"color: #008000; text-decoration-color: #008000\">'count'</span>: <span style=\"color: #008080; text-decoration-color: #008080; font-weight: bold\">1</span>,\n",
       "        <span style=\"color: #008000; text-decoration-color: #008000\">'w'</span>: <span style=\"color: #008080; text-decoration-color: #008080; font-weight: bold\">0.0</span>,\n",
       "        <span style=\"color: #008000; text-decoration-color: #008000\">'alpha'</span>: <span style=\"color: #008080; text-decoration-color: #008080; font-weight: bold\">0.9</span>,\n",
       "        <span style=\"color: #008000; text-decoration-color: #008000\">'history'</span>: <span style=\"font-weight: bold\">[</span>\n",
       "            <span style=\"font-weight: bold\">{</span>\n",
       "                <span style=\"color: #008000; text-decoration-color: #008000\">'input'</span>: <span style=\"font-weight: bold\">{</span><span style=\"color: #008000; text-decoration-color: #008000\">'args'</span>: <span style=\"font-weight: bold\">[]</span>, <span style=\"color: #008000; text-decoration-color: #008000\">'kwargs'</span>: <span style=\"font-weight: bold\">{</span><span style=\"color: #008000; text-decoration-color: #008000\">'timeout'</span>: <span style=\"color: #008080; text-decoration-color: #008080; font-weight: bold\">1</span><span style=\"font-weight: bold\">}}</span>,\n",
       "                <span style=\"color: #008000; text-decoration-color: #008000\">'output'</span>: <span style=\"font-weight: bold\">{</span><span style=\"color: #008000; text-decoration-color: #008000\">'error'</span>: <span style=\"color: #008000; text-decoration-color: #008000\">'Cannot connect to host none:50117 ssl:default [Name or service not known]'</span><span style=\"font-weight: bold\">}</span>,\n",
       "                <span style=\"color: #008000; text-decoration-color: #008000\">'w'</span>: <span style=\"color: #008080; text-decoration-color: #008080; font-weight: bold\">0</span>,\n",
       "                <span style=\"color: #008000; text-decoration-color: #008000\">'time'</span>: <span style=\"color: #008080; text-decoration-color: #008080; font-weight: bold\">1691037495.329934</span>\n",
       "            <span style=\"font-weight: bold\">}</span>\n",
       "        <span style=\"font-weight: bold\">]</span>\n",
       "    <span style=\"font-weight: bold\">}</span>,\n",
       "    <span style=\"color: #008000; text-decoration-color: #008000\">'dataset.hf::textclassificaiton46'</span>: <span style=\"font-weight: bold\">{</span>\n",
       "        <span style=\"color: #008000; text-decoration-color: #008000\">'uid'</span>: <span style=\"color: #008080; text-decoration-color: #008080; font-weight: bold\">336</span>,\n",
       "        <span style=\"color: #008000; text-decoration-color: #008000\">'name'</span>: <span style=\"color: #008000; text-decoration-color: #008000\">'dataset.hf::textclassificaiton46'</span>,\n",
       "        <span style=\"color: #008000; text-decoration-color: #008000\">'key'</span>: <span style=\"color: #008000; text-decoration-color: #008000\">'5E6yWqQiR9f5U6rMRYGgUyMBg9MbBCeJGvWtkJJBR249CzAp'</span>,\n",
       "        <span style=\"color: #008000; text-decoration-color: #008000\">'balance'</span>: <span style=\"color: #008080; text-decoration-color: #008080; font-weight: bold\">0</span>,\n",
       "        <span style=\"color: #008000; text-decoration-color: #008000\">'address'</span>: <span style=\"color: #008000; text-decoration-color: #008000\">'None:50108'</span>,\n",
       "        <span style=\"color: #008000; text-decoration-color: #008000\">'incentive'</span>: <span style=\"color: #008080; text-decoration-color: #008080; font-weight: bold\">0.0009613037109375</span>,\n",
       "        <span style=\"color: #008000; text-decoration-color: #008000\">'dividends'</span>: <span style=\"color: #008080; text-decoration-color: #008080; font-weight: bold\">0.0009613037109375</span>,\n",
       "        <span style=\"color: #008000; text-decoration-color: #008000\">'stake'</span>: <span style=\"color: #008080; text-decoration-color: #008080; font-weight: bold\">50569558967</span>,\n",
       "        <span style=\"color: #008000; text-decoration-color: #008000\">'emission'</span>: <span style=\"color: #008080; text-decoration-color: #008080; font-weight: bold\">3906250</span>,\n",
       "        <span style=\"color: #008000; text-decoration-color: #008000\">'count'</span>: <span style=\"color: #008080; text-decoration-color: #008080; font-weight: bold\">1</span>,\n",
       "        <span style=\"color: #008000; text-decoration-color: #008000\">'w'</span>: <span style=\"color: #008080; text-decoration-color: #008080; font-weight: bold\">0.0</span>,\n",
       "        <span style=\"color: #008000; text-decoration-color: #008000\">'alpha'</span>: <span style=\"color: #008080; text-decoration-color: #008080; font-weight: bold\">0.9</span>,\n",
       "        <span style=\"color: #008000; text-decoration-color: #008000\">'history'</span>: <span style=\"font-weight: bold\">[</span>\n",
       "            <span style=\"font-weight: bold\">{</span>\n",
       "                <span style=\"color: #008000; text-decoration-color: #008000\">'input'</span>: <span style=\"font-weight: bold\">{</span><span style=\"color: #008000; text-decoration-color: #008000\">'args'</span>: <span style=\"font-weight: bold\">[]</span>, <span style=\"color: #008000; text-decoration-color: #008000\">'kwargs'</span>: <span style=\"font-weight: bold\">{</span><span style=\"color: #008000; text-decoration-color: #008000\">'timeout'</span>: <span style=\"color: #008080; text-decoration-color: #008080; font-weight: bold\">1</span><span style=\"font-weight: bold\">}}</span>,\n",
       "                <span style=\"color: #008000; text-decoration-color: #008000\">'output'</span>: <span style=\"font-weight: bold\">{</span><span style=\"color: #008000; text-decoration-color: #008000\">'error'</span>: <span style=\"color: #008000; text-decoration-color: #008000\">'Cannot connect to host none:50108 ssl:default [Name or service not known]'</span><span style=\"font-weight: bold\">}</span>,\n",
       "                <span style=\"color: #008000; text-decoration-color: #008000\">'w'</span>: <span style=\"color: #008080; text-decoration-color: #008080; font-weight: bold\">0</span>,\n",
       "                <span style=\"color: #008000; text-decoration-color: #008000\">'time'</span>: <span style=\"color: #008080; text-decoration-color: #008080; font-weight: bold\">1691037495.3720272</span>\n",
       "            <span style=\"font-weight: bold\">}</span>\n",
       "        <span style=\"font-weight: bold\">]</span>\n",
       "    <span style=\"font-weight: bold\">}</span>,\n",
       "    <span style=\"color: #008000; text-decoration-color: #008000\">'dataset.hf::fillmask10'</span>: <span style=\"font-weight: bold\">{</span>\n",
       "        <span style=\"color: #008000; text-decoration-color: #008000\">'uid'</span>: <span style=\"color: #008080; text-decoration-color: #008080; font-weight: bold\">654</span>,\n",
       "        <span style=\"color: #008000; text-decoration-color: #008000\">'name'</span>: <span style=\"color: #008000; text-decoration-color: #008000\">'dataset.hf::fillmask10'</span>,\n",
       "        <span style=\"color: #008000; text-decoration-color: #008000\">'key'</span>: <span style=\"color: #008000; text-decoration-color: #008000\">'5HE9pmQVTERMgfAsaV9fE6uDEKUnbpHgPfFnrtWCMj4UdcQS'</span>,\n",
       "        <span style=\"color: #008000; text-decoration-color: #008000\">'balance'</span>: <span style=\"color: #008080; text-decoration-color: #008080; font-weight: bold\">0</span>,\n",
       "        <span style=\"color: #008000; text-decoration-color: #008000\">'address'</span>: <span style=\"color: #008000; text-decoration-color: #008000\">'None:50081'</span>,\n",
       "        <span style=\"color: #008000; text-decoration-color: #008000\">'incentive'</span>: <span style=\"color: #008080; text-decoration-color: #008080; font-weight: bold\">0.0009613037109375</span>,\n",
       "        <span style=\"color: #008000; text-decoration-color: #008000\">'dividends'</span>: <span style=\"color: #008080; text-decoration-color: #008080; font-weight: bold\">0.0009613037109375</span>,\n",
       "        <span style=\"color: #008000; text-decoration-color: #008000\">'stake'</span>: <span style=\"color: #008080; text-decoration-color: #008080; font-weight: bold\">16441797275</span>,\n",
       "        <span style=\"color: #008000; text-decoration-color: #008000\">'emission'</span>: <span style=\"color: #008080; text-decoration-color: #008080; font-weight: bold\">3906250</span>,\n",
       "        <span style=\"color: #008000; text-decoration-color: #008000\">'count'</span>: <span style=\"color: #008080; text-decoration-color: #008080; font-weight: bold\">1</span>,\n",
       "        <span style=\"color: #008000; text-decoration-color: #008000\">'w'</span>: <span style=\"color: #008080; text-decoration-color: #008080; font-weight: bold\">0.0</span>,\n",
       "        <span style=\"color: #008000; text-decoration-color: #008000\">'alpha'</span>: <span style=\"color: #008080; text-decoration-color: #008080; font-weight: bold\">0.9</span>,\n",
       "        <span style=\"color: #008000; text-decoration-color: #008000\">'history'</span>: <span style=\"font-weight: bold\">[</span>\n",
       "            <span style=\"font-weight: bold\">{</span>\n",
       "                <span style=\"color: #008000; text-decoration-color: #008000\">'input'</span>: <span style=\"font-weight: bold\">{</span><span style=\"color: #008000; text-decoration-color: #008000\">'args'</span>: <span style=\"font-weight: bold\">[]</span>, <span style=\"color: #008000; text-decoration-color: #008000\">'kwargs'</span>: <span style=\"font-weight: bold\">{</span><span style=\"color: #008000; text-decoration-color: #008000\">'timeout'</span>: <span style=\"color: #008080; text-decoration-color: #008080; font-weight: bold\">1</span><span style=\"font-weight: bold\">}}</span>,\n",
       "                <span style=\"color: #008000; text-decoration-color: #008000\">'output'</span>: <span style=\"font-weight: bold\">{</span><span style=\"color: #008000; text-decoration-color: #008000\">'error'</span>: <span style=\"color: #008000; text-decoration-color: #008000\">'Cannot connect to host none:50081 ssl:default [Name or service not known]'</span><span style=\"font-weight: bold\">}</span>,\n",
       "                <span style=\"color: #008000; text-decoration-color: #008000\">'w'</span>: <span style=\"color: #008080; text-decoration-color: #008080; font-weight: bold\">0</span>,\n",
       "                <span style=\"color: #008000; text-decoration-color: #008000\">'time'</span>: <span style=\"color: #008080; text-decoration-color: #008080; font-weight: bold\">1691037495.4190419</span>\n",
       "            <span style=\"font-weight: bold\">}</span>\n",
       "        <span style=\"font-weight: bold\">]</span>\n",
       "    <span style=\"font-weight: bold\">}</span>\n",
       "<span style=\"font-weight: bold\">}</span>\n",
       "</pre>\n"
      ],
      "text/plain": [
       "\u001b[1m{\u001b[0m\n",
       "    \u001b[32m'module::einh6'\u001b[0m: \u001b[1m{\u001b[0m\n",
       "        \u001b[32m'uid'\u001b[0m: \u001b[1;36m73\u001b[0m,\n",
       "        \u001b[32m'name'\u001b[0m: \u001b[32m'module::einh6'\u001b[0m,\n",
       "        \u001b[32m'key'\u001b[0m: \u001b[32m'5DaQxpWdeD2kwVQgQLUceDtuofNtt8i5kesgueeTXAfVvZXH'\u001b[0m,\n",
       "        \u001b[32m'balance'\u001b[0m: \u001b[1;36m0\u001b[0m,\n",
       "        \u001b[32m'address'\u001b[0m: \u001b[32m'None:50084'\u001b[0m,\n",
       "        \u001b[32m'incentive'\u001b[0m: \u001b[1;36m0.0009613037109375\u001b[0m,\n",
       "        \u001b[32m'dividends'\u001b[0m: \u001b[1;36m0.0009613037109375\u001b[0m,\n",
       "        \u001b[32m'stake'\u001b[0m: \u001b[1;36m15632101461\u001b[0m,\n",
       "        \u001b[32m'emission'\u001b[0m: \u001b[1;36m3906250\u001b[0m,\n",
       "        \u001b[32m'count'\u001b[0m: \u001b[1;36m1\u001b[0m,\n",
       "        \u001b[32m'w'\u001b[0m: \u001b[1;36m0.0\u001b[0m,\n",
       "        \u001b[32m'alpha'\u001b[0m: \u001b[1;36m0.9\u001b[0m,\n",
       "        \u001b[32m'history'\u001b[0m: \u001b[1m[\u001b[0m\n",
       "            \u001b[1m{\u001b[0m\n",
       "                \u001b[32m'input'\u001b[0m: \u001b[1m{\u001b[0m\u001b[32m'args'\u001b[0m: \u001b[1m[\u001b[0m\u001b[1m]\u001b[0m, \u001b[32m'kwargs'\u001b[0m: \u001b[1m{\u001b[0m\u001b[32m'timeout'\u001b[0m: \u001b[1;36m1\u001b[0m\u001b[1m}\u001b[0m\u001b[1m}\u001b[0m,\n",
       "                \u001b[32m'output'\u001b[0m: \u001b[1m{\u001b[0m\u001b[32m'error'\u001b[0m: \u001b[32m'Cannot connect to host none:50084 ssl:default \u001b[0m\u001b[32m[\u001b[0m\u001b[32mName or service not known\u001b[0m\u001b[32m]\u001b[0m\u001b[32m'\u001b[0m\u001b[1m}\u001b[0m,\n",
       "                \u001b[32m'w'\u001b[0m: \u001b[1;36m0\u001b[0m,\n",
       "                \u001b[32m'time'\u001b[0m: \u001b[1;36m1691037495.0872767\u001b[0m\n",
       "            \u001b[1m}\u001b[0m\n",
       "        \u001b[1m]\u001b[0m\n",
       "    \u001b[1m}\u001b[0m,\n",
       "    \u001b[32m'dataset.hf::mumbai32'\u001b[0m: \u001b[1m{\u001b[0m\n",
       "        \u001b[32m'uid'\u001b[0m: \u001b[1;36m615\u001b[0m,\n",
       "        \u001b[32m'name'\u001b[0m: \u001b[32m'dataset.hf::mumbai32'\u001b[0m,\n",
       "        \u001b[32m'key'\u001b[0m: \u001b[32m'5EJ4E7Gky7vjUi44QHNj6mxPrwfVYrn7LbapqQFrAjenGndJ'\u001b[0m,\n",
       "        \u001b[32m'balance'\u001b[0m: \u001b[1;36m0\u001b[0m,\n",
       "        \u001b[32m'address'\u001b[0m: \u001b[32m'None:50104'\u001b[0m,\n",
       "        \u001b[32m'incentive'\u001b[0m: \u001b[1;36m0.0009613037109375\u001b[0m,\n",
       "        \u001b[32m'dividends'\u001b[0m: \u001b[1;36m0.0009613037109375\u001b[0m,\n",
       "        \u001b[32m'stake'\u001b[0m: \u001b[1;36m16390992515\u001b[0m,\n",
       "        \u001b[32m'emission'\u001b[0m: \u001b[1;36m3906250\u001b[0m,\n",
       "        \u001b[32m'count'\u001b[0m: \u001b[1;36m1\u001b[0m,\n",
       "        \u001b[32m'w'\u001b[0m: \u001b[1;36m0.0\u001b[0m,\n",
       "        \u001b[32m'alpha'\u001b[0m: \u001b[1;36m0.9\u001b[0m,\n",
       "        \u001b[32m'history'\u001b[0m: \u001b[1m[\u001b[0m\n",
       "            \u001b[1m{\u001b[0m\n",
       "                \u001b[32m'input'\u001b[0m: \u001b[1m{\u001b[0m\u001b[32m'args'\u001b[0m: \u001b[1m[\u001b[0m\u001b[1m]\u001b[0m, \u001b[32m'kwargs'\u001b[0m: \u001b[1m{\u001b[0m\u001b[32m'timeout'\u001b[0m: \u001b[1;36m1\u001b[0m\u001b[1m}\u001b[0m\u001b[1m}\u001b[0m,\n",
       "                \u001b[32m'output'\u001b[0m: \u001b[1m{\u001b[0m\u001b[32m'error'\u001b[0m: \u001b[32m'Cannot connect to host none:50104 ssl:default \u001b[0m\u001b[32m[\u001b[0m\u001b[32mName or service not known\u001b[0m\u001b[32m]\u001b[0m\u001b[32m'\u001b[0m\u001b[1m}\u001b[0m,\n",
       "                \u001b[32m'w'\u001b[0m: \u001b[1;36m0\u001b[0m,\n",
       "                \u001b[32m'time'\u001b[0m: \u001b[1;36m1691037495.140174\u001b[0m\n",
       "            \u001b[1m}\u001b[0m\n",
       "        \u001b[1m]\u001b[0m\n",
       "    \u001b[1m}\u001b[0m,\n",
       "    \u001b[32m'dataset.hf::textgeneration15'\u001b[0m: \u001b[1m{\u001b[0m\n",
       "        \u001b[32m'uid'\u001b[0m: \u001b[1;36m49\u001b[0m,\n",
       "        \u001b[32m'name'\u001b[0m: \u001b[32m'dataset.hf::textgeneration15'\u001b[0m,\n",
       "        \u001b[32m'key'\u001b[0m: \u001b[32m'5CcfLKd4grpHGkJTrPbvsuQjCZBhKw6t5hFSy3SB1Gaok411'\u001b[0m,\n",
       "        \u001b[32m'balance'\u001b[0m: \u001b[1;36m0\u001b[0m,\n",
       "        \u001b[32m'address'\u001b[0m: \u001b[32m'None:50065'\u001b[0m,\n",
       "        \u001b[32m'incentive'\u001b[0m: \u001b[1;36m0.0009613037109375\u001b[0m,\n",
       "        \u001b[32m'dividends'\u001b[0m: \u001b[1;36m0.0009613037109375\u001b[0m,\n",
       "        \u001b[32m'stake'\u001b[0m: \u001b[1;36m16444749242\u001b[0m,\n",
       "        \u001b[32m'emission'\u001b[0m: \u001b[1;36m3906250\u001b[0m,\n",
       "        \u001b[32m'count'\u001b[0m: \u001b[1;36m1\u001b[0m,\n",
       "        \u001b[32m'w'\u001b[0m: \u001b[1;36m0.0\u001b[0m,\n",
       "        \u001b[32m'alpha'\u001b[0m: \u001b[1;36m0.9\u001b[0m,\n",
       "        \u001b[32m'history'\u001b[0m: \u001b[1m[\u001b[0m\n",
       "            \u001b[1m{\u001b[0m\n",
       "                \u001b[32m'input'\u001b[0m: \u001b[1m{\u001b[0m\u001b[32m'args'\u001b[0m: \u001b[1m[\u001b[0m\u001b[1m]\u001b[0m, \u001b[32m'kwargs'\u001b[0m: \u001b[1m{\u001b[0m\u001b[32m'timeout'\u001b[0m: \u001b[1;36m1\u001b[0m\u001b[1m}\u001b[0m\u001b[1m}\u001b[0m,\n",
       "                \u001b[32m'output'\u001b[0m: \u001b[1m{\u001b[0m\u001b[32m'error'\u001b[0m: \u001b[32m'Cannot connect to host none:50065 ssl:default \u001b[0m\u001b[32m[\u001b[0m\u001b[32mName or service not known\u001b[0m\u001b[32m]\u001b[0m\u001b[32m'\u001b[0m\u001b[1m}\u001b[0m,\n",
       "                \u001b[32m'w'\u001b[0m: \u001b[1;36m0\u001b[0m,\n",
       "                \u001b[32m'time'\u001b[0m: \u001b[1;36m1691037495.1744723\u001b[0m\n",
       "            \u001b[1m}\u001b[0m\n",
       "        \u001b[1m]\u001b[0m\n",
       "    \u001b[1m}\u001b[0m,\n",
       "    \u001b[32m'dataset::datahub28'\u001b[0m: \u001b[1m{\u001b[0m\n",
       "        \u001b[32m'uid'\u001b[0m: \u001b[1;36m304\u001b[0m,\n",
       "        \u001b[32m'name'\u001b[0m: \u001b[32m'dataset::datahub28'\u001b[0m,\n",
       "        \u001b[32m'key'\u001b[0m: \u001b[32m'5G6o75PmxTf6czpJyzABtZt4WVuwVB2e17xVmoAoP9XWbrK5'\u001b[0m,\n",
       "        \u001b[32m'balance'\u001b[0m: \u001b[1;36m0\u001b[0m,\n",
       "        \u001b[32m'address'\u001b[0m: \u001b[32m'None:50127'\u001b[0m,\n",
       "        \u001b[32m'incentive'\u001b[0m: \u001b[1;36m0.0009613037109375\u001b[0m,\n",
       "        \u001b[32m'dividends'\u001b[0m: \u001b[1;36m0.0009613037109375\u001b[0m,\n",
       "        \u001b[32m'stake'\u001b[0m: \u001b[1;36m14779663260\u001b[0m,\n",
       "        \u001b[32m'emission'\u001b[0m: \u001b[1;36m3906250\u001b[0m,\n",
       "        \u001b[32m'count'\u001b[0m: \u001b[1;36m1\u001b[0m,\n",
       "        \u001b[32m'w'\u001b[0m: \u001b[1;36m0.0\u001b[0m,\n",
       "        \u001b[32m'alpha'\u001b[0m: \u001b[1;36m0.9\u001b[0m,\n",
       "        \u001b[32m'history'\u001b[0m: \u001b[1m[\u001b[0m\n",
       "            \u001b[1m{\u001b[0m\n",
       "                \u001b[32m'input'\u001b[0m: \u001b[1m{\u001b[0m\u001b[32m'args'\u001b[0m: \u001b[1m[\u001b[0m\u001b[1m]\u001b[0m, \u001b[32m'kwargs'\u001b[0m: \u001b[1m{\u001b[0m\u001b[32m'timeout'\u001b[0m: \u001b[1;36m1\u001b[0m\u001b[1m}\u001b[0m\u001b[1m}\u001b[0m,\n",
       "                \u001b[32m'output'\u001b[0m: \u001b[1m{\u001b[0m\u001b[32m'error'\u001b[0m: \u001b[32m'Cannot connect to host none:50127 ssl:default \u001b[0m\u001b[32m[\u001b[0m\u001b[32mName or service not known\u001b[0m\u001b[32m]\u001b[0m\u001b[32m'\u001b[0m\u001b[1m}\u001b[0m,\n",
       "                \u001b[32m'w'\u001b[0m: \u001b[1;36m0\u001b[0m,\n",
       "                \u001b[32m'time'\u001b[0m: \u001b[1;36m1691037495.2031538\u001b[0m\n",
       "            \u001b[1m}\u001b[0m\n",
       "        \u001b[1m]\u001b[0m\n",
       "    \u001b[1m}\u001b[0m,\n",
       "    \u001b[32m'dataset::ucirepository20'\u001b[0m: \u001b[1m{\u001b[0m\n",
       "        \u001b[32m'uid'\u001b[0m: \u001b[1;36m715\u001b[0m,\n",
       "        \u001b[32m'name'\u001b[0m: \u001b[32m'dataset::ucirepository20'\u001b[0m,\n",
       "        \u001b[32m'key'\u001b[0m: \u001b[32m'5GRQeP2Q4mvVm477BmZiXuQiokXbvPD8ngbRQAVdoee5PZs8'\u001b[0m,\n",
       "        \u001b[32m'balance'\u001b[0m: \u001b[1;36m0\u001b[0m,\n",
       "        \u001b[32m'address'\u001b[0m: \u001b[32m'None:50120'\u001b[0m,\n",
       "        \u001b[32m'incentive'\u001b[0m: \u001b[1;36m0.0009613037109375\u001b[0m,\n",
       "        \u001b[32m'dividends'\u001b[0m: \u001b[1;36m0.0009613037109375\u001b[0m,\n",
       "        \u001b[32m'stake'\u001b[0m: \u001b[1;36m47148364345\u001b[0m,\n",
       "        \u001b[32m'emission'\u001b[0m: \u001b[1;36m3906250\u001b[0m,\n",
       "        \u001b[32m'count'\u001b[0m: \u001b[1;36m1\u001b[0m,\n",
       "        \u001b[32m'w'\u001b[0m: \u001b[1;36m0.0\u001b[0m,\n",
       "        \u001b[32m'alpha'\u001b[0m: \u001b[1;36m0.9\u001b[0m,\n",
       "        \u001b[32m'history'\u001b[0m: \u001b[1m[\u001b[0m\n",
       "            \u001b[1m{\u001b[0m\n",
       "                \u001b[32m'input'\u001b[0m: \u001b[1m{\u001b[0m\u001b[32m'args'\u001b[0m: \u001b[1m[\u001b[0m\u001b[1m]\u001b[0m, \u001b[32m'kwargs'\u001b[0m: \u001b[1m{\u001b[0m\u001b[32m'timeout'\u001b[0m: \u001b[1;36m1\u001b[0m\u001b[1m}\u001b[0m\u001b[1m}\u001b[0m,\n",
       "                \u001b[32m'output'\u001b[0m: \u001b[1m{\u001b[0m\u001b[32m'error'\u001b[0m: \u001b[32m'Cannot connect to host none:50120 ssl:default \u001b[0m\u001b[32m[\u001b[0m\u001b[32mName or service not known\u001b[0m\u001b[32m]\u001b[0m\u001b[32m'\u001b[0m\u001b[1m}\u001b[0m,\n",
       "                \u001b[32m'w'\u001b[0m: \u001b[1;36m0\u001b[0m,\n",
       "                \u001b[32m'time'\u001b[0m: \u001b[1;36m1691037495.234806\u001b[0m\n",
       "            \u001b[1m}\u001b[0m\n",
       "        \u001b[1m]\u001b[0m\n",
       "    \u001b[1m}\u001b[0m,\n",
       "    \u001b[32m'dataset::mostdownloaded19'\u001b[0m: \u001b[1m{\u001b[0m\n",
       "        \u001b[32m'uid'\u001b[0m: \u001b[1;36m678\u001b[0m,\n",
       "        \u001b[32m'name'\u001b[0m: \u001b[32m'dataset::mostdownloaded19'\u001b[0m,\n",
       "        \u001b[32m'key'\u001b[0m: \u001b[32m'5F6Zym7dmVKXSs8FXdBMbE3PgqH49mtK64KCCARbfZ4tj5Sq'\u001b[0m,\n",
       "        \u001b[32m'balance'\u001b[0m: \u001b[1;36m911034\u001b[0m,\n",
       "        \u001b[32m'address'\u001b[0m: \u001b[32m'0.0.0.0:50080'\u001b[0m,\n",
       "        \u001b[32m'incentive'\u001b[0m: \u001b[1;36m0.0009613037109375\u001b[0m,\n",
       "        \u001b[32m'dividends'\u001b[0m: \u001b[1;36m0.0009613037109375\u001b[0m,\n",
       "        \u001b[32m'stake'\u001b[0m: \u001b[1;36m125687872722\u001b[0m,\n",
       "        \u001b[32m'emission'\u001b[0m: \u001b[1;36m3906250\u001b[0m,\n",
       "        \u001b[32m'count'\u001b[0m: \u001b[1;36m1\u001b[0m,\n",
       "        \u001b[32m'w'\u001b[0m: \u001b[1;36m0.0\u001b[0m,\n",
       "        \u001b[32m'alpha'\u001b[0m: \u001b[1;36m0.9\u001b[0m,\n",
       "        \u001b[32m'history'\u001b[0m: \u001b[1m[\u001b[0m\n",
       "            \u001b[1m{\u001b[0m\n",
       "                \u001b[32m'input'\u001b[0m: \u001b[1m{\u001b[0m\u001b[32m'args'\u001b[0m: \u001b[1m[\u001b[0m\u001b[1m]\u001b[0m, \u001b[32m'kwargs'\u001b[0m: \u001b[1m{\u001b[0m\u001b[32m'timeout'\u001b[0m: \u001b[1;36m1\u001b[0m\u001b[1m}\u001b[0m\u001b[1m}\u001b[0m,\n",
       "                \u001b[32m'output'\u001b[0m: \u001b[1m{\u001b[0m\n",
       "                    \u001b[32m'error'\u001b[0m: \u001b[32m\"Cannot connect to host 0.0.0.0:50080 ssl:default \u001b[0m\u001b[32m[\u001b[0m\u001b[32mConnect call failed \u001b[0m\u001b[32m(\u001b[0m\u001b[32m'0.0.0.0', \u001b[0m\n",
       "\u001b[32m50080\u001b[0m\u001b[32m)\u001b[0m\u001b[32m]\u001b[0m\u001b[32m\"\u001b[0m\n",
       "                \u001b[1m}\u001b[0m,\n",
       "                \u001b[32m'w'\u001b[0m: \u001b[1;36m0\u001b[0m,\n",
       "                \u001b[32m'time'\u001b[0m: \u001b[1;36m1691037495.2668543\u001b[0m\n",
       "            \u001b[1m}\u001b[0m\n",
       "        \u001b[1m]\u001b[0m\n",
       "    \u001b[1m}\u001b[0m,\n",
       "    \u001b[32m'module::hook37'\u001b[0m: \u001b[1m{\u001b[0m\n",
       "        \u001b[32m'uid'\u001b[0m: \u001b[1;36m196\u001b[0m,\n",
       "        \u001b[32m'name'\u001b[0m: \u001b[32m'module::hook37'\u001b[0m,\n",
       "        \u001b[32m'key'\u001b[0m: \u001b[32m'5DkTX6FDp6L3U8nf1LDvtNrHeukAe8YPcyHoQwMZ98pS3Q3N'\u001b[0m,\n",
       "        \u001b[32m'balance'\u001b[0m: \u001b[1;36m0\u001b[0m,\n",
       "        \u001b[32m'address'\u001b[0m: \u001b[32m'None:50133'\u001b[0m,\n",
       "        \u001b[32m'incentive'\u001b[0m: \u001b[1;36m0.0009613037109375\u001b[0m,\n",
       "        \u001b[32m'dividends'\u001b[0m: \u001b[1;36m0.0009613037109375\u001b[0m,\n",
       "        \u001b[32m'stake'\u001b[0m: \u001b[1;36m15422975316\u001b[0m,\n",
       "        \u001b[32m'emission'\u001b[0m: \u001b[1;36m3906250\u001b[0m,\n",
       "        \u001b[32m'count'\u001b[0m: \u001b[1;36m1\u001b[0m,\n",
       "        \u001b[32m'w'\u001b[0m: \u001b[1;36m0.0\u001b[0m,\n",
       "        \u001b[32m'alpha'\u001b[0m: \u001b[1;36m0.9\u001b[0m,\n",
       "        \u001b[32m'history'\u001b[0m: \u001b[1m[\u001b[0m\n",
       "            \u001b[1m{\u001b[0m\n",
       "                \u001b[32m'input'\u001b[0m: \u001b[1m{\u001b[0m\u001b[32m'args'\u001b[0m: \u001b[1m[\u001b[0m\u001b[1m]\u001b[0m, \u001b[32m'kwargs'\u001b[0m: \u001b[1m{\u001b[0m\u001b[32m'timeout'\u001b[0m: \u001b[1;36m1\u001b[0m\u001b[1m}\u001b[0m\u001b[1m}\u001b[0m,\n",
       "                \u001b[32m'output'\u001b[0m: \u001b[1m{\u001b[0m\u001b[32m'error'\u001b[0m: \u001b[32m'Cannot connect to host none:50133 ssl:default \u001b[0m\u001b[32m[\u001b[0m\u001b[32mName or service not known\u001b[0m\u001b[32m]\u001b[0m\u001b[32m'\u001b[0m\u001b[1m}\u001b[0m,\n",
       "                \u001b[32m'w'\u001b[0m: \u001b[1;36m0\u001b[0m,\n",
       "                \u001b[32m'time'\u001b[0m: \u001b[1;36m1691037495.2967048\u001b[0m\n",
       "            \u001b[1m}\u001b[0m\n",
       "        \u001b[1m]\u001b[0m\n",
       "    \u001b[1m}\u001b[0m,\n",
       "    \u001b[32m'dataset.hf::trending24'\u001b[0m: \u001b[1m{\u001b[0m\n",
       "        \u001b[32m'uid'\u001b[0m: \u001b[1;36m88\u001b[0m,\n",
       "        \u001b[32m'name'\u001b[0m: \u001b[32m'dataset.hf::trending24'\u001b[0m,\n",
       "        \u001b[32m'key'\u001b[0m: \u001b[32m'5F94jN8vgT9VG2JvqFnJo3DoANSH4SwByHVPz2ht9guE2wGj'\u001b[0m,\n",
       "        \u001b[32m'balance'\u001b[0m: \u001b[1;36m0\u001b[0m,\n",
       "        \u001b[32m'address'\u001b[0m: \u001b[32m'None:50117'\u001b[0m,\n",
       "        \u001b[32m'incentive'\u001b[0m: \u001b[1;36m0.0009613037109375\u001b[0m,\n",
       "        \u001b[32m'dividends'\u001b[0m: \u001b[1;36m0.0009613037109375\u001b[0m,\n",
       "        \u001b[32m'stake'\u001b[0m: \u001b[1;36m14815708984\u001b[0m,\n",
       "        \u001b[32m'emission'\u001b[0m: \u001b[1;36m3906250\u001b[0m,\n",
       "        \u001b[32m'count'\u001b[0m: \u001b[1;36m1\u001b[0m,\n",
       "        \u001b[32m'w'\u001b[0m: \u001b[1;36m0.0\u001b[0m,\n",
       "        \u001b[32m'alpha'\u001b[0m: \u001b[1;36m0.9\u001b[0m,\n",
       "        \u001b[32m'history'\u001b[0m: \u001b[1m[\u001b[0m\n",
       "            \u001b[1m{\u001b[0m\n",
       "                \u001b[32m'input'\u001b[0m: \u001b[1m{\u001b[0m\u001b[32m'args'\u001b[0m: \u001b[1m[\u001b[0m\u001b[1m]\u001b[0m, \u001b[32m'kwargs'\u001b[0m: \u001b[1m{\u001b[0m\u001b[32m'timeout'\u001b[0m: \u001b[1;36m1\u001b[0m\u001b[1m}\u001b[0m\u001b[1m}\u001b[0m,\n",
       "                \u001b[32m'output'\u001b[0m: \u001b[1m{\u001b[0m\u001b[32m'error'\u001b[0m: \u001b[32m'Cannot connect to host none:50117 ssl:default \u001b[0m\u001b[32m[\u001b[0m\u001b[32mName or service not known\u001b[0m\u001b[32m]\u001b[0m\u001b[32m'\u001b[0m\u001b[1m}\u001b[0m,\n",
       "                \u001b[32m'w'\u001b[0m: \u001b[1;36m0\u001b[0m,\n",
       "                \u001b[32m'time'\u001b[0m: \u001b[1;36m1691037495.329934\u001b[0m\n",
       "            \u001b[1m}\u001b[0m\n",
       "        \u001b[1m]\u001b[0m\n",
       "    \u001b[1m}\u001b[0m,\n",
       "    \u001b[32m'dataset.hf::textclassificaiton46'\u001b[0m: \u001b[1m{\u001b[0m\n",
       "        \u001b[32m'uid'\u001b[0m: \u001b[1;36m336\u001b[0m,\n",
       "        \u001b[32m'name'\u001b[0m: \u001b[32m'dataset.hf::textclassificaiton46'\u001b[0m,\n",
       "        \u001b[32m'key'\u001b[0m: \u001b[32m'5E6yWqQiR9f5U6rMRYGgUyMBg9MbBCeJGvWtkJJBR249CzAp'\u001b[0m,\n",
       "        \u001b[32m'balance'\u001b[0m: \u001b[1;36m0\u001b[0m,\n",
       "        \u001b[32m'address'\u001b[0m: \u001b[32m'None:50108'\u001b[0m,\n",
       "        \u001b[32m'incentive'\u001b[0m: \u001b[1;36m0.0009613037109375\u001b[0m,\n",
       "        \u001b[32m'dividends'\u001b[0m: \u001b[1;36m0.0009613037109375\u001b[0m,\n",
       "        \u001b[32m'stake'\u001b[0m: \u001b[1;36m50569558967\u001b[0m,\n",
       "        \u001b[32m'emission'\u001b[0m: \u001b[1;36m3906250\u001b[0m,\n",
       "        \u001b[32m'count'\u001b[0m: \u001b[1;36m1\u001b[0m,\n",
       "        \u001b[32m'w'\u001b[0m: \u001b[1;36m0.0\u001b[0m,\n",
       "        \u001b[32m'alpha'\u001b[0m: \u001b[1;36m0.9\u001b[0m,\n",
       "        \u001b[32m'history'\u001b[0m: \u001b[1m[\u001b[0m\n",
       "            \u001b[1m{\u001b[0m\n",
       "                \u001b[32m'input'\u001b[0m: \u001b[1m{\u001b[0m\u001b[32m'args'\u001b[0m: \u001b[1m[\u001b[0m\u001b[1m]\u001b[0m, \u001b[32m'kwargs'\u001b[0m: \u001b[1m{\u001b[0m\u001b[32m'timeout'\u001b[0m: \u001b[1;36m1\u001b[0m\u001b[1m}\u001b[0m\u001b[1m}\u001b[0m,\n",
       "                \u001b[32m'output'\u001b[0m: \u001b[1m{\u001b[0m\u001b[32m'error'\u001b[0m: \u001b[32m'Cannot connect to host none:50108 ssl:default \u001b[0m\u001b[32m[\u001b[0m\u001b[32mName or service not known\u001b[0m\u001b[32m]\u001b[0m\u001b[32m'\u001b[0m\u001b[1m}\u001b[0m,\n",
       "                \u001b[32m'w'\u001b[0m: \u001b[1;36m0\u001b[0m,\n",
       "                \u001b[32m'time'\u001b[0m: \u001b[1;36m1691037495.3720272\u001b[0m\n",
       "            \u001b[1m}\u001b[0m\n",
       "        \u001b[1m]\u001b[0m\n",
       "    \u001b[1m}\u001b[0m,\n",
       "    \u001b[32m'dataset.hf::fillmask10'\u001b[0m: \u001b[1m{\u001b[0m\n",
       "        \u001b[32m'uid'\u001b[0m: \u001b[1;36m654\u001b[0m,\n",
       "        \u001b[32m'name'\u001b[0m: \u001b[32m'dataset.hf::fillmask10'\u001b[0m,\n",
       "        \u001b[32m'key'\u001b[0m: \u001b[32m'5HE9pmQVTERMgfAsaV9fE6uDEKUnbpHgPfFnrtWCMj4UdcQS'\u001b[0m,\n",
       "        \u001b[32m'balance'\u001b[0m: \u001b[1;36m0\u001b[0m,\n",
       "        \u001b[32m'address'\u001b[0m: \u001b[32m'None:50081'\u001b[0m,\n",
       "        \u001b[32m'incentive'\u001b[0m: \u001b[1;36m0.0009613037109375\u001b[0m,\n",
       "        \u001b[32m'dividends'\u001b[0m: \u001b[1;36m0.0009613037109375\u001b[0m,\n",
       "        \u001b[32m'stake'\u001b[0m: \u001b[1;36m16441797275\u001b[0m,\n",
       "        \u001b[32m'emission'\u001b[0m: \u001b[1;36m3906250\u001b[0m,\n",
       "        \u001b[32m'count'\u001b[0m: \u001b[1;36m1\u001b[0m,\n",
       "        \u001b[32m'w'\u001b[0m: \u001b[1;36m0.0\u001b[0m,\n",
       "        \u001b[32m'alpha'\u001b[0m: \u001b[1;36m0.9\u001b[0m,\n",
       "        \u001b[32m'history'\u001b[0m: \u001b[1m[\u001b[0m\n",
       "            \u001b[1m{\u001b[0m\n",
       "                \u001b[32m'input'\u001b[0m: \u001b[1m{\u001b[0m\u001b[32m'args'\u001b[0m: \u001b[1m[\u001b[0m\u001b[1m]\u001b[0m, \u001b[32m'kwargs'\u001b[0m: \u001b[1m{\u001b[0m\u001b[32m'timeout'\u001b[0m: \u001b[1;36m1\u001b[0m\u001b[1m}\u001b[0m\u001b[1m}\u001b[0m,\n",
       "                \u001b[32m'output'\u001b[0m: \u001b[1m{\u001b[0m\u001b[32m'error'\u001b[0m: \u001b[32m'Cannot connect to host none:50081 ssl:default \u001b[0m\u001b[32m[\u001b[0m\u001b[32mName or service not known\u001b[0m\u001b[32m]\u001b[0m\u001b[32m'\u001b[0m\u001b[1m}\u001b[0m,\n",
       "                \u001b[32m'w'\u001b[0m: \u001b[1;36m0\u001b[0m,\n",
       "                \u001b[32m'time'\u001b[0m: \u001b[1;36m1691037495.4190419\u001b[0m\n",
       "            \u001b[1m}\u001b[0m\n",
       "        \u001b[1m]\u001b[0m\n",
       "    \u001b[1m}\u001b[0m\n",
       "\u001b[1m}\u001b[0m\n"
      ]
     },
     "metadata": {},
     "output_type": "display_data"
    }
   ],
   "source": [
    "c.print(v.stats)"
   ]
  },
  {
   "cell_type": "code",
   "execution_count": null,
   "metadata": {},
   "outputs": [],
   "source": []
  },
  {
   "cell_type": "code",
   "execution_count": null,
   "metadata": {},
   "outputs": [],
   "source": []
  }
 ],
 "metadata": {
  "kernelspec": {
   "display_name": "Python 3",
   "language": "python",
   "name": "python3"
  },
  "language_info": {
   "codemirror_mode": {
    "name": "ipython",
    "version": 3
   },
   "file_extension": ".py",
   "mimetype": "text/x-python",
   "name": "python",
   "nbconvert_exporter": "python",
   "pygments_lexer": "ipython3",
   "version": "3.10.12"
  },
  "orig_nbformat": 4
 },
 "nbformat": 4,
 "nbformat_minor": 2
}

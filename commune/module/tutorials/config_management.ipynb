{
 "cells": [
  {
   "cell_type": "code",
   "execution_count": 1,
   "metadata": {},
   "outputs": [],
   "source": [
    "import commune as c\n",
    "c.enable_jupyter()"
   ]
  },
  {
   "cell_type": "code",
   "execution_count": 3,
   "metadata": {},
   "outputs": [],
   "source": [
    "module = c.module()"
   ]
  },
  {
   "cell_type": "code",
   "execution_count": 5,
   "metadata": {},
   "outputs": [
    {
     "ename": "RuntimeError",
     "evalue": "This event loop is already running",
     "output_type": "error",
     "traceback": [
      "\u001b[0;31m---------------------------------------------------------------------------\u001b[0m",
      "\u001b[0;31mRuntimeError\u001b[0m                              Traceback (most recent call last)",
      "Cell \u001b[0;32mIn[5], line 2\u001b[0m\n\u001b[1;32m      1\u001b[0m \u001b[39m# default config\u001b[39;00m\n\u001b[0;32m----> 2\u001b[0m module\u001b[39m.\u001b[39;49mconfig()\n",
      "File \u001b[0;32m~/commune/commune/module/module.py:701\u001b[0m, in \u001b[0;36mc.get_config\u001b[0;34m(cls, config, kwargs, to_munch, root)\u001b[0m\n\u001b[1;32m    698\u001b[0m     config \u001b[39m=\u001b[39m default_config\n\u001b[1;32m    700\u001b[0m \u001b[39melif\u001b[39;00m config \u001b[39m==\u001b[39m \u001b[39mNone\u001b[39;00m:\n\u001b[0;32m--> 701\u001b[0m     config \u001b[39m=\u001b[39m \u001b[39mcls\u001b[39;49m\u001b[39m.\u001b[39;49mload_config()\n\u001b[1;32m    703\u001b[0m \u001b[39massert\u001b[39;00m \u001b[39misinstance\u001b[39m(config, \u001b[39mdict\u001b[39m), \u001b[39mf\u001b[39m\u001b[39m'\u001b[39m\u001b[39mconfig must be a dict, not \u001b[39m\u001b[39m{\u001b[39;00mconfig\u001b[39m}\u001b[39;00m\u001b[39m'\u001b[39m\n\u001b[1;32m    705\u001b[0m kwargs \u001b[39m=\u001b[39m kwargs \u001b[39mif\u001b[39;00m kwargs \u001b[39m!=\u001b[39m \u001b[39mNone\u001b[39;00m \u001b[39melse\u001b[39;00m {}\n",
      "File \u001b[0;32m~/commune/commune/module/module.py:400\u001b[0m, in \u001b[0;36mc.load_config\u001b[0;34m(cls, path, to_munch, root)\u001b[0m\n\u001b[1;32m    393\u001b[0m \u001b[39m\u001b[39m\u001b[39m'''\u001b[39;00m\n\u001b[1;32m    394\u001b[0m \u001b[39mArgs:\u001b[39;00m\n\u001b[1;32m    395\u001b[0m \u001b[39m    path: The path to the config file\u001b[39;00m\n\u001b[1;32m    396\u001b[0m \u001b[39m    to_munch: If true, then convert the config to a munch\u001b[39;00m\n\u001b[1;32m    397\u001b[0m \u001b[39m'''\u001b[39;00m\n\u001b[1;32m    398\u001b[0m path \u001b[39m=\u001b[39m \u001b[39mcls\u001b[39m\u001b[39m.\u001b[39mresolve_config_path(path)\n\u001b[0;32m--> 400\u001b[0m config \u001b[39m=\u001b[39m \u001b[39mcls\u001b[39;49m\u001b[39m.\u001b[39;49mload_yaml(path)\n\u001b[1;32m    402\u001b[0m \u001b[39mif\u001b[39;00m to_munch:\n\u001b[1;32m    403\u001b[0m     config \u001b[39m=\u001b[39m  \u001b[39mcls\u001b[39m\u001b[39m.\u001b[39mdict2munch(config)\n",
      "File \u001b[0;32m~/commune/commune/module/module.py:289\u001b[0m, in \u001b[0;36mc.load_yaml\u001b[0;34m(cls, path, root)\u001b[0m\n\u001b[1;32m    286\u001b[0m path \u001b[39m=\u001b[39m \u001b[39mcls\u001b[39m\u001b[39m.\u001b[39mresolve_path(path, root\u001b[39m=\u001b[39mroot)\n\u001b[1;32m    288\u001b[0m \u001b[39mfrom\u001b[39;00m \u001b[39mcommune\u001b[39;00m\u001b[39m.\u001b[39;00m\u001b[39mutils\u001b[39;00m\u001b[39m.\u001b[39;00m\u001b[39mdict\u001b[39;00m \u001b[39mimport\u001b[39;00m load_yaml\n\u001b[0;32m--> 289\u001b[0m config \u001b[39m=\u001b[39m load_yaml(path)\n\u001b[1;32m    290\u001b[0m \u001b[39mreturn\u001b[39;00m config\n",
      "File \u001b[0;32m~/commune/commune/utils/asyncio.py:37\u001b[0m, in \u001b[0;36msync_wrapper.<locals>.wrapper_fn\u001b[0;34m(*args, **kwargs)\u001b[0m\n\u001b[1;32m     35\u001b[0m \u001b[39melse\u001b[39;00m:\n\u001b[1;32m     36\u001b[0m     loop \u001b[39m=\u001b[39m get_event_loop()\n\u001b[0;32m---> 37\u001b[0m \u001b[39mreturn\u001b[39;00m loop\u001b[39m.\u001b[39;49mrun_until_complete(fn(\u001b[39m*\u001b[39;49margs, \u001b[39m*\u001b[39;49m\u001b[39m*\u001b[39;49mkwargs))\n",
      "File \u001b[0;32m/usr/lib/python3.10/asyncio/base_events.py:625\u001b[0m, in \u001b[0;36mBaseEventLoop.run_until_complete\u001b[0;34m(self, future)\u001b[0m\n\u001b[1;32m    614\u001b[0m \u001b[39m\u001b[39m\u001b[39m\"\"\"Run until the Future is done.\u001b[39;00m\n\u001b[1;32m    615\u001b[0m \n\u001b[1;32m    616\u001b[0m \u001b[39mIf the argument is a coroutine, it is wrapped in a Task.\u001b[39;00m\n\u001b[0;32m   (...)\u001b[0m\n\u001b[1;32m    622\u001b[0m \u001b[39mReturn the Future's result, or raise its exception.\u001b[39;00m\n\u001b[1;32m    623\u001b[0m \u001b[39m\"\"\"\u001b[39;00m\n\u001b[1;32m    624\u001b[0m \u001b[39mself\u001b[39m\u001b[39m.\u001b[39m_check_closed()\n\u001b[0;32m--> 625\u001b[0m \u001b[39mself\u001b[39;49m\u001b[39m.\u001b[39;49m_check_running()\n\u001b[1;32m    627\u001b[0m new_task \u001b[39m=\u001b[39m \u001b[39mnot\u001b[39;00m futures\u001b[39m.\u001b[39misfuture(future)\n\u001b[1;32m    628\u001b[0m future \u001b[39m=\u001b[39m tasks\u001b[39m.\u001b[39mensure_future(future, loop\u001b[39m=\u001b[39m\u001b[39mself\u001b[39m)\n",
      "File \u001b[0;32m/usr/lib/python3.10/asyncio/base_events.py:584\u001b[0m, in \u001b[0;36mBaseEventLoop._check_running\u001b[0;34m(self)\u001b[0m\n\u001b[1;32m    582\u001b[0m \u001b[39mdef\u001b[39;00m \u001b[39m_check_running\u001b[39m(\u001b[39mself\u001b[39m):\n\u001b[1;32m    583\u001b[0m     \u001b[39mif\u001b[39;00m \u001b[39mself\u001b[39m\u001b[39m.\u001b[39mis_running():\n\u001b[0;32m--> 584\u001b[0m         \u001b[39mraise\u001b[39;00m \u001b[39mRuntimeError\u001b[39;00m(\u001b[39m'\u001b[39m\u001b[39mThis event loop is already running\u001b[39m\u001b[39m'\u001b[39m)\n\u001b[1;32m    585\u001b[0m     \u001b[39mif\u001b[39;00m events\u001b[39m.\u001b[39m_get_running_loop() \u001b[39mis\u001b[39;00m \u001b[39mnot\u001b[39;00m \u001b[39mNone\u001b[39;00m:\n\u001b[1;32m    586\u001b[0m         \u001b[39mraise\u001b[39;00m \u001b[39mRuntimeError\u001b[39;00m(\n\u001b[1;32m    587\u001b[0m             \u001b[39m'\u001b[39m\u001b[39mCannot run the event loop while another loop is running\u001b[39m\u001b[39m'\u001b[39m)\n",
      "\u001b[0;31mRuntimeError\u001b[0m: This event loop is already running"
     ]
    }
   ],
   "source": [
    "# default config\n",
    "module.config()"
   ]
  },
  {
   "cell_type": "code",
   "execution_count": null,
   "metadata": {},
   "outputs": [],
   "source": []
  }
 ],
 "metadata": {
  "kernelspec": {
   "display_name": "Python 3",
   "language": "python",
   "name": "python3"
  },
  "language_info": {
   "codemirror_mode": {
    "name": "ipython",
    "version": 3
   },
   "file_extension": ".py",
   "mimetype": "text/x-python",
   "name": "python",
   "nbconvert_exporter": "python",
   "pygments_lexer": "ipython3",
   "version": "3.10.12"
  },
  "orig_nbformat": 4
 },
 "nbformat": 4,
 "nbformat_minor": 2
}

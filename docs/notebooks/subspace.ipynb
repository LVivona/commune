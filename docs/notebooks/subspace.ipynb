{
 "cells": [
  {
   "cell_type": "markdown",
   "id": "5ec0299b-bd6b-4a68-b27c-78cdd5c87393",
   "metadata": {
    "jupyter": {
     "source_hidden": true
    },
    "tags": []
   },
   "source": [
    "# Subspace Tutorial"
   ]
  },
  {
   "cell_type": "code",
   "execution_count": 4,
   "id": "8c19110b-d1ca-476f-95db-c94e0825c14f",
   "metadata": {
    "tags": []
   },
   "outputs": [],
   "source": [
    "import commune as c"
   ]
  },
  {
   "cell_type": "markdown",
   "id": "ffa12eb8-503b-4340-b4fd-fdf58ac841d6",
   "metadata": {},
   "source": [
    "#### Get subspace"
   ]
  },
  {
   "cell_type": "code",
   "execution_count": 6,
   "id": "4907bef4-3287-4109-980d-2a633105c39c",
   "metadata": {
    "collapsed": true,
    "jupyter": {
     "outputs_hidden": true
    },
    "tags": []
   },
   "outputs": [],
   "source": [
    "subspace = c.module('subspace')()"
   ]
  },
  {
   "cell_type": "markdown",
   "id": "4ac00710-deb1-4d51-92d5-04d214afc8ef",
   "metadata": {
    "tags": []
   },
   "source": [
    "## Get stats of the chain"
   ]
  },
  {
   "cell_type": "code",
   "execution_count": 9,
   "id": "15a24e10-f0ec-491b-b6cc-56cd3ba9fecb",
   "metadata": {},
   "outputs": [
    {
     "data": {
      "text/html": [
       "<div>\n",
       "<style scoped>\n",
       "    .dataframe tbody tr th:only-of-type {\n",
       "        vertical-align: middle;\n",
       "    }\n",
       "\n",
       "    .dataframe tbody tr th {\n",
       "        vertical-align: top;\n",
       "    }\n",
       "\n",
       "    .dataframe thead th {\n",
       "        text-align: right;\n",
       "    }\n",
       "</style>\n",
       "<table border=\"1\" class=\"dataframe\">\n",
       "  <thead>\n",
       "    <tr style=\"text-align: right;\">\n",
       "      <th></th>\n",
       "      <th>uid</th>\n",
       "      <th>emission</th>\n",
       "      <th>balance</th>\n",
       "      <th>incentive</th>\n",
       "      <th>dividends</th>\n",
       "      <th>stake</th>\n",
       "    </tr>\n",
       "    <tr>\n",
       "      <th>name</th>\n",
       "      <th></th>\n",
       "      <th></th>\n",
       "      <th></th>\n",
       "      <th></th>\n",
       "      <th></th>\n",
       "      <th></th>\n",
       "    </tr>\n",
       "  </thead>\n",
       "  <tbody>\n",
       "    <tr>\n",
       "      <th>dataset::kaggledatasets17</th>\n",
       "      <td>313</td>\n",
       "      <td>0.000465</td>\n",
       "      <td>0.000000</td>\n",
       "      <td>0.000885</td>\n",
       "      <td>0.000031</td>\n",
       "      <td>18.932965</td>\n",
       "    </tr>\n",
       "    <tr>\n",
       "      <th>dataset::mostliked138</th>\n",
       "      <td>267</td>\n",
       "      <td>0.000481</td>\n",
       "      <td>0.000000</td>\n",
       "      <td>0.000900</td>\n",
       "      <td>0.000046</td>\n",
       "      <td>33.523112</td>\n",
       "    </tr>\n",
       "    <tr>\n",
       "      <th>module::arnold84</th>\n",
       "      <td>1458</td>\n",
       "      <td>0.000057</td>\n",
       "      <td>0.000000</td>\n",
       "      <td>0.000107</td>\n",
       "      <td>0.000000</td>\n",
       "      <td>0.895431</td>\n",
       "    </tr>\n",
       "    <tr>\n",
       "      <th>dataset.hf::mumbai9</th>\n",
       "      <td>1024</td>\n",
       "      <td>0.000061</td>\n",
       "      <td>0.000000</td>\n",
       "      <td>0.000107</td>\n",
       "      <td>0.000000</td>\n",
       "      <td>3.424863</td>\n",
       "    </tr>\n",
       "    <tr>\n",
       "      <th>dataset::ucirepository15</th>\n",
       "      <td>518</td>\n",
       "      <td>0.000464</td>\n",
       "      <td>0.000000</td>\n",
       "      <td>0.000885</td>\n",
       "      <td>0.000031</td>\n",
       "      <td>18.526195</td>\n",
       "    </tr>\n",
       "    <tr>\n",
       "      <th>...</th>\n",
       "      <td>...</td>\n",
       "      <td>...</td>\n",
       "      <td>...</td>\n",
       "      <td>...</td>\n",
       "      <td>...</td>\n",
       "      <td>...</td>\n",
       "    </tr>\n",
       "    <tr>\n",
       "      <th>dataset::mostliked32</th>\n",
       "      <td>2055</td>\n",
       "      <td>0.000057</td>\n",
       "      <td>10.758333</td>\n",
       "      <td>0.000107</td>\n",
       "      <td>0.000000</td>\n",
       "      <td>10.866099</td>\n",
       "    </tr>\n",
       "    <tr>\n",
       "      <th>module::mojo65</th>\n",
       "      <td>1848</td>\n",
       "      <td>0.000057</td>\n",
       "      <td>0.000000</td>\n",
       "      <td>0.000107</td>\n",
       "      <td>0.000000</td>\n",
       "      <td>0.399408</td>\n",
       "    </tr>\n",
       "    <tr>\n",
       "      <th>model.openai::sup5</th>\n",
       "      <td>20</td>\n",
       "      <td>0.000553</td>\n",
       "      <td>7.633333</td>\n",
       "      <td>0.000900</td>\n",
       "      <td>0.000198</td>\n",
       "      <td>117.702140</td>\n",
       "    </tr>\n",
       "    <tr>\n",
       "      <th>module::anatoly14</th>\n",
       "      <td>1494</td>\n",
       "      <td>0.000057</td>\n",
       "      <td>0.000000</td>\n",
       "      <td>0.000107</td>\n",
       "      <td>0.000000</td>\n",
       "      <td>0.851542</td>\n",
       "    </tr>\n",
       "    <tr>\n",
       "      <th>Total</th>\n",
       "      <td>NAN</td>\n",
       "      <td>0.999999</td>\n",
       "      <td>28973.408170</td>\n",
       "      <td>0.980621</td>\n",
       "      <td>0.997574</td>\n",
       "      <td>612689.484279</td>\n",
       "    </tr>\n",
       "  </tbody>\n",
       "</table>\n",
       "<p>2260 rows × 6 columns</p>\n",
       "</div>"
      ],
      "text/plain": [
       "                            uid  emission       balance  incentive  dividends  \\\n",
       "name                                                                            \n",
       "dataset::kaggledatasets17   313  0.000465      0.000000   0.000885   0.000031   \n",
       "dataset::mostliked138       267  0.000481      0.000000   0.000900   0.000046   \n",
       "module::arnold84           1458  0.000057      0.000000   0.000107   0.000000   \n",
       "dataset.hf::mumbai9        1024  0.000061      0.000000   0.000107   0.000000   \n",
       "dataset::ucirepository15    518  0.000464      0.000000   0.000885   0.000031   \n",
       "...                         ...       ...           ...        ...        ...   \n",
       "dataset::mostliked32       2055  0.000057     10.758333   0.000107   0.000000   \n",
       "module::mojo65             1848  0.000057      0.000000   0.000107   0.000000   \n",
       "model.openai::sup5           20  0.000553      7.633333   0.000900   0.000198   \n",
       "module::anatoly14          1494  0.000057      0.000000   0.000107   0.000000   \n",
       "Total                       NAN  0.999999  28973.408170   0.980621   0.997574   \n",
       "\n",
       "                                   stake  \n",
       "name                                      \n",
       "dataset::kaggledatasets17      18.932965  \n",
       "dataset::mostliked138          33.523112  \n",
       "module::arnold84                0.895431  \n",
       "dataset.hf::mumbai9             3.424863  \n",
       "dataset::ucirepository15       18.526195  \n",
       "...                                  ...  \n",
       "dataset::mostliked32           10.866099  \n",
       "module::mojo65                  0.399408  \n",
       "model.openai::sup5            117.702140  \n",
       "module::anatoly14               0.851542  \n",
       "Total                      612689.484279  \n",
       "\n",
       "[2260 rows x 6 columns]"
      ]
     },
     "execution_count": 9,
     "metadata": {},
     "output_type": "execute_result"
    }
   ],
   "source": [
    "df = subspace.stats()\n",
    "df.sort_values('count', ascending=False).head(10)"
   ]
  },
  {
   "cell_type": "code",
   "execution_count": 1,
   "id": "21795288-d3b2-4523-a622-48e83a55a476",
   "metadata": {},
   "outputs": [
    {
     "ename": "NameError",
     "evalue": "name 'module' is not defined",
     "output_type": "error",
     "traceback": [
      "\u001b[0;31m---------------------------------------------------------------------------\u001b[0m",
      "\u001b[0;31mNameError\u001b[0m                                 Traceback (most recent call last)",
      "Cell \u001b[0;32mIn[1], line 1\u001b[0m\n\u001b[0;32m----> 1\u001b[0m \u001b[43mmodule\u001b[49m\u001b[38;5;241m.\u001b[39mkill_port(\u001b[38;5;241m50050\u001b[39m)\n",
      "\u001b[0;31mNameError\u001b[0m: name 'module' is not defined"
     ]
    }
   ],
   "source": []
  },
  {
   "cell_type": "code",
   "execution_count": null,
   "id": "c6849b3a-3664-44ef-beae-d82c6f509459",
   "metadata": {},
   "outputs": [],
   "source": [
    "module.servers()"
   ]
  },
  {
   "cell_type": "code",
   "execution_count": null,
   "id": "82f050fe-f1f7-4ba7-a558-9ae8e633c1a4",
   "metadata": {},
   "outputs": [],
   "source": []
  }
 ],
 "metadata": {
  "kernelspec": {
   "display_name": "Python 3 (ipykernel)",
   "language": "python",
   "name": "python3"
  },
  "language_info": {
   "codemirror_mode": {
    "name": "ipython",
    "version": 3
   },
   "file_extension": ".py",
   "mimetype": "text/x-python",
   "name": "python",
   "nbconvert_exporter": "python",
   "pygments_lexer": "ipython3",
   "version": "3.10.6"
  }
 },
 "nbformat": 4,
 "nbformat_minor": 5
}

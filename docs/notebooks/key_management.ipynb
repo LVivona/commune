{
 "cells": [
  {
   "cell_type": "code",
   "execution_count": 1,
   "metadata": {},
   "outputs": [],
   "source": [
    "import commune as c"
   ]
  },
  {
   "cell_type": "code",
   "execution_count": 2,
   "metadata": {},
   "outputs": [
    {
     "data": {
      "text/html": [
       "<pre style=\"white-space:pre;overflow-x:auto;line-height:normal;font-family:Menlo,'DejaVu Sans Mono',consolas,'Courier New',monospace\"><span style=\"font-weight: bold\">[</span>\n",
       "    <span style=\"color: #008000; text-decoration-color: #008000\">'dataset.hf'</span>,\n",
       "    <span style=\"color: #008000; text-decoration-color: #008000\">'fam'</span>,\n",
       "    <span style=\"color: #008000; text-decoration-color: #008000\">'model'</span>,\n",
       "    <span style=\"color: #008000; text-decoration-color: #008000\">'model.openai'</span>,\n",
       "    <span style=\"color: #008000; text-decoration-color: #008000\">'model.openai::m2'</span>,\n",
       "    <span style=\"color: #008000; text-decoration-color: #008000\">'model.openai::mao0'</span>,\n",
       "    <span style=\"color: #008000; text-decoration-color: #008000\">'model.openai::mao1'</span>,\n",
       "    <span style=\"color: #008000; text-decoration-color: #008000\">'model.openai::mao10'</span>,\n",
       "    <span style=\"color: #008000; text-decoration-color: #008000\">'model.openai::mao11'</span>,\n",
       "    <span style=\"color: #008000; text-decoration-color: #008000\">'model.openai::mao12'</span>\n",
       "<span style=\"font-weight: bold\">]</span>\n",
       "</pre>\n"
      ],
      "text/plain": [
       "\u001b[1m[\u001b[0m\n",
       "    \u001b[32m'dataset.hf'\u001b[0m,\n",
       "    \u001b[32m'fam'\u001b[0m,\n",
       "    \u001b[32m'model'\u001b[0m,\n",
       "    \u001b[32m'model.openai'\u001b[0m,\n",
       "    \u001b[32m'model.openai::m2'\u001b[0m,\n",
       "    \u001b[32m'model.openai::mao0'\u001b[0m,\n",
       "    \u001b[32m'model.openai::mao1'\u001b[0m,\n",
       "    \u001b[32m'model.openai::mao10'\u001b[0m,\n",
       "    \u001b[32m'model.openai::mao11'\u001b[0m,\n",
       "    \u001b[32m'model.openai::mao12'\u001b[0m\n",
       "\u001b[1m]\u001b[0m\n"
      ]
     },
     "metadata": {},
     "output_type": "display_data"
    }
   ],
   "source": [
    "\n",
    "# list all of your keys\n",
    "keys = c.keys()\n",
    "c.print(keys[:10])"
   ]
  },
  {
   "cell_type": "markdown",
   "metadata": {},
   "source": [
    "## Filter Keys"
   ]
  },
  {
   "cell_type": "code",
   "execution_count": 3,
   "metadata": {},
   "outputs": [
    {
     "data": {
      "text/html": [
       "<pre style=\"white-space:pre;overflow-x:auto;line-height:normal;font-family:Menlo,'DejaVu Sans Mono',consolas,'Courier New',monospace\">subspace\n",
       "<span style=\"font-weight: bold\">[</span>\n",
       "    <span style=\"color: #008000; text-decoration-color: #008000\">'subspace.node.dev.alice.aura'</span>,\n",
       "    <span style=\"color: #008000; text-decoration-color: #008000\">'subspace.node.dev.alice.gran'</span>,\n",
       "    <span style=\"color: #008000; text-decoration-color: #008000\">'subspace.node.dev.bob.aura'</span>,\n",
       "    <span style=\"color: #008000; text-decoration-color: #008000\">'subspace.node.dev.bob.gran'</span>,\n",
       "    <span style=\"color: #008000; text-decoration-color: #008000\">'subspace.node.dev.bruh.aura'</span>,\n",
       "    <span style=\"color: #008000; text-decoration-color: #008000\">'subspace.node.dev.bruh.gran'</span>,\n",
       "    <span style=\"color: #008000; text-decoration-color: #008000\">'subspace.node.dev.chris.aura'</span>,\n",
       "    <span style=\"color: #008000; text-decoration-color: #008000\">'subspace.node.dev.chris.gran'</span>,\n",
       "    <span style=\"color: #008000; text-decoration-color: #008000\">'subspace.node.dev.elon.aura'</span>,\n",
       "    <span style=\"color: #008000; text-decoration-color: #008000\">'subspace.node.dev.elon.gran'</span>\n",
       "<span style=\"font-weight: bold\">]</span>\n",
       "<span style=\"color: #808000; text-decoration-color: #808000\">...</span>\n",
       "</pre>\n"
      ],
      "text/plain": [
       "subspace\n",
       "\u001b[1m[\u001b[0m\n",
       "    \u001b[32m'subspace.node.dev.alice.aura'\u001b[0m,\n",
       "    \u001b[32m'subspace.node.dev.alice.gran'\u001b[0m,\n",
       "    \u001b[32m'subspace.node.dev.bob.aura'\u001b[0m,\n",
       "    \u001b[32m'subspace.node.dev.bob.gran'\u001b[0m,\n",
       "    \u001b[32m'subspace.node.dev.bruh.aura'\u001b[0m,\n",
       "    \u001b[32m'subspace.node.dev.bruh.gran'\u001b[0m,\n",
       "    \u001b[32m'subspace.node.dev.chris.aura'\u001b[0m,\n",
       "    \u001b[32m'subspace.node.dev.chris.gran'\u001b[0m,\n",
       "    \u001b[32m'subspace.node.dev.elon.aura'\u001b[0m,\n",
       "    \u001b[32m'subspace.node.dev.elon.gran'\u001b[0m\n",
       "\u001b[1m]\u001b[0m\n",
       "\u001b[33m...\u001b[0m\n"
      ]
     },
     "metadata": {},
     "output_type": "display_data"
    },
    {
     "data": {
      "text/html": [
       "<pre style=\"white-space:pre;overflow-x:auto;line-height:normal;font-family:Menlo,'DejaVu Sans Mono',consolas,'Courier New',monospace\">model\n",
       "<span style=\"font-weight: bold\">[</span>\n",
       "    <span style=\"color: #008000; text-decoration-color: #008000\">'model'</span>,\n",
       "    <span style=\"color: #008000; text-decoration-color: #008000\">'model.openai'</span>,\n",
       "    <span style=\"color: #008000; text-decoration-color: #008000\">'model.openai::m2'</span>,\n",
       "    <span style=\"color: #008000; text-decoration-color: #008000\">'model.openai::mao0'</span>,\n",
       "    <span style=\"color: #008000; text-decoration-color: #008000\">'model.openai::mao1'</span>,\n",
       "    <span style=\"color: #008000; text-decoration-color: #008000\">'model.openai::mao10'</span>,\n",
       "    <span style=\"color: #008000; text-decoration-color: #008000\">'model.openai::mao11'</span>,\n",
       "    <span style=\"color: #008000; text-decoration-color: #008000\">'model.openai::mao12'</span>,\n",
       "    <span style=\"color: #008000; text-decoration-color: #008000\">'model.openai::mao13'</span>,\n",
       "    <span style=\"color: #008000; text-decoration-color: #008000\">'model.openai::mao14'</span>\n",
       "<span style=\"font-weight: bold\">]</span>\n",
       "<span style=\"color: #808000; text-decoration-color: #808000\">...</span>\n",
       "</pre>\n"
      ],
      "text/plain": [
       "model\n",
       "\u001b[1m[\u001b[0m\n",
       "    \u001b[32m'model'\u001b[0m,\n",
       "    \u001b[32m'model.openai'\u001b[0m,\n",
       "    \u001b[32m'model.openai::m2'\u001b[0m,\n",
       "    \u001b[32m'model.openai::mao0'\u001b[0m,\n",
       "    \u001b[32m'model.openai::mao1'\u001b[0m,\n",
       "    \u001b[32m'model.openai::mao10'\u001b[0m,\n",
       "    \u001b[32m'model.openai::mao11'\u001b[0m,\n",
       "    \u001b[32m'model.openai::mao12'\u001b[0m,\n",
       "    \u001b[32m'model.openai::mao13'\u001b[0m,\n",
       "    \u001b[32m'model.openai::mao14'\u001b[0m\n",
       "\u001b[1m]\u001b[0m\n",
       "\u001b[33m...\u001b[0m\n"
      ]
     },
     "metadata": {},
     "output_type": "display_data"
    }
   ],
   "source": [
    "# filter keys\n",
    "for k in ['subspace', 'model']:\n",
    "    c.print(k,c.keys(k)[:10], '...')"
   ]
  },
  {
   "cell_type": "markdown",
   "metadata": {},
   "source": [
    "## Add Key"
   ]
  },
  {
   "cell_type": "code",
   "execution_count": 4,
   "metadata": {},
   "outputs": [
    {
     "data": {
      "text/plain": [
       "{'status': 'error', 'message': 'key already exists at ola'}"
      ]
     },
     "execution_count": 4,
     "metadata": {},
     "output_type": "execute_result"
    }
   ],
   "source": [
    "c.add_key('ola')"
   ]
  },
  {
   "cell_type": "markdown",
   "metadata": {},
   "source": [
    "## Remove Key"
   ]
  },
  {
   "cell_type": "code",
   "execution_count": 5,
   "metadata": {},
   "outputs": [
    {
     "data": {
      "text/plain": [
       "{'deleted': ['ola']}"
      ]
     },
     "execution_count": 5,
     "metadata": {},
     "output_type": "execute_result"
    }
   ],
   "source": [
    "\n",
    "\n",
    "c.rm_key('ola')"
   ]
  },
  {
   "cell_type": "code",
   "execution_count": 6,
   "metadata": {},
   "outputs": [
    {
     "data": {
      "text/html": [
       "<pre style=\"white-space:pre;overflow-x:auto;line-height:normal;font-family:Menlo,'DejaVu Sans Mono',consolas,'Courier New',monospace\">key does not exist, generating new key -&gt; <span style=\"font-weight: bold\">&lt;</span><span style=\"color: #ff00ff; text-decoration-color: #ff00ff; font-weight: bold\">Keypair</span><span style=\"color: #000000; text-decoration-color: #000000\"> </span><span style=\"color: #000000; text-decoration-color: #000000; font-weight: bold\">(</span><span style=\"color: #808000; text-decoration-color: #808000\">address</span><span style=\"color: #000000; text-decoration-color: #000000\">=</span><span style=\"color: #800080; text-decoration-color: #800080\">5Gxk7Mw4qtdHjR7PL25ifZecpfxM53Dfch5CYAcBYSG6pxaK</span><span style=\"color: #000000; text-decoration-color: #000000\">, </span>\n",
       "<span style=\"color: #808000; text-decoration-color: #808000\">path</span><span style=\"color: #000000; text-decoration-color: #000000\">=</span><span style=\"color: #800080; text-decoration-color: #800080; font-style: italic\">None</span><span style=\"color: #000000; text-decoration-color: #000000\">,  crypto_type: SR25519</span><span style=\"color: #000000; text-decoration-color: #000000; font-weight: bold\">)</span><span style=\"font-weight: bold\">&gt;</span>\n",
       "</pre>\n"
      ],
      "text/plain": [
       "key does not exist, generating new key -> \u001b[1m<\u001b[0m\u001b[1;95mKeypair\u001b[0m\u001b[39m \u001b[0m\u001b[1;39m(\u001b[0m\u001b[33maddress\u001b[0m\u001b[39m=\u001b[0m\u001b[35m5Gxk7Mw4qtdHjR7PL25ifZecpfxM53Dfch5CYAcBYSG6pxaK\u001b[0m\u001b[39m, \u001b[0m\n",
       "\u001b[33mpath\u001b[0m\u001b[39m=\u001b[0m\u001b[3;35mNone\u001b[0m\u001b[39m,  crypto_type: SR25519\u001b[0m\u001b[1;39m)\u001b[0m\u001b[1m>\u001b[0m\n"
      ]
     },
     "metadata": {},
     "output_type": "display_data"
    },
    {
     "data": {
      "text/plain": [
       "<Keypair (address=5Gxk7Mw4qtdHjR7PL25ifZecpfxM53Dfch5CYAcBYSG6pxaK, path=ola,  crypto_type: SR25519)>"
      ]
     },
     "execution_count": 6,
     "metadata": {},
     "output_type": "execute_result"
    }
   ],
   "source": [
    "c.get_key('ola')"
   ]
  },
  {
   "cell_type": "code",
   "execution_count": 7,
   "metadata": {},
   "outputs": [
    {
     "data": {
      "text/plain": [
       "{'crypto_type': 1,\n",
       " 'seed_hex': '24ad88c5853bf42a7092bf9edfcbcf3e72c03bc5b94abaa9af23cb54b228a6ca',\n",
       " 'derive_path': None,\n",
       " 'path': 'ola',\n",
       " 'ss58_format': 42,\n",
       " 'public_key': 'd8a147bc124d30eafe50cab1896cf7c378728dd2e98326a7709a49d2dbc97931',\n",
       " 'ss58_address': '5Gxk7Mw4qtdHjR7PL25ifZecpfxM53Dfch5CYAcBYSG6pxaK',\n",
       " 'private_key': 'bbc5079ea1c092656a88c6a2c6cb4523128780ea3002ab7396cc062d4998bb0d9ebef806ef2ed58281296c1d6fbf283147b32509ee3b266c291eed3c31f95d92',\n",
       " 'mnemonic': 'front torch entry road humor palm destroy master mother thrive island exile'}"
      ]
     },
     "execution_count": 7,
     "metadata": {},
     "output_type": "execute_result"
    }
   ],
   "source": [
    "c.module('key').key_info('ola')"
   ]
  },
  {
   "cell_type": "code",
   "execution_count": 8,
   "metadata": {},
   "outputs": [
    {
     "data": {
      "text/plain": [
       "{'status': 'success',\n",
       " 'message': 'keys saved to /Users/salvivona/commune/data/key.json'}"
      ]
     },
     "execution_count": 8,
     "metadata": {},
     "output_type": "execute_result"
    }
   ],
   "source": [
    "c.save_keys()"
   ]
  },
  {
   "cell_type": "code",
   "execution_count": 9,
   "metadata": {},
   "outputs": [
    {
     "data": {
      "text/html": [
       "<pre style=\"white-space:pre;overflow-x:auto;line-height:normal;font-family:Menlo,'DejaVu Sans Mono',consolas,'Courier New',monospace\"><span style=\"color: #008000; text-decoration-color: #008000\">key dataset.hf loaded</span>\n",
       "</pre>\n"
      ],
      "text/plain": [
       "\u001b[32mkey dataset.hf loaded\u001b[0m\n"
      ]
     },
     "metadata": {},
     "output_type": "display_data"
    },
    {
     "data": {
      "text/html": [
       "<pre style=\"white-space:pre;overflow-x:auto;line-height:normal;font-family:Menlo,'DejaVu Sans Mono',consolas,'Courier New',monospace\"><span style=\"color: #008000; text-decoration-color: #008000\">key fam loaded</span>\n",
       "</pre>\n"
      ],
      "text/plain": [
       "\u001b[32mkey fam loaded\u001b[0m\n"
      ]
     },
     "metadata": {},
     "output_type": "display_data"
    },
    {
     "data": {
      "text/html": [
       "<pre style=\"white-space:pre;overflow-x:auto;line-height:normal;font-family:Menlo,'DejaVu Sans Mono',consolas,'Courier New',monospace\"><span style=\"color: #008000; text-decoration-color: #008000\">key model loaded</span>\n",
       "</pre>\n"
      ],
      "text/plain": [
       "\u001b[32mkey model loaded\u001b[0m\n"
      ]
     },
     "metadata": {},
     "output_type": "display_data"
    },
    {
     "data": {
      "text/html": [
       "<pre style=\"white-space:pre;overflow-x:auto;line-height:normal;font-family:Menlo,'DejaVu Sans Mono',consolas,'Courier New',monospace\"><span style=\"color: #008000; text-decoration-color: #008000\">key model.openai loaded</span>\n",
       "</pre>\n"
      ],
      "text/plain": [
       "\u001b[32mkey model.openai loaded\u001b[0m\n"
      ]
     },
     "metadata": {},
     "output_type": "display_data"
    },
    {
     "data": {
      "text/html": [
       "<pre style=\"white-space:pre;overflow-x:auto;line-height:normal;font-family:Menlo,'DejaVu Sans Mono',consolas,'Courier New',monospace\"><span style=\"color: #008000; text-decoration-color: #008000\">key model.openai::m2 loaded</span>\n",
       "</pre>\n"
      ],
      "text/plain": [
       "\u001b[32mkey model.openai::m2 loaded\u001b[0m\n"
      ]
     },
     "metadata": {},
     "output_type": "display_data"
    },
    {
     "data": {
      "text/html": [
       "<pre style=\"white-space:pre;overflow-x:auto;line-height:normal;font-family:Menlo,'DejaVu Sans Mono',consolas,'Courier New',monospace\"><span style=\"color: #008000; text-decoration-color: #008000\">key model.openai::mao0 loaded</span>\n",
       "</pre>\n"
      ],
      "text/plain": [
       "\u001b[32mkey model.openai::mao0 loaded\u001b[0m\n"
      ]
     },
     "metadata": {},
     "output_type": "display_data"
    },
    {
     "data": {
      "text/html": [
       "<pre style=\"white-space:pre;overflow-x:auto;line-height:normal;font-family:Menlo,'DejaVu Sans Mono',consolas,'Courier New',monospace\"><span style=\"color: #008000; text-decoration-color: #008000\">key model.openai::mao1 loaded</span>\n",
       "</pre>\n"
      ],
      "text/plain": [
       "\u001b[32mkey model.openai::mao1 loaded\u001b[0m\n"
      ]
     },
     "metadata": {},
     "output_type": "display_data"
    },
    {
     "data": {
      "text/html": [
       "<pre style=\"white-space:pre;overflow-x:auto;line-height:normal;font-family:Menlo,'DejaVu Sans Mono',consolas,'Courier New',monospace\"><span style=\"color: #008000; text-decoration-color: #008000\">key model.openai::mao10 loaded</span>\n",
       "</pre>\n"
      ],
      "text/plain": [
       "\u001b[32mkey model.openai::mao10 loaded\u001b[0m\n"
      ]
     },
     "metadata": {},
     "output_type": "display_data"
    },
    {
     "data": {
      "text/html": [
       "<pre style=\"white-space:pre;overflow-x:auto;line-height:normal;font-family:Menlo,'DejaVu Sans Mono',consolas,'Courier New',monospace\"><span style=\"color: #008000; text-decoration-color: #008000\">key model.openai::mao11 loaded</span>\n",
       "</pre>\n"
      ],
      "text/plain": [
       "\u001b[32mkey model.openai::mao11 loaded\u001b[0m\n"
      ]
     },
     "metadata": {},
     "output_type": "display_data"
    },
    {
     "data": {
      "text/html": [
       "<pre style=\"white-space:pre;overflow-x:auto;line-height:normal;font-family:Menlo,'DejaVu Sans Mono',consolas,'Courier New',monospace\"><span style=\"color: #008000; text-decoration-color: #008000\">key model.openai::mao12 loaded</span>\n",
       "</pre>\n"
      ],
      "text/plain": [
       "\u001b[32mkey model.openai::mao12 loaded\u001b[0m\n"
      ]
     },
     "metadata": {},
     "output_type": "display_data"
    },
    {
     "data": {
      "text/html": [
       "<pre style=\"white-space:pre;overflow-x:auto;line-height:normal;font-family:Menlo,'DejaVu Sans Mono',consolas,'Courier New',monospace\"><span style=\"color: #008000; text-decoration-color: #008000\">key model.openai::mao13 loaded</span>\n",
       "</pre>\n"
      ],
      "text/plain": [
       "\u001b[32mkey model.openai::mao13 loaded\u001b[0m\n"
      ]
     },
     "metadata": {},
     "output_type": "display_data"
    },
    {
     "data": {
      "text/html": [
       "<pre style=\"white-space:pre;overflow-x:auto;line-height:normal;font-family:Menlo,'DejaVu Sans Mono',consolas,'Courier New',monospace\"><span style=\"color: #008000; text-decoration-color: #008000\">key model.openai::mao14 loaded</span>\n",
       "</pre>\n"
      ],
      "text/plain": [
       "\u001b[32mkey model.openai::mao14 loaded\u001b[0m\n"
      ]
     },
     "metadata": {},
     "output_type": "display_data"
    },
    {
     "data": {
      "text/html": [
       "<pre style=\"white-space:pre;overflow-x:auto;line-height:normal;font-family:Menlo,'DejaVu Sans Mono',consolas,'Courier New',monospace\"><span style=\"color: #008000; text-decoration-color: #008000\">key model.openai::mao15 loaded</span>\n",
       "</pre>\n"
      ],
      "text/plain": [
       "\u001b[32mkey model.openai::mao15 loaded\u001b[0m\n"
      ]
     },
     "metadata": {},
     "output_type": "display_data"
    },
    {
     "data": {
      "text/html": [
       "<pre style=\"white-space:pre;overflow-x:auto;line-height:normal;font-family:Menlo,'DejaVu Sans Mono',consolas,'Courier New',monospace\"><span style=\"color: #008000; text-decoration-color: #008000\">key model.openai::mao16 loaded</span>\n",
       "</pre>\n"
      ],
      "text/plain": [
       "\u001b[32mkey model.openai::mao16 loaded\u001b[0m\n"
      ]
     },
     "metadata": {},
     "output_type": "display_data"
    },
    {
     "data": {
      "text/html": [
       "<pre style=\"white-space:pre;overflow-x:auto;line-height:normal;font-family:Menlo,'DejaVu Sans Mono',consolas,'Courier New',monospace\"><span style=\"color: #008000; text-decoration-color: #008000\">key model.openai::mao17 loaded</span>\n",
       "</pre>\n"
      ],
      "text/plain": [
       "\u001b[32mkey model.openai::mao17 loaded\u001b[0m\n"
      ]
     },
     "metadata": {},
     "output_type": "display_data"
    },
    {
     "data": {
      "text/html": [
       "<pre style=\"white-space:pre;overflow-x:auto;line-height:normal;font-family:Menlo,'DejaVu Sans Mono',consolas,'Courier New',monospace\"><span style=\"color: #008000; text-decoration-color: #008000\">key model.openai::mao18 loaded</span>\n",
       "</pre>\n"
      ],
      "text/plain": [
       "\u001b[32mkey model.openai::mao18 loaded\u001b[0m\n"
      ]
     },
     "metadata": {},
     "output_type": "display_data"
    },
    {
     "data": {
      "text/html": [
       "<pre style=\"white-space:pre;overflow-x:auto;line-height:normal;font-family:Menlo,'DejaVu Sans Mono',consolas,'Courier New',monospace\"><span style=\"color: #008000; text-decoration-color: #008000\">key model.openai::mao19 loaded</span>\n",
       "</pre>\n"
      ],
      "text/plain": [
       "\u001b[32mkey model.openai::mao19 loaded\u001b[0m\n"
      ]
     },
     "metadata": {},
     "output_type": "display_data"
    },
    {
     "data": {
      "text/html": [
       "<pre style=\"white-space:pre;overflow-x:auto;line-height:normal;font-family:Menlo,'DejaVu Sans Mono',consolas,'Courier New',monospace\"><span style=\"color: #008000; text-decoration-color: #008000\">key model.openai::mao2 loaded</span>\n",
       "</pre>\n"
      ],
      "text/plain": [
       "\u001b[32mkey model.openai::mao2 loaded\u001b[0m\n"
      ]
     },
     "metadata": {},
     "output_type": "display_data"
    },
    {
     "data": {
      "text/html": [
       "<pre style=\"white-space:pre;overflow-x:auto;line-height:normal;font-family:Menlo,'DejaVu Sans Mono',consolas,'Courier New',monospace\"><span style=\"color: #008000; text-decoration-color: #008000\">key model.openai::mao20 loaded</span>\n",
       "</pre>\n"
      ],
      "text/plain": [
       "\u001b[32mkey model.openai::mao20 loaded\u001b[0m\n"
      ]
     },
     "metadata": {},
     "output_type": "display_data"
    },
    {
     "data": {
      "text/html": [
       "<pre style=\"white-space:pre;overflow-x:auto;line-height:normal;font-family:Menlo,'DejaVu Sans Mono',consolas,'Courier New',monospace\"><span style=\"color: #008000; text-decoration-color: #008000\">key model.openai::mao21 loaded</span>\n",
       "</pre>\n"
      ],
      "text/plain": [
       "\u001b[32mkey model.openai::mao21 loaded\u001b[0m\n"
      ]
     },
     "metadata": {},
     "output_type": "display_data"
    },
    {
     "data": {
      "text/html": [
       "<pre style=\"white-space:pre;overflow-x:auto;line-height:normal;font-family:Menlo,'DejaVu Sans Mono',consolas,'Courier New',monospace\"><span style=\"color: #008000; text-decoration-color: #008000\">key model.openai::mao22 loaded</span>\n",
       "</pre>\n"
      ],
      "text/plain": [
       "\u001b[32mkey model.openai::mao22 loaded\u001b[0m\n"
      ]
     },
     "metadata": {},
     "output_type": "display_data"
    },
    {
     "data": {
      "text/html": [
       "<pre style=\"white-space:pre;overflow-x:auto;line-height:normal;font-family:Menlo,'DejaVu Sans Mono',consolas,'Courier New',monospace\"><span style=\"color: #008000; text-decoration-color: #008000\">key model.openai::mao23 loaded</span>\n",
       "</pre>\n"
      ],
      "text/plain": [
       "\u001b[32mkey model.openai::mao23 loaded\u001b[0m\n"
      ]
     },
     "metadata": {},
     "output_type": "display_data"
    },
    {
     "data": {
      "text/html": [
       "<pre style=\"white-space:pre;overflow-x:auto;line-height:normal;font-family:Menlo,'DejaVu Sans Mono',consolas,'Courier New',monospace\"><span style=\"color: #008000; text-decoration-color: #008000\">key model.openai::mao24 loaded</span>\n",
       "</pre>\n"
      ],
      "text/plain": [
       "\u001b[32mkey model.openai::mao24 loaded\u001b[0m\n"
      ]
     },
     "metadata": {},
     "output_type": "display_data"
    },
    {
     "data": {
      "text/html": [
       "<pre style=\"white-space:pre;overflow-x:auto;line-height:normal;font-family:Menlo,'DejaVu Sans Mono',consolas,'Courier New',monospace\"><span style=\"color: #008000; text-decoration-color: #008000\">key model.openai::mao25 loaded</span>\n",
       "</pre>\n"
      ],
      "text/plain": [
       "\u001b[32mkey model.openai::mao25 loaded\u001b[0m\n"
      ]
     },
     "metadata": {},
     "output_type": "display_data"
    },
    {
     "data": {
      "text/html": [
       "<pre style=\"white-space:pre;overflow-x:auto;line-height:normal;font-family:Menlo,'DejaVu Sans Mono',consolas,'Courier New',monospace\"><span style=\"color: #008000; text-decoration-color: #008000\">key model.openai::mao26 loaded</span>\n",
       "</pre>\n"
      ],
      "text/plain": [
       "\u001b[32mkey model.openai::mao26 loaded\u001b[0m\n"
      ]
     },
     "metadata": {},
     "output_type": "display_data"
    },
    {
     "data": {
      "text/html": [
       "<pre style=\"white-space:pre;overflow-x:auto;line-height:normal;font-family:Menlo,'DejaVu Sans Mono',consolas,'Courier New',monospace\"><span style=\"color: #008000; text-decoration-color: #008000\">key model.openai::mao27 loaded</span>\n",
       "</pre>\n"
      ],
      "text/plain": [
       "\u001b[32mkey model.openai::mao27 loaded\u001b[0m\n"
      ]
     },
     "metadata": {},
     "output_type": "display_data"
    },
    {
     "data": {
      "text/html": [
       "<pre style=\"white-space:pre;overflow-x:auto;line-height:normal;font-family:Menlo,'DejaVu Sans Mono',consolas,'Courier New',monospace\"><span style=\"color: #008000; text-decoration-color: #008000\">key model.openai::mao28 loaded</span>\n",
       "</pre>\n"
      ],
      "text/plain": [
       "\u001b[32mkey model.openai::mao28 loaded\u001b[0m\n"
      ]
     },
     "metadata": {},
     "output_type": "display_data"
    },
    {
     "data": {
      "text/html": [
       "<pre style=\"white-space:pre;overflow-x:auto;line-height:normal;font-family:Menlo,'DejaVu Sans Mono',consolas,'Courier New',monospace\"><span style=\"color: #008000; text-decoration-color: #008000\">key model.openai::mao29 loaded</span>\n",
       "</pre>\n"
      ],
      "text/plain": [
       "\u001b[32mkey model.openai::mao29 loaded\u001b[0m\n"
      ]
     },
     "metadata": {},
     "output_type": "display_data"
    },
    {
     "data": {
      "text/html": [
       "<pre style=\"white-space:pre;overflow-x:auto;line-height:normal;font-family:Menlo,'DejaVu Sans Mono',consolas,'Courier New',monospace\"><span style=\"color: #008000; text-decoration-color: #008000\">key model.openai::mao3 loaded</span>\n",
       "</pre>\n"
      ],
      "text/plain": [
       "\u001b[32mkey model.openai::mao3 loaded\u001b[0m\n"
      ]
     },
     "metadata": {},
     "output_type": "display_data"
    },
    {
     "data": {
      "text/html": [
       "<pre style=\"white-space:pre;overflow-x:auto;line-height:normal;font-family:Menlo,'DejaVu Sans Mono',consolas,'Courier New',monospace\"><span style=\"color: #008000; text-decoration-color: #008000\">key model.openai::mao30 loaded</span>\n",
       "</pre>\n"
      ],
      "text/plain": [
       "\u001b[32mkey model.openai::mao30 loaded\u001b[0m\n"
      ]
     },
     "metadata": {},
     "output_type": "display_data"
    },
    {
     "data": {
      "text/html": [
       "<pre style=\"white-space:pre;overflow-x:auto;line-height:normal;font-family:Menlo,'DejaVu Sans Mono',consolas,'Courier New',monospace\"><span style=\"color: #008000; text-decoration-color: #008000\">key model.openai::mao31 loaded</span>\n",
       "</pre>\n"
      ],
      "text/plain": [
       "\u001b[32mkey model.openai::mao31 loaded\u001b[0m\n"
      ]
     },
     "metadata": {},
     "output_type": "display_data"
    },
    {
     "data": {
      "text/html": [
       "<pre style=\"white-space:pre;overflow-x:auto;line-height:normal;font-family:Menlo,'DejaVu Sans Mono',consolas,'Courier New',monospace\"><span style=\"color: #008000; text-decoration-color: #008000\">key model.openai::mao32 loaded</span>\n",
       "</pre>\n"
      ],
      "text/plain": [
       "\u001b[32mkey model.openai::mao32 loaded\u001b[0m\n"
      ]
     },
     "metadata": {},
     "output_type": "display_data"
    },
    {
     "data": {
      "text/html": [
       "<pre style=\"white-space:pre;overflow-x:auto;line-height:normal;font-family:Menlo,'DejaVu Sans Mono',consolas,'Courier New',monospace\"><span style=\"color: #008000; text-decoration-color: #008000\">key model.openai::mao33 loaded</span>\n",
       "</pre>\n"
      ],
      "text/plain": [
       "\u001b[32mkey model.openai::mao33 loaded\u001b[0m\n"
      ]
     },
     "metadata": {},
     "output_type": "display_data"
    },
    {
     "data": {
      "text/html": [
       "<pre style=\"white-space:pre;overflow-x:auto;line-height:normal;font-family:Menlo,'DejaVu Sans Mono',consolas,'Courier New',monospace\"><span style=\"color: #008000; text-decoration-color: #008000\">key model.openai::mao34 loaded</span>\n",
       "</pre>\n"
      ],
      "text/plain": [
       "\u001b[32mkey model.openai::mao34 loaded\u001b[0m\n"
      ]
     },
     "metadata": {},
     "output_type": "display_data"
    },
    {
     "data": {
      "text/html": [
       "<pre style=\"white-space:pre;overflow-x:auto;line-height:normal;font-family:Menlo,'DejaVu Sans Mono',consolas,'Courier New',monospace\"><span style=\"color: #008000; text-decoration-color: #008000\">key model.openai::mao35 loaded</span>\n",
       "</pre>\n"
      ],
      "text/plain": [
       "\u001b[32mkey model.openai::mao35 loaded\u001b[0m\n"
      ]
     },
     "metadata": {},
     "output_type": "display_data"
    },
    {
     "data": {
      "text/html": [
       "<pre style=\"white-space:pre;overflow-x:auto;line-height:normal;font-family:Menlo,'DejaVu Sans Mono',consolas,'Courier New',monospace\"><span style=\"color: #008000; text-decoration-color: #008000\">key model.openai::mao36 loaded</span>\n",
       "</pre>\n"
      ],
      "text/plain": [
       "\u001b[32mkey model.openai::mao36 loaded\u001b[0m\n"
      ]
     },
     "metadata": {},
     "output_type": "display_data"
    },
    {
     "data": {
      "text/html": [
       "<pre style=\"white-space:pre;overflow-x:auto;line-height:normal;font-family:Menlo,'DejaVu Sans Mono',consolas,'Courier New',monospace\"><span style=\"color: #008000; text-decoration-color: #008000\">key model.openai::mao37 loaded</span>\n",
       "</pre>\n"
      ],
      "text/plain": [
       "\u001b[32mkey model.openai::mao37 loaded\u001b[0m\n"
      ]
     },
     "metadata": {},
     "output_type": "display_data"
    },
    {
     "data": {
      "text/html": [
       "<pre style=\"white-space:pre;overflow-x:auto;line-height:normal;font-family:Menlo,'DejaVu Sans Mono',consolas,'Courier New',monospace\"><span style=\"color: #008000; text-decoration-color: #008000\">key model.openai::mao38 loaded</span>\n",
       "</pre>\n"
      ],
      "text/plain": [
       "\u001b[32mkey model.openai::mao38 loaded\u001b[0m\n"
      ]
     },
     "metadata": {},
     "output_type": "display_data"
    },
    {
     "data": {
      "text/html": [
       "<pre style=\"white-space:pre;overflow-x:auto;line-height:normal;font-family:Menlo,'DejaVu Sans Mono',consolas,'Courier New',monospace\"><span style=\"color: #008000; text-decoration-color: #008000\">key model.openai::mao39 loaded</span>\n",
       "</pre>\n"
      ],
      "text/plain": [
       "\u001b[32mkey model.openai::mao39 loaded\u001b[0m\n"
      ]
     },
     "metadata": {},
     "output_type": "display_data"
    },
    {
     "data": {
      "text/html": [
       "<pre style=\"white-space:pre;overflow-x:auto;line-height:normal;font-family:Menlo,'DejaVu Sans Mono',consolas,'Courier New',monospace\"><span style=\"color: #008000; text-decoration-color: #008000\">key model.openai::mao4 loaded</span>\n",
       "</pre>\n"
      ],
      "text/plain": [
       "\u001b[32mkey model.openai::mao4 loaded\u001b[0m\n"
      ]
     },
     "metadata": {},
     "output_type": "display_data"
    },
    {
     "data": {
      "text/html": [
       "<pre style=\"white-space:pre;overflow-x:auto;line-height:normal;font-family:Menlo,'DejaVu Sans Mono',consolas,'Courier New',monospace\"><span style=\"color: #008000; text-decoration-color: #008000\">key model.openai::mao40 loaded</span>\n",
       "</pre>\n"
      ],
      "text/plain": [
       "\u001b[32mkey model.openai::mao40 loaded\u001b[0m\n"
      ]
     },
     "metadata": {},
     "output_type": "display_data"
    },
    {
     "data": {
      "text/html": [
       "<pre style=\"white-space:pre;overflow-x:auto;line-height:normal;font-family:Menlo,'DejaVu Sans Mono',consolas,'Courier New',monospace\"><span style=\"color: #008000; text-decoration-color: #008000\">key model.openai::mao41 loaded</span>\n",
       "</pre>\n"
      ],
      "text/plain": [
       "\u001b[32mkey model.openai::mao41 loaded\u001b[0m\n"
      ]
     },
     "metadata": {},
     "output_type": "display_data"
    },
    {
     "data": {
      "text/html": [
       "<pre style=\"white-space:pre;overflow-x:auto;line-height:normal;font-family:Menlo,'DejaVu Sans Mono',consolas,'Courier New',monospace\"><span style=\"color: #008000; text-decoration-color: #008000\">key model.openai::mao42 loaded</span>\n",
       "</pre>\n"
      ],
      "text/plain": [
       "\u001b[32mkey model.openai::mao42 loaded\u001b[0m\n"
      ]
     },
     "metadata": {},
     "output_type": "display_data"
    },
    {
     "data": {
      "text/html": [
       "<pre style=\"white-space:pre;overflow-x:auto;line-height:normal;font-family:Menlo,'DejaVu Sans Mono',consolas,'Courier New',monospace\"><span style=\"color: #008000; text-decoration-color: #008000\">key model.openai::mao5 loaded</span>\n",
       "</pre>\n"
      ],
      "text/plain": [
       "\u001b[32mkey model.openai::mao5 loaded\u001b[0m\n"
      ]
     },
     "metadata": {},
     "output_type": "display_data"
    },
    {
     "data": {
      "text/html": [
       "<pre style=\"white-space:pre;overflow-x:auto;line-height:normal;font-family:Menlo,'DejaVu Sans Mono',consolas,'Courier New',monospace\"><span style=\"color: #008000; text-decoration-color: #008000\">key model.openai::mao6 loaded</span>\n",
       "</pre>\n"
      ],
      "text/plain": [
       "\u001b[32mkey model.openai::mao6 loaded\u001b[0m\n"
      ]
     },
     "metadata": {},
     "output_type": "display_data"
    },
    {
     "data": {
      "text/html": [
       "<pre style=\"white-space:pre;overflow-x:auto;line-height:normal;font-family:Menlo,'DejaVu Sans Mono',consolas,'Courier New',monospace\"><span style=\"color: #008000; text-decoration-color: #008000\">key model.openai::mao7 loaded</span>\n",
       "</pre>\n"
      ],
      "text/plain": [
       "\u001b[32mkey model.openai::mao7 loaded\u001b[0m\n"
      ]
     },
     "metadata": {},
     "output_type": "display_data"
    },
    {
     "data": {
      "text/html": [
       "<pre style=\"white-space:pre;overflow-x:auto;line-height:normal;font-family:Menlo,'DejaVu Sans Mono',consolas,'Courier New',monospace\"><span style=\"color: #008000; text-decoration-color: #008000\">key model.openai::mao8 loaded</span>\n",
       "</pre>\n"
      ],
      "text/plain": [
       "\u001b[32mkey model.openai::mao8 loaded\u001b[0m\n"
      ]
     },
     "metadata": {},
     "output_type": "display_data"
    },
    {
     "data": {
      "text/html": [
       "<pre style=\"white-space:pre;overflow-x:auto;line-height:normal;font-family:Menlo,'DejaVu Sans Mono',consolas,'Courier New',monospace\"><span style=\"color: #008000; text-decoration-color: #008000\">key model.openai::mao9 loaded</span>\n",
       "</pre>\n"
      ],
      "text/plain": [
       "\u001b[32mkey model.openai::mao9 loaded\u001b[0m\n"
      ]
     },
     "metadata": {},
     "output_type": "display_data"
    },
    {
     "data": {
      "text/html": [
       "<pre style=\"white-space:pre;overflow-x:auto;line-height:normal;font-family:Menlo,'DejaVu Sans Mono',consolas,'Courier New',monospace\"><span style=\"color: #008000; text-decoration-color: #008000\">key model.openai::snoopdawg0 loaded</span>\n",
       "</pre>\n"
      ],
      "text/plain": [
       "\u001b[32mkey model.openai::snoopdawg0 loaded\u001b[0m\n"
      ]
     },
     "metadata": {},
     "output_type": "display_data"
    },
    {
     "data": {
      "text/html": [
       "<pre style=\"white-space:pre;overflow-x:auto;line-height:normal;font-family:Menlo,'DejaVu Sans Mono',consolas,'Courier New',monospace\"><span style=\"color: #008000; text-decoration-color: #008000\">key model.openai::snoopdawg1 loaded</span>\n",
       "</pre>\n"
      ],
      "text/plain": [
       "\u001b[32mkey model.openai::snoopdawg1 loaded\u001b[0m\n"
      ]
     },
     "metadata": {},
     "output_type": "display_data"
    },
    {
     "data": {
      "text/html": [
       "<pre style=\"white-space:pre;overflow-x:auto;line-height:normal;font-family:Menlo,'DejaVu Sans Mono',consolas,'Courier New',monospace\"><span style=\"color: #008000; text-decoration-color: #008000\">key model.openai::snoopdawg10 loaded</span>\n",
       "</pre>\n"
      ],
      "text/plain": [
       "\u001b[32mkey model.openai::snoopdawg10 loaded\u001b[0m\n"
      ]
     },
     "metadata": {},
     "output_type": "display_data"
    },
    {
     "data": {
      "text/html": [
       "<pre style=\"white-space:pre;overflow-x:auto;line-height:normal;font-family:Menlo,'DejaVu Sans Mono',consolas,'Courier New',monospace\"><span style=\"color: #008000; text-decoration-color: #008000\">key model.openai::snoopdawg11 loaded</span>\n",
       "</pre>\n"
      ],
      "text/plain": [
       "\u001b[32mkey model.openai::snoopdawg11 loaded\u001b[0m\n"
      ]
     },
     "metadata": {},
     "output_type": "display_data"
    },
    {
     "data": {
      "text/html": [
       "<pre style=\"white-space:pre;overflow-x:auto;line-height:normal;font-family:Menlo,'DejaVu Sans Mono',consolas,'Courier New',monospace\"><span style=\"color: #008000; text-decoration-color: #008000\">key model.openai::snoopdawg12 loaded</span>\n",
       "</pre>\n"
      ],
      "text/plain": [
       "\u001b[32mkey model.openai::snoopdawg12 loaded\u001b[0m\n"
      ]
     },
     "metadata": {},
     "output_type": "display_data"
    },
    {
     "data": {
      "text/html": [
       "<pre style=\"white-space:pre;overflow-x:auto;line-height:normal;font-family:Menlo,'DejaVu Sans Mono',consolas,'Courier New',monospace\"><span style=\"color: #008000; text-decoration-color: #008000\">key model.openai::snoopdawg13 loaded</span>\n",
       "</pre>\n"
      ],
      "text/plain": [
       "\u001b[32mkey model.openai::snoopdawg13 loaded\u001b[0m\n"
      ]
     },
     "metadata": {},
     "output_type": "display_data"
    },
    {
     "data": {
      "text/html": [
       "<pre style=\"white-space:pre;overflow-x:auto;line-height:normal;font-family:Menlo,'DejaVu Sans Mono',consolas,'Courier New',monospace\"><span style=\"color: #008000; text-decoration-color: #008000\">key model.openai::snoopdawg14 loaded</span>\n",
       "</pre>\n"
      ],
      "text/plain": [
       "\u001b[32mkey model.openai::snoopdawg14 loaded\u001b[0m\n"
      ]
     },
     "metadata": {},
     "output_type": "display_data"
    },
    {
     "data": {
      "text/html": [
       "<pre style=\"white-space:pre;overflow-x:auto;line-height:normal;font-family:Menlo,'DejaVu Sans Mono',consolas,'Courier New',monospace\"><span style=\"color: #008000; text-decoration-color: #008000\">key model.openai::snoopdawg15 loaded</span>\n",
       "</pre>\n"
      ],
      "text/plain": [
       "\u001b[32mkey model.openai::snoopdawg15 loaded\u001b[0m\n"
      ]
     },
     "metadata": {},
     "output_type": "display_data"
    },
    {
     "data": {
      "text/html": [
       "<pre style=\"white-space:pre;overflow-x:auto;line-height:normal;font-family:Menlo,'DejaVu Sans Mono',consolas,'Courier New',monospace\"><span style=\"color: #008000; text-decoration-color: #008000\">key model.openai::snoopdawg16 loaded</span>\n",
       "</pre>\n"
      ],
      "text/plain": [
       "\u001b[32mkey model.openai::snoopdawg16 loaded\u001b[0m\n"
      ]
     },
     "metadata": {},
     "output_type": "display_data"
    },
    {
     "data": {
      "text/html": [
       "<pre style=\"white-space:pre;overflow-x:auto;line-height:normal;font-family:Menlo,'DejaVu Sans Mono',consolas,'Courier New',monospace\"><span style=\"color: #008000; text-decoration-color: #008000\">key model.openai::snoopdawg17 loaded</span>\n",
       "</pre>\n"
      ],
      "text/plain": [
       "\u001b[32mkey model.openai::snoopdawg17 loaded\u001b[0m\n"
      ]
     },
     "metadata": {},
     "output_type": "display_data"
    },
    {
     "data": {
      "text/html": [
       "<pre style=\"white-space:pre;overflow-x:auto;line-height:normal;font-family:Menlo,'DejaVu Sans Mono',consolas,'Courier New',monospace\"><span style=\"color: #008000; text-decoration-color: #008000\">key model.openai::snoopdawg18 loaded</span>\n",
       "</pre>\n"
      ],
      "text/plain": [
       "\u001b[32mkey model.openai::snoopdawg18 loaded\u001b[0m\n"
      ]
     },
     "metadata": {},
     "output_type": "display_data"
    },
    {
     "data": {
      "text/html": [
       "<pre style=\"white-space:pre;overflow-x:auto;line-height:normal;font-family:Menlo,'DejaVu Sans Mono',consolas,'Courier New',monospace\"><span style=\"color: #008000; text-decoration-color: #008000\">key model.openai::snoopdawg19 loaded</span>\n",
       "</pre>\n"
      ],
      "text/plain": [
       "\u001b[32mkey model.openai::snoopdawg19 loaded\u001b[0m\n"
      ]
     },
     "metadata": {},
     "output_type": "display_data"
    },
    {
     "data": {
      "text/html": [
       "<pre style=\"white-space:pre;overflow-x:auto;line-height:normal;font-family:Menlo,'DejaVu Sans Mono',consolas,'Courier New',monospace\"><span style=\"color: #008000; text-decoration-color: #008000\">key model.openai::snoopdawg2 loaded</span>\n",
       "</pre>\n"
      ],
      "text/plain": [
       "\u001b[32mkey model.openai::snoopdawg2 loaded\u001b[0m\n"
      ]
     },
     "metadata": {},
     "output_type": "display_data"
    },
    {
     "data": {
      "text/html": [
       "<pre style=\"white-space:pre;overflow-x:auto;line-height:normal;font-family:Menlo,'DejaVu Sans Mono',consolas,'Courier New',monospace\"><span style=\"color: #008000; text-decoration-color: #008000\">key model.openai::snoopdawg20 loaded</span>\n",
       "</pre>\n"
      ],
      "text/plain": [
       "\u001b[32mkey model.openai::snoopdawg20 loaded\u001b[0m\n"
      ]
     },
     "metadata": {},
     "output_type": "display_data"
    },
    {
     "data": {
      "text/html": [
       "<pre style=\"white-space:pre;overflow-x:auto;line-height:normal;font-family:Menlo,'DejaVu Sans Mono',consolas,'Courier New',monospace\"><span style=\"color: #008000; text-decoration-color: #008000\">key model.openai::snoopdawg21 loaded</span>\n",
       "</pre>\n"
      ],
      "text/plain": [
       "\u001b[32mkey model.openai::snoopdawg21 loaded\u001b[0m\n"
      ]
     },
     "metadata": {},
     "output_type": "display_data"
    },
    {
     "data": {
      "text/html": [
       "<pre style=\"white-space:pre;overflow-x:auto;line-height:normal;font-family:Menlo,'DejaVu Sans Mono',consolas,'Courier New',monospace\"><span style=\"color: #008000; text-decoration-color: #008000\">key model.openai::snoopdawg22 loaded</span>\n",
       "</pre>\n"
      ],
      "text/plain": [
       "\u001b[32mkey model.openai::snoopdawg22 loaded\u001b[0m\n"
      ]
     },
     "metadata": {},
     "output_type": "display_data"
    },
    {
     "data": {
      "text/html": [
       "<pre style=\"white-space:pre;overflow-x:auto;line-height:normal;font-family:Menlo,'DejaVu Sans Mono',consolas,'Courier New',monospace\"><span style=\"color: #008000; text-decoration-color: #008000\">key model.openai::snoopdawg23 loaded</span>\n",
       "</pre>\n"
      ],
      "text/plain": [
       "\u001b[32mkey model.openai::snoopdawg23 loaded\u001b[0m\n"
      ]
     },
     "metadata": {},
     "output_type": "display_data"
    },
    {
     "data": {
      "text/html": [
       "<pre style=\"white-space:pre;overflow-x:auto;line-height:normal;font-family:Menlo,'DejaVu Sans Mono',consolas,'Courier New',monospace\"><span style=\"color: #008000; text-decoration-color: #008000\">key model.openai::snoopdawg24 loaded</span>\n",
       "</pre>\n"
      ],
      "text/plain": [
       "\u001b[32mkey model.openai::snoopdawg24 loaded\u001b[0m\n"
      ]
     },
     "metadata": {},
     "output_type": "display_data"
    },
    {
     "data": {
      "text/html": [
       "<pre style=\"white-space:pre;overflow-x:auto;line-height:normal;font-family:Menlo,'DejaVu Sans Mono',consolas,'Courier New',monospace\"><span style=\"color: #008000; text-decoration-color: #008000\">key model.openai::snoopdawg25 loaded</span>\n",
       "</pre>\n"
      ],
      "text/plain": [
       "\u001b[32mkey model.openai::snoopdawg25 loaded\u001b[0m\n"
      ]
     },
     "metadata": {},
     "output_type": "display_data"
    },
    {
     "data": {
      "text/html": [
       "<pre style=\"white-space:pre;overflow-x:auto;line-height:normal;font-family:Menlo,'DejaVu Sans Mono',consolas,'Courier New',monospace\"><span style=\"color: #008000; text-decoration-color: #008000\">key model.openai::snoopdawg26 loaded</span>\n",
       "</pre>\n"
      ],
      "text/plain": [
       "\u001b[32mkey model.openai::snoopdawg26 loaded\u001b[0m\n"
      ]
     },
     "metadata": {},
     "output_type": "display_data"
    },
    {
     "data": {
      "text/html": [
       "<pre style=\"white-space:pre;overflow-x:auto;line-height:normal;font-family:Menlo,'DejaVu Sans Mono',consolas,'Courier New',monospace\"><span style=\"color: #008000; text-decoration-color: #008000\">key model.openai::snoopdawg27 loaded</span>\n",
       "</pre>\n"
      ],
      "text/plain": [
       "\u001b[32mkey model.openai::snoopdawg27 loaded\u001b[0m\n"
      ]
     },
     "metadata": {},
     "output_type": "display_data"
    },
    {
     "data": {
      "text/html": [
       "<pre style=\"white-space:pre;overflow-x:auto;line-height:normal;font-family:Menlo,'DejaVu Sans Mono',consolas,'Courier New',monospace\"><span style=\"color: #008000; text-decoration-color: #008000\">key model.openai::snoopdawg28 loaded</span>\n",
       "</pre>\n"
      ],
      "text/plain": [
       "\u001b[32mkey model.openai::snoopdawg28 loaded\u001b[0m\n"
      ]
     },
     "metadata": {},
     "output_type": "display_data"
    },
    {
     "data": {
      "text/html": [
       "<pre style=\"white-space:pre;overflow-x:auto;line-height:normal;font-family:Menlo,'DejaVu Sans Mono',consolas,'Courier New',monospace\"><span style=\"color: #008000; text-decoration-color: #008000\">key model.openai::snoopdawg29 loaded</span>\n",
       "</pre>\n"
      ],
      "text/plain": [
       "\u001b[32mkey model.openai::snoopdawg29 loaded\u001b[0m\n"
      ]
     },
     "metadata": {},
     "output_type": "display_data"
    },
    {
     "data": {
      "text/html": [
       "<pre style=\"white-space:pre;overflow-x:auto;line-height:normal;font-family:Menlo,'DejaVu Sans Mono',consolas,'Courier New',monospace\"><span style=\"color: #008000; text-decoration-color: #008000\">key model.openai::snoopdawg3 loaded</span>\n",
       "</pre>\n"
      ],
      "text/plain": [
       "\u001b[32mkey model.openai::snoopdawg3 loaded\u001b[0m\n"
      ]
     },
     "metadata": {},
     "output_type": "display_data"
    },
    {
     "data": {
      "text/html": [
       "<pre style=\"white-space:pre;overflow-x:auto;line-height:normal;font-family:Menlo,'DejaVu Sans Mono',consolas,'Courier New',monospace\"><span style=\"color: #008000; text-decoration-color: #008000\">key model.openai::snoopdawg30 loaded</span>\n",
       "</pre>\n"
      ],
      "text/plain": [
       "\u001b[32mkey model.openai::snoopdawg30 loaded\u001b[0m\n"
      ]
     },
     "metadata": {},
     "output_type": "display_data"
    },
    {
     "data": {
      "text/html": [
       "<pre style=\"white-space:pre;overflow-x:auto;line-height:normal;font-family:Menlo,'DejaVu Sans Mono',consolas,'Courier New',monospace\"><span style=\"color: #008000; text-decoration-color: #008000\">key model.openai::snoopdawg31 loaded</span>\n",
       "</pre>\n"
      ],
      "text/plain": [
       "\u001b[32mkey model.openai::snoopdawg31 loaded\u001b[0m\n"
      ]
     },
     "metadata": {},
     "output_type": "display_data"
    },
    {
     "data": {
      "text/html": [
       "<pre style=\"white-space:pre;overflow-x:auto;line-height:normal;font-family:Menlo,'DejaVu Sans Mono',consolas,'Courier New',monospace\"><span style=\"color: #008000; text-decoration-color: #008000\">key model.openai::snoopdawg32 loaded</span>\n",
       "</pre>\n"
      ],
      "text/plain": [
       "\u001b[32mkey model.openai::snoopdawg32 loaded\u001b[0m\n"
      ]
     },
     "metadata": {},
     "output_type": "display_data"
    },
    {
     "data": {
      "text/html": [
       "<pre style=\"white-space:pre;overflow-x:auto;line-height:normal;font-family:Menlo,'DejaVu Sans Mono',consolas,'Courier New',monospace\"><span style=\"color: #008000; text-decoration-color: #008000\">key model.openai::snoopdawg33 loaded</span>\n",
       "</pre>\n"
      ],
      "text/plain": [
       "\u001b[32mkey model.openai::snoopdawg33 loaded\u001b[0m\n"
      ]
     },
     "metadata": {},
     "output_type": "display_data"
    },
    {
     "data": {
      "text/html": [
       "<pre style=\"white-space:pre;overflow-x:auto;line-height:normal;font-family:Menlo,'DejaVu Sans Mono',consolas,'Courier New',monospace\"><span style=\"color: #008000; text-decoration-color: #008000\">key model.openai::snoopdawg34 loaded</span>\n",
       "</pre>\n"
      ],
      "text/plain": [
       "\u001b[32mkey model.openai::snoopdawg34 loaded\u001b[0m\n"
      ]
     },
     "metadata": {},
     "output_type": "display_data"
    },
    {
     "data": {
      "text/html": [
       "<pre style=\"white-space:pre;overflow-x:auto;line-height:normal;font-family:Menlo,'DejaVu Sans Mono',consolas,'Courier New',monospace\"><span style=\"color: #008000; text-decoration-color: #008000\">key model.openai::snoopdawg4 loaded</span>\n",
       "</pre>\n"
      ],
      "text/plain": [
       "\u001b[32mkey model.openai::snoopdawg4 loaded\u001b[0m\n"
      ]
     },
     "metadata": {},
     "output_type": "display_data"
    },
    {
     "data": {
      "text/html": [
       "<pre style=\"white-space:pre;overflow-x:auto;line-height:normal;font-family:Menlo,'DejaVu Sans Mono',consolas,'Courier New',monospace\"><span style=\"color: #008000; text-decoration-color: #008000\">key model.openai::snoopdawg5 loaded</span>\n",
       "</pre>\n"
      ],
      "text/plain": [
       "\u001b[32mkey model.openai::snoopdawg5 loaded\u001b[0m\n"
      ]
     },
     "metadata": {},
     "output_type": "display_data"
    },
    {
     "data": {
      "text/html": [
       "<pre style=\"white-space:pre;overflow-x:auto;line-height:normal;font-family:Menlo,'DejaVu Sans Mono',consolas,'Courier New',monospace\"><span style=\"color: #008000; text-decoration-color: #008000\">key model.openai::snoopdawg6 loaded</span>\n",
       "</pre>\n"
      ],
      "text/plain": [
       "\u001b[32mkey model.openai::snoopdawg6 loaded\u001b[0m\n"
      ]
     },
     "metadata": {},
     "output_type": "display_data"
    },
    {
     "data": {
      "text/html": [
       "<pre style=\"white-space:pre;overflow-x:auto;line-height:normal;font-family:Menlo,'DejaVu Sans Mono',consolas,'Courier New',monospace\"><span style=\"color: #008000; text-decoration-color: #008000\">key model.openai::snoopdawg7 loaded</span>\n",
       "</pre>\n"
      ],
      "text/plain": [
       "\u001b[32mkey model.openai::snoopdawg7 loaded\u001b[0m\n"
      ]
     },
     "metadata": {},
     "output_type": "display_data"
    },
    {
     "data": {
      "text/html": [
       "<pre style=\"white-space:pre;overflow-x:auto;line-height:normal;font-family:Menlo,'DejaVu Sans Mono',consolas,'Courier New',monospace\"><span style=\"color: #008000; text-decoration-color: #008000\">key model.openai::snoopdawg8 loaded</span>\n",
       "</pre>\n"
      ],
      "text/plain": [
       "\u001b[32mkey model.openai::snoopdawg8 loaded\u001b[0m\n"
      ]
     },
     "metadata": {},
     "output_type": "display_data"
    },
    {
     "data": {
      "text/html": [
       "<pre style=\"white-space:pre;overflow-x:auto;line-height:normal;font-family:Menlo,'DejaVu Sans Mono',consolas,'Courier New',monospace\"><span style=\"color: #008000; text-decoration-color: #008000\">key model.openai::snoopdawg9 loaded</span>\n",
       "</pre>\n"
      ],
      "text/plain": [
       "\u001b[32mkey model.openai::snoopdawg9 loaded\u001b[0m\n"
      ]
     },
     "metadata": {},
     "output_type": "display_data"
    },
    {
     "data": {
      "text/html": [
       "<pre style=\"white-space:pre;overflow-x:auto;line-height:normal;font-family:Menlo,'DejaVu Sans Mono',consolas,'Courier New',monospace\"><span style=\"color: #008000; text-decoration-color: #008000\">key model.openai::var0 loaded</span>\n",
       "</pre>\n"
      ],
      "text/plain": [
       "\u001b[32mkey model.openai::var0 loaded\u001b[0m\n"
      ]
     },
     "metadata": {},
     "output_type": "display_data"
    },
    {
     "data": {
      "text/html": [
       "<pre style=\"white-space:pre;overflow-x:auto;line-height:normal;font-family:Menlo,'DejaVu Sans Mono',consolas,'Courier New',monospace\"><span style=\"color: #008000; text-decoration-color: #008000\">key model.openai::var1 loaded</span>\n",
       "</pre>\n"
      ],
      "text/plain": [
       "\u001b[32mkey model.openai::var1 loaded\u001b[0m\n"
      ]
     },
     "metadata": {},
     "output_type": "display_data"
    },
    {
     "data": {
      "text/html": [
       "<pre style=\"white-space:pre;overflow-x:auto;line-height:normal;font-family:Menlo,'DejaVu Sans Mono',consolas,'Courier New',monospace\"><span style=\"color: #008000; text-decoration-color: #008000\">key model.openai::var10 loaded</span>\n",
       "</pre>\n"
      ],
      "text/plain": [
       "\u001b[32mkey model.openai::var10 loaded\u001b[0m\n"
      ]
     },
     "metadata": {},
     "output_type": "display_data"
    },
    {
     "data": {
      "text/html": [
       "<pre style=\"white-space:pre;overflow-x:auto;line-height:normal;font-family:Menlo,'DejaVu Sans Mono',consolas,'Courier New',monospace\"><span style=\"color: #008000; text-decoration-color: #008000\">key model.openai::var11 loaded</span>\n",
       "</pre>\n"
      ],
      "text/plain": [
       "\u001b[32mkey model.openai::var11 loaded\u001b[0m\n"
      ]
     },
     "metadata": {},
     "output_type": "display_data"
    },
    {
     "data": {
      "text/html": [
       "<pre style=\"white-space:pre;overflow-x:auto;line-height:normal;font-family:Menlo,'DejaVu Sans Mono',consolas,'Courier New',monospace\"><span style=\"color: #008000; text-decoration-color: #008000\">key model.openai::var12 loaded</span>\n",
       "</pre>\n"
      ],
      "text/plain": [
       "\u001b[32mkey model.openai::var12 loaded\u001b[0m\n"
      ]
     },
     "metadata": {},
     "output_type": "display_data"
    },
    {
     "data": {
      "text/html": [
       "<pre style=\"white-space:pre;overflow-x:auto;line-height:normal;font-family:Menlo,'DejaVu Sans Mono',consolas,'Courier New',monospace\"><span style=\"color: #008000; text-decoration-color: #008000\">key model.openai::var13 loaded</span>\n",
       "</pre>\n"
      ],
      "text/plain": [
       "\u001b[32mkey model.openai::var13 loaded\u001b[0m\n"
      ]
     },
     "metadata": {},
     "output_type": "display_data"
    },
    {
     "data": {
      "text/html": [
       "<pre style=\"white-space:pre;overflow-x:auto;line-height:normal;font-family:Menlo,'DejaVu Sans Mono',consolas,'Courier New',monospace\"><span style=\"color: #008000; text-decoration-color: #008000\">key model.openai::var14 loaded</span>\n",
       "</pre>\n"
      ],
      "text/plain": [
       "\u001b[32mkey model.openai::var14 loaded\u001b[0m\n"
      ]
     },
     "metadata": {},
     "output_type": "display_data"
    },
    {
     "data": {
      "text/html": [
       "<pre style=\"white-space:pre;overflow-x:auto;line-height:normal;font-family:Menlo,'DejaVu Sans Mono',consolas,'Courier New',monospace\"><span style=\"color: #008000; text-decoration-color: #008000\">key model.openai::var15 loaded</span>\n",
       "</pre>\n"
      ],
      "text/plain": [
       "\u001b[32mkey model.openai::var15 loaded\u001b[0m\n"
      ]
     },
     "metadata": {},
     "output_type": "display_data"
    },
    {
     "data": {
      "text/html": [
       "<pre style=\"white-space:pre;overflow-x:auto;line-height:normal;font-family:Menlo,'DejaVu Sans Mono',consolas,'Courier New',monospace\"><span style=\"color: #008000; text-decoration-color: #008000\">key model.openai::var16 loaded</span>\n",
       "</pre>\n"
      ],
      "text/plain": [
       "\u001b[32mkey model.openai::var16 loaded\u001b[0m\n"
      ]
     },
     "metadata": {},
     "output_type": "display_data"
    },
    {
     "data": {
      "text/html": [
       "<pre style=\"white-space:pre;overflow-x:auto;line-height:normal;font-family:Menlo,'DejaVu Sans Mono',consolas,'Courier New',monospace\"><span style=\"color: #008000; text-decoration-color: #008000\">key model.openai::var17 loaded</span>\n",
       "</pre>\n"
      ],
      "text/plain": [
       "\u001b[32mkey model.openai::var17 loaded\u001b[0m\n"
      ]
     },
     "metadata": {},
     "output_type": "display_data"
    },
    {
     "data": {
      "text/html": [
       "<pre style=\"white-space:pre;overflow-x:auto;line-height:normal;font-family:Menlo,'DejaVu Sans Mono',consolas,'Courier New',monospace\"><span style=\"color: #008000; text-decoration-color: #008000\">key model.openai::var18 loaded</span>\n",
       "</pre>\n"
      ],
      "text/plain": [
       "\u001b[32mkey model.openai::var18 loaded\u001b[0m\n"
      ]
     },
     "metadata": {},
     "output_type": "display_data"
    },
    {
     "data": {
      "text/html": [
       "<pre style=\"white-space:pre;overflow-x:auto;line-height:normal;font-family:Menlo,'DejaVu Sans Mono',consolas,'Courier New',monospace\"><span style=\"color: #008000; text-decoration-color: #008000\">key model.openai::var19 loaded</span>\n",
       "</pre>\n"
      ],
      "text/plain": [
       "\u001b[32mkey model.openai::var19 loaded\u001b[0m\n"
      ]
     },
     "metadata": {},
     "output_type": "display_data"
    },
    {
     "data": {
      "text/html": [
       "<pre style=\"white-space:pre;overflow-x:auto;line-height:normal;font-family:Menlo,'DejaVu Sans Mono',consolas,'Courier New',monospace\"><span style=\"color: #008000; text-decoration-color: #008000\">key model.openai::var2 loaded</span>\n",
       "</pre>\n"
      ],
      "text/plain": [
       "\u001b[32mkey model.openai::var2 loaded\u001b[0m\n"
      ]
     },
     "metadata": {},
     "output_type": "display_data"
    },
    {
     "data": {
      "text/html": [
       "<pre style=\"white-space:pre;overflow-x:auto;line-height:normal;font-family:Menlo,'DejaVu Sans Mono',consolas,'Courier New',monospace\"><span style=\"color: #008000; text-decoration-color: #008000\">key model.openai::var20 loaded</span>\n",
       "</pre>\n"
      ],
      "text/plain": [
       "\u001b[32mkey model.openai::var20 loaded\u001b[0m\n"
      ]
     },
     "metadata": {},
     "output_type": "display_data"
    },
    {
     "data": {
      "text/html": [
       "<pre style=\"white-space:pre;overflow-x:auto;line-height:normal;font-family:Menlo,'DejaVu Sans Mono',consolas,'Courier New',monospace\"><span style=\"color: #008000; text-decoration-color: #008000\">key model.openai::var21 loaded</span>\n",
       "</pre>\n"
      ],
      "text/plain": [
       "\u001b[32mkey model.openai::var21 loaded\u001b[0m\n"
      ]
     },
     "metadata": {},
     "output_type": "display_data"
    },
    {
     "data": {
      "text/html": [
       "<pre style=\"white-space:pre;overflow-x:auto;line-height:normal;font-family:Menlo,'DejaVu Sans Mono',consolas,'Courier New',monospace\"><span style=\"color: #008000; text-decoration-color: #008000\">key model.openai::var22 loaded</span>\n",
       "</pre>\n"
      ],
      "text/plain": [
       "\u001b[32mkey model.openai::var22 loaded\u001b[0m\n"
      ]
     },
     "metadata": {},
     "output_type": "display_data"
    },
    {
     "data": {
      "text/html": [
       "<pre style=\"white-space:pre;overflow-x:auto;line-height:normal;font-family:Menlo,'DejaVu Sans Mono',consolas,'Courier New',monospace\"><span style=\"color: #008000; text-decoration-color: #008000\">key model.openai::var23 loaded</span>\n",
       "</pre>\n"
      ],
      "text/plain": [
       "\u001b[32mkey model.openai::var23 loaded\u001b[0m\n"
      ]
     },
     "metadata": {},
     "output_type": "display_data"
    },
    {
     "data": {
      "text/html": [
       "<pre style=\"white-space:pre;overflow-x:auto;line-height:normal;font-family:Menlo,'DejaVu Sans Mono',consolas,'Courier New',monospace\"><span style=\"color: #008000; text-decoration-color: #008000\">key model.openai::var24 loaded</span>\n",
       "</pre>\n"
      ],
      "text/plain": [
       "\u001b[32mkey model.openai::var24 loaded\u001b[0m\n"
      ]
     },
     "metadata": {},
     "output_type": "display_data"
    },
    {
     "data": {
      "text/html": [
       "<pre style=\"white-space:pre;overflow-x:auto;line-height:normal;font-family:Menlo,'DejaVu Sans Mono',consolas,'Courier New',monospace\"><span style=\"color: #008000; text-decoration-color: #008000\">key model.openai::var25 loaded</span>\n",
       "</pre>\n"
      ],
      "text/plain": [
       "\u001b[32mkey model.openai::var25 loaded\u001b[0m\n"
      ]
     },
     "metadata": {},
     "output_type": "display_data"
    },
    {
     "data": {
      "text/html": [
       "<pre style=\"white-space:pre;overflow-x:auto;line-height:normal;font-family:Menlo,'DejaVu Sans Mono',consolas,'Courier New',monospace\"><span style=\"color: #008000; text-decoration-color: #008000\">key model.openai::var26 loaded</span>\n",
       "</pre>\n"
      ],
      "text/plain": [
       "\u001b[32mkey model.openai::var26 loaded\u001b[0m\n"
      ]
     },
     "metadata": {},
     "output_type": "display_data"
    },
    {
     "data": {
      "text/html": [
       "<pre style=\"white-space:pre;overflow-x:auto;line-height:normal;font-family:Menlo,'DejaVu Sans Mono',consolas,'Courier New',monospace\"><span style=\"color: #008000; text-decoration-color: #008000\">key model.openai::var27 loaded</span>\n",
       "</pre>\n"
      ],
      "text/plain": [
       "\u001b[32mkey model.openai::var27 loaded\u001b[0m\n"
      ]
     },
     "metadata": {},
     "output_type": "display_data"
    },
    {
     "data": {
      "text/html": [
       "<pre style=\"white-space:pre;overflow-x:auto;line-height:normal;font-family:Menlo,'DejaVu Sans Mono',consolas,'Courier New',monospace\"><span style=\"color: #008000; text-decoration-color: #008000\">key model.openai::var28 loaded</span>\n",
       "</pre>\n"
      ],
      "text/plain": [
       "\u001b[32mkey model.openai::var28 loaded\u001b[0m\n"
      ]
     },
     "metadata": {},
     "output_type": "display_data"
    },
    {
     "data": {
      "text/html": [
       "<pre style=\"white-space:pre;overflow-x:auto;line-height:normal;font-family:Menlo,'DejaVu Sans Mono',consolas,'Courier New',monospace\"><span style=\"color: #008000; text-decoration-color: #008000\">key model.openai::var29 loaded</span>\n",
       "</pre>\n"
      ],
      "text/plain": [
       "\u001b[32mkey model.openai::var29 loaded\u001b[0m\n"
      ]
     },
     "metadata": {},
     "output_type": "display_data"
    },
    {
     "data": {
      "text/html": [
       "<pre style=\"white-space:pre;overflow-x:auto;line-height:normal;font-family:Menlo,'DejaVu Sans Mono',consolas,'Courier New',monospace\"><span style=\"color: #008000; text-decoration-color: #008000\">key model.openai::var3 loaded</span>\n",
       "</pre>\n"
      ],
      "text/plain": [
       "\u001b[32mkey model.openai::var3 loaded\u001b[0m\n"
      ]
     },
     "metadata": {},
     "output_type": "display_data"
    },
    {
     "data": {
      "text/html": [
       "<pre style=\"white-space:pre;overflow-x:auto;line-height:normal;font-family:Menlo,'DejaVu Sans Mono',consolas,'Courier New',monospace\"><span style=\"color: #008000; text-decoration-color: #008000\">key model.openai::var30 loaded</span>\n",
       "</pre>\n"
      ],
      "text/plain": [
       "\u001b[32mkey model.openai::var30 loaded\u001b[0m\n"
      ]
     },
     "metadata": {},
     "output_type": "display_data"
    },
    {
     "data": {
      "text/html": [
       "<pre style=\"white-space:pre;overflow-x:auto;line-height:normal;font-family:Menlo,'DejaVu Sans Mono',consolas,'Courier New',monospace\"><span style=\"color: #008000; text-decoration-color: #008000\">key model.openai::var31 loaded</span>\n",
       "</pre>\n"
      ],
      "text/plain": [
       "\u001b[32mkey model.openai::var31 loaded\u001b[0m\n"
      ]
     },
     "metadata": {},
     "output_type": "display_data"
    },
    {
     "data": {
      "text/html": [
       "<pre style=\"white-space:pre;overflow-x:auto;line-height:normal;font-family:Menlo,'DejaVu Sans Mono',consolas,'Courier New',monospace\"><span style=\"color: #008000; text-decoration-color: #008000\">key model.openai::var32 loaded</span>\n",
       "</pre>\n"
      ],
      "text/plain": [
       "\u001b[32mkey model.openai::var32 loaded\u001b[0m\n"
      ]
     },
     "metadata": {},
     "output_type": "display_data"
    },
    {
     "data": {
      "text/html": [
       "<pre style=\"white-space:pre;overflow-x:auto;line-height:normal;font-family:Menlo,'DejaVu Sans Mono',consolas,'Courier New',monospace\"><span style=\"color: #008000; text-decoration-color: #008000\">key model.openai::var33 loaded</span>\n",
       "</pre>\n"
      ],
      "text/plain": [
       "\u001b[32mkey model.openai::var33 loaded\u001b[0m\n"
      ]
     },
     "metadata": {},
     "output_type": "display_data"
    },
    {
     "data": {
      "text/html": [
       "<pre style=\"white-space:pre;overflow-x:auto;line-height:normal;font-family:Menlo,'DejaVu Sans Mono',consolas,'Courier New',monospace\"><span style=\"color: #008000; text-decoration-color: #008000\">key model.openai::var34 loaded</span>\n",
       "</pre>\n"
      ],
      "text/plain": [
       "\u001b[32mkey model.openai::var34 loaded\u001b[0m\n"
      ]
     },
     "metadata": {},
     "output_type": "display_data"
    },
    {
     "data": {
      "text/html": [
       "<pre style=\"white-space:pre;overflow-x:auto;line-height:normal;font-family:Menlo,'DejaVu Sans Mono',consolas,'Courier New',monospace\"><span style=\"color: #008000; text-decoration-color: #008000\">key model.openai::var35 loaded</span>\n",
       "</pre>\n"
      ],
      "text/plain": [
       "\u001b[32mkey model.openai::var35 loaded\u001b[0m\n"
      ]
     },
     "metadata": {},
     "output_type": "display_data"
    },
    {
     "data": {
      "text/html": [
       "<pre style=\"white-space:pre;overflow-x:auto;line-height:normal;font-family:Menlo,'DejaVu Sans Mono',consolas,'Courier New',monospace\"><span style=\"color: #008000; text-decoration-color: #008000\">key model.openai::var36 loaded</span>\n",
       "</pre>\n"
      ],
      "text/plain": [
       "\u001b[32mkey model.openai::var36 loaded\u001b[0m\n"
      ]
     },
     "metadata": {},
     "output_type": "display_data"
    },
    {
     "data": {
      "text/html": [
       "<pre style=\"white-space:pre;overflow-x:auto;line-height:normal;font-family:Menlo,'DejaVu Sans Mono',consolas,'Courier New',monospace\"><span style=\"color: #008000; text-decoration-color: #008000\">key model.openai::var37 loaded</span>\n",
       "</pre>\n"
      ],
      "text/plain": [
       "\u001b[32mkey model.openai::var37 loaded\u001b[0m\n"
      ]
     },
     "metadata": {},
     "output_type": "display_data"
    },
    {
     "data": {
      "text/html": [
       "<pre style=\"white-space:pre;overflow-x:auto;line-height:normal;font-family:Menlo,'DejaVu Sans Mono',consolas,'Courier New',monospace\"><span style=\"color: #008000; text-decoration-color: #008000\">key model.openai::var38 loaded</span>\n",
       "</pre>\n"
      ],
      "text/plain": [
       "\u001b[32mkey model.openai::var38 loaded\u001b[0m\n"
      ]
     },
     "metadata": {},
     "output_type": "display_data"
    },
    {
     "data": {
      "text/html": [
       "<pre style=\"white-space:pre;overflow-x:auto;line-height:normal;font-family:Menlo,'DejaVu Sans Mono',consolas,'Courier New',monospace\"><span style=\"color: #008000; text-decoration-color: #008000\">key model.openai::var39 loaded</span>\n",
       "</pre>\n"
      ],
      "text/plain": [
       "\u001b[32mkey model.openai::var39 loaded\u001b[0m\n"
      ]
     },
     "metadata": {},
     "output_type": "display_data"
    },
    {
     "data": {
      "text/html": [
       "<pre style=\"white-space:pre;overflow-x:auto;line-height:normal;font-family:Menlo,'DejaVu Sans Mono',consolas,'Courier New',monospace\"><span style=\"color: #008000; text-decoration-color: #008000\">key model.openai::var4 loaded</span>\n",
       "</pre>\n"
      ],
      "text/plain": [
       "\u001b[32mkey model.openai::var4 loaded\u001b[0m\n"
      ]
     },
     "metadata": {},
     "output_type": "display_data"
    },
    {
     "data": {
      "text/html": [
       "<pre style=\"white-space:pre;overflow-x:auto;line-height:normal;font-family:Menlo,'DejaVu Sans Mono',consolas,'Courier New',monospace\"><span style=\"color: #008000; text-decoration-color: #008000\">key model.openai::var40 loaded</span>\n",
       "</pre>\n"
      ],
      "text/plain": [
       "\u001b[32mkey model.openai::var40 loaded\u001b[0m\n"
      ]
     },
     "metadata": {},
     "output_type": "display_data"
    },
    {
     "data": {
      "text/html": [
       "<pre style=\"white-space:pre;overflow-x:auto;line-height:normal;font-family:Menlo,'DejaVu Sans Mono',consolas,'Courier New',monospace\"><span style=\"color: #008000; text-decoration-color: #008000\">key model.openai::var41 loaded</span>\n",
       "</pre>\n"
      ],
      "text/plain": [
       "\u001b[32mkey model.openai::var41 loaded\u001b[0m\n"
      ]
     },
     "metadata": {},
     "output_type": "display_data"
    },
    {
     "data": {
      "text/html": [
       "<pre style=\"white-space:pre;overflow-x:auto;line-height:normal;font-family:Menlo,'DejaVu Sans Mono',consolas,'Courier New',monospace\"><span style=\"color: #008000; text-decoration-color: #008000\">key model.openai::var42 loaded</span>\n",
       "</pre>\n"
      ],
      "text/plain": [
       "\u001b[32mkey model.openai::var42 loaded\u001b[0m\n"
      ]
     },
     "metadata": {},
     "output_type": "display_data"
    },
    {
     "data": {
      "text/html": [
       "<pre style=\"white-space:pre;overflow-x:auto;line-height:normal;font-family:Menlo,'DejaVu Sans Mono',consolas,'Courier New',monospace\"><span style=\"color: #008000; text-decoration-color: #008000\">key model.openai::var43 loaded</span>\n",
       "</pre>\n"
      ],
      "text/plain": [
       "\u001b[32mkey model.openai::var43 loaded\u001b[0m\n"
      ]
     },
     "metadata": {},
     "output_type": "display_data"
    },
    {
     "data": {
      "text/html": [
       "<pre style=\"white-space:pre;overflow-x:auto;line-height:normal;font-family:Menlo,'DejaVu Sans Mono',consolas,'Courier New',monospace\"><span style=\"color: #008000; text-decoration-color: #008000\">key model.openai::var44 loaded</span>\n",
       "</pre>\n"
      ],
      "text/plain": [
       "\u001b[32mkey model.openai::var44 loaded\u001b[0m\n"
      ]
     },
     "metadata": {},
     "output_type": "display_data"
    },
    {
     "data": {
      "text/html": [
       "<pre style=\"white-space:pre;overflow-x:auto;line-height:normal;font-family:Menlo,'DejaVu Sans Mono',consolas,'Courier New',monospace\"><span style=\"color: #008000; text-decoration-color: #008000\">key model.openai::var45 loaded</span>\n",
       "</pre>\n"
      ],
      "text/plain": [
       "\u001b[32mkey model.openai::var45 loaded\u001b[0m\n"
      ]
     },
     "metadata": {},
     "output_type": "display_data"
    },
    {
     "data": {
      "text/html": [
       "<pre style=\"white-space:pre;overflow-x:auto;line-height:normal;font-family:Menlo,'DejaVu Sans Mono',consolas,'Courier New',monospace\"><span style=\"color: #008000; text-decoration-color: #008000\">key model.openai::var46 loaded</span>\n",
       "</pre>\n"
      ],
      "text/plain": [
       "\u001b[32mkey model.openai::var46 loaded\u001b[0m\n"
      ]
     },
     "metadata": {},
     "output_type": "display_data"
    },
    {
     "data": {
      "text/html": [
       "<pre style=\"white-space:pre;overflow-x:auto;line-height:normal;font-family:Menlo,'DejaVu Sans Mono',consolas,'Courier New',monospace\"><span style=\"color: #008000; text-decoration-color: #008000\">key model.openai::var47 loaded</span>\n",
       "</pre>\n"
      ],
      "text/plain": [
       "\u001b[32mkey model.openai::var47 loaded\u001b[0m\n"
      ]
     },
     "metadata": {},
     "output_type": "display_data"
    },
    {
     "data": {
      "text/html": [
       "<pre style=\"white-space:pre;overflow-x:auto;line-height:normal;font-family:Menlo,'DejaVu Sans Mono',consolas,'Courier New',monospace\"><span style=\"color: #008000; text-decoration-color: #008000\">key model.openai::var48 loaded</span>\n",
       "</pre>\n"
      ],
      "text/plain": [
       "\u001b[32mkey model.openai::var48 loaded\u001b[0m\n"
      ]
     },
     "metadata": {},
     "output_type": "display_data"
    },
    {
     "data": {
      "text/html": [
       "<pre style=\"white-space:pre;overflow-x:auto;line-height:normal;font-family:Menlo,'DejaVu Sans Mono',consolas,'Courier New',monospace\"><span style=\"color: #008000; text-decoration-color: #008000\">key model.openai::var49 loaded</span>\n",
       "</pre>\n"
      ],
      "text/plain": [
       "\u001b[32mkey model.openai::var49 loaded\u001b[0m\n"
      ]
     },
     "metadata": {},
     "output_type": "display_data"
    },
    {
     "data": {
      "text/html": [
       "<pre style=\"white-space:pre;overflow-x:auto;line-height:normal;font-family:Menlo,'DejaVu Sans Mono',consolas,'Courier New',monospace\"><span style=\"color: #008000; text-decoration-color: #008000\">key model.openai::var5 loaded</span>\n",
       "</pre>\n"
      ],
      "text/plain": [
       "\u001b[32mkey model.openai::var5 loaded\u001b[0m\n"
      ]
     },
     "metadata": {},
     "output_type": "display_data"
    },
    {
     "data": {
      "text/html": [
       "<pre style=\"white-space:pre;overflow-x:auto;line-height:normal;font-family:Menlo,'DejaVu Sans Mono',consolas,'Courier New',monospace\"><span style=\"color: #008000; text-decoration-color: #008000\">key model.openai::var50 loaded</span>\n",
       "</pre>\n"
      ],
      "text/plain": [
       "\u001b[32mkey model.openai::var50 loaded\u001b[0m\n"
      ]
     },
     "metadata": {},
     "output_type": "display_data"
    },
    {
     "data": {
      "text/html": [
       "<pre style=\"white-space:pre;overflow-x:auto;line-height:normal;font-family:Menlo,'DejaVu Sans Mono',consolas,'Courier New',monospace\"><span style=\"color: #008000; text-decoration-color: #008000\">key model.openai::var51 loaded</span>\n",
       "</pre>\n"
      ],
      "text/plain": [
       "\u001b[32mkey model.openai::var51 loaded\u001b[0m\n"
      ]
     },
     "metadata": {},
     "output_type": "display_data"
    },
    {
     "data": {
      "text/html": [
       "<pre style=\"white-space:pre;overflow-x:auto;line-height:normal;font-family:Menlo,'DejaVu Sans Mono',consolas,'Courier New',monospace\"><span style=\"color: #008000; text-decoration-color: #008000\">key model.openai::var52 loaded</span>\n",
       "</pre>\n"
      ],
      "text/plain": [
       "\u001b[32mkey model.openai::var52 loaded\u001b[0m\n"
      ]
     },
     "metadata": {},
     "output_type": "display_data"
    },
    {
     "data": {
      "text/html": [
       "<pre style=\"white-space:pre;overflow-x:auto;line-height:normal;font-family:Menlo,'DejaVu Sans Mono',consolas,'Courier New',monospace\"><span style=\"color: #008000; text-decoration-color: #008000\">key model.openai::var53 loaded</span>\n",
       "</pre>\n"
      ],
      "text/plain": [
       "\u001b[32mkey model.openai::var53 loaded\u001b[0m\n"
      ]
     },
     "metadata": {},
     "output_type": "display_data"
    },
    {
     "data": {
      "text/html": [
       "<pre style=\"white-space:pre;overflow-x:auto;line-height:normal;font-family:Menlo,'DejaVu Sans Mono',consolas,'Courier New',monospace\"><span style=\"color: #008000; text-decoration-color: #008000\">key model.openai::var54 loaded</span>\n",
       "</pre>\n"
      ],
      "text/plain": [
       "\u001b[32mkey model.openai::var54 loaded\u001b[0m\n"
      ]
     },
     "metadata": {},
     "output_type": "display_data"
    },
    {
     "data": {
      "text/html": [
       "<pre style=\"white-space:pre;overflow-x:auto;line-height:normal;font-family:Menlo,'DejaVu Sans Mono',consolas,'Courier New',monospace\"><span style=\"color: #008000; text-decoration-color: #008000\">key model.openai::var55 loaded</span>\n",
       "</pre>\n"
      ],
      "text/plain": [
       "\u001b[32mkey model.openai::var55 loaded\u001b[0m\n"
      ]
     },
     "metadata": {},
     "output_type": "display_data"
    },
    {
     "data": {
      "text/html": [
       "<pre style=\"white-space:pre;overflow-x:auto;line-height:normal;font-family:Menlo,'DejaVu Sans Mono',consolas,'Courier New',monospace\"><span style=\"color: #008000; text-decoration-color: #008000\">key model.openai::var56 loaded</span>\n",
       "</pre>\n"
      ],
      "text/plain": [
       "\u001b[32mkey model.openai::var56 loaded\u001b[0m\n"
      ]
     },
     "metadata": {},
     "output_type": "display_data"
    },
    {
     "data": {
      "text/html": [
       "<pre style=\"white-space:pre;overflow-x:auto;line-height:normal;font-family:Menlo,'DejaVu Sans Mono',consolas,'Courier New',monospace\"><span style=\"color: #008000; text-decoration-color: #008000\">key model.openai::var57 loaded</span>\n",
       "</pre>\n"
      ],
      "text/plain": [
       "\u001b[32mkey model.openai::var57 loaded\u001b[0m\n"
      ]
     },
     "metadata": {},
     "output_type": "display_data"
    },
    {
     "data": {
      "text/html": [
       "<pre style=\"white-space:pre;overflow-x:auto;line-height:normal;font-family:Menlo,'DejaVu Sans Mono',consolas,'Courier New',monospace\"><span style=\"color: #008000; text-decoration-color: #008000\">key model.openai::var58 loaded</span>\n",
       "</pre>\n"
      ],
      "text/plain": [
       "\u001b[32mkey model.openai::var58 loaded\u001b[0m\n"
      ]
     },
     "metadata": {},
     "output_type": "display_data"
    },
    {
     "data": {
      "text/html": [
       "<pre style=\"white-space:pre;overflow-x:auto;line-height:normal;font-family:Menlo,'DejaVu Sans Mono',consolas,'Courier New',monospace\"><span style=\"color: #008000; text-decoration-color: #008000\">key model.openai::var59 loaded</span>\n",
       "</pre>\n"
      ],
      "text/plain": [
       "\u001b[32mkey model.openai::var59 loaded\u001b[0m\n"
      ]
     },
     "metadata": {},
     "output_type": "display_data"
    },
    {
     "data": {
      "text/html": [
       "<pre style=\"white-space:pre;overflow-x:auto;line-height:normal;font-family:Menlo,'DejaVu Sans Mono',consolas,'Courier New',monospace\"><span style=\"color: #008000; text-decoration-color: #008000\">key model.openai::var6 loaded</span>\n",
       "</pre>\n"
      ],
      "text/plain": [
       "\u001b[32mkey model.openai::var6 loaded\u001b[0m\n"
      ]
     },
     "metadata": {},
     "output_type": "display_data"
    },
    {
     "data": {
      "text/html": [
       "<pre style=\"white-space:pre;overflow-x:auto;line-height:normal;font-family:Menlo,'DejaVu Sans Mono',consolas,'Courier New',monospace\"><span style=\"color: #008000; text-decoration-color: #008000\">key model.openai::var60 loaded</span>\n",
       "</pre>\n"
      ],
      "text/plain": [
       "\u001b[32mkey model.openai::var60 loaded\u001b[0m\n"
      ]
     },
     "metadata": {},
     "output_type": "display_data"
    },
    {
     "data": {
      "text/html": [
       "<pre style=\"white-space:pre;overflow-x:auto;line-height:normal;font-family:Menlo,'DejaVu Sans Mono',consolas,'Courier New',monospace\"><span style=\"color: #008000; text-decoration-color: #008000\">key model.openai::var61 loaded</span>\n",
       "</pre>\n"
      ],
      "text/plain": [
       "\u001b[32mkey model.openai::var61 loaded\u001b[0m\n"
      ]
     },
     "metadata": {},
     "output_type": "display_data"
    },
    {
     "data": {
      "text/html": [
       "<pre style=\"white-space:pre;overflow-x:auto;line-height:normal;font-family:Menlo,'DejaVu Sans Mono',consolas,'Courier New',monospace\"><span style=\"color: #008000; text-decoration-color: #008000\">key model.openai::var62 loaded</span>\n",
       "</pre>\n"
      ],
      "text/plain": [
       "\u001b[32mkey model.openai::var62 loaded\u001b[0m\n"
      ]
     },
     "metadata": {},
     "output_type": "display_data"
    },
    {
     "data": {
      "text/html": [
       "<pre style=\"white-space:pre;overflow-x:auto;line-height:normal;font-family:Menlo,'DejaVu Sans Mono',consolas,'Courier New',monospace\"><span style=\"color: #008000; text-decoration-color: #008000\">key model.openai::var63 loaded</span>\n",
       "</pre>\n"
      ],
      "text/plain": [
       "\u001b[32mkey model.openai::var63 loaded\u001b[0m\n"
      ]
     },
     "metadata": {},
     "output_type": "display_data"
    },
    {
     "data": {
      "text/html": [
       "<pre style=\"white-space:pre;overflow-x:auto;line-height:normal;font-family:Menlo,'DejaVu Sans Mono',consolas,'Courier New',monospace\"><span style=\"color: #008000; text-decoration-color: #008000\">key model.openai::var64 loaded</span>\n",
       "</pre>\n"
      ],
      "text/plain": [
       "\u001b[32mkey model.openai::var64 loaded\u001b[0m\n"
      ]
     },
     "metadata": {},
     "output_type": "display_data"
    },
    {
     "data": {
      "text/html": [
       "<pre style=\"white-space:pre;overflow-x:auto;line-height:normal;font-family:Menlo,'DejaVu Sans Mono',consolas,'Courier New',monospace\"><span style=\"color: #008000; text-decoration-color: #008000\">key model.openai::var65 loaded</span>\n",
       "</pre>\n"
      ],
      "text/plain": [
       "\u001b[32mkey model.openai::var65 loaded\u001b[0m\n"
      ]
     },
     "metadata": {},
     "output_type": "display_data"
    },
    {
     "data": {
      "text/html": [
       "<pre style=\"white-space:pre;overflow-x:auto;line-height:normal;font-family:Menlo,'DejaVu Sans Mono',consolas,'Courier New',monospace\"><span style=\"color: #008000; text-decoration-color: #008000\">key model.openai::var66 loaded</span>\n",
       "</pre>\n"
      ],
      "text/plain": [
       "\u001b[32mkey model.openai::var66 loaded\u001b[0m\n"
      ]
     },
     "metadata": {},
     "output_type": "display_data"
    },
    {
     "data": {
      "text/html": [
       "<pre style=\"white-space:pre;overflow-x:auto;line-height:normal;font-family:Menlo,'DejaVu Sans Mono',consolas,'Courier New',monospace\"><span style=\"color: #008000; text-decoration-color: #008000\">key model.openai::var67 loaded</span>\n",
       "</pre>\n"
      ],
      "text/plain": [
       "\u001b[32mkey model.openai::var67 loaded\u001b[0m\n"
      ]
     },
     "metadata": {},
     "output_type": "display_data"
    },
    {
     "data": {
      "text/html": [
       "<pre style=\"white-space:pre;overflow-x:auto;line-height:normal;font-family:Menlo,'DejaVu Sans Mono',consolas,'Courier New',monospace\"><span style=\"color: #008000; text-decoration-color: #008000\">key model.openai::var68 loaded</span>\n",
       "</pre>\n"
      ],
      "text/plain": [
       "\u001b[32mkey model.openai::var68 loaded\u001b[0m\n"
      ]
     },
     "metadata": {},
     "output_type": "display_data"
    },
    {
     "data": {
      "text/html": [
       "<pre style=\"white-space:pre;overflow-x:auto;line-height:normal;font-family:Menlo,'DejaVu Sans Mono',consolas,'Courier New',monospace\"><span style=\"color: #008000; text-decoration-color: #008000\">key model.openai::var69 loaded</span>\n",
       "</pre>\n"
      ],
      "text/plain": [
       "\u001b[32mkey model.openai::var69 loaded\u001b[0m\n"
      ]
     },
     "metadata": {},
     "output_type": "display_data"
    },
    {
     "data": {
      "text/html": [
       "<pre style=\"white-space:pre;overflow-x:auto;line-height:normal;font-family:Menlo,'DejaVu Sans Mono',consolas,'Courier New',monospace\"><span style=\"color: #008000; text-decoration-color: #008000\">key model.openai::var7 loaded</span>\n",
       "</pre>\n"
      ],
      "text/plain": [
       "\u001b[32mkey model.openai::var7 loaded\u001b[0m\n"
      ]
     },
     "metadata": {},
     "output_type": "display_data"
    },
    {
     "data": {
      "text/html": [
       "<pre style=\"white-space:pre;overflow-x:auto;line-height:normal;font-family:Menlo,'DejaVu Sans Mono',consolas,'Courier New',monospace\"><span style=\"color: #008000; text-decoration-color: #008000\">key model.openai::var70 loaded</span>\n",
       "</pre>\n"
      ],
      "text/plain": [
       "\u001b[32mkey model.openai::var70 loaded\u001b[0m\n"
      ]
     },
     "metadata": {},
     "output_type": "display_data"
    },
    {
     "data": {
      "text/html": [
       "<pre style=\"white-space:pre;overflow-x:auto;line-height:normal;font-family:Menlo,'DejaVu Sans Mono',consolas,'Courier New',monospace\"><span style=\"color: #008000; text-decoration-color: #008000\">key model.openai::var71 loaded</span>\n",
       "</pre>\n"
      ],
      "text/plain": [
       "\u001b[32mkey model.openai::var71 loaded\u001b[0m\n"
      ]
     },
     "metadata": {},
     "output_type": "display_data"
    },
    {
     "data": {
      "text/html": [
       "<pre style=\"white-space:pre;overflow-x:auto;line-height:normal;font-family:Menlo,'DejaVu Sans Mono',consolas,'Courier New',monospace\"><span style=\"color: #008000; text-decoration-color: #008000\">key model.openai::var72 loaded</span>\n",
       "</pre>\n"
      ],
      "text/plain": [
       "\u001b[32mkey model.openai::var72 loaded\u001b[0m\n"
      ]
     },
     "metadata": {},
     "output_type": "display_data"
    },
    {
     "data": {
      "text/html": [
       "<pre style=\"white-space:pre;overflow-x:auto;line-height:normal;font-family:Menlo,'DejaVu Sans Mono',consolas,'Courier New',monospace\"><span style=\"color: #008000; text-decoration-color: #008000\">key model.openai::var73 loaded</span>\n",
       "</pre>\n"
      ],
      "text/plain": [
       "\u001b[32mkey model.openai::var73 loaded\u001b[0m\n"
      ]
     },
     "metadata": {},
     "output_type": "display_data"
    },
    {
     "data": {
      "text/html": [
       "<pre style=\"white-space:pre;overflow-x:auto;line-height:normal;font-family:Menlo,'DejaVu Sans Mono',consolas,'Courier New',monospace\"><span style=\"color: #008000; text-decoration-color: #008000\">key model.openai::var74 loaded</span>\n",
       "</pre>\n"
      ],
      "text/plain": [
       "\u001b[32mkey model.openai::var74 loaded\u001b[0m\n"
      ]
     },
     "metadata": {},
     "output_type": "display_data"
    },
    {
     "data": {
      "text/html": [
       "<pre style=\"white-space:pre;overflow-x:auto;line-height:normal;font-family:Menlo,'DejaVu Sans Mono',consolas,'Courier New',monospace\"><span style=\"color: #008000; text-decoration-color: #008000\">key model.openai::var75 loaded</span>\n",
       "</pre>\n"
      ],
      "text/plain": [
       "\u001b[32mkey model.openai::var75 loaded\u001b[0m\n"
      ]
     },
     "metadata": {},
     "output_type": "display_data"
    },
    {
     "data": {
      "text/html": [
       "<pre style=\"white-space:pre;overflow-x:auto;line-height:normal;font-family:Menlo,'DejaVu Sans Mono',consolas,'Courier New',monospace\"><span style=\"color: #008000; text-decoration-color: #008000\">key model.openai::var76 loaded</span>\n",
       "</pre>\n"
      ],
      "text/plain": [
       "\u001b[32mkey model.openai::var76 loaded\u001b[0m\n"
      ]
     },
     "metadata": {},
     "output_type": "display_data"
    },
    {
     "data": {
      "text/html": [
       "<pre style=\"white-space:pre;overflow-x:auto;line-height:normal;font-family:Menlo,'DejaVu Sans Mono',consolas,'Courier New',monospace\"><span style=\"color: #008000; text-decoration-color: #008000\">key model.openai::var77 loaded</span>\n",
       "</pre>\n"
      ],
      "text/plain": [
       "\u001b[32mkey model.openai::var77 loaded\u001b[0m\n"
      ]
     },
     "metadata": {},
     "output_type": "display_data"
    },
    {
     "data": {
      "text/html": [
       "<pre style=\"white-space:pre;overflow-x:auto;line-height:normal;font-family:Menlo,'DejaVu Sans Mono',consolas,'Courier New',monospace\"><span style=\"color: #008000; text-decoration-color: #008000\">key model.openai::var78 loaded</span>\n",
       "</pre>\n"
      ],
      "text/plain": [
       "\u001b[32mkey model.openai::var78 loaded\u001b[0m\n"
      ]
     },
     "metadata": {},
     "output_type": "display_data"
    },
    {
     "data": {
      "text/html": [
       "<pre style=\"white-space:pre;overflow-x:auto;line-height:normal;font-family:Menlo,'DejaVu Sans Mono',consolas,'Courier New',monospace\"><span style=\"color: #008000; text-decoration-color: #008000\">key model.openai::var79 loaded</span>\n",
       "</pre>\n"
      ],
      "text/plain": [
       "\u001b[32mkey model.openai::var79 loaded\u001b[0m\n"
      ]
     },
     "metadata": {},
     "output_type": "display_data"
    },
    {
     "data": {
      "text/html": [
       "<pre style=\"white-space:pre;overflow-x:auto;line-height:normal;font-family:Menlo,'DejaVu Sans Mono',consolas,'Courier New',monospace\"><span style=\"color: #008000; text-decoration-color: #008000\">key model.openai::var8 loaded</span>\n",
       "</pre>\n"
      ],
      "text/plain": [
       "\u001b[32mkey model.openai::var8 loaded\u001b[0m\n"
      ]
     },
     "metadata": {},
     "output_type": "display_data"
    },
    {
     "data": {
      "text/html": [
       "<pre style=\"white-space:pre;overflow-x:auto;line-height:normal;font-family:Menlo,'DejaVu Sans Mono',consolas,'Courier New',monospace\"><span style=\"color: #008000; text-decoration-color: #008000\">key model.openai::var80 loaded</span>\n",
       "</pre>\n"
      ],
      "text/plain": [
       "\u001b[32mkey model.openai::var80 loaded\u001b[0m\n"
      ]
     },
     "metadata": {},
     "output_type": "display_data"
    },
    {
     "data": {
      "text/html": [
       "<pre style=\"white-space:pre;overflow-x:auto;line-height:normal;font-family:Menlo,'DejaVu Sans Mono',consolas,'Courier New',monospace\"><span style=\"color: #008000; text-decoration-color: #008000\">key model.openai::var81 loaded</span>\n",
       "</pre>\n"
      ],
      "text/plain": [
       "\u001b[32mkey model.openai::var81 loaded\u001b[0m\n"
      ]
     },
     "metadata": {},
     "output_type": "display_data"
    },
    {
     "data": {
      "text/html": [
       "<pre style=\"white-space:pre;overflow-x:auto;line-height:normal;font-family:Menlo,'DejaVu Sans Mono',consolas,'Courier New',monospace\"><span style=\"color: #008000; text-decoration-color: #008000\">key model.openai::var82 loaded</span>\n",
       "</pre>\n"
      ],
      "text/plain": [
       "\u001b[32mkey model.openai::var82 loaded\u001b[0m\n"
      ]
     },
     "metadata": {},
     "output_type": "display_data"
    },
    {
     "data": {
      "text/html": [
       "<pre style=\"white-space:pre;overflow-x:auto;line-height:normal;font-family:Menlo,'DejaVu Sans Mono',consolas,'Courier New',monospace\"><span style=\"color: #008000; text-decoration-color: #008000\">key model.openai::var83 loaded</span>\n",
       "</pre>\n"
      ],
      "text/plain": [
       "\u001b[32mkey model.openai::var83 loaded\u001b[0m\n"
      ]
     },
     "metadata": {},
     "output_type": "display_data"
    },
    {
     "data": {
      "text/html": [
       "<pre style=\"white-space:pre;overflow-x:auto;line-height:normal;font-family:Menlo,'DejaVu Sans Mono',consolas,'Courier New',monospace\"><span style=\"color: #008000; text-decoration-color: #008000\">key model.openai::var84 loaded</span>\n",
       "</pre>\n"
      ],
      "text/plain": [
       "\u001b[32mkey model.openai::var84 loaded\u001b[0m\n"
      ]
     },
     "metadata": {},
     "output_type": "display_data"
    },
    {
     "data": {
      "text/html": [
       "<pre style=\"white-space:pre;overflow-x:auto;line-height:normal;font-family:Menlo,'DejaVu Sans Mono',consolas,'Courier New',monospace\"><span style=\"color: #008000; text-decoration-color: #008000\">key model.openai::var85 loaded</span>\n",
       "</pre>\n"
      ],
      "text/plain": [
       "\u001b[32mkey model.openai::var85 loaded\u001b[0m\n"
      ]
     },
     "metadata": {},
     "output_type": "display_data"
    },
    {
     "data": {
      "text/html": [
       "<pre style=\"white-space:pre;overflow-x:auto;line-height:normal;font-family:Menlo,'DejaVu Sans Mono',consolas,'Courier New',monospace\"><span style=\"color: #008000; text-decoration-color: #008000\">key model.openai::var86 loaded</span>\n",
       "</pre>\n"
      ],
      "text/plain": [
       "\u001b[32mkey model.openai::var86 loaded\u001b[0m\n"
      ]
     },
     "metadata": {},
     "output_type": "display_data"
    },
    {
     "data": {
      "text/html": [
       "<pre style=\"white-space:pre;overflow-x:auto;line-height:normal;font-family:Menlo,'DejaVu Sans Mono',consolas,'Courier New',monospace\"><span style=\"color: #008000; text-decoration-color: #008000\">key model.openai::var87 loaded</span>\n",
       "</pre>\n"
      ],
      "text/plain": [
       "\u001b[32mkey model.openai::var87 loaded\u001b[0m\n"
      ]
     },
     "metadata": {},
     "output_type": "display_data"
    },
    {
     "data": {
      "text/html": [
       "<pre style=\"white-space:pre;overflow-x:auto;line-height:normal;font-family:Menlo,'DejaVu Sans Mono',consolas,'Courier New',monospace\"><span style=\"color: #008000; text-decoration-color: #008000\">key model.openai::var88 loaded</span>\n",
       "</pre>\n"
      ],
      "text/plain": [
       "\u001b[32mkey model.openai::var88 loaded\u001b[0m\n"
      ]
     },
     "metadata": {},
     "output_type": "display_data"
    },
    {
     "data": {
      "text/html": [
       "<pre style=\"white-space:pre;overflow-x:auto;line-height:normal;font-family:Menlo,'DejaVu Sans Mono',consolas,'Courier New',monospace\"><span style=\"color: #008000; text-decoration-color: #008000\">key model.openai::var89 loaded</span>\n",
       "</pre>\n"
      ],
      "text/plain": [
       "\u001b[32mkey model.openai::var89 loaded\u001b[0m\n"
      ]
     },
     "metadata": {},
     "output_type": "display_data"
    },
    {
     "data": {
      "text/html": [
       "<pre style=\"white-space:pre;overflow-x:auto;line-height:normal;font-family:Menlo,'DejaVu Sans Mono',consolas,'Courier New',monospace\"><span style=\"color: #008000; text-decoration-color: #008000\">key model.openai::var9 loaded</span>\n",
       "</pre>\n"
      ],
      "text/plain": [
       "\u001b[32mkey model.openai::var9 loaded\u001b[0m\n"
      ]
     },
     "metadata": {},
     "output_type": "display_data"
    },
    {
     "data": {
      "text/html": [
       "<pre style=\"white-space:pre;overflow-x:auto;line-height:normal;font-family:Menlo,'DejaVu Sans Mono',consolas,'Courier New',monospace\"><span style=\"color: #008000; text-decoration-color: #008000\">key model.openai::var90 loaded</span>\n",
       "</pre>\n"
      ],
      "text/plain": [
       "\u001b[32mkey model.openai::var90 loaded\u001b[0m\n"
      ]
     },
     "metadata": {},
     "output_type": "display_data"
    },
    {
     "data": {
      "text/html": [
       "<pre style=\"white-space:pre;overflow-x:auto;line-height:normal;font-family:Menlo,'DejaVu Sans Mono',consolas,'Courier New',monospace\"><span style=\"color: #008000; text-decoration-color: #008000\">key model.openai::var91 loaded</span>\n",
       "</pre>\n"
      ],
      "text/plain": [
       "\u001b[32mkey model.openai::var91 loaded\u001b[0m\n"
      ]
     },
     "metadata": {},
     "output_type": "display_data"
    },
    {
     "data": {
      "text/html": [
       "<pre style=\"white-space:pre;overflow-x:auto;line-height:normal;font-family:Menlo,'DejaVu Sans Mono',consolas,'Courier New',monospace\"><span style=\"color: #008000; text-decoration-color: #008000\">key model.openai::var92 loaded</span>\n",
       "</pre>\n"
      ],
      "text/plain": [
       "\u001b[32mkey model.openai::var92 loaded\u001b[0m\n"
      ]
     },
     "metadata": {},
     "output_type": "display_data"
    },
    {
     "data": {
      "text/html": [
       "<pre style=\"white-space:pre;overflow-x:auto;line-height:normal;font-family:Menlo,'DejaVu Sans Mono',consolas,'Courier New',monospace\"><span style=\"color: #008000; text-decoration-color: #008000\">key model.openai::var93 loaded</span>\n",
       "</pre>\n"
      ],
      "text/plain": [
       "\u001b[32mkey model.openai::var93 loaded\u001b[0m\n"
      ]
     },
     "metadata": {},
     "output_type": "display_data"
    },
    {
     "data": {
      "text/html": [
       "<pre style=\"white-space:pre;overflow-x:auto;line-height:normal;font-family:Menlo,'DejaVu Sans Mono',consolas,'Courier New',monospace\"><span style=\"color: #008000; text-decoration-color: #008000\">key model.openai::var94 loaded</span>\n",
       "</pre>\n"
      ],
      "text/plain": [
       "\u001b[32mkey model.openai::var94 loaded\u001b[0m\n"
      ]
     },
     "metadata": {},
     "output_type": "display_data"
    },
    {
     "data": {
      "text/html": [
       "<pre style=\"white-space:pre;overflow-x:auto;line-height:normal;font-family:Menlo,'DejaVu Sans Mono',consolas,'Courier New',monospace\"><span style=\"color: #008000; text-decoration-color: #008000\">key model.openai::var95 loaded</span>\n",
       "</pre>\n"
      ],
      "text/plain": [
       "\u001b[32mkey model.openai::var95 loaded\u001b[0m\n"
      ]
     },
     "metadata": {},
     "output_type": "display_data"
    },
    {
     "data": {
      "text/html": [
       "<pre style=\"white-space:pre;overflow-x:auto;line-height:normal;font-family:Menlo,'DejaVu Sans Mono',consolas,'Courier New',monospace\"><span style=\"color: #008000; text-decoration-color: #008000\">key model.openai::var96 loaded</span>\n",
       "</pre>\n"
      ],
      "text/plain": [
       "\u001b[32mkey model.openai::var96 loaded\u001b[0m\n"
      ]
     },
     "metadata": {},
     "output_type": "display_data"
    },
    {
     "data": {
      "text/html": [
       "<pre style=\"white-space:pre;overflow-x:auto;line-height:normal;font-family:Menlo,'DejaVu Sans Mono',consolas,'Courier New',monospace\"><span style=\"color: #008000; text-decoration-color: #008000\">key model.openai::var97 loaded</span>\n",
       "</pre>\n"
      ],
      "text/plain": [
       "\u001b[32mkey model.openai::var97 loaded\u001b[0m\n"
      ]
     },
     "metadata": {},
     "output_type": "display_data"
    },
    {
     "data": {
      "text/html": [
       "<pre style=\"white-space:pre;overflow-x:auto;line-height:normal;font-family:Menlo,'DejaVu Sans Mono',consolas,'Courier New',monospace\"><span style=\"color: #008000; text-decoration-color: #008000\">key model.openai::var98 loaded</span>\n",
       "</pre>\n"
      ],
      "text/plain": [
       "\u001b[32mkey model.openai::var98 loaded\u001b[0m\n"
      ]
     },
     "metadata": {},
     "output_type": "display_data"
    },
    {
     "data": {
      "text/html": [
       "<pre style=\"white-space:pre;overflow-x:auto;line-height:normal;font-family:Menlo,'DejaVu Sans Mono',consolas,'Courier New',monospace\"><span style=\"color: #008000; text-decoration-color: #008000\">key model.openai::var99 loaded</span>\n",
       "</pre>\n"
      ],
      "text/plain": [
       "\u001b[32mkey model.openai::var99 loaded\u001b[0m\n"
      ]
     },
     "metadata": {},
     "output_type": "display_data"
    },
    {
     "data": {
      "text/html": [
       "<pre style=\"white-space:pre;overflow-x:auto;line-height:normal;font-family:Menlo,'DejaVu Sans Mono',consolas,'Courier New',monospace\"><span style=\"color: #008000; text-decoration-color: #008000\">key module loaded</span>\n",
       "</pre>\n"
      ],
      "text/plain": [
       "\u001b[32mkey module loaded\u001b[0m\n"
      ]
     },
     "metadata": {},
     "output_type": "display_data"
    },
    {
     "data": {
      "text/html": [
       "<pre style=\"white-space:pre;overflow-x:auto;line-height:normal;font-family:Menlo,'DejaVu Sans Mono',consolas,'Courier New',monospace\"><span style=\"color: #008000; text-decoration-color: #008000\">key modul</span><span style=\"color: #00ff00; text-decoration-color: #00ff00; font-weight: bold\">e::2</span><span style=\"color: #008000; text-decoration-color: #008000\"> loaded</span>\n",
       "</pre>\n"
      ],
      "text/plain": [
       "\u001b[32mkey modul\u001b[0m\u001b[1;92me::2\u001b[0m\u001b[32m loaded\u001b[0m\n"
      ]
     },
     "metadata": {},
     "output_type": "display_data"
    },
    {
     "data": {
      "text/html": [
       "<pre style=\"white-space:pre;overflow-x:auto;line-height:normal;font-family:Menlo,'DejaVu Sans Mono',consolas,'Courier New',monospace\"><span style=\"color: #008000; text-decoration-color: #008000\">key module::m2 loaded</span>\n",
       "</pre>\n"
      ],
      "text/plain": [
       "\u001b[32mkey module::m2 loaded\u001b[0m\n"
      ]
     },
     "metadata": {},
     "output_type": "display_data"
    },
    {
     "data": {
      "text/html": [
       "<pre style=\"white-space:pre;overflow-x:auto;line-height:normal;font-family:Menlo,'DejaVu Sans Mono',consolas,'Courier New',monospace\"><span style=\"color: #008000; text-decoration-color: #008000\">key ola loaded</span>\n",
       "</pre>\n"
      ],
      "text/plain": [
       "\u001b[32mkey ola loaded\u001b[0m\n"
      ]
     },
     "metadata": {},
     "output_type": "display_data"
    },
    {
     "data": {
      "text/html": [
       "<pre style=\"white-space:pre;overflow-x:auto;line-height:normal;font-family:Menlo,'DejaVu Sans Mono',consolas,'Courier New',monospace\"><span style=\"color: #008000; text-decoration-color: #008000\">key storage loaded</span>\n",
       "</pre>\n"
      ],
      "text/plain": [
       "\u001b[32mkey storage loaded\u001b[0m\n"
      ]
     },
     "metadata": {},
     "output_type": "display_data"
    },
    {
     "data": {
      "text/html": [
       "<pre style=\"white-space:pre;overflow-x:auto;line-height:normal;font-family:Menlo,'DejaVu Sans Mono',consolas,'Courier New',monospace\"><span style=\"color: #008000; text-decoration-color: #008000\">key subspace.node.dev.alice.aura loaded</span>\n",
       "</pre>\n"
      ],
      "text/plain": [
       "\u001b[32mkey subspace.node.dev.alice.aura loaded\u001b[0m\n"
      ]
     },
     "metadata": {},
     "output_type": "display_data"
    },
    {
     "data": {
      "text/html": [
       "<pre style=\"white-space:pre;overflow-x:auto;line-height:normal;font-family:Menlo,'DejaVu Sans Mono',consolas,'Courier New',monospace\"><span style=\"color: #008000; text-decoration-color: #008000\">key subspace.node.dev.alice.gran loaded</span>\n",
       "</pre>\n"
      ],
      "text/plain": [
       "\u001b[32mkey subspace.node.dev.alice.gran loaded\u001b[0m\n"
      ]
     },
     "metadata": {},
     "output_type": "display_data"
    },
    {
     "data": {
      "text/html": [
       "<pre style=\"white-space:pre;overflow-x:auto;line-height:normal;font-family:Menlo,'DejaVu Sans Mono',consolas,'Courier New',monospace\"><span style=\"color: #008000; text-decoration-color: #008000\">key subspace.node.dev.bob.aura loaded</span>\n",
       "</pre>\n"
      ],
      "text/plain": [
       "\u001b[32mkey subspace.node.dev.bob.aura loaded\u001b[0m\n"
      ]
     },
     "metadata": {},
     "output_type": "display_data"
    },
    {
     "data": {
      "text/html": [
       "<pre style=\"white-space:pre;overflow-x:auto;line-height:normal;font-family:Menlo,'DejaVu Sans Mono',consolas,'Courier New',monospace\"><span style=\"color: #008000; text-decoration-color: #008000\">key subspace.node.dev.bob.gran loaded</span>\n",
       "</pre>\n"
      ],
      "text/plain": [
       "\u001b[32mkey subspace.node.dev.bob.gran loaded\u001b[0m\n"
      ]
     },
     "metadata": {},
     "output_type": "display_data"
    },
    {
     "data": {
      "text/html": [
       "<pre style=\"white-space:pre;overflow-x:auto;line-height:normal;font-family:Menlo,'DejaVu Sans Mono',consolas,'Courier New',monospace\"><span style=\"color: #008000; text-decoration-color: #008000\">key subspace.node.dev.bruh.aura loaded</span>\n",
       "</pre>\n"
      ],
      "text/plain": [
       "\u001b[32mkey subspace.node.dev.bruh.aura loaded\u001b[0m\n"
      ]
     },
     "metadata": {},
     "output_type": "display_data"
    },
    {
     "data": {
      "text/html": [
       "<pre style=\"white-space:pre;overflow-x:auto;line-height:normal;font-family:Menlo,'DejaVu Sans Mono',consolas,'Courier New',monospace\"><span style=\"color: #008000; text-decoration-color: #008000\">key subspace.node.dev.bruh.gran loaded</span>\n",
       "</pre>\n"
      ],
      "text/plain": [
       "\u001b[32mkey subspace.node.dev.bruh.gran loaded\u001b[0m\n"
      ]
     },
     "metadata": {},
     "output_type": "display_data"
    },
    {
     "data": {
      "text/html": [
       "<pre style=\"white-space:pre;overflow-x:auto;line-height:normal;font-family:Menlo,'DejaVu Sans Mono',consolas,'Courier New',monospace\"><span style=\"color: #008000; text-decoration-color: #008000\">key subspace.node.dev.chris.aura loaded</span>\n",
       "</pre>\n"
      ],
      "text/plain": [
       "\u001b[32mkey subspace.node.dev.chris.aura loaded\u001b[0m\n"
      ]
     },
     "metadata": {},
     "output_type": "display_data"
    },
    {
     "data": {
      "text/html": [
       "<pre style=\"white-space:pre;overflow-x:auto;line-height:normal;font-family:Menlo,'DejaVu Sans Mono',consolas,'Courier New',monospace\"><span style=\"color: #008000; text-decoration-color: #008000\">key subspace.node.dev.chris.gran loaded</span>\n",
       "</pre>\n"
      ],
      "text/plain": [
       "\u001b[32mkey subspace.node.dev.chris.gran loaded\u001b[0m\n"
      ]
     },
     "metadata": {},
     "output_type": "display_data"
    },
    {
     "data": {
      "text/html": [
       "<pre style=\"white-space:pre;overflow-x:auto;line-height:normal;font-family:Menlo,'DejaVu Sans Mono',consolas,'Courier New',monospace\"><span style=\"color: #008000; text-decoration-color: #008000\">key subspace.node.dev.elon.aura loaded</span>\n",
       "</pre>\n"
      ],
      "text/plain": [
       "\u001b[32mkey subspace.node.dev.elon.aura loaded\u001b[0m\n"
      ]
     },
     "metadata": {},
     "output_type": "display_data"
    },
    {
     "data": {
      "text/html": [
       "<pre style=\"white-space:pre;overflow-x:auto;line-height:normal;font-family:Menlo,'DejaVu Sans Mono',consolas,'Courier New',monospace\"><span style=\"color: #008000; text-decoration-color: #008000\">key subspace.node.dev.elon.gran loaded</span>\n",
       "</pre>\n"
      ],
      "text/plain": [
       "\u001b[32mkey subspace.node.dev.elon.gran loaded\u001b[0m\n"
      ]
     },
     "metadata": {},
     "output_type": "display_data"
    },
    {
     "data": {
      "text/html": [
       "<pre style=\"white-space:pre;overflow-x:auto;line-height:normal;font-family:Menlo,'DejaVu Sans Mono',consolas,'Courier New',monospace\"><span style=\"color: #008000; text-decoration-color: #008000\">key subspace.node.dev.fam.aura loaded</span>\n",
       "</pre>\n"
      ],
      "text/plain": [
       "\u001b[32mkey subspace.node.dev.fam.aura loaded\u001b[0m\n"
      ]
     },
     "metadata": {},
     "output_type": "display_data"
    },
    {
     "data": {
      "text/html": [
       "<pre style=\"white-space:pre;overflow-x:auto;line-height:normal;font-family:Menlo,'DejaVu Sans Mono',consolas,'Courier New',monospace\"><span style=\"color: #008000; text-decoration-color: #008000\">key subspace.node.dev.fam.gran loaded</span>\n",
       "</pre>\n"
      ],
      "text/plain": [
       "\u001b[32mkey subspace.node.dev.fam.gran loaded\u001b[0m\n"
      ]
     },
     "metadata": {},
     "output_type": "display_data"
    },
    {
     "data": {
      "text/html": [
       "<pre style=\"white-space:pre;overflow-x:auto;line-height:normal;font-family:Menlo,'DejaVu Sans Mono',consolas,'Courier New',monospace\"><span style=\"color: #008000; text-decoration-color: #008000\">key subspace.node.dev.huck.aura loaded</span>\n",
       "</pre>\n"
      ],
      "text/plain": [
       "\u001b[32mkey subspace.node.dev.huck.aura loaded\u001b[0m\n"
      ]
     },
     "metadata": {},
     "output_type": "display_data"
    },
    {
     "data": {
      "text/html": [
       "<pre style=\"white-space:pre;overflow-x:auto;line-height:normal;font-family:Menlo,'DejaVu Sans Mono',consolas,'Courier New',monospace\"><span style=\"color: #008000; text-decoration-color: #008000\">key subspace.node.dev.huck.gran loaded</span>\n",
       "</pre>\n"
      ],
      "text/plain": [
       "\u001b[32mkey subspace.node.dev.huck.gran loaded\u001b[0m\n"
      ]
     },
     "metadata": {},
     "output_type": "display_data"
    },
    {
     "data": {
      "text/html": [
       "<pre style=\"white-space:pre;overflow-x:auto;line-height:normal;font-family:Menlo,'DejaVu Sans Mono',consolas,'Courier New',monospace\"><span style=\"color: #008000; text-decoration-color: #008000\">key subspace.node.dev.sal.aura loaded</span>\n",
       "</pre>\n"
      ],
      "text/plain": [
       "\u001b[32mkey subspace.node.dev.sal.aura loaded\u001b[0m\n"
      ]
     },
     "metadata": {},
     "output_type": "display_data"
    },
    {
     "data": {
      "text/html": [
       "<pre style=\"white-space:pre;overflow-x:auto;line-height:normal;font-family:Menlo,'DejaVu Sans Mono',consolas,'Courier New',monospace\"><span style=\"color: #008000; text-decoration-color: #008000\">key subspace.node.dev.sal.gran loaded</span>\n",
       "</pre>\n"
      ],
      "text/plain": [
       "\u001b[32mkey subspace.node.dev.sal.gran loaded\u001b[0m\n"
      ]
     },
     "metadata": {},
     "output_type": "display_data"
    },
    {
     "data": {
      "text/html": [
       "<pre style=\"white-space:pre;overflow-x:auto;line-height:normal;font-family:Menlo,'DejaVu Sans Mono',consolas,'Courier New',monospace\"><span style=\"color: #008000; text-decoration-color: #008000\">key subspace.node.dev.satoshi.aura loaded</span>\n",
       "</pre>\n"
      ],
      "text/plain": [
       "\u001b[32mkey subspace.node.dev.satoshi.aura loaded\u001b[0m\n"
      ]
     },
     "metadata": {},
     "output_type": "display_data"
    },
    {
     "data": {
      "text/html": [
       "<pre style=\"white-space:pre;overflow-x:auto;line-height:normal;font-family:Menlo,'DejaVu Sans Mono',consolas,'Courier New',monospace\"><span style=\"color: #008000; text-decoration-color: #008000\">key subspace.node.dev.satoshi.gran loaded</span>\n",
       "</pre>\n"
      ],
      "text/plain": [
       "\u001b[32mkey subspace.node.dev.satoshi.gran loaded\u001b[0m\n"
      ]
     },
     "metadata": {},
     "output_type": "display_data"
    },
    {
     "data": {
      "text/html": [
       "<pre style=\"white-space:pre;overflow-x:auto;line-height:normal;font-family:Menlo,'DejaVu Sans Mono',consolas,'Courier New',monospace\"><span style=\"color: #008000; text-decoration-color: #008000\">key subspace.node.dev.snoop.aura loaded</span>\n",
       "</pre>\n"
      ],
      "text/plain": [
       "\u001b[32mkey subspace.node.dev.snoop.aura loaded\u001b[0m\n"
      ]
     },
     "metadata": {},
     "output_type": "display_data"
    },
    {
     "data": {
      "text/html": [
       "<pre style=\"white-space:pre;overflow-x:auto;line-height:normal;font-family:Menlo,'DejaVu Sans Mono',consolas,'Courier New',monospace\"><span style=\"color: #008000; text-decoration-color: #008000\">key subspace.node.dev.snoop.gran loaded</span>\n",
       "</pre>\n"
      ],
      "text/plain": [
       "\u001b[32mkey subspace.node.dev.snoop.gran loaded\u001b[0m\n"
      ]
     },
     "metadata": {},
     "output_type": "display_data"
    },
    {
     "data": {
      "text/html": [
       "<pre style=\"white-space:pre;overflow-x:auto;line-height:normal;font-family:Menlo,'DejaVu Sans Mono',consolas,'Courier New',monospace\"><span style=\"color: #008000; text-decoration-color: #008000\">key subspace.node.main.alice.aura loaded</span>\n",
       "</pre>\n"
      ],
      "text/plain": [
       "\u001b[32mkey subspace.node.main.alice.aura loaded\u001b[0m\n"
      ]
     },
     "metadata": {},
     "output_type": "display_data"
    },
    {
     "data": {
      "text/html": [
       "<pre style=\"white-space:pre;overflow-x:auto;line-height:normal;font-family:Menlo,'DejaVu Sans Mono',consolas,'Courier New',monospace\"><span style=\"color: #008000; text-decoration-color: #008000\">key subspace.node.main.alice.gran loaded</span>\n",
       "</pre>\n"
      ],
      "text/plain": [
       "\u001b[32mkey subspace.node.main.alice.gran loaded\u001b[0m\n"
      ]
     },
     "metadata": {},
     "output_type": "display_data"
    },
    {
     "data": {
      "text/html": [
       "<pre style=\"white-space:pre;overflow-x:auto;line-height:normal;font-family:Menlo,'DejaVu Sans Mono',consolas,'Courier New',monospace\"><span style=\"color: #008000; text-decoration-color: #008000\">key subspace.node.main.bob.aura loaded</span>\n",
       "</pre>\n"
      ],
      "text/plain": [
       "\u001b[32mkey subspace.node.main.bob.aura loaded\u001b[0m\n"
      ]
     },
     "metadata": {},
     "output_type": "display_data"
    },
    {
     "data": {
      "text/html": [
       "<pre style=\"white-space:pre;overflow-x:auto;line-height:normal;font-family:Menlo,'DejaVu Sans Mono',consolas,'Courier New',monospace\"><span style=\"color: #008000; text-decoration-color: #008000\">key subspace.node.main.bob.gran loaded</span>\n",
       "</pre>\n"
      ],
      "text/plain": [
       "\u001b[32mkey subspace.node.main.bob.gran loaded\u001b[0m\n"
      ]
     },
     "metadata": {},
     "output_type": "display_data"
    },
    {
     "data": {
      "text/html": [
       "<pre style=\"white-space:pre;overflow-x:auto;line-height:normal;font-family:Menlo,'DejaVu Sans Mono',consolas,'Courier New',monospace\"><span style=\"color: #008000; text-decoration-color: #008000\">key subspace.node.main.bro.aura loaded</span>\n",
       "</pre>\n"
      ],
      "text/plain": [
       "\u001b[32mkey subspace.node.main.bro.aura loaded\u001b[0m\n"
      ]
     },
     "metadata": {},
     "output_type": "display_data"
    },
    {
     "data": {
      "text/html": [
       "<pre style=\"white-space:pre;overflow-x:auto;line-height:normal;font-family:Menlo,'DejaVu Sans Mono',consolas,'Courier New',monospace\"><span style=\"color: #008000; text-decoration-color: #008000\">key subspace.node.main.bro.gran loaded</span>\n",
       "</pre>\n"
      ],
      "text/plain": [
       "\u001b[32mkey subspace.node.main.bro.gran loaded\u001b[0m\n"
      ]
     },
     "metadata": {},
     "output_type": "display_data"
    },
    {
     "data": {
      "text/html": [
       "<pre style=\"white-space:pre;overflow-x:auto;line-height:normal;font-family:Menlo,'DejaVu Sans Mono',consolas,'Courier New',monospace\"><span style=\"color: #008000; text-decoration-color: #008000\">key subspace.node.main.bruh.aura loaded</span>\n",
       "</pre>\n"
      ],
      "text/plain": [
       "\u001b[32mkey subspace.node.main.bruh.aura loaded\u001b[0m\n"
      ]
     },
     "metadata": {},
     "output_type": "display_data"
    },
    {
     "data": {
      "text/html": [
       "<pre style=\"white-space:pre;overflow-x:auto;line-height:normal;font-family:Menlo,'DejaVu Sans Mono',consolas,'Courier New',monospace\"><span style=\"color: #008000; text-decoration-color: #008000\">key subspace.node.main.bruh.gran loaded</span>\n",
       "</pre>\n"
      ],
      "text/plain": [
       "\u001b[32mkey subspace.node.main.bruh.gran loaded\u001b[0m\n"
      ]
     },
     "metadata": {},
     "output_type": "display_data"
    },
    {
     "data": {
      "text/html": [
       "<pre style=\"white-space:pre;overflow-x:auto;line-height:normal;font-family:Menlo,'DejaVu Sans Mono',consolas,'Courier New',monospace\"><span style=\"color: #008000; text-decoration-color: #008000\">key subspace.node.main.chris.aura loaded</span>\n",
       "</pre>\n"
      ],
      "text/plain": [
       "\u001b[32mkey subspace.node.main.chris.aura loaded\u001b[0m\n"
      ]
     },
     "metadata": {},
     "output_type": "display_data"
    },
    {
     "data": {
      "text/html": [
       "<pre style=\"white-space:pre;overflow-x:auto;line-height:normal;font-family:Menlo,'DejaVu Sans Mono',consolas,'Courier New',monospace\"><span style=\"color: #008000; text-decoration-color: #008000\">key subspace.node.main.chris.gran loaded</span>\n",
       "</pre>\n"
      ],
      "text/plain": [
       "\u001b[32mkey subspace.node.main.chris.gran loaded\u001b[0m\n"
      ]
     },
     "metadata": {},
     "output_type": "display_data"
    },
    {
     "data": {
      "text/html": [
       "<pre style=\"white-space:pre;overflow-x:auto;line-height:normal;font-family:Menlo,'DejaVu Sans Mono',consolas,'Courier New',monospace\"><span style=\"color: #008000; text-decoration-color: #008000\">key subspace.node.main.elon.aura loaded</span>\n",
       "</pre>\n"
      ],
      "text/plain": [
       "\u001b[32mkey subspace.node.main.elon.aura loaded\u001b[0m\n"
      ]
     },
     "metadata": {},
     "output_type": "display_data"
    },
    {
     "data": {
      "text/html": [
       "<pre style=\"white-space:pre;overflow-x:auto;line-height:normal;font-family:Menlo,'DejaVu Sans Mono',consolas,'Courier New',monospace\"><span style=\"color: #008000; text-decoration-color: #008000\">key subspace.node.main.elon.gran loaded</span>\n",
       "</pre>\n"
      ],
      "text/plain": [
       "\u001b[32mkey subspace.node.main.elon.gran loaded\u001b[0m\n"
      ]
     },
     "metadata": {},
     "output_type": "display_data"
    },
    {
     "data": {
      "text/html": [
       "<pre style=\"white-space:pre;overflow-x:auto;line-height:normal;font-family:Menlo,'DejaVu Sans Mono',consolas,'Courier New',monospace\"><span style=\"color: #008000; text-decoration-color: #008000\">key subspace.node.main.fam.aura loaded</span>\n",
       "</pre>\n"
      ],
      "text/plain": [
       "\u001b[32mkey subspace.node.main.fam.aura loaded\u001b[0m\n"
      ]
     },
     "metadata": {},
     "output_type": "display_data"
    },
    {
     "data": {
      "text/html": [
       "<pre style=\"white-space:pre;overflow-x:auto;line-height:normal;font-family:Menlo,'DejaVu Sans Mono',consolas,'Courier New',monospace\"><span style=\"color: #008000; text-decoration-color: #008000\">key subspace.node.main.fam.gran loaded</span>\n",
       "</pre>\n"
      ],
      "text/plain": [
       "\u001b[32mkey subspace.node.main.fam.gran loaded\u001b[0m\n"
      ]
     },
     "metadata": {},
     "output_type": "display_data"
    },
    {
     "data": {
      "text/html": [
       "<pre style=\"white-space:pre;overflow-x:auto;line-height:normal;font-family:Menlo,'DejaVu Sans Mono',consolas,'Courier New',monospace\"><span style=\"color: #008000; text-decoration-color: #008000\">key subspace.node.main.huck.aura loaded</span>\n",
       "</pre>\n"
      ],
      "text/plain": [
       "\u001b[32mkey subspace.node.main.huck.aura loaded\u001b[0m\n"
      ]
     },
     "metadata": {},
     "output_type": "display_data"
    },
    {
     "data": {
      "text/html": [
       "<pre style=\"white-space:pre;overflow-x:auto;line-height:normal;font-family:Menlo,'DejaVu Sans Mono',consolas,'Courier New',monospace\"><span style=\"color: #008000; text-decoration-color: #008000\">key subspace.node.main.huck.gran loaded</span>\n",
       "</pre>\n"
      ],
      "text/plain": [
       "\u001b[32mkey subspace.node.main.huck.gran loaded\u001b[0m\n"
      ]
     },
     "metadata": {},
     "output_type": "display_data"
    },
    {
     "data": {
      "text/html": [
       "<pre style=\"white-space:pre;overflow-x:auto;line-height:normal;font-family:Menlo,'DejaVu Sans Mono',consolas,'Courier New',monospace\"><span style=\"color: #008000; text-decoration-color: #008000\">key subspace.node.main.sal.aura loaded</span>\n",
       "</pre>\n"
      ],
      "text/plain": [
       "\u001b[32mkey subspace.node.main.sal.aura loaded\u001b[0m\n"
      ]
     },
     "metadata": {},
     "output_type": "display_data"
    },
    {
     "data": {
      "text/html": [
       "<pre style=\"white-space:pre;overflow-x:auto;line-height:normal;font-family:Menlo,'DejaVu Sans Mono',consolas,'Courier New',monospace\"><span style=\"color: #008000; text-decoration-color: #008000\">key subspace.node.main.sal.gran loaded</span>\n",
       "</pre>\n"
      ],
      "text/plain": [
       "\u001b[32mkey subspace.node.main.sal.gran loaded\u001b[0m\n"
      ]
     },
     "metadata": {},
     "output_type": "display_data"
    },
    {
     "data": {
      "text/html": [
       "<pre style=\"white-space:pre;overflow-x:auto;line-height:normal;font-family:Menlo,'DejaVu Sans Mono',consolas,'Courier New',monospace\"><span style=\"color: #008000; text-decoration-color: #008000\">key subspace.node.main.satoshi.aura loaded</span>\n",
       "</pre>\n"
      ],
      "text/plain": [
       "\u001b[32mkey subspace.node.main.satoshi.aura loaded\u001b[0m\n"
      ]
     },
     "metadata": {},
     "output_type": "display_data"
    },
    {
     "data": {
      "text/html": [
       "<pre style=\"white-space:pre;overflow-x:auto;line-height:normal;font-family:Menlo,'DejaVu Sans Mono',consolas,'Courier New',monospace\"><span style=\"color: #008000; text-decoration-color: #008000\">key subspace.node.main.satoshi.gran loaded</span>\n",
       "</pre>\n"
      ],
      "text/plain": [
       "\u001b[32mkey subspace.node.main.satoshi.gran loaded\u001b[0m\n"
      ]
     },
     "metadata": {},
     "output_type": "display_data"
    },
    {
     "data": {
      "text/html": [
       "<pre style=\"white-space:pre;overflow-x:auto;line-height:normal;font-family:Menlo,'DejaVu Sans Mono',consolas,'Courier New',monospace\"><span style=\"color: #008000; text-decoration-color: #008000\">key subspace.node.main.seeker.aura loaded</span>\n",
       "</pre>\n"
      ],
      "text/plain": [
       "\u001b[32mkey subspace.node.main.seeker.aura loaded\u001b[0m\n"
      ]
     },
     "metadata": {},
     "output_type": "display_data"
    },
    {
     "data": {
      "text/html": [
       "<pre style=\"white-space:pre;overflow-x:auto;line-height:normal;font-family:Menlo,'DejaVu Sans Mono',consolas,'Courier New',monospace\"><span style=\"color: #008000; text-decoration-color: #008000\">key subspace.node.main.seeker.gran loaded</span>\n",
       "</pre>\n"
      ],
      "text/plain": [
       "\u001b[32mkey subspace.node.main.seeker.gran loaded\u001b[0m\n"
      ]
     },
     "metadata": {},
     "output_type": "display_data"
    },
    {
     "data": {
      "text/html": [
       "<pre style=\"white-space:pre;overflow-x:auto;line-height:normal;font-family:Menlo,'DejaVu Sans Mono',consolas,'Courier New',monospace\"><span style=\"color: #008000; text-decoration-color: #008000\">key subspace.node.main.snoop.aura loaded</span>\n",
       "</pre>\n"
      ],
      "text/plain": [
       "\u001b[32mkey subspace.node.main.snoop.aura loaded\u001b[0m\n"
      ]
     },
     "metadata": {},
     "output_type": "display_data"
    },
    {
     "data": {
      "text/html": [
       "<pre style=\"white-space:pre;overflow-x:auto;line-height:normal;font-family:Menlo,'DejaVu Sans Mono',consolas,'Courier New',monospace\"><span style=\"color: #008000; text-decoration-color: #008000\">key subspace.node.main.snoop.gran loaded</span>\n",
       "</pre>\n"
      ],
      "text/plain": [
       "\u001b[32mkey subspace.node.main.snoop.gran loaded\u001b[0m\n"
      ]
     },
     "metadata": {},
     "output_type": "display_data"
    }
   ],
   "source": [
    "c.load_keys()"
   ]
  },
  {
   "cell_type": "code",
   "execution_count": null,
   "metadata": {},
   "outputs": [],
   "source": []
  }
 ],
 "metadata": {
  "kernelspec": {
   "display_name": "Python 3",
   "language": "python",
   "name": "python3"
  },
  "language_info": {
   "codemirror_mode": {
    "name": "ipython",
    "version": 3
   },
   "file_extension": ".py",
   "mimetype": "text/x-python",
   "name": "python",
   "nbconvert_exporter": "python",
   "pygments_lexer": "ipython3",
   "version": "3.9.6"
  },
  "orig_nbformat": 4
 },
 "nbformat": 4,
 "nbformat_minor": 2
}

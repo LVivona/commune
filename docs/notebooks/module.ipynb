{
 "cells": [
  {
   "cell_type": "code",
   "execution_count": 1,
   "id": "d4185eeb-6a2d-4f20-a5a1-0718c5b4911c",
   "metadata": {},
   "outputs": [],
   "source": [
    "import commune as c\n",
    "c.enable_jupyter()"
   ]
  },
  {
   "cell_type": "markdown",
   "id": "5ec0299b-bd6b-4a68-b27c-78cdd5c87393",
   "metadata": {
    "jupyter": {
     "source_hidden": true
    },
    "tags": []
   },
   "source": [
    "# Initialize the module"
   ]
  },
  {
   "cell_type": "code",
   "execution_count": 2,
   "id": "8c19110b-d1ca-476f-95db-c94e0825c14f",
   "metadata": {
    "tags": []
   },
   "outputs": [
    {
     "data": {
      "text/plain": [
       "commune.module.module.c"
      ]
     },
     "execution_count": 2,
     "metadata": {},
     "output_type": "execute_result"
    }
   ],
   "source": [
    "c.Module"
   ]
  },
  {
   "cell_type": "markdown",
   "id": "ffa12eb8-503b-4340-b4fd-fdf58ac841d6",
   "metadata": {},
   "source": [
    "## See the functions"
   ]
  },
  {
   "cell_type": "code",
   "execution_count": 4,
   "id": "4907bef4-3287-4109-980d-2a633105c39c",
   "metadata": {
    "collapsed": true,
    "jupyter": {
     "outputs_hidden": true
    },
    "tags": []
   },
   "outputs": [
    {
     "data": {
      "text/plain": [
       "758"
      ]
     },
     "execution_count": 4,
     "metadata": {},
     "output_type": "execute_result"
    }
   ],
   "source": [
    "len(c.functions())"
   ]
  },
  {
   "cell_type": "markdown",
   "id": "4ac00710-deb1-4d51-92d5-04d214afc8ef",
   "metadata": {
    "tags": []
   },
   "source": [
    "## Get the functions schema"
   ]
  },
  {
   "cell_type": "code",
   "execution_count": 15,
   "id": "15a24e10-f0ec-491b-b6cc-56cd3ba9fecb",
   "metadata": {},
   "outputs": [
    {
     "data": {
      "text/plain": [
       "{}"
      ]
     },
     "execution_count": 15,
     "metadata": {},
     "output_type": "execute_result"
    }
   ],
   "source": [
    "function_schema_map = module.function_schema_map()"
   ]
  },
  {
   "cell_type": "code",
   "execution_count": 1,
   "id": "21795288-d3b2-4523-a622-48e83a55a476",
   "metadata": {},
   "outputs": [
    {
     "ename": "NameError",
     "evalue": "name 'module' is not defined",
     "output_type": "error",
     "traceback": [
      "\u001b[0;31m---------------------------------------------------------------------------\u001b[0m",
      "\u001b[0;31mNameError\u001b[0m                                 Traceback (most recent call last)",
      "Cell \u001b[0;32mIn[1], line 1\u001b[0m\n\u001b[0;32m----> 1\u001b[0m \u001b[43mmodule\u001b[49m\u001b[38;5;241m.\u001b[39mkill_port(\u001b[38;5;241m50050\u001b[39m)\n",
      "\u001b[0;31mNameError\u001b[0m: name 'module' is not defined"
     ]
    }
   ],
   "source": []
  },
  {
   "cell_type": "code",
   "execution_count": null,
   "id": "c6849b3a-3664-44ef-beae-d82c6f509459",
   "metadata": {},
   "outputs": [],
   "source": [
    "module.servers()"
   ]
  },
  {
   "cell_type": "code",
   "execution_count": null,
   "id": "82f050fe-f1f7-4ba7-a558-9ae8e633c1a4",
   "metadata": {},
   "outputs": [],
   "source": []
  }
 ],
 "metadata": {
  "kernelspec": {
   "display_name": "Python 3 (ipykernel)",
   "language": "python",
   "name": "python3"
  },
  "language_info": {
   "codemirror_mode": {
    "name": "ipython",
    "version": 3
   },
   "file_extension": ".py",
   "mimetype": "text/x-python",
   "name": "python",
   "nbconvert_exporter": "python",
   "pygments_lexer": "ipython3",
   "version": "3.10.12"
  }
 },
 "nbformat": 4,
 "nbformat_minor": 5
}

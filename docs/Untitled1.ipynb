{
 "cells": [
  {
   "cell_type": "code",
   "execution_count": null,
   "id": "ffd7d45f-28af-4404-afbe-6f70846c3e01",
   "metadata": {},
   "outputs": [],
   "source": []
  },
  {
   "cell_type": "code",
   "execution_count": null,
   "id": "af01c1b8-5b16-4ddb-8f0d-3cb124e4efe8",
   "metadata": {},
   "outputs": [],
   "source": []
  }
 ],
 "metadata": {
  "kernelspec": {
   "display_name": "",
   "name": ""
  },
  "language_info": {
   "name": ""
  }
 },
 "nbformat": 4,
 "nbformat_minor": 5
}

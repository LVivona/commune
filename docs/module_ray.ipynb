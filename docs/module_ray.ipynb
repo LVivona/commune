{
 "cells": [
  {
   "cell_type": "code",
   "execution_count": 1,
   "id": "c3544a05-5529-46a3-890f-1898b28db9e7",
   "metadata": {},
   "outputs": [],
   "source": [
    "import ray"
   ]
  },
  {
   "cell_type": "code",
   "execution_count": 7,
   "id": "d96fa458-fe93-4a3e-9114-39c42ac58304",
   "metadata": {},
   "outputs": [],
   "source": [
    "import commune\n",
    "commune.ray_init()\n",
    "commune.create_actor()"
   ]
  },
  {
   "cell_type": "code",
   "execution_count": 8,
   "id": "8705013a-b06e-4c38-802b-b712a62db089",
   "metadata": {},
   "outputs": [],
   "source": [
    "# list the ray functions embedded in the module"
   ]
  },
  {
   "cell_type": "code",
   "execution_count": 9,
   "id": "04d114ee-7a89-4f28-a221-555502989a9c",
   "metadata": {},
   "outputs": [
    {
     "data": {
      "text/plain": [
       "['ray_actor_map',\n",
       " 'ray_actors',\n",
       " 'ray_context',\n",
       " 'ray_get',\n",
       " 'ray_import',\n",
       " 'ray_init',\n",
       " 'ray_initialized',\n",
       " 'ray_launch',\n",
       " 'ray_namespace',\n",
       " 'ray_nodes',\n",
       " 'ray_objects',\n",
       " 'ray_put',\n",
       " 'ray_restart',\n",
       " 'ray_runtime_context',\n",
       " 'ray_start',\n",
       " 'ray_status',\n",
       " 'ray_stop',\n",
       " 'ray_tasks',\n",
       " 'ray_wait']"
      ]
     },
     "execution_count": 9,
     "metadata": {},
     "output_type": "execute_result"
    }
   ],
   "source": [
    "# list the ray functions\n",
    "\n",
    "[f for f in commune.functions() if f.startswith('ray_')]\n"
   ]
  },
  {
   "cell_type": "code",
   "execution_count": 10,
   "id": "7e3f580d-241c-49dd-ab7a-d969a7056fa1",
   "metadata": {},
   "outputs": [
    {
     "data": {
      "text/plain": [
       "<ray.runtime_context.RuntimeContext at 0x7f1edc1efb80>"
      ]
     },
     "execution_count": 10,
     "metadata": {},
     "output_type": "execute_result"
    }
   ],
   "source": []
  },
  {
   "cell_type": "code",
   "execution_count": 11,
   "id": "ffcbc2dd-ff68-4560-969a-561390688cb7",
   "metadata": {},
   "outputs": [
    {
     "ename": "TypeError",
     "evalue": "ray.actor.ActorClass.options.<locals>.ActorOptionWrapper.remote() argument after ** must be a mapping, not NoneType",
     "output_type": "error",
     "traceback": [
      "\u001b[0;31m---------------------------------------------------------------------------\u001b[0m",
      "\u001b[0;31mTypeError\u001b[0m                                 Traceback (most recent call last)",
      "Cell \u001b[0;32mIn[11], line 1\u001b[0m\n\u001b[0;32m----> 1\u001b[0m \u001b[43mcommune\u001b[49m\u001b[38;5;241;43m.\u001b[39;49m\u001b[43mcreate_actor\u001b[49m\u001b[43m(\u001b[49m\u001b[43m)\u001b[49m\n",
      "File \u001b[0;32m/app/commune/module/module.py:1239\u001b[0m, in \u001b[0;36mModule.create_actor\u001b[0;34m(cls, name, tag, cls_kwargs, cls_args, detached, resources, cpus, gpus, max_concurrency, refresh, verbose, wrap, **kwargs)\u001b[0m\n\u001b[1;32m   1237\u001b[0m \u001b[38;5;28;01mif\u001b[39;00m \u001b[38;5;129;01mnot\u001b[39;00m \u001b[38;5;28mcls\u001b[39m\u001b[38;5;241m.\u001b[39mactor_exists(name):\n\u001b[1;32m   1238\u001b[0m     actor_class \u001b[38;5;241m=\u001b[39m ray\u001b[38;5;241m.\u001b[39mremote(\u001b[38;5;28mcls\u001b[39m)\n\u001b[0;32m-> 1239\u001b[0m     actor_handle \u001b[38;5;241m=\u001b[39m actor_class\u001b[38;5;241m.\u001b[39moptions(\u001b[38;5;241m*\u001b[39m\u001b[38;5;241m*\u001b[39moptions_kwargs)\u001b[38;5;241m.\u001b[39mremote(\u001b[38;5;241m*\u001b[39mcls_args, \u001b[38;5;241m*\u001b[39m\u001b[38;5;241m*\u001b[39mcls_kwargs)\n\u001b[1;32m   1241\u001b[0m actor \u001b[38;5;241m=\u001b[39m \u001b[38;5;28mcls\u001b[39m\u001b[38;5;241m.\u001b[39mget_actor(name)\n\u001b[1;32m   1243\u001b[0m \u001b[38;5;66;03m# wrap the actor with the client module \u001b[39;00m\n",
      "\u001b[0;31mTypeError\u001b[0m: ray.actor.ActorClass.options.<locals>.ActorOptionWrapper.remote() argument after ** must be a mapping, not NoneType"
     ]
    }
   ],
   "source": []
  },
  {
   "cell_type": "code",
   "execution_count": null,
   "id": "e83030f5-e5f5-4a78-af7e-6a08512eb252",
   "metadata": {},
   "outputs": [],
   "source": []
  }
 ],
 "metadata": {
  "kernelspec": {
   "display_name": "Python 3 (ipykernel)",
   "language": "python",
   "name": "python3"
  },
  "language_info": {
   "codemirror_mode": {
    "name": "ipython",
    "version": 3
   },
   "file_extension": ".py",
   "mimetype": "text/x-python",
   "name": "python",
   "nbconvert_exporter": "python",
   "pygments_lexer": "ipython3",
   "version": "3.10.6"
  }
 },
 "nbformat": 4,
 "nbformat_minor": 5
}

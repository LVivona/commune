{
 "cells": [
  {
   "cell_type": "code",
   "execution_count": null,
   "metadata": {},
   "outputs": [],
   "source": [
    "\n",
    "# serve the module\n",
    "import commune as c\n",
    "model = c.module('model.openai')\n",
    "model.add_api_key('your api key')\n",
    "model.serve()"
   ]
  },
  {
   "cell_type": "markdown",
   "metadata": {},
   "source": [
    "See if the module exists in the servers list"
   ]
  },
  {
   "cell_type": "code",
   "execution_count": null,
   "metadata": {},
   "outputs": [],
   "source": [
    "c.servers('model')"
   ]
  },
  {
   "cell_type": "markdown",
   "metadata": {},
   "source": [
    "Connect to the module and call it"
   ]
  },
  {
   "cell_type": "code",
   "execution_count": null,
   "metadata": {},
   "outputs": [],
   "source": [
    "# connect to the module\n",
    "model_client = c.connect('model.openai')\n",
    "model_client.forward('whadup')"
   ]
  },
  {
   "cell_type": "markdown",
   "metadata": {},
   "source": [
    " IF YOU HAVE ISSUES WITH THE API KEY, you can set a different one remodely"
   ]
  },
  {
   "cell_type": "code",
   "execution_count": null,
   "metadata": {},
   "outputs": [],
   "source": [
    "model_client.set_api('YOUR API KEY')\n",
    "model_client.forward('hello_world')"
   ]
  }
 ],
 "metadata": {
  "language_info": {
   "name": "python"
  },
  "orig_nbformat": 4
 },
 "nbformat": 4,
 "nbformat_minor": 2
}

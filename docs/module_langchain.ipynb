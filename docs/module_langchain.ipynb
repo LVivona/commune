{
 "cells": [
  {
   "cell_type": "markdown",
   "id": "b6df6e58-0923-4e81-8d8b-e6ca113f6a56",
   "metadata": {},
   "source": [
    "## Langchain Agent Module"
   ]
  },
  {
   "cell_type": "markdown",
   "id": "7c59dabe-7961-4ba3-b08d-3dfdcacf40d6",
   "metadata": {},
   "source": [
    "## Start the React Agent"
   ]
  },
  {
   "cell_type": "code",
   "execution_count": 23,
   "id": "e0f9fb24-3f93-489b-bf0f-db3328254d28",
   "metadata": {},
   "outputs": [],
   "source": [
    "from langchain import OpenAI, Wikipedia\n",
    "from langchain.agents import initialize_agent, Tool\n",
    "from langchain.agents.react.base import DocstoreExplorer\n",
    "import commune\n",
    "commune.enable_jupyter()\n",
    "\n",
    "\n",
    "docstore=DocstoreExplorer(Wikipedia())\n",
    "tools = [\n",
    "    Tool(\n",
    "        name=\"Search\",\n",
    "        func=docstore.search\n",
    "    ),\n",
    "    Tool(\n",
    "        name=\"Lookup\",\n",
    "        func=docstore.lookup\n",
    "    )\n",
    "]\n",
    "\n",
    "llm = OpenAI(temperature=0)\n",
    "agent = initialize_agent(tools, llm, agent=\"react-docstore\", verbose=True)\n"
   ]
  },
  {
   "cell_type": "code",
   "execution_count": 24,
   "id": "1380018a-bb1a-47ee-a456-c48ca1c88b16",
   "metadata": {},
   "outputs": [
    {
     "name": "stdout",
     "output_type": "stream",
     "text": [
      "Saving not supported for this chain type.\n",
      "<class 'commune.module.module.Module.module.<locals>.ModuleWrapper'>\n"
     ]
    }
   ],
   "source": [
    "agent_module = commune.module(agent)\n",
    "print(type(agent_module))"
   ]
  },
  {
   "cell_type": "markdown",
   "id": "e1440f1b-efad-4d0e-a009-3007b23b6121",
   "metadata": {},
   "source": [
    "### Run a query in the module, just like you would with a typical module."
   ]
  },
  {
   "cell_type": "code",
   "execution_count": 25,
   "id": "530ee521-c8b5-4377-a191-afd46921e871",
   "metadata": {},
   "outputs": [
    {
     "name": "stdout",
     "output_type": "stream",
     "text": [
      "\n",
      "\n",
      "\u001b[1m> Entering new AgentExecutor chain...\u001b[0m\n",
      "\u001b[32;1m\u001b[1;3mThought 1: I need to search Obama and find its name.\n",
      "Action 1: Search[Obama]\u001b[0m\n",
      "Observation 1: \u001b[36;1m\u001b[1;3mBarack Hussein Obama II ( (listen) bə-RAHK hoo-SAYN oh-BAH-mə; born August 4, 1961) is an American retired politician who served as the 44th president of the United States from 2009 to 2017. A member of the Democratic Party, Obama was the first African-American  president of the United States. He previously served as a U.S. senator from Illinois from 2005 to 2008 and as an Illinois state senator from 1997 to 2004, and previously worked as a civil rights lawyer before entering politics. \n",
      "Obama was born in Honolulu, Hawaii. After graduating from Columbia University in 1983, he worked as a community organizer in Chicago. In 1988, he enrolled in Harvard Law School, where he was the first black president of the Harvard Law Review. After graduating, he became a civil rights attorney and an academic, teaching constitutional law at the University of Chicago Law School from 1992 to 2004. Turning to elective politics, he represented the 13th district in the Illinois Senate from 1997 until 2004, when he ran for the U.S. Senate. Obama received national attention in 2004 with his March Senate primary win, his well-received keynote address at the July Democratic National Convention, and his landslide November election to the Senate. In 2008, after a close primary campaign against Hillary Clinton, he was nominated by the Democratic Party for president and chose Joe Biden as his running mate. Obama was elected over Republican nominee John McCain in the presidential election and was inaugurated on January 20, 2009. Nine months later, he was named the 2009 Nobel Peace Prize laureate, a decision that drew a mixture of praise and criticism.\n",
      "Obama's first-term actions addressed the global financial crisis and included a major stimulus package, a partial extension of George W. Bush's tax cuts, legislation to reform health care, a major financial regulation reform bill, and the end of a major US military presence in Iraq. Obama also appointed Supreme Court justices Sonia Sotomayor and Elena Kagan, the former being the first Hispanic American on the Supreme Court. He ordered the counterterrorism raid which killed Osama bin Laden and downplayed Bush's counterinsurgency model, expanding air strikes and making extensive use of special forces while encouraging greater reliance on host-government militaries.\n",
      "After winning re-election by defeating Republican opponent Mitt Romney, Obama was sworn in for a second term on January 20, 2013. In his second term, Obama took steps to combat climate change, signing a major international climate agreement and an executive order to limit carbon emissions. Obama also presided over the implementation of the Affordable Care Act and other legislation passed in his first term, and he negotiated a nuclear agreement with Iran and normalized relations with Cuba. The number of American soldiers in Afghanistan fell dramatically during Obama's second term, though U.S. soldiers remained in Afghanistan throughout Obama's presidency.\n",
      "During Obama's terms as president, the United States' reputation abroad and the American economy improved significantly, although the country experienced high levels of partisan divide. As the first person of color elected president, Obama faced racist sentiments and was the target of numerous conspiracy theories. Obama left office on January 20, 2017, and continues to reside in Washington, D.C. His presidential library in Chicago began construction in 2021. Since leaving office, Obama has remained active in Democratic politics, including campaigning for candidates in various American elections. Outside of politics, Obama has published three bestselling books: Dreams from My Father (1995), The Audacity of Hope (2006) and A Promised Land (2020). \u001b[0m\n",
      "Thought 2:\u001b[32;1m\u001b[1;3m Obama's full name is Barack Hussein Obama II.\n",
      "Action 2: Finish[Barack Hussein Obama II]\u001b[0m\n",
      "\n",
      "\u001b[1m> Finished chain.\u001b[0m\n"
     ]
    },
    {
     "data": {
      "text/plain": [
       "'Barack Hussein Obama II'"
      ]
     },
     "execution_count": 25,
     "metadata": {},
     "output_type": "execute_result"
    }
   ],
   "source": [
    "agent_module.run('name of obama')"
   ]
  }
 ],
 "metadata": {
  "kernelspec": {
   "display_name": "Python 3 (ipykernel)",
   "language": "python",
   "name": "python3"
  },
  "language_info": {
   "codemirror_mode": {
    "name": "ipython",
    "version": 3
   },
   "file_extension": ".py",
   "mimetype": "text/x-python",
   "name": "python",
   "nbconvert_exporter": "python",
   "pygments_lexer": "ipython3",
   "version": "3.10.6"
  }
 },
 "nbformat": 4,
 "nbformat_minor": 5
}

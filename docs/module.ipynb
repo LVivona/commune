{
 "cells": [
  {
   "cell_type": "code",
   "execution_count": 1,
   "id": "d4185eeb-6a2d-4f20-a5a1-0718c5b4911c",
   "metadata": {},
   "outputs": [],
   "source": [
    "import commune\n",
    "commune.enable_jupyter()"
   ]
  },
  {
   "cell_type": "markdown",
   "id": "5ec0299b-bd6b-4a68-b27c-78cdd5c87393",
   "metadata": {
    "jupyter": {
     "source_hidden": true
    },
    "tags": []
   },
   "source": [
    "# Initialize the module"
   ]
  },
  {
   "cell_type": "code",
   "execution_count": 18,
   "id": "8c19110b-d1ca-476f-95db-c94e0825c14f",
   "metadata": {
    "tags": []
   },
   "outputs": [
    {
     "name": "stdout",
     "output_type": "stream",
     "text": [
      "The module is:  Module\n",
      "Config:  Munch({'module': 'Module', 'client': [], 'actor': Munch({'name': 'local_copy::module', 'refresh': False})})\n"
     ]
    }
   ],
   "source": [
    "module = commune.Module()\n",
    "print('The module is: ',module)\n",
    "print('Config: ', module.config)"
   ]
  },
  {
   "cell_type": "markdown",
   "id": "ffa12eb8-503b-4340-b4fd-fdf58ac841d6",
   "metadata": {},
   "source": [
    "## See the functions"
   ]
  },
  {
   "cell_type": "code",
   "execution_count": 9,
   "id": "4907bef4-3287-4109-980d-2a633105c39c",
   "metadata": {
    "collapsed": true,
    "jupyter": {
     "outputs_hidden": true
    },
    "tags": []
   },
   "outputs": [
    {
     "data": {
      "text/plain": [
       "['actor_exists',\n",
       " 'add_args',\n",
       " 'argparse',\n",
       " 'connect',\n",
       " 'create_actor',\n",
       " 'create_pool',\n",
       " 'default_config',\n",
       " 'enable_jupyter',\n",
       " 'ensure_ray_context',\n",
       " 'exists',\n",
       " 'function_schema',\n",
       " 'function_schema_map',\n",
       " 'function_signature_map',\n",
       " 'functions',\n",
       " 'get_actor',\n",
       " 'get_actor_id',\n",
       " 'get_annotations',\n",
       " 'get_available_port',\n",
       " 'get_available_ports',\n",
       " 'get_class_methods',\n",
       " 'get_json',\n",
       " 'get_methods',\n",
       " 'get_module',\n",
       " 'get_module_config_path',\n",
       " 'get_module_config_paths',\n",
       " 'get_module_path',\n",
       " 'get_module_python_paths',\n",
       " 'get_parents',\n",
       " 'get_ray_context',\n",
       " 'get_self_methods',\n",
       " 'get_template_args',\n",
       " 'getattr',\n",
       " 'glob',\n",
       " 'import_module',\n",
       " 'import_object',\n",
       " 'is_imported',\n",
       " 'is_module',\n",
       " 'is_parent',\n",
       " 'kill_actor',\n",
       " 'kill_actors',\n",
       " 'kill_port',\n",
       " 'kill_server',\n",
       " 'kwargs2attributes',\n",
       " 'launch',\n",
       " 'list_modules',\n",
       " 'list_servers',\n",
       " 'load_config',\n",
       " 'load_json',\n",
       " 'merge',\n",
       " 'merge_dict',\n",
       " 'minimal_config',\n",
       " 'module',\n",
       " 'module_config_tree',\n",
       " 'module_list',\n",
       " 'module_name',\n",
       " 'module_path',\n",
       " 'module_tree',\n",
       " 'nest_asyncio',\n",
       " 'new_event_loop',\n",
       " 'path2config',\n",
       " 'path2configpath',\n",
       " 'path2localpath',\n",
       " 'path2object',\n",
       " 'path2objectpath',\n",
       " 'path2simple',\n",
       " 'path2simple_map',\n",
       " 'pm2_kill',\n",
       " 'pm2_launch',\n",
       " 'pm2_logs',\n",
       " 'pm2_restart',\n",
       " 'pm2_status',\n",
       " 'port_available',\n",
       " 'print',\n",
       " 'put_json',\n",
       " 'ray_actor_map',\n",
       " 'ray_actors',\n",
       " 'ray_context',\n",
       " 'ray_get',\n",
       " 'ray_import',\n",
       " 'ray_init',\n",
       " 'ray_initialized',\n",
       " 'ray_launch',\n",
       " 'ray_namespace',\n",
       " 'ray_nodes',\n",
       " 'ray_objects',\n",
       " 'ray_put',\n",
       " 'ray_restart',\n",
       " 'ray_runtime_context',\n",
       " 'ray_start',\n",
       " 'ray_status',\n",
       " 'ray_stop',\n",
       " 'ray_tasks',\n",
       " 'ray_wait',\n",
       " 'register_server',\n",
       " 'resolve_module_name',\n",
       " 'resolve_path',\n",
       " 'resolve_port',\n",
       " 'rm',\n",
       " 'run',\n",
       " 'run_command',\n",
       " 'run_python',\n",
       " 'sandbox',\n",
       " 'save_config',\n",
       " 'save_json',\n",
       " 'serve',\n",
       " 'serve',\n",
       " 'server_exists',\n",
       " 'local_namespace',\n",
       " 'servers',\n",
       " 'set_config',\n",
       " 'set_event_loop',\n",
       " 'setattributes',\n",
       " 'simple2config',\n",
       " 'simple2config_map',\n",
       " 'simple2configpath',\n",
       " 'simple2object',\n",
       " 'simple2path',\n",
       " 'simple2path_map',\n",
       " 'test_json',\n",
       " 'timer',\n",
       " 'tmp_dir',\n",
       " 'wrap_actor']"
      ]
     },
     "execution_count": 9,
     "metadata": {},
     "output_type": "execute_result"
    }
   ],
   "source": [
    "module.functions()"
   ]
  },
  {
   "cell_type": "markdown",
   "id": "4ac00710-deb1-4d51-92d5-04d214afc8ef",
   "metadata": {
    "tags": []
   },
   "source": [
    "## Get the functions schema"
   ]
  },
  {
   "cell_type": "code",
   "execution_count": 15,
   "id": "15a24e10-f0ec-491b-b6cc-56cd3ba9fecb",
   "metadata": {},
   "outputs": [
    {
     "data": {
      "text/plain": [
       "{}"
      ]
     },
     "execution_count": 15,
     "metadata": {},
     "output_type": "execute_result"
    }
   ],
   "source": [
    "function_schema_map = module.function_schema_map()"
   ]
  },
  {
   "cell_type": "code",
   "execution_count": 1,
   "id": "21795288-d3b2-4523-a622-48e83a55a476",
   "metadata": {},
   "outputs": [
    {
     "ename": "NameError",
     "evalue": "name 'module' is not defined",
     "output_type": "error",
     "traceback": [
      "\u001b[0;31m---------------------------------------------------------------------------\u001b[0m",
      "\u001b[0;31mNameError\u001b[0m                                 Traceback (most recent call last)",
      "Cell \u001b[0;32mIn[1], line 1\u001b[0m\n\u001b[0;32m----> 1\u001b[0m \u001b[43mmodule\u001b[49m\u001b[38;5;241m.\u001b[39mkill_port(\u001b[38;5;241m50050\u001b[39m)\n",
      "\u001b[0;31mNameError\u001b[0m: name 'module' is not defined"
     ]
    }
   ],
   "source": []
  },
  {
   "cell_type": "code",
   "execution_count": null,
   "id": "c6849b3a-3664-44ef-beae-d82c6f509459",
   "metadata": {},
   "outputs": [],
   "source": [
    "module.servers()"
   ]
  },
  {
   "cell_type": "code",
   "execution_count": null,
   "id": "82f050fe-f1f7-4ba7-a558-9ae8e633c1a4",
   "metadata": {},
   "outputs": [],
   "source": []
  }
 ],
 "metadata": {
  "kernelspec": {
   "display_name": "Python 3 (ipykernel)",
   "language": "python",
   "name": "python3"
  },
  "language_info": {
   "codemirror_mode": {
    "name": "ipython",
    "version": 3
   },
   "file_extension": ".py",
   "mimetype": "text/x-python",
   "name": "python",
   "nbconvert_exporter": "python",
   "pygments_lexer": "ipython3",
   "version": "3.10.6"
  }
 },
 "nbformat": 4,
 "nbformat_minor": 5
}

{
 "cells": [
  {
   "cell_type": "code",
   "execution_count": 5,
   "id": "d4185eeb-6a2d-4f20-a5a1-0718c5b4911c",
   "metadata": {},
   "outputs": [],
   "source": [
    "import commune as c\n",
    "c.enable_jupyter()"
   ]
  },
  {
   "cell_type": "markdown",
   "id": "5ec0299b-bd6b-4a68-b27c-78cdd5c87393",
   "metadata": {
    "jupyter": {
     "source_hidden": true
    },
    "tags": []
   },
   "source": [
    "# Initialize the module"
   ]
  },
  {
   "cell_type": "code",
   "execution_count": 4,
   "id": "8c19110b-d1ca-476f-95db-c94e0825c14f",
   "metadata": {
    "tags": []
   },
   "outputs": [
    {
     "ename": "RuntimeError",
     "evalue": "This event loop is already running",
     "output_type": "error",
     "traceback": [
      "\u001b[0;31m---------------------------------------------------------------------------\u001b[0m",
      "\u001b[0;31mRuntimeError\u001b[0m                              Traceback (most recent call last)",
      "Cell \u001b[0;32mIn[4], line 1\u001b[0m\n\u001b[0;32m----> 1\u001b[0m module \u001b[39m=\u001b[39m c\u001b[39m.\u001b[39;49mModule()\n",
      "File \u001b[0;32m~/commune/commune/module/module.py:42\u001b[0m, in \u001b[0;36mc.__init__\u001b[0;34m(self, config, **kwargs)\u001b[0m\n\u001b[1;32m     38\u001b[0m \u001b[39mdef\u001b[39;00m \u001b[39m__init__\u001b[39m(\u001b[39mself\u001b[39m, \n\u001b[1;32m     39\u001b[0m              config:Dict\u001b[39m=\u001b[39m\u001b[39mNone\u001b[39;00m,\n\u001b[1;32m     40\u001b[0m              \u001b[39m*\u001b[39m\u001b[39m*\u001b[39mkwargs):\n\u001b[0;32m---> 42\u001b[0m     \u001b[39mself\u001b[39;49m\u001b[39m.\u001b[39;49mset_config(config\u001b[39m=\u001b[39;49mconfig, \n\u001b[1;32m     43\u001b[0m                     kwargs\u001b[39m=\u001b[39;49mkwargs)\n",
      "File \u001b[0;32m~/commune/commune/module/module.py:735\u001b[0m, in \u001b[0;36mc.set_config\u001b[0;34m(self, config, kwargs, to_munch, add_attributes, save_config)\u001b[0m\n\u001b[1;32m    731\u001b[0m kwargs \u001b[39m=\u001b[39m kwargs \u001b[39mif\u001b[39;00m kwargs \u001b[39m!=\u001b[39m \u001b[39mNone\u001b[39;00m \u001b[39melse\u001b[39;00m {}\n\u001b[1;32m    732\u001b[0m kwargs \u001b[39m=\u001b[39m c\u001b[39m.\u001b[39mlocals2kwargs(kwargs)\n\u001b[0;32m--> 735\u001b[0m config \u001b[39m=\u001b[39m  \u001b[39mself\u001b[39;49m\u001b[39m.\u001b[39;49mget_config(config\u001b[39m=\u001b[39;49mconfig,kwargs\u001b[39m=\u001b[39;49mkwargs, to_munch\u001b[39m=\u001b[39;49mto_munch)\n\u001b[1;32m    737\u001b[0m \u001b[39mif\u001b[39;00m add_attributes:\n\u001b[1;32m    738\u001b[0m     \u001b[39mself\u001b[39m\u001b[39m.\u001b[39m\u001b[39m__dict__\u001b[39m\u001b[39m.\u001b[39mupdate(\u001b[39mself\u001b[39m\u001b[39m.\u001b[39mmunch2dict(config))\n",
      "File \u001b[0;32m~/commune/commune/module/module.py:691\u001b[0m, in \u001b[0;36mc.get_config\u001b[0;34m(cls, config, kwargs, to_munch, root)\u001b[0m\n\u001b[1;32m    688\u001b[0m     config \u001b[39m=\u001b[39m default_config\n\u001b[1;32m    690\u001b[0m \u001b[39melif\u001b[39;00m config \u001b[39m==\u001b[39m \u001b[39mNone\u001b[39;00m:\n\u001b[0;32m--> 691\u001b[0m     config \u001b[39m=\u001b[39m \u001b[39mcls\u001b[39;49m\u001b[39m.\u001b[39;49mload_config()\n\u001b[1;32m    693\u001b[0m \u001b[39massert\u001b[39;00m \u001b[39misinstance\u001b[39m(config, \u001b[39mdict\u001b[39m), \u001b[39mf\u001b[39m\u001b[39m'\u001b[39m\u001b[39mconfig must be a dict, not \u001b[39m\u001b[39m{\u001b[39;00mconfig\u001b[39m}\u001b[39;00m\u001b[39m'\u001b[39m\n\u001b[1;32m    695\u001b[0m kwargs \u001b[39m=\u001b[39m kwargs \u001b[39mif\u001b[39;00m kwargs \u001b[39m!=\u001b[39m \u001b[39mNone\u001b[39;00m \u001b[39melse\u001b[39;00m {}\n",
      "File \u001b[0;32m~/commune/commune/module/module.py:393\u001b[0m, in \u001b[0;36mc.load_config\u001b[0;34m(cls, path, to_munch, root)\u001b[0m\n\u001b[1;32m    386\u001b[0m \u001b[39m\u001b[39m\u001b[39m'''\u001b[39;00m\n\u001b[1;32m    387\u001b[0m \u001b[39mArgs:\u001b[39;00m\n\u001b[1;32m    388\u001b[0m \u001b[39m    path: The path to the config file\u001b[39;00m\n\u001b[1;32m    389\u001b[0m \u001b[39m    to_munch: If true, then convert the config to a munch\u001b[39;00m\n\u001b[1;32m    390\u001b[0m \u001b[39m'''\u001b[39;00m\n\u001b[1;32m    391\u001b[0m path \u001b[39m=\u001b[39m \u001b[39mcls\u001b[39m\u001b[39m.\u001b[39mresolve_config_path(path)\n\u001b[0;32m--> 393\u001b[0m config \u001b[39m=\u001b[39m \u001b[39mcls\u001b[39;49m\u001b[39m.\u001b[39;49mload_yaml(path)\n\u001b[1;32m    395\u001b[0m \u001b[39mif\u001b[39;00m to_munch:\n\u001b[1;32m    396\u001b[0m     config \u001b[39m=\u001b[39m  \u001b[39mcls\u001b[39m\u001b[39m.\u001b[39mdict2munch(config)\n",
      "File \u001b[0;32m~/commune/commune/module/module.py:281\u001b[0m, in \u001b[0;36mc.load_yaml\u001b[0;34m(cls, path, root)\u001b[0m\n\u001b[1;32m    278\u001b[0m path \u001b[39m=\u001b[39m \u001b[39mcls\u001b[39m\u001b[39m.\u001b[39mresolve_path(path, root\u001b[39m=\u001b[39mroot)\n\u001b[1;32m    280\u001b[0m \u001b[39mfrom\u001b[39;00m \u001b[39mcommune\u001b[39;00m\u001b[39m.\u001b[39;00m\u001b[39mutils\u001b[39;00m\u001b[39m.\u001b[39;00m\u001b[39mdict\u001b[39;00m \u001b[39mimport\u001b[39;00m load_yaml\n\u001b[0;32m--> 281\u001b[0m config \u001b[39m=\u001b[39m load_yaml(path)\n\u001b[1;32m    282\u001b[0m \u001b[39mreturn\u001b[39;00m config\n",
      "File \u001b[0;32m~/commune/commune/utils/asyncio.py:37\u001b[0m, in \u001b[0;36msync_wrapper.<locals>.wrapper_fn\u001b[0;34m(*args, **kwargs)\u001b[0m\n\u001b[1;32m     35\u001b[0m \u001b[39melse\u001b[39;00m:\n\u001b[1;32m     36\u001b[0m     loop \u001b[39m=\u001b[39m get_event_loop()\n\u001b[0;32m---> 37\u001b[0m \u001b[39mreturn\u001b[39;00m loop\u001b[39m.\u001b[39;49mrun_until_complete(fn(\u001b[39m*\u001b[39;49margs, \u001b[39m*\u001b[39;49m\u001b[39m*\u001b[39;49mkwargs))\n",
      "File \u001b[0;32m/Library/Developer/CommandLineTools/Library/Frameworks/Python3.framework/Versions/3.9/lib/python3.9/asyncio/base_events.py:618\u001b[0m, in \u001b[0;36mBaseEventLoop.run_until_complete\u001b[0;34m(self, future)\u001b[0m\n\u001b[1;32m    607\u001b[0m \u001b[39m\u001b[39m\u001b[39m\"\"\"Run until the Future is done.\u001b[39;00m\n\u001b[1;32m    608\u001b[0m \n\u001b[1;32m    609\u001b[0m \u001b[39mIf the argument is a coroutine, it is wrapped in a Task.\u001b[39;00m\n\u001b[0;32m   (...)\u001b[0m\n\u001b[1;32m    615\u001b[0m \u001b[39mReturn the Future's result, or raise its exception.\u001b[39;00m\n\u001b[1;32m    616\u001b[0m \u001b[39m\"\"\"\u001b[39;00m\n\u001b[1;32m    617\u001b[0m \u001b[39mself\u001b[39m\u001b[39m.\u001b[39m_check_closed()\n\u001b[0;32m--> 618\u001b[0m \u001b[39mself\u001b[39;49m\u001b[39m.\u001b[39;49m_check_running()\n\u001b[1;32m    620\u001b[0m new_task \u001b[39m=\u001b[39m \u001b[39mnot\u001b[39;00m futures\u001b[39m.\u001b[39misfuture(future)\n\u001b[1;32m    621\u001b[0m future \u001b[39m=\u001b[39m tasks\u001b[39m.\u001b[39mensure_future(future, loop\u001b[39m=\u001b[39m\u001b[39mself\u001b[39m)\n",
      "File \u001b[0;32m/Library/Developer/CommandLineTools/Library/Frameworks/Python3.framework/Versions/3.9/lib/python3.9/asyncio/base_events.py:578\u001b[0m, in \u001b[0;36mBaseEventLoop._check_running\u001b[0;34m(self)\u001b[0m\n\u001b[1;32m    576\u001b[0m \u001b[39mdef\u001b[39;00m \u001b[39m_check_running\u001b[39m(\u001b[39mself\u001b[39m):\n\u001b[1;32m    577\u001b[0m     \u001b[39mif\u001b[39;00m \u001b[39mself\u001b[39m\u001b[39m.\u001b[39mis_running():\n\u001b[0;32m--> 578\u001b[0m         \u001b[39mraise\u001b[39;00m \u001b[39mRuntimeError\u001b[39;00m(\u001b[39m'\u001b[39m\u001b[39mThis event loop is already running\u001b[39m\u001b[39m'\u001b[39m)\n\u001b[1;32m    579\u001b[0m     \u001b[39mif\u001b[39;00m events\u001b[39m.\u001b[39m_get_running_loop() \u001b[39mis\u001b[39;00m \u001b[39mnot\u001b[39;00m \u001b[39mNone\u001b[39;00m:\n\u001b[1;32m    580\u001b[0m         \u001b[39mraise\u001b[39;00m \u001b[39mRuntimeError\u001b[39;00m(\n\u001b[1;32m    581\u001b[0m             \u001b[39m'\u001b[39m\u001b[39mCannot run the event loop while another loop is running\u001b[39m\u001b[39m'\u001b[39m)\n",
      "\u001b[0;31mRuntimeError\u001b[0m: This event loop is already running"
     ]
    }
   ],
   "source": [
    "module = c.Module()"
   ]
  },
  {
   "cell_type": "markdown",
   "id": "ffa12eb8-503b-4340-b4fd-fdf58ac841d6",
   "metadata": {},
   "source": [
    "## See the functions"
   ]
  },
  {
   "cell_type": "code",
   "execution_count": 9,
   "id": "4907bef4-3287-4109-980d-2a633105c39c",
   "metadata": {
    "collapsed": true,
    "jupyter": {
     "outputs_hidden": true
    },
    "tags": []
   },
   "outputs": [
    {
     "data": {
      "text/plain": [
       "['actor_exists',\n",
       " 'add_args',\n",
       " 'argparse',\n",
       " 'connect',\n",
       " 'create_actor',\n",
       " 'create_pool',\n",
       " 'default_config',\n",
       " 'enable_jupyter',\n",
       " 'ensure_ray_context',\n",
       " 'exists',\n",
       " 'function_schema',\n",
       " 'function_schema_map',\n",
       " 'function_signature_map',\n",
       " 'functions',\n",
       " 'get_actor',\n",
       " 'get_actor_id',\n",
       " 'get_annotations',\n",
       " 'get_available_port',\n",
       " 'get_available_ports',\n",
       " 'get_class_methods',\n",
       " 'get_json',\n",
       " 'get_methods',\n",
       " 'get_module',\n",
       " 'get_module_config_path',\n",
       " 'get_module_config_paths',\n",
       " 'get_module_path',\n",
       " 'get_module_python_paths',\n",
       " 'get_parents',\n",
       " 'get_ray_context',\n",
       " 'get_self_methods',\n",
       " 'get_template_args',\n",
       " 'getattr',\n",
       " 'glob',\n",
       " 'import_module',\n",
       " 'import_object',\n",
       " 'is_imported',\n",
       " 'is_module',\n",
       " 'is_parent',\n",
       " 'kill_actor',\n",
       " 'kill_actors',\n",
       " 'kill_port',\n",
       " 'kill_server',\n",
       " 'kwargs2attributes',\n",
       " 'launch',\n",
       " 'list_modules',\n",
       " 'list_servers',\n",
       " 'load_config',\n",
       " 'load_json',\n",
       " 'merge',\n",
       " 'merge_dict',\n",
       " 'minimal_config',\n",
       " 'module',\n",
       " 'module_config_tree',\n",
       " 'module_list',\n",
       " 'module_name',\n",
       " 'module_path',\n",
       " 'module_tree',\n",
       " 'nest_asyncio',\n",
       " 'new_event_loop',\n",
       " 'path2config',\n",
       " 'path2configpath',\n",
       " 'path2localpath',\n",
       " 'path2object',\n",
       " 'path2objectpath',\n",
       " 'path2simple',\n",
       " 'path2simple_map',\n",
       " 'pm2_kill',\n",
       " 'pm2_launch',\n",
       " 'pm2_logs',\n",
       " 'pm2_restart',\n",
       " 'pm2_status',\n",
       " 'port_available',\n",
       " 'print',\n",
       " 'put_json',\n",
       " 'ray_actor_map',\n",
       " 'ray_actors',\n",
       " 'ray_context',\n",
       " 'ray_get',\n",
       " 'ray_import',\n",
       " 'ray_init',\n",
       " 'ray_initialized',\n",
       " 'ray_launch',\n",
       " 'ray_namespace',\n",
       " 'ray_nodes',\n",
       " 'ray_objects',\n",
       " 'ray_put',\n",
       " 'ray_restart',\n",
       " 'ray_runtime_context',\n",
       " 'ray_start',\n",
       " 'ray_status',\n",
       " 'ray_stop',\n",
       " 'ray_tasks',\n",
       " 'ray_wait',\n",
       " 'register_server',\n",
       " 'resolve_module_name',\n",
       " 'resolve_path',\n",
       " 'resolve_port',\n",
       " 'rm',\n",
       " 'run',\n",
       " 'run_command',\n",
       " 'run_python',\n",
       " 'sandbox',\n",
       " 'save_config',\n",
       " 'save_json',\n",
       " 'serve',\n",
       " 'serve',\n",
       " 'server_exists',\n",
       " 'local_namespace',\n",
       " 'servers',\n",
       " 'set_config',\n",
       " 'set_event_loop',\n",
       " 'setattributes',\n",
       " 'simple2config',\n",
       " 'simple2config_map',\n",
       " 'simple2configpath',\n",
       " 'simple2object',\n",
       " 'simple2path',\n",
       " 'simple2path_map',\n",
       " 'test_json',\n",
       " 'timer',\n",
       " 'tmp_dir',\n",
       " 'wrap_actor']"
      ]
     },
     "execution_count": 9,
     "metadata": {},
     "output_type": "execute_result"
    }
   ],
   "source": [
    "module.functions()"
   ]
  },
  {
   "cell_type": "markdown",
   "id": "4ac00710-deb1-4d51-92d5-04d214afc8ef",
   "metadata": {
    "tags": []
   },
   "source": [
    "## Get the functions schema"
   ]
  },
  {
   "cell_type": "code",
   "execution_count": 15,
   "id": "15a24e10-f0ec-491b-b6cc-56cd3ba9fecb",
   "metadata": {},
   "outputs": [
    {
     "data": {
      "text/plain": [
       "{}"
      ]
     },
     "execution_count": 15,
     "metadata": {},
     "output_type": "execute_result"
    }
   ],
   "source": [
    "function_schema_map = module.function_schema_map()"
   ]
  },
  {
   "cell_type": "code",
   "execution_count": 1,
   "id": "21795288-d3b2-4523-a622-48e83a55a476",
   "metadata": {},
   "outputs": [
    {
     "ename": "NameError",
     "evalue": "name 'module' is not defined",
     "output_type": "error",
     "traceback": [
      "\u001b[0;31m---------------------------------------------------------------------------\u001b[0m",
      "\u001b[0;31mNameError\u001b[0m                                 Traceback (most recent call last)",
      "Cell \u001b[0;32mIn[1], line 1\u001b[0m\n\u001b[0;32m----> 1\u001b[0m \u001b[43mmodule\u001b[49m\u001b[38;5;241m.\u001b[39mkill_port(\u001b[38;5;241m50050\u001b[39m)\n",
      "\u001b[0;31mNameError\u001b[0m: name 'module' is not defined"
     ]
    }
   ],
   "source": []
  },
  {
   "cell_type": "code",
   "execution_count": null,
   "id": "c6849b3a-3664-44ef-beae-d82c6f509459",
   "metadata": {},
   "outputs": [],
   "source": [
    "module.servers()"
   ]
  },
  {
   "cell_type": "code",
   "execution_count": null,
   "id": "82f050fe-f1f7-4ba7-a558-9ae8e633c1a4",
   "metadata": {},
   "outputs": [],
   "source": []
  }
 ],
 "metadata": {
  "kernelspec": {
   "display_name": "Python 3 (ipykernel)",
   "language": "python",
   "name": "python3"
  },
  "language_info": {
   "codemirror_mode": {
    "name": "ipython",
    "version": 3
   },
   "file_extension": ".py",
   "mimetype": "text/x-python",
   "name": "python",
   "nbconvert_exporter": "python",
   "pygments_lexer": "ipython3",
   "version": "3.10.6"
  }
 },
 "nbformat": 4,
 "nbformat_minor": 5
}

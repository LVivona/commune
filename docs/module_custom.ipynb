{
 "cells": [
  {
   "cell_type": "code",
   "execution_count": 1,
   "id": "0f269661-b7db-4e8d-bb6a-d3aa80b605e4",
   "metadata": {},
   "outputs": [],
   "source": [
    "import commune as c\n",
    "c.enable_jupyter()\n"
   ]
  },
  {
   "cell_type": "code",
   "execution_count": 2,
   "id": "e0f9fb24-3f93-489b-bf0f-db3328254d28",
   "metadata": {},
   "outputs": [],
   "source": [
    "class MyModule(c.Module):\n",
    "    def __init__(self, model='gpt'):\n",
    "        self.model = model\n",
    "        \n",
    "    def forward(self, x:str, *args, **kwargs):\n",
    "        return f'Model is echoing back {x}'\n",
    "        \n",
    "   "
   ]
  },
  {
   "cell_type": "code",
   "execution_count": 3,
   "id": "530ee521-c8b5-4377-a191-afd46921e871",
   "metadata": {},
   "outputs": [
    {
     "data": {
      "text/plain": [
       "'Model is echoing back hey'"
      ]
     },
     "execution_count": 3,
     "metadata": {},
     "output_type": "execute_result"
    }
   ],
   "source": [
    "MyModule().forward('hey')"
   ]
  },
  {
   "cell_type": "code",
   "execution_count": 4,
   "id": "c23db988-85ae-4748-906e-1a5679a755ac",
   "metadata": {},
   "outputs": [
    {
     "data": {
      "text/html": [
       "<pre style=\"white-space:pre;overflow-x:auto;line-height:normal;font-family:Menlo,'DejaVu Sans Mono',consolas,'Courier New',monospace\"><span style=\"color: #008080; text-decoration-color: #008080; font-weight: bold\">Launching</span><span style=\"color: #008000; text-decoration-color: #008000\"> </span><span style=\"color: #808000; text-decoration-color: #808000; font-weight: bold\">class:MyModule</span><span style=\"color: #008000; text-decoration-color: #008000\"> </span><span style=\"color: #c0c0c0; text-decoration-color: #c0c0c0; font-weight: bold\">name</span><span style=\"color: #008000; text-decoration-color: #008000\">:MyModule </span><span style=\"color: #c0c0c0; text-decoration-color: #c0c0c0; font-weight: bold\">fn</span><span style=\"color: #008000; text-decoration-color: #008000\">:serve </span><span style=\"color: #c0c0c0; text-decoration-color: #c0c0c0; font-weight: bold\">mode</span><span style=\"color: #008000; text-decoration-color: #008000\">:pm2</span>\n",
       "</pre>\n"
      ],
      "text/plain": [
       "\u001b[1;36mLaunching\u001b[0m\u001b[32m \u001b[0m\u001b[1;33mclass:MyModule\u001b[0m\u001b[32m \u001b[0m\u001b[1;37mname\u001b[0m\u001b[32m:MyModule \u001b[0m\u001b[1;37mfn\u001b[0m\u001b[32m:serve \u001b[0m\u001b[1;37mmode\u001b[0m\u001b[32m:pm2\u001b[0m\n"
      ]
     },
     "metadata": {},
     "output_type": "display_data"
    }
   ],
   "source": [
    "# Deploy the class as a grpc object\n",
    "try:\n",
    "    MyModule.serve()\n",
    "except Exception as e:\n",
    "    print(e)"
   ]
  },
  {
   "cell_type": "markdown",
   "id": "ba8c4996-feea-4def-a6ca-17b16ec954f6",
   "metadata": {},
   "source": [
    "\n",
    "c.logs('MyModule')"
   ]
  },
  {
   "cell_type": "code",
   "execution_count": 43,
   "id": "7a58e089-5310-46eb-b769-6c767e745a1a",
   "metadata": {
    "tags": []
   },
   "outputs": [
    {
     "name": "stdout",
     "output_type": "stream",
     "text": [
      "<bound method Module.tmp_dir of <class 'commune.module.Module'>>\n",
      "<bound method Module.tmp_dir of <class 'commune.module.Module'>>\n"
     ]
    },
    {
     "ename": "AssertionError",
     "evalue": "CustomCLass::5 is not deployed",
     "output_type": "error",
     "traceback": [
      "\u001b[0;31m---------------------------------------------------------------------------\u001b[0m",
      "\u001b[0;31mAssertionError\u001b[0m                            Traceback (most recent call last)",
      "Cell \u001b[0;32mIn[43], line 2\u001b[0m\n\u001b[1;32m      1\u001b[0m \u001b[38;5;66;03m# connect to a server\u001b[39;00m\n\u001b[0;32m----> 2\u001b[0m client_module \u001b[38;5;241m=\u001b[39m \u001b[43mcommune\u001b[49m\u001b[38;5;241;43m.\u001b[39;49m\u001b[43mconnect\u001b[49m\u001b[43m(\u001b[49m\u001b[38;5;124;43m'\u001b[39;49m\u001b[38;5;124;43mCustomCLass::5\u001b[39;49m\u001b[38;5;124;43m'\u001b[39;49m\u001b[43m,\u001b[49m\u001b[43m \u001b[49m\u001b[43mvirtual\u001b[49m\u001b[38;5;241;43m=\u001b[39;49m\u001b[38;5;28;43;01mTrue\u001b[39;49;00m\u001b[43m)\u001b[49m\n",
      "File \u001b[0;32m/app/commune/module.py:708\u001b[0m, in \u001b[0;36mModule.connect\u001b[0;34m(cls, name, port, ip, virtual, *args, **kwargs)\u001b[0m\n\u001b[1;32m    706\u001b[0m local_namespace \u001b[38;5;241m=\u001b[39m  Module\u001b[38;5;241m.\u001b[39mlocal_namespace()\n\u001b[1;32m    707\u001b[0m \u001b[38;5;28;01mif\u001b[39;00m name:\n\u001b[0;32m--> 708\u001b[0m     \u001b[38;5;28;01massert\u001b[39;00m name \u001b[38;5;129;01min\u001b[39;00m local_namespace, \u001b[38;5;124mf\u001b[39m\u001b[38;5;124m'\u001b[39m\u001b[38;5;132;01m{\u001b[39;00mname\u001b[38;5;132;01m}\u001b[39;00m\u001b[38;5;124m is not deployed\u001b[39m\u001b[38;5;124m'\u001b[39m\n\u001b[1;32m    709\u001b[0m     client_kwargs \u001b[38;5;241m=\u001b[39m local_namespace[name]\n\u001b[1;32m    710\u001b[0m \u001b[38;5;28;01melse\u001b[39;00m:\n",
      "\u001b[0;31mAssertionError\u001b[0m: CustomCLass::5 is not deployed"
     ]
    }
   ],
   "source": [
    "# connect to a server\n",
    "client_module = commune.connect('CustomClass')"
   ]
  },
  {
   "cell_type": "code",
   "execution_count": 42,
   "id": "4a82d1fc-b72c-4f9c-9d28-3f751e8e54a0",
   "metadata": {},
   "outputs": [
    {
     "name": "stdout",
     "output_type": "stream",
     "text": [
      "\u001b[96m Calling Function: forward\u001b[00m\n",
      "\u001b[92m Result from client Model is echoing back fam\u001b[00m\n",
      "\u001b[93m Result from server Model is echoing back fam\u001b[00m\n"
     ]
    }
   ],
   "source": [
    "\n",
    "# call the server from the client module\n",
    "result_from_client = client_module.forward('fam')\n",
    "result_from_server = module.forward('fam')\n",
    "\n",
    "\n",
    "commune.print(f'Result from client {result_from_client}', 'green')\n",
    "commune.print(f'Result from server {result_from_server}', 'yellow')\n"
   ]
  },
  {
   "cell_type": "code",
   "execution_count": null,
   "id": "4dba7d41-24d7-40ef-a780-3f5e4e288f56",
   "metadata": {},
   "outputs": [],
   "source": []
  }
 ],
 "metadata": {
  "kernelspec": {
   "display_name": "Python 3 (ipykernel)",
   "language": "python",
   "name": "python3"
  },
  "language_info": {
   "codemirror_mode": {
    "name": "ipython",
    "version": 3
   },
   "file_extension": ".py",
   "mimetype": "text/x-python",
   "name": "python",
   "nbconvert_exporter": "python",
   "pygments_lexer": "ipython3",
   "version": "3.10.12"
  }
 },
 "nbformat": 4,
 "nbformat_minor": 5
}

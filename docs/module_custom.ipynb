{
 "cells": [
  {
   "cell_type": "code",
   "execution_count": 12,
   "id": "0f269661-b7db-4e8d-bb6a-d3aa80b605e4",
   "metadata": {},
   "outputs": [],
   "source": [
    "import commune\n",
    "commune.enable_jupyter()\n"
   ]
  },
  {
   "cell_type": "markdown",
   "id": "b6df6e58-0923-4e81-8d8b-e6ca113f6a56",
   "metadata": {},
   "source": [
    "## Initializing a module"
   ]
  },
  {
   "cell_type": "markdown",
   "id": "7c59dabe-7961-4ba3-b08d-3dfdcacf40d6",
   "metadata": {},
   "source": [
    "# Inheritence"
   ]
  },
  {
   "cell_type": "code",
   "execution_count": 13,
   "id": "e0f9fb24-3f93-489b-bf0f-db3328254d28",
   "metadata": {},
   "outputs": [
    {
     "data": {
      "text/plain": [
       "['forward']"
      ]
     },
     "execution_count": 13,
     "metadata": {},
     "output_type": "execute_result"
    }
   ],
   "source": [
    "class CustomCLass(commune.Module):\n",
    "    def __init__(self, model='gpt'):\n",
    "        self.model = model\n",
    "        \n",
    "    def forward(self, x:str, *args, **kwargs):\n",
    "        return f'Model is echoing back {x}'\n",
    "        \n",
    "module = CustomCLass()     \n",
    "module.functions(exclude_module=True)       "
   ]
  },
  {
   "cell_type": "code",
   "execution_count": 34,
   "id": "530ee521-c8b5-4377-a191-afd46921e871",
   "metadata": {},
   "outputs": [
    {
     "data": {
      "text/plain": [
       "{'x': \"<class 'str'>\"}"
      ]
     },
     "execution_count": 34,
     "metadata": {},
     "output_type": "execute_result"
    }
   ],
   "source": [
    "# get the function schema\n",
    "module.function_schema('forward') "
   ]
  },
  {
   "cell_type": "code",
   "execution_count": 39,
   "id": "c23db988-85ae-4748-906e-1a5679a755ac",
   "metadata": {},
   "outputs": [
    {
     "name": "stderr",
     "output_type": "stream",
     "text": [
      "2023-01-29 23:58:31.887 | SUCCESS  | commune.server.server:start:339 - Axon Stopped:       <blue>0.0.0.0:50051</blue>\n",
      "2023-01-29 23:58:31.890 | SUCCESS  | commune.server.server:start:342 - Axon Started:       <blue>0.0.0.0:50051</blue>\n"
     ]
    },
    {
     "name": "stdout",
     "output_type": "stream",
     "text": [
      "<bound method Module.tmp_dir of <class 'commune.module.Module'>>\n",
      "<bound method Module.tmp_dir of <class 'commune.module.Module'>>\n",
      "<bound method Module.tmp_dir of <class 'commune.module.Module'>>\n",
      "<bound method Module.tmp_dir of <class 'commune.module.Module'>>\n",
      "False {'CustomCLass': {'ip': '0.0.0.0', 'port': 50050}} CustomCLass::2 BROO\n",
      "<bound method Module.tmp_dir of <class 'commune.module.Module'>>\n",
      "<bound method Module.tmp_dir of <class 'commune.module.Module'>>\n",
      "('0.0.0.0', 50050)\n",
      "('0.0.0.0', 50051)\n",
      "('0.0.0.0', 50051)\n",
      "<bound method Module.tmp_dir of <class 'commune.module.Module'>>\n",
      "<bound method Module.tmp_dir of <class 'commune.module.Module'>>\n",
      "<bound method Module.tmp_dir of <class 'commune.module.Module'>>\n",
      "\u001b[92m Serving CustomCLass::2 IP::0.0.0.0:50051 LIFETIME(s): 0s STATE: {'call_count': 0, 'total_bytes': 0, 'time': {}}\u001b[00m\n"
     ]
    }
   ],
   "source": [
    "# Deploy the class as a grpc object\n",
    "module.serve(tag='2', wait_for_termination=False)"
   ]
  },
  {
   "cell_type": "code",
   "execution_count": 40,
   "id": "ba8c4996-feea-4def-a6ca-17b16ec954f6",
   "metadata": {},
   "outputs": [
    {
     "name": "stdout",
     "output_type": "stream",
     "text": [
      "<bound method Module.tmp_dir of <class 'commune.module.Module'>>\n",
      "<bound method Module.tmp_dir of <class 'commune.module.Module'>>\n"
     ]
    },
    {
     "data": {
      "text/plain": [
       "['CustomCLass', 'CustomCLass::2']"
      ]
     },
     "execution_count": 40,
     "metadata": {},
     "output_type": "execute_result"
    }
   ],
   "source": [
    "\n",
    "# list the running servers\n",
    "module.servers()"
   ]
  },
  {
   "cell_type": "code",
   "execution_count": 43,
   "id": "7a58e089-5310-46eb-b769-6c767e745a1a",
   "metadata": {
    "tags": []
   },
   "outputs": [
    {
     "name": "stdout",
     "output_type": "stream",
     "text": [
      "<bound method Module.tmp_dir of <class 'commune.module.Module'>>\n",
      "<bound method Module.tmp_dir of <class 'commune.module.Module'>>\n"
     ]
    },
    {
     "ename": "AssertionError",
     "evalue": "CustomCLass::5 is not deployed",
     "output_type": "error",
     "traceback": [
      "\u001b[0;31m---------------------------------------------------------------------------\u001b[0m",
      "\u001b[0;31mAssertionError\u001b[0m                            Traceback (most recent call last)",
      "Cell \u001b[0;32mIn[43], line 2\u001b[0m\n\u001b[1;32m      1\u001b[0m \u001b[38;5;66;03m# connect to a server\u001b[39;00m\n\u001b[0;32m----> 2\u001b[0m client_module \u001b[38;5;241m=\u001b[39m \u001b[43mcommune\u001b[49m\u001b[38;5;241;43m.\u001b[39;49m\u001b[43mconnect\u001b[49m\u001b[43m(\u001b[49m\u001b[38;5;124;43m'\u001b[39;49m\u001b[38;5;124;43mCustomCLass::5\u001b[39;49m\u001b[38;5;124;43m'\u001b[39;49m\u001b[43m,\u001b[49m\u001b[43m \u001b[49m\u001b[43mvirtual\u001b[49m\u001b[38;5;241;43m=\u001b[39;49m\u001b[38;5;28;43;01mTrue\u001b[39;49;00m\u001b[43m)\u001b[49m\n",
      "File \u001b[0;32m/app/commune/module.py:708\u001b[0m, in \u001b[0;36mModule.connect\u001b[0;34m(cls, name, port, ip, virtual, *args, **kwargs)\u001b[0m\n\u001b[1;32m    706\u001b[0m local_namespace \u001b[38;5;241m=\u001b[39m  Module\u001b[38;5;241m.\u001b[39mlocal_namespace()\n\u001b[1;32m    707\u001b[0m \u001b[38;5;28;01mif\u001b[39;00m name:\n\u001b[0;32m--> 708\u001b[0m     \u001b[38;5;28;01massert\u001b[39;00m name \u001b[38;5;129;01min\u001b[39;00m local_namespace, \u001b[38;5;124mf\u001b[39m\u001b[38;5;124m'\u001b[39m\u001b[38;5;132;01m{\u001b[39;00mname\u001b[38;5;132;01m}\u001b[39;00m\u001b[38;5;124m is not deployed\u001b[39m\u001b[38;5;124m'\u001b[39m\n\u001b[1;32m    709\u001b[0m     client_kwargs \u001b[38;5;241m=\u001b[39m local_namespace[name]\n\u001b[1;32m    710\u001b[0m \u001b[38;5;28;01melse\u001b[39;00m:\n",
      "\u001b[0;31mAssertionError\u001b[0m: CustomCLass::5 is not deployed"
     ]
    }
   ],
   "source": [
    "# connect to a server\n",
    "client_module = commune.connect('CustomClass')"
   ]
  },
  {
   "cell_type": "code",
   "execution_count": 42,
   "id": "4a82d1fc-b72c-4f9c-9d28-3f751e8e54a0",
   "metadata": {},
   "outputs": [
    {
     "name": "stdout",
     "output_type": "stream",
     "text": [
      "\u001b[96m Calling Function: forward\u001b[00m\n",
      "\u001b[92m Result from client Model is echoing back fam\u001b[00m\n",
      "\u001b[93m Result from server Model is echoing back fam\u001b[00m\n"
     ]
    }
   ],
   "source": [
    "\n",
    "# call the server from the client module\n",
    "result_from_client = client_module.forward('fam')\n",
    "result_from_server = module.forward('fam')\n",
    "\n",
    "\n",
    "commune.print(f'Result from client {result_from_client}', 'green')\n",
    "commune.print(f'Result from server {result_from_server}', 'yellow')\n"
   ]
  },
  {
   "cell_type": "code",
   "execution_count": null,
   "id": "4dba7d41-24d7-40ef-a780-3f5e4e288f56",
   "metadata": {},
   "outputs": [],
   "source": []
  }
 ],
 "metadata": {
  "kernelspec": {
   "display_name": "Python 3 (ipykernel)",
   "language": "python",
   "name": "python3"
  },
  "language_info": {
   "codemirror_mode": {
    "name": "ipython",
    "version": 3
   },
   "file_extension": ".py",
   "mimetype": "text/x-python",
   "name": "python",
   "nbconvert_exporter": "python",
   "pygments_lexer": "ipython3",
   "version": "3.10.6"
  }
 },
 "nbformat": 4,
 "nbformat_minor": 5
}

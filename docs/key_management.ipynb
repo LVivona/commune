{
 "cells": [
  {
   "cell_type": "code",
   "execution_count": 9,
   "metadata": {},
   "outputs": [],
   "source": [
    "import commune as c"
   ]
  },
  {
   "cell_type": "code",
   "execution_count": 24,
   "metadata": {},
   "outputs": [
    {
     "data": {
      "text/html": [
       "<pre style=\"white-space:pre;overflow-x:auto;line-height:normal;font-family:Menlo,'DejaVu Sans Mono',consolas,'Courier New',monospace\"><span style=\"font-weight: bold\">[</span>\n",
       "    <span style=\"color: #008000; text-decoration-color: #008000\">'dataset.hf'</span>,\n",
       "    <span style=\"color: #008000; text-decoration-color: #008000\">'fam'</span>,\n",
       "    <span style=\"color: #008000; text-decoration-color: #008000\">'model'</span>,\n",
       "    <span style=\"color: #008000; text-decoration-color: #008000\">'model.openai'</span>,\n",
       "    <span style=\"color: #008000; text-decoration-color: #008000\">'model.openai::m2'</span>,\n",
       "    <span style=\"color: #008000; text-decoration-color: #008000\">'model.openai::mao0'</span>,\n",
       "    <span style=\"color: #008000; text-decoration-color: #008000\">'model.openai::mao1'</span>,\n",
       "    <span style=\"color: #008000; text-decoration-color: #008000\">'model.openai::mao10'</span>,\n",
       "    <span style=\"color: #008000; text-decoration-color: #008000\">'model.openai::mao11'</span>,\n",
       "    <span style=\"color: #008000; text-decoration-color: #008000\">'model.openai::mao12'</span>\n",
       "<span style=\"font-weight: bold\">]</span>\n",
       "</pre>\n"
      ],
      "text/plain": [
       "\u001b[1m[\u001b[0m\n",
       "    \u001b[32m'dataset.hf'\u001b[0m,\n",
       "    \u001b[32m'fam'\u001b[0m,\n",
       "    \u001b[32m'model'\u001b[0m,\n",
       "    \u001b[32m'model.openai'\u001b[0m,\n",
       "    \u001b[32m'model.openai::m2'\u001b[0m,\n",
       "    \u001b[32m'model.openai::mao0'\u001b[0m,\n",
       "    \u001b[32m'model.openai::mao1'\u001b[0m,\n",
       "    \u001b[32m'model.openai::mao10'\u001b[0m,\n",
       "    \u001b[32m'model.openai::mao11'\u001b[0m,\n",
       "    \u001b[32m'model.openai::mao12'\u001b[0m\n",
       "\u001b[1m]\u001b[0m\n"
      ]
     },
     "metadata": {},
     "output_type": "display_data"
    }
   ],
   "source": [
    "\n",
    "# list all of your keys\n",
    "keys = c.keys()\n",
    "c.print(keys[:10])"
   ]
  },
  {
   "cell_type": "code",
   "execution_count": 23,
   "metadata": {},
   "outputs": [
    {
     "data": {
      "text/html": [
       "<pre style=\"white-space:pre;overflow-x:auto;line-height:normal;font-family:Menlo,'DejaVu Sans Mono',consolas,'Courier New',monospace\">subspace\n",
       "<span style=\"font-weight: bold\">[</span>\n",
       "    <span style=\"color: #008000; text-decoration-color: #008000\">'subspace.node.dev.alice.aura'</span>,\n",
       "    <span style=\"color: #008000; text-decoration-color: #008000\">'subspace.node.dev.alice.gran'</span>,\n",
       "    <span style=\"color: #008000; text-decoration-color: #008000\">'subspace.node.dev.bob.aura'</span>,\n",
       "    <span style=\"color: #008000; text-decoration-color: #008000\">'subspace.node.dev.bob.gran'</span>,\n",
       "    <span style=\"color: #008000; text-decoration-color: #008000\">'subspace.node.dev.bruh.aura'</span>,\n",
       "    <span style=\"color: #008000; text-decoration-color: #008000\">'subspace.node.dev.bruh.gran'</span>,\n",
       "    <span style=\"color: #008000; text-decoration-color: #008000\">'subspace.node.dev.chris.aura'</span>,\n",
       "    <span style=\"color: #008000; text-decoration-color: #008000\">'subspace.node.dev.chris.gran'</span>,\n",
       "    <span style=\"color: #008000; text-decoration-color: #008000\">'subspace.node.dev.elon.aura'</span>,\n",
       "    <span style=\"color: #008000; text-decoration-color: #008000\">'subspace.node.dev.elon.gran'</span>\n",
       "<span style=\"font-weight: bold\">]</span>\n",
       "<span style=\"color: #808000; text-decoration-color: #808000\">...</span>\n",
       "</pre>\n"
      ],
      "text/plain": [
       "subspace\n",
       "\u001b[1m[\u001b[0m\n",
       "    \u001b[32m'subspace.node.dev.alice.aura'\u001b[0m,\n",
       "    \u001b[32m'subspace.node.dev.alice.gran'\u001b[0m,\n",
       "    \u001b[32m'subspace.node.dev.bob.aura'\u001b[0m,\n",
       "    \u001b[32m'subspace.node.dev.bob.gran'\u001b[0m,\n",
       "    \u001b[32m'subspace.node.dev.bruh.aura'\u001b[0m,\n",
       "    \u001b[32m'subspace.node.dev.bruh.gran'\u001b[0m,\n",
       "    \u001b[32m'subspace.node.dev.chris.aura'\u001b[0m,\n",
       "    \u001b[32m'subspace.node.dev.chris.gran'\u001b[0m,\n",
       "    \u001b[32m'subspace.node.dev.elon.aura'\u001b[0m,\n",
       "    \u001b[32m'subspace.node.dev.elon.gran'\u001b[0m\n",
       "\u001b[1m]\u001b[0m\n",
       "\u001b[33m...\u001b[0m\n"
      ]
     },
     "metadata": {},
     "output_type": "display_data"
    },
    {
     "data": {
      "text/html": [
       "<pre style=\"white-space:pre;overflow-x:auto;line-height:normal;font-family:Menlo,'DejaVu Sans Mono',consolas,'Courier New',monospace\">model\n",
       "<span style=\"font-weight: bold\">[</span>\n",
       "    <span style=\"color: #008000; text-decoration-color: #008000\">'model'</span>,\n",
       "    <span style=\"color: #008000; text-decoration-color: #008000\">'model.openai'</span>,\n",
       "    <span style=\"color: #008000; text-decoration-color: #008000\">'model.openai::m2'</span>,\n",
       "    <span style=\"color: #008000; text-decoration-color: #008000\">'model.openai::mao0'</span>,\n",
       "    <span style=\"color: #008000; text-decoration-color: #008000\">'model.openai::mao1'</span>,\n",
       "    <span style=\"color: #008000; text-decoration-color: #008000\">'model.openai::mao10'</span>,\n",
       "    <span style=\"color: #008000; text-decoration-color: #008000\">'model.openai::mao11'</span>,\n",
       "    <span style=\"color: #008000; text-decoration-color: #008000\">'model.openai::mao12'</span>,\n",
       "    <span style=\"color: #008000; text-decoration-color: #008000\">'model.openai::mao13'</span>,\n",
       "    <span style=\"color: #008000; text-decoration-color: #008000\">'model.openai::mao14'</span>\n",
       "<span style=\"font-weight: bold\">]</span>\n",
       "<span style=\"color: #808000; text-decoration-color: #808000\">...</span>\n",
       "</pre>\n"
      ],
      "text/plain": [
       "model\n",
       "\u001b[1m[\u001b[0m\n",
       "    \u001b[32m'model'\u001b[0m,\n",
       "    \u001b[32m'model.openai'\u001b[0m,\n",
       "    \u001b[32m'model.openai::m2'\u001b[0m,\n",
       "    \u001b[32m'model.openai::mao0'\u001b[0m,\n",
       "    \u001b[32m'model.openai::mao1'\u001b[0m,\n",
       "    \u001b[32m'model.openai::mao10'\u001b[0m,\n",
       "    \u001b[32m'model.openai::mao11'\u001b[0m,\n",
       "    \u001b[32m'model.openai::mao12'\u001b[0m,\n",
       "    \u001b[32m'model.openai::mao13'\u001b[0m,\n",
       "    \u001b[32m'model.openai::mao14'\u001b[0m\n",
       "\u001b[1m]\u001b[0m\n",
       "\u001b[33m...\u001b[0m\n"
      ]
     },
     "metadata": {},
     "output_type": "display_data"
    }
   ],
   "source": [
    "# filter keys\n",
    "for k in ['subspace', 'model']:\n",
    "    c.print(k,c.keys(k)[:10], '...')"
   ]
  },
  {
   "cell_type": "code",
   "execution_count": 26,
   "metadata": {},
   "outputs": [
    {
     "data": {
      "text/plain": [
       "<Keypair (address=5Ctbv9ap58LSEseE4hgvaeg5UQ1KDoC9fnQfZjndwJY2c1gw, path=None,  crypto_type: SR25519)>"
      ]
     },
     "execution_count": 26,
     "metadata": {},
     "output_type": "execute_result"
    }
   ],
   "source": [
    "c.add_key('ola')"
   ]
  },
  {
   "cell_type": "code",
   "execution_count": 27,
   "metadata": {},
   "outputs": [
    {
     "data": {
      "text/plain": [
       "{'deleted': ['ola']}"
      ]
     },
     "execution_count": 27,
     "metadata": {},
     "output_type": "execute_result"
    }
   ],
   "source": [
    "c.rm_key('ola')"
   ]
  },
  {
   "cell_type": "code",
   "execution_count": 28,
   "metadata": {},
   "outputs": [
    {
     "data": {
      "text/html": [
       "<pre style=\"white-space:pre;overflow-x:auto;line-height:normal;font-family:Menlo,'DejaVu Sans Mono',consolas,'Courier New',monospace\">key does not exist, generating new key -&gt; <span style=\"font-weight: bold\">&lt;</span><span style=\"color: #ff00ff; text-decoration-color: #ff00ff; font-weight: bold\">Keypair</span><span style=\"color: #000000; text-decoration-color: #000000\"> </span><span style=\"color: #000000; text-decoration-color: #000000; font-weight: bold\">(</span><span style=\"color: #808000; text-decoration-color: #808000\">address</span><span style=\"color: #000000; text-decoration-color: #000000\">=</span><span style=\"color: #800080; text-decoration-color: #800080\">5CobiwX5a1Z7tjcY3Sevf5sim8mYJwMWAWvB5YQKvyKH5Y3o</span><span style=\"color: #000000; text-decoration-color: #000000\">, </span>\n",
       "<span style=\"color: #808000; text-decoration-color: #808000\">path</span><span style=\"color: #000000; text-decoration-color: #000000\">=</span><span style=\"color: #800080; text-decoration-color: #800080; font-style: italic\">None</span><span style=\"color: #000000; text-decoration-color: #000000\">,  crypto_type: SR25519</span><span style=\"color: #000000; text-decoration-color: #000000; font-weight: bold\">)</span><span style=\"font-weight: bold\">&gt;</span>\n",
       "</pre>\n"
      ],
      "text/plain": [
       "key does not exist, generating new key -> \u001b[1m<\u001b[0m\u001b[1;95mKeypair\u001b[0m\u001b[39m \u001b[0m\u001b[1;39m(\u001b[0m\u001b[33maddress\u001b[0m\u001b[39m=\u001b[0m\u001b[35m5CobiwX5a1Z7tjcY3Sevf5sim8mYJwMWAWvB5YQKvyKH5Y3o\u001b[0m\u001b[39m, \u001b[0m\n",
       "\u001b[33mpath\u001b[0m\u001b[39m=\u001b[0m\u001b[3;35mNone\u001b[0m\u001b[39m,  crypto_type: SR25519\u001b[0m\u001b[1;39m)\u001b[0m\u001b[1m>\u001b[0m\n"
      ]
     },
     "metadata": {},
     "output_type": "display_data"
    },
    {
     "data": {
      "text/plain": [
       "<Keypair (address=5CobiwX5a1Z7tjcY3Sevf5sim8mYJwMWAWvB5YQKvyKH5Y3o, path=ola,  crypto_type: SR25519)>"
      ]
     },
     "execution_count": 28,
     "metadata": {},
     "output_type": "execute_result"
    }
   ],
   "source": [
    "c.get_key('ola')"
   ]
  },
  {
   "cell_type": "code",
   "execution_count": 32,
   "metadata": {},
   "outputs": [
    {
     "data": {
      "text/plain": [
       "{'crypto_type': 1,\n",
       " 'seed_hex': '85b806c7a9241797e880fee1bfa5de3d157b94090de8d142e9ade81ee6e72f24',\n",
       " 'derive_path': None,\n",
       " 'path': 'ola',\n",
       " 'ss58_format': 42,\n",
       " 'public_key': '20b6e7f37ba800f244150eb94657225580d658b02833495029626de209d4720f',\n",
       " 'ss58_address': '5CobiwX5a1Z7tjcY3Sevf5sim8mYJwMWAWvB5YQKvyKH5Y3o',\n",
       " 'private_key': '82453a727a1aad977c652c05bba7cebefd66010919c54fd847d34048f9f60a0877625290a5a484a14565b23d58ce408b60900bb6d2eff5ea69af5f4445455ad7',\n",
       " 'mnemonic': 'subway relief pelican car wolf banner dove update menu wing equip want'}"
      ]
     },
     "execution_count": 32,
     "metadata": {},
     "output_type": "execute_result"
    }
   ],
   "source": [
    "c.module('key').key_info('ola')"
   ]
  },
  {
   "cell_type": "code",
   "execution_count": null,
   "metadata": {},
   "outputs": [],
   "source": [
    "c "
   ]
  }
 ],
 "metadata": {
  "kernelspec": {
   "display_name": "Python 3",
   "language": "python",
   "name": "python3"
  },
  "language_info": {
   "codemirror_mode": {
    "name": "ipython",
    "version": 3
   },
   "file_extension": ".py",
   "mimetype": "text/x-python",
   "name": "python",
   "nbconvert_exporter": "python",
   "pygments_lexer": "ipython3",
   "version": "3.9.6"
  },
  "orig_nbformat": 4
 },
 "nbformat": 4,
 "nbformat_minor": 2
}
